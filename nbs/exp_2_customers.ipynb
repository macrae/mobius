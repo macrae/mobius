{
 "cells": [
  {
   "cell_type": "markdown",
   "id": "republican-customer",
   "metadata": {},
   "source": [
    "## Siamese Neural Networks \n",
    "### for Supervised Clustering of High Dimensional Spaces"
   ]
  },
  {
   "cell_type": "code",
   "execution_count": 1,
   "id": "divine-guard",
   "metadata": {},
   "outputs": [
    {
     "name": "stdout",
     "output_type": "stream",
     "text": [
      "Python 3.8.5\n",
      "/Users/seanmacrae/mobius/.venv/bin/python\n"
     ]
    }
   ],
   "source": [
    "!python -V\n",
    "!which python"
   ]
  },
  {
   "cell_type": "code",
   "execution_count": 2,
   "id": "capital-collective",
   "metadata": {},
   "outputs": [],
   "source": [
    "# !echo {a}"
   ]
  },
  {
   "cell_type": "code",
   "execution_count": 3,
   "id": "crazy-appreciation",
   "metadata": {
    "tags": []
   },
   "outputs": [],
   "source": [
    "sql_template = \"\"\"\n",
    "WITH\n",
    "        investors AS (\n",
    "        SELECT\n",
    "            ID AS investorId,\n",
    "            Level AS investorLevel,\n",
    "            accredited_income AS accreditedIncome,\n",
    "            accredited_net_worth AS accreditedNetWorth,\n",
    "            accredited_entity AS accreditedEntity,\n",
    "            accredited_license AS accreditedLicense,\n",
    "            CASE WHEN status = \"NULL\" THEN NULL ELSE status END AS status\n",
    "        FROM\n",
    "        `portal_sync.account_753_dataset_0_file_1141349_Windfall_Data_2021_04_19_csv`\n",
    "        ),\n",
    "\n",
    "        investments AS (\n",
    "        SELECT\n",
    "            Investor_ID AS investorId,\n",
    "            SUM(COALESCE(CAST(Amount AS float64), 0)) AS sumAmount,\n",
    "            MIN(PARSE_TIMESTAMP(\"%m/%d/%y %H:%M\", Investment_Date)) AS minInvestmentDate,\n",
    "            MAX(PARSE_TIMESTAMP(\"%m/%d/%y %H:%M\", Investment_Date)) AS maxInvestmentDate,\n",
    "            COUNT(DISTINCT(PARSE_TIMESTAMP(\"%m/%d/%y %H:%M\", Investment_Date))) AS countInvestmentDate,\n",
    "            SUM(CAST(Closed AS int64)) AS closed\n",
    "        FROM\n",
    "        `portal_sync.account_753_dataset_0_file_1140988_Investments_by_Investor_2021_04_19_csv`\n",
    "        GROUP BY 1\n",
    "        ),\n",
    "\n",
    "        leads AS (\n",
    "        SELECT DISTINCT\n",
    "          id AS investorId,\n",
    "          PARSE_TIMESTAMP(\"%Y-%m-%d %H:%M:%S\", l.created_at) AS createdAt,\n",
    "        FROM\n",
    "        `portal_sync.account_753_dataset_0_file_1251551_mv_windfall_data_2021_05_12_csv` l\n",
    "        LEFT JOIN portal.match m ON l.id = m.candidate_id\n",
    "        ),\n",
    "\n",
    "        matches AS (\n",
    "        SELECT DISTINCT\n",
    "            account_id,\n",
    "            windfall_id ,\n",
    "            candidate_id,\n",
    "            confidence\n",
    "        FROM `portal.match`\n",
    "        WHERE account_id = 753 AND confidence > 0.5\n",
    "        ),\n",
    "\n",
    "      training_data AS (\n",
    "      SELECT\n",
    "      CASE \n",
    "        WHEN (j.sumAmount >= 10000.0) THEN \"ideal\"\n",
    "        WHEN (a.logNetWorth < 6.0 AND (j.sumAmount = 0.0 OR j.sumAmount IS NULL) AND l.createdAt < PARSE_TIMESTAMP(\"%Y-%m-%d\", \"2020-11-01\")) THEN \"non-ideal\"\n",
    "        ELSE \"other\" END AS label,\n",
    "      * EXCEPT(investorId, account_id),\n",
    "      FROM leads l\n",
    "      LEFT JOIN investors i ON l.investorId = i.investorId\n",
    "      LEFT JOIN investments j ON l.investorId = j.investorId\n",
    "      LEFT JOIN matches m ON l.investorId = m.candidate_id\n",
    "      LEFT JOIN `tranquil-garage-139216.people.audience_latest` a ON a.id = m.windfall_id\n",
    "      WHERE m.candidate_id IS NOT NULL)\n",
    "      \n",
    "--       SELECT label, COUNT(label) FROM training_data GROUP BY 1\n",
    "    SELECT * FROM training_data\n",
    "    WHERE label != \"other\"\n",
    "\"\"\""
   ]
  },
  {
   "cell_type": "code",
   "execution_count": 4,
   "id": "nervous-injury",
   "metadata": {},
   "outputs": [],
   "source": [
    "# !pip install loaderbot\n",
    "# !pip install grpcio"
   ]
  },
  {
   "cell_type": "code",
   "execution_count": 26,
   "id": "lonely-hamburg",
   "metadata": {},
   "outputs": [
    {
     "name": "stderr",
     "output_type": "stream",
     "text": [
      "/Users/seanmacrae/mobius/.venv/lib/python3.8/site-packages/google/auth/_default.py:70: UserWarning: Your application has authenticated using end user credentials from Google Cloud SDK without a quota project. You might receive a \"quota exceeded\" or \"API not enabled\" error. We recommend you rerun `gcloud auth application-default login` and make sure a quota project is added. Or you can use service accounts instead. For more information about service accounts, see https://cloud.google.com/docs/authentication/\n",
      "  warnings.warn(_CLOUD_SDK_CREDENTIALS_WARNING)\n",
      "/Users/seanmacrae/mobius/.venv/lib/python3.8/site-packages/google/auth/_default.py:70: UserWarning: Your application has authenticated using end user credentials from Google Cloud SDK without a quota project. You might receive a \"quota exceeded\" or \"API not enabled\" error. We recommend you rerun `gcloud auth application-default login` and make sure a quota project is added. Or you can use service accounts instead. For more information about service accounts, see https://cloud.google.com/docs/authentication/\n",
      "  warnings.warn(_CLOUD_SDK_CREDENTIALS_WARNING)\n"
     ]
    }
   ],
   "source": [
    "import loaderbot.big_query as bq\n",
    "from google.cloud import bigquery, storage\n",
    "\n",
    "bigquery_client = bigquery.Client(project=\"tranquil-garage-139216\")\n",
    "storage_client = storage.Client(project=\"tranquil-garage-139216\")\n",
    "\n",
    "# query training data\n",
    "df = bq.query_table_and_cache(\n",
    "    sql=sql_template,\n",
    "    bigquery_client=bigquery_client,\n",
    "    storage_client=storage_client\n",
    ")"
   ]
  },
  {
   "cell_type": "code",
   "execution_count": 27,
   "id": "effective-banks",
   "metadata": {},
   "outputs": [
    {
     "name": "stdout",
     "output_type": "stream",
     "text": [
      "(12095, 131)\n"
     ]
    },
    {
     "data": {
      "text/html": [
       "<div>\n",
       "<style scoped>\n",
       "    .dataframe tbody tr th:only-of-type {\n",
       "        vertical-align: middle;\n",
       "    }\n",
       "\n",
       "    .dataframe tbody tr th {\n",
       "        vertical-align: top;\n",
       "    }\n",
       "\n",
       "    .dataframe thead th {\n",
       "        text-align: right;\n",
       "    }\n",
       "</style>\n",
       "<table border=\"1\" class=\"dataframe\">\n",
       "  <thead>\n",
       "    <tr style=\"text-align: right;\">\n",
       "      <th></th>\n",
       "      <th>label</th>\n",
       "      <th>createdAt</th>\n",
       "      <th>investorLevel</th>\n",
       "      <th>accreditedIncome</th>\n",
       "      <th>accreditedNetWorth</th>\n",
       "      <th>accreditedEntity</th>\n",
       "      <th>accreditedLicense</th>\n",
       "      <th>status</th>\n",
       "      <th>sumAmount</th>\n",
       "      <th>minInvestmentDate</th>\n",
       "      <th>...</th>\n",
       "      <th>lux_travel</th>\n",
       "      <th>num_vehicles</th>\n",
       "      <th>num_luxury_vehicles</th>\n",
       "      <th>num_ultra_luxury_vehicles</th>\n",
       "      <th>num_cars</th>\n",
       "      <th>num_trucks</th>\n",
       "      <th>num_suvs</th>\n",
       "      <th>num_vans</th>\n",
       "      <th>metroRank</th>\n",
       "      <th>stateRank</th>\n",
       "    </tr>\n",
       "  </thead>\n",
       "  <tbody>\n",
       "    <tr>\n",
       "      <th>0</th>\n",
       "      <td>non-ideal</td>\n",
       "      <td>2019-09-19 17:18:03+00:00</td>\n",
       "      <td>Accredited</td>\n",
       "      <td>1</td>\n",
       "      <td>0</td>\n",
       "      <td>0</td>\n",
       "      <td>0</td>\n",
       "      <td>Pending Approval</td>\n",
       "      <td>NaN</td>\n",
       "      <td>NaN</td>\n",
       "      <td>...</td>\n",
       "      <td>0</td>\n",
       "      <td>NaN</td>\n",
       "      <td>NaN</td>\n",
       "      <td>NaN</td>\n",
       "      <td>NaN</td>\n",
       "      <td>NaN</td>\n",
       "      <td>NaN</td>\n",
       "      <td>NaN</td>\n",
       "      <td>0.740138</td>\n",
       "      <td>0.784328</td>\n",
       "    </tr>\n",
       "    <tr>\n",
       "      <th>1</th>\n",
       "      <td>non-ideal</td>\n",
       "      <td>2017-12-20 06:15:38+00:00</td>\n",
       "      <td>Sophisticated</td>\n",
       "      <td>0</td>\n",
       "      <td>0</td>\n",
       "      <td>0</td>\n",
       "      <td>0</td>\n",
       "      <td>Pending Approval</td>\n",
       "      <td>NaN</td>\n",
       "      <td>NaN</td>\n",
       "      <td>...</td>\n",
       "      <td>0</td>\n",
       "      <td>NaN</td>\n",
       "      <td>NaN</td>\n",
       "      <td>NaN</td>\n",
       "      <td>NaN</td>\n",
       "      <td>NaN</td>\n",
       "      <td>NaN</td>\n",
       "      <td>NaN</td>\n",
       "      <td>0.860757</td>\n",
       "      <td>0.887302</td>\n",
       "    </tr>\n",
       "    <tr>\n",
       "      <th>2</th>\n",
       "      <td>non-ideal</td>\n",
       "      <td>2016-11-17 13:57:53+00:00</td>\n",
       "      <td>Sophisticated</td>\n",
       "      <td>1</td>\n",
       "      <td>0</td>\n",
       "      <td>0</td>\n",
       "      <td>0</td>\n",
       "      <td>Pending Approval</td>\n",
       "      <td>NaN</td>\n",
       "      <td>NaN</td>\n",
       "      <td>...</td>\n",
       "      <td>0</td>\n",
       "      <td>NaN</td>\n",
       "      <td>NaN</td>\n",
       "      <td>NaN</td>\n",
       "      <td>NaN</td>\n",
       "      <td>NaN</td>\n",
       "      <td>NaN</td>\n",
       "      <td>NaN</td>\n",
       "      <td>0.027779</td>\n",
       "      <td>0.176424</td>\n",
       "    </tr>\n",
       "    <tr>\n",
       "      <th>3</th>\n",
       "      <td>non-ideal</td>\n",
       "      <td>2013-09-16 10:51:47+00:00</td>\n",
       "      <td>Sophisticated</td>\n",
       "      <td>0</td>\n",
       "      <td>0</td>\n",
       "      <td>0</td>\n",
       "      <td>0</td>\n",
       "      <td>Active</td>\n",
       "      <td>NaN</td>\n",
       "      <td>NaN</td>\n",
       "      <td>...</td>\n",
       "      <td>0</td>\n",
       "      <td>NaN</td>\n",
       "      <td>NaN</td>\n",
       "      <td>NaN</td>\n",
       "      <td>NaN</td>\n",
       "      <td>NaN</td>\n",
       "      <td>NaN</td>\n",
       "      <td>NaN</td>\n",
       "      <td>0.386455</td>\n",
       "      <td>0.343682</td>\n",
       "    </tr>\n",
       "    <tr>\n",
       "      <th>4</th>\n",
       "      <td>ideal</td>\n",
       "      <td>2017-07-05 12:58:46+00:00</td>\n",
       "      <td>Sophisticated</td>\n",
       "      <td>0</td>\n",
       "      <td>0</td>\n",
       "      <td>0</td>\n",
       "      <td>0</td>\n",
       "      <td>Pending Approval</td>\n",
       "      <td>20000.0</td>\n",
       "      <td>2017-08-14 20:11:00+00:00</td>\n",
       "      <td>...</td>\n",
       "      <td>0</td>\n",
       "      <td>NaN</td>\n",
       "      <td>NaN</td>\n",
       "      <td>NaN</td>\n",
       "      <td>NaN</td>\n",
       "      <td>NaN</td>\n",
       "      <td>NaN</td>\n",
       "      <td>NaN</td>\n",
       "      <td>0.737037</td>\n",
       "      <td>0.782864</td>\n",
       "    </tr>\n",
       "  </tbody>\n",
       "</table>\n",
       "<p>5 rows × 131 columns</p>\n",
       "</div>"
      ],
      "text/plain": [
       "       label                  createdAt  investorLevel  accreditedIncome  \\\n",
       "0  non-ideal  2019-09-19 17:18:03+00:00     Accredited                 1   \n",
       "1  non-ideal  2017-12-20 06:15:38+00:00  Sophisticated                 0   \n",
       "2  non-ideal  2016-11-17 13:57:53+00:00  Sophisticated                 1   \n",
       "3  non-ideal  2013-09-16 10:51:47+00:00  Sophisticated                 0   \n",
       "4      ideal  2017-07-05 12:58:46+00:00  Sophisticated                 0   \n",
       "\n",
       "   accreditedNetWorth  accreditedEntity  accreditedLicense            status  \\\n",
       "0                   0                 0                  0  Pending Approval   \n",
       "1                   0                 0                  0  Pending Approval   \n",
       "2                   0                 0                  0  Pending Approval   \n",
       "3                   0                 0                  0            Active   \n",
       "4                   0                 0                  0  Pending Approval   \n",
       "\n",
       "   sumAmount          minInvestmentDate  ... lux_travel  num_vehicles  \\\n",
       "0        NaN                        NaN  ...          0           NaN   \n",
       "1        NaN                        NaN  ...          0           NaN   \n",
       "2        NaN                        NaN  ...          0           NaN   \n",
       "3        NaN                        NaN  ...          0           NaN   \n",
       "4    20000.0  2017-08-14 20:11:00+00:00  ...          0           NaN   \n",
       "\n",
       "   num_luxury_vehicles num_ultra_luxury_vehicles  num_cars  num_trucks  \\\n",
       "0                  NaN                       NaN       NaN         NaN   \n",
       "1                  NaN                       NaN       NaN         NaN   \n",
       "2                  NaN                       NaN       NaN         NaN   \n",
       "3                  NaN                       NaN       NaN         NaN   \n",
       "4                  NaN                       NaN       NaN         NaN   \n",
       "\n",
       "  num_suvs  num_vans  metroRank  stateRank  \n",
       "0      NaN       NaN   0.740138   0.784328  \n",
       "1      NaN       NaN   0.860757   0.887302  \n",
       "2      NaN       NaN   0.027779   0.176424  \n",
       "3      NaN       NaN   0.386455   0.343682  \n",
       "4      NaN       NaN   0.737037   0.782864  \n",
       "\n",
       "[5 rows x 131 columns]"
      ]
     },
     "execution_count": 27,
     "metadata": {},
     "output_type": "execute_result"
    }
   ],
   "source": [
    "import pandas as pd\n",
    "\n",
    "print(df.shape)\n",
    "df.head()"
   ]
  },
  {
   "cell_type": "code",
   "execution_count": 28,
   "id": "returning-version",
   "metadata": {},
   "outputs": [],
   "source": [
    "# df[\"status\"].value_counts()"
   ]
  },
  {
   "cell_type": "code",
   "execution_count": 29,
   "id": "needed-modern",
   "metadata": {},
   "outputs": [],
   "source": [
    "# positive_labels = [\"Active\", \"Inactive\"]\n",
    "# df[\"label\"] = [int(x in positive_labels) for x in df[\"status\"]]"
   ]
  },
  {
   "cell_type": "code",
   "execution_count": 30,
   "id": "proved-geography",
   "metadata": {},
   "outputs": [
    {
     "data": {
      "text/plain": [
       "non-ideal    0.730054\n",
       "ideal        0.269946\n",
       "Name: label, dtype: float64"
      ]
     },
     "execution_count": 30,
     "metadata": {},
     "output_type": "execute_result"
    }
   ],
   "source": [
    "df[\"label\"] = df[\"label\"]\n",
    "df[\"label\"].value_counts() / len(df)"
   ]
  },
  {
   "cell_type": "code",
   "execution_count": 31,
   "id": "loved-notification",
   "metadata": {},
   "outputs": [],
   "source": [
    "# df[\"label\"] = df[\"label\"].astype(bool).astype(int)"
   ]
  },
  {
   "cell_type": "code",
   "execution_count": 32,
   "id": "regular-albania",
   "metadata": {},
   "outputs": [
    {
     "data": {
      "text/plain": [
       "0        0\n",
       "1        0\n",
       "2        0\n",
       "3        0\n",
       "4        1\n",
       "        ..\n",
       "12090    0\n",
       "12091    0\n",
       "12092    0\n",
       "12093    0\n",
       "12094    1\n",
       "Name: label, Length: 12095, dtype: int64"
      ]
     },
     "execution_count": 32,
     "metadata": {},
     "output_type": "execute_result"
    }
   ],
   "source": [
    "df[\"label\"] = df[\"label\"].replace({\"ideal\": 1, \"non-ideal\": 0}).astype(int)\n",
    "df[\"label\"]"
   ]
  },
  {
   "cell_type": "code",
   "execution_count": 33,
   "id": "substantial-merit",
   "metadata": {},
   "outputs": [],
   "source": [
    "# # sample df stratified by label\n",
    "# df = df.groupby('label', group_keys=False).apply(lambda x: x.sample(2_000))"
   ]
  },
  {
   "cell_type": "markdown",
   "id": "unsigned-guest",
   "metadata": {},
   "source": [
    "## Tabular Learner\n",
    "\n",
    "Before we train the Tabular Siamese Learner we will train baseline Tabular Learner for species classification... (why do we do this, exactly? can we just instantiate a Tabular Siamese Learner without a baseline Tabular Learner ???)\n",
    "\n",
    "Ah yes, to init a new `TabularSiameseModel` we need to provide an `encoder` and `head` and the Tabular Learner will act as the `encoder` we init the `TabularSiameseModel` with."
   ]
  },
  {
   "cell_type": "code",
   "execution_count": 34,
   "id": "soviet-canadian",
   "metadata": {},
   "outputs": [],
   "source": [
    "from sklearn.model_selection import train_test_split\n",
    "\n",
    "df_train, df_test = train_test_split(\n",
    "    df,\n",
    "    test_size=0.10,\n",
    "    stratify=df[\"label\"])\n",
    "\n",
    "df_train.shape, df_test.shape\n",
    "df = df_train.copy()\n",
    "\n",
    "# shuffle data\n",
    "df = df.sample(frac=1, random_state=42).reset_index(drop=True)"
   ]
  },
  {
   "cell_type": "code",
   "execution_count": 35,
   "id": "tracked-stevens",
   "metadata": {},
   "outputs": [],
   "source": [
    "from fastai.tabular.all import CategoryBlock\n",
    "                                \n",
    "y_names = [\"label\"]\n",
    "y_block = CategoryBlock()\n",
    "\n",
    "exclude_vars = [\"id\", \n",
    "                \"windfall_id\", \n",
    "                \"candidate_id\", \n",
    "                \"label\", \n",
    "                'status', \n",
    "                'minInvestmentDate', \n",
    "                'maxInvestmentDate',\n",
    "                'sumAmount',\n",
    "                'countInvestmentDate',\n",
    "                'closed',\n",
    "                'confidence',\n",
    "                'createdAt']"
   ]
  },
  {
   "cell_type": "code",
   "execution_count": 36,
   "id": "extra-shareware",
   "metadata": {},
   "outputs": [
    {
     "data": {
      "text/plain": [
       "{'investorLevel': 3}"
      ]
     },
     "execution_count": 36,
     "metadata": {},
     "output_type": "execute_result"
    }
   ],
   "source": [
    "from mobius.utils import emb_sz_rule\n",
    "\n",
    "cat_names = [x for x in df.select_dtypes(exclude=['int', 'float']).columns if x != y_names]\n",
    "cat_names = [x for x in cat_names if x not in exclude_vars]\n",
    "\n",
    "# calc embedding sizes for each categorical feature\n",
    "emb_szs = {k: emb_sz_rule(len(df[k].unique())) for k in cat_names}\n",
    "emb_szs"
   ]
  },
  {
   "cell_type": "code",
   "execution_count": 37,
   "id": "cathedral-median",
   "metadata": {},
   "outputs": [
    {
     "data": {
      "text/plain": [
       "['accreditedIncome',\n",
       " 'accreditedNetWorth',\n",
       " 'accreditedEntity',\n",
       " 'accreditedLicense',\n",
       " 'logNetWorth',\n",
       " 'logAccreditedNetWorth',\n",
       " 'recentPurchaseDate',\n",
       " 'recentDivorceDate',\n",
       " 'recentDeathDate',\n",
       " 'isBoatOwner',\n",
       " 'isPlaneOwner',\n",
       " 'recentPhilanthropicGiftDate',\n",
       " 'recentFoundationAssociationDate',\n",
       " 'isFoundationOfficer',\n",
       " 'recentFoundationTrusteeDate',\n",
       " 'hasFoundationAssociation',\n",
       " 'hasCharityBoardMember',\n",
       " 'hasCharityOfficer',\n",
       " 'isMultiPropertyOwner',\n",
       " 'isRentalPropertyOwner',\n",
       " 'isHouseholdDebt',\n",
       " 'logTotalHouseholdDebt',\n",
       " 'recentSecTransactionAcquired',\n",
       " 'recentSecTransactionDisposed',\n",
       " 'recentPoliticalContributionDate',\n",
       " 'isSmallBusinessOwner',\n",
       " 'isCharityBoardMember',\n",
       " 'isCharityOfficer',\n",
       " 'primaryPropertyLoanToValue',\n",
       " 'logPrimaryPropertyAvm',\n",
       " 'hasTrust',\n",
       " 'politicalDemocrat',\n",
       " 'politicalRepublican',\n",
       " 'politicalIndependent',\n",
       " 'femaleCount',\n",
       " 'maleCount',\n",
       " 'minHouseholdAge',\n",
       " 'avgHouseholdAge',\n",
       " 'maxHouseholdAge',\n",
       " 'metroNameRank',\n",
       " 'propertyCount',\n",
       " 'isSFROwner',\n",
       " 'isCondoOwner',\n",
       " 'isRuralResidenceOwner',\n",
       " 'logMaxPropertyAvm',\n",
       " 'logSumPropertyAvm',\n",
       " 'maxPropertySqft',\n",
       " 'maxBedrooms',\n",
       " 'primaryPropertySqft',\n",
       " 'primaryPropertyYearsOwned',\n",
       " 'minPropertyYearsOwned',\n",
       " 'maxPropertyYearsOwned',\n",
       " 'logMaxDonationAmount',\n",
       " 'logSumDonationAmount',\n",
       " 'isArtsCause',\n",
       " 'isEducationCause',\n",
       " 'isEnvironmentalCause',\n",
       " 'isAnimalCause',\n",
       " 'isHealthCause',\n",
       " 'isHumanServicesCause',\n",
       " 'isInternationalCause',\n",
       " 'isSocialBenefitCause',\n",
       " 'isReligiousCause',\n",
       " 'logsumArtsCause',\n",
       " 'logsumEducationCause',\n",
       " 'logsumEnvironmentalCause',\n",
       " 'logsumAnimalCause',\n",
       " 'logsumHealthCause',\n",
       " 'logsumHumanServicesCause',\n",
       " 'logsumInternationalCause',\n",
       " 'logsumSocialBenefitCause',\n",
       " 'logsumReligiousCause',\n",
       " 'is990Donation',\n",
       " 'isCoopDonation',\n",
       " 'isFECContribution',\n",
       " 'isStateContribution',\n",
       " 'logsum990Donation',\n",
       " 'logsumCOOPDonation',\n",
       " 'logsumFECDonation',\n",
       " 'logsumStateContribution',\n",
       " 'logmax990Donation',\n",
       " 'logmaxCOOPDonation',\n",
       " 'logmaxFECDonation',\n",
       " 'logmaxStateContribution',\n",
       " 'countNumCharities',\n",
       " 'logMaxDonationAmount_1year',\n",
       " 'logSumDonationAmount_1year',\n",
       " 'logsumCOOPDonation_1year',\n",
       " 'logsumFECDonation_1year',\n",
       " 'logsumStateContribution_1year',\n",
       " 'countNumCharities_1year',\n",
       " 'logMaxDonationAmount_3year',\n",
       " 'logSumDonationAmount_3year',\n",
       " 'logsum990Donation_3year',\n",
       " 'logsumCOOPDonation_3year',\n",
       " 'logsumFECDonation_3year',\n",
       " 'logsumStateContribution_3year',\n",
       " 'countNumCharities_3year',\n",
       " 'logMaxDonationAmount_5year',\n",
       " 'logSumDonationAmount_5year',\n",
       " 'logsum990Donation_5year',\n",
       " 'logsumCOOPDonation_5year',\n",
       " 'logsumFECDonation_5year',\n",
       " 'logsumStateContribution_5year',\n",
       " 'countNumCharities_5year',\n",
       " 'lux_athletic',\n",
       " 'lux_flight',\n",
       " 'lux_goods',\n",
       " 'lux_travel',\n",
       " 'num_vehicles',\n",
       " 'num_luxury_vehicles',\n",
       " 'num_ultra_luxury_vehicles',\n",
       " 'num_cars',\n",
       " 'num_trucks',\n",
       " 'num_suvs',\n",
       " 'num_vans',\n",
       " 'metroRank',\n",
       " 'stateRank']"
      ]
     },
     "execution_count": 37,
     "metadata": {},
     "output_type": "execute_result"
    }
   ],
   "source": [
    "import numpy as np\n",
    "\n",
    "cont_names = [x for x in df.select_dtypes([np.number]).columns if x != y_names]\n",
    "cont_names = [x for x in cont_names if x not in exclude_vars]\n",
    "cont_names"
   ]
  },
  {
   "cell_type": "code",
   "execution_count": 38,
   "id": "operational-pasta",
   "metadata": {},
   "outputs": [
    {
     "data": {
      "text/plain": [
       "<seaborn.axisgrid.PairGrid at 0x7fb642164040>"
      ]
     },
     "execution_count": 38,
     "metadata": {},
     "output_type": "execute_result"
    },
    {
     "data": {
      "image/png": "[encoded data removed]",
      "text/plain": [
       "<Figure size 582.375x540 with 12 Axes>"
      ]
     },
     "metadata": {
      "needs_background": "light"
     },
     "output_type": "display_data"
    }
   ],
   "source": [
    "import seaborn as sns\n",
    "\n",
    "sns.pairplot(df[[\"logNetWorth\", \"logAccreditedNetWorth\", \"logTotalHouseholdDebt\", \"label\"]].sample(frac=0.05), hue='label', palette=\"tab10\")"
   ]
  },
  {
   "cell_type": "code",
   "execution_count": 39,
   "id": "hollow-cooling",
   "metadata": {},
   "outputs": [],
   "source": [
    "from fastai.tabular.all import (Categorify, CategoryBlock, FillMissing,\n",
    "                                Normalize, TabDataLoader, TabularPandas,\n",
    "                                tabular_config, tabular_learner)\n",
    "\n",
    "procs = [FillMissing, Categorify, Normalize]"
   ]
  },
  {
   "cell_type": "code",
   "execution_count": 40,
   "id": "laden-period",
   "metadata": {},
   "outputs": [],
   "source": [
    "# train_ds.tabular_pandas[\"num_cars\"]"
   ]
  },
  {
   "cell_type": "code",
   "execution_count": 41,
   "id": "closed-intention",
   "metadata": {},
   "outputs": [],
   "source": [
    "from fastai.data.core import range_of\n",
    "from fastai.tabular.all import RandomSplitter, TrainTestSplitter\n",
    "\n",
    "splits = TrainTestSplitter(test_size=0.20, \n",
    "                           train_size=0.80, \n",
    "                           random_state=None, \n",
    "                           stratify=df[\"label\"].values, \n",
    "                           shuffle=True)(range_of(df))"
   ]
  },
  {
   "cell_type": "code",
   "execution_count": 42,
   "id": "elementary-vulnerability",
   "metadata": {},
   "outputs": [],
   "source": [
    "tabular_pandas = TabularPandas(\n",
    "        df,\n",
    "        procs=procs,\n",
    "        cat_names=cat_names,\n",
    "        cont_names=cont_names,\n",
    "        y_names=y_names,\n",
    "        y_block=y_block,\n",
    "        splits=splits,\n",
    "        device=\"cpu\")"
   ]
  },
  {
   "cell_type": "code",
   "execution_count": 43,
   "id": "functioning-fishing",
   "metadata": {},
   "outputs": [],
   "source": [
    "# from mobius.samplers import ImbalancedDatasetSampler\n",
    "\n",
    "trn_dl = TabDataLoader(\n",
    "    tabular_pandas.train,\n",
    "    bs=32,\n",
    "    shuffle=True,\n",
    "    drop_last=True,)\n",
    "\n",
    "val_dl = TabDataLoader(\n",
    "    tabular_pandas.valid,\n",
    "    bs=32,)"
   ]
  },
  {
   "cell_type": "code",
   "execution_count": 44,
   "id": "ancient-alias",
   "metadata": {},
   "outputs": [],
   "source": [
    "from fastai.data.core import DataLoaders\n",
    "\n",
    "dls = DataLoaders(trn_dl, val_dl)\n",
    "\n",
    "# print(\"Sample batch:\")\n",
    "# dls.one_batch()"
   ]
  },
  {
   "cell_type": "code",
   "execution_count": 48,
   "id": "electric-slide",
   "metadata": {},
   "outputs": [],
   "source": [
    "# dls.one_batch()"
   ]
  },
  {
   "cell_type": "code",
   "execution_count": 49,
   "id": "blank-throw",
   "metadata": {},
   "outputs": [],
   "source": [
    "import torch\n",
    "from fastai.metrics import F1Score, Precision, Recall, accuracy\n",
    "\n",
    "# load the tabular_pandas data through the tabular_learner\n",
    "layers = [512, 128, 32]\n",
    "\n",
    "# tabular learner configuration\n",
    "config = tabular_config(ps=[0.05, 0.05, 0.05], embed_p=0.03, act_cls=torch.nn.Tanh())\n",
    "\n",
    "# create tabular learner\n",
    "#\n",
    "learn = tabular_learner(\n",
    "    dls,\n",
    "    layers=layers,\n",
    "    emb_szs=emb_szs,\n",
    "    config=config,\n",
    "    metrics=[accuracy,\n",
    "             Precision(average='macro'),\n",
    "             Recall(average='macro'),\n",
    "             F1Score(average='macro')])"
   ]
  },
  {
   "cell_type": "code",
   "execution_count": 50,
   "id": "intensive-liabilities",
   "metadata": {},
   "outputs": [
    {
     "data": {
      "text/html": [
       "<table border=\"1\" class=\"dataframe\">\n",
       "  <thead>\n",
       "    <tr style=\"text-align: left;\">\n",
       "      <th>epoch</th>\n",
       "      <th>train_loss</th>\n",
       "      <th>valid_loss</th>\n",
       "      <th>accuracy</th>\n",
       "      <th>precision_score</th>\n",
       "      <th>recall_score</th>\n",
       "      <th>f1_score</th>\n",
       "      <th>time</th>\n",
       "    </tr>\n",
       "  </thead>\n",
       "  <tbody>\n",
       "    <tr>\n",
       "      <td>0</td>\n",
       "      <td>0.332215</td>\n",
       "      <td>0.286976</td>\n",
       "      <td>0.870464</td>\n",
       "      <td>0.830697</td>\n",
       "      <td>0.861447</td>\n",
       "      <td>0.843401</td>\n",
       "      <td>00:04</td>\n",
       "    </tr>\n",
       "    <tr>\n",
       "      <td>1</td>\n",
       "      <td>0.265307</td>\n",
       "      <td>0.268484</td>\n",
       "      <td>0.882407</td>\n",
       "      <td>0.894214</td>\n",
       "      <td>0.801062</td>\n",
       "      <td>0.832657</td>\n",
       "      <td>00:04</td>\n",
       "    </tr>\n",
       "    <tr>\n",
       "      <td>2</td>\n",
       "      <td>0.240754</td>\n",
       "      <td>0.242444</td>\n",
       "      <td>0.898943</td>\n",
       "      <td>0.886165</td>\n",
       "      <td>0.850423</td>\n",
       "      <td>0.865872</td>\n",
       "      <td>00:04</td>\n",
       "    </tr>\n",
       "    <tr>\n",
       "      <td>3</td>\n",
       "      <td>0.218455</td>\n",
       "      <td>0.250112</td>\n",
       "      <td>0.893891</td>\n",
       "      <td>0.887926</td>\n",
       "      <td>0.834641</td>\n",
       "      <td>0.856066</td>\n",
       "      <td>00:04</td>\n",
       "    </tr>\n",
       "    <tr>\n",
       "      <td>4</td>\n",
       "      <td>0.213988</td>\n",
       "      <td>0.256112</td>\n",
       "      <td>0.893431</td>\n",
       "      <td>0.902667</td>\n",
       "      <td>0.821470</td>\n",
       "      <td>0.850871</td>\n",
       "      <td>00:04</td>\n",
       "    </tr>\n",
       "  </tbody>\n",
       "</table>"
      ],
      "text/plain": [
       "<IPython.core.display.HTML object>"
      ]
     },
     "metadata": {},
     "output_type": "display_data"
    }
   ],
   "source": [
    "learn.fit_one_cycle(n_epoch=5)"
   ]
  },
  {
   "cell_type": "code",
   "execution_count": 51,
   "id": "successful-plastic",
   "metadata": {},
   "outputs": [],
   "source": [
    "# learn.export(\"tabular_learn_wine.pkl\")"
   ]
  },
  {
   "cell_type": "code",
   "execution_count": 52,
   "id": "sixth-freedom",
   "metadata": {},
   "outputs": [
    {
     "name": "stdout",
     "output_type": "stream",
     "text": [
      "Before temperature - NLL: 0.256, ECE: 0.020\n",
      "Optimal temperature: 1.015\n",
      "After temperature - NLL: 0.256, ECE: 0.021\n"
     ]
    }
   ],
   "source": [
    "from mobius.calibration import ModelWithTemperature\n",
    "\n",
    "scaled_model = ModelWithTemperature(learn.model)\n",
    "scaled_model.set_temperature(val_dl)\n",
    "learn.model = scaled_model.model"
   ]
  },
  {
   "cell_type": "code",
   "execution_count": 53,
   "id": "polar-allah",
   "metadata": {},
   "outputs": [
    {
     "data": {
      "text/html": [],
      "text/plain": [
       "<IPython.core.display.HTML object>"
      ]
     },
     "metadata": {},
     "output_type": "display_data"
    }
   ],
   "source": [
    "# true species labels\n",
    "y_true=learn.dls.valid.items[\"label\"]\n",
    "\n",
    "# model scores and species predictions\n",
    "y_scores, *_ = learn.get_preds(dl=val_dl)\n",
    "preds = np.argmax(y_scores, 1).numpy()"
   ]
  },
  {
   "cell_type": "code",
   "execution_count": 54,
   "id": "clinical-faith",
   "metadata": {},
   "outputs": [
    {
     "name": "stdout",
     "output_type": "stream",
     "text": [
      "First 20 species labels and predictions\n"
     ]
    },
    {
     "data": {
      "text/plain": [
       "[(0, 0),\n",
       " (0, 0),\n",
       " (0, 0),\n",
       " (0, 0),\n",
       " (0, 1),\n",
       " (0, 0),\n",
       " (0, 0),\n",
       " (0, 0),\n",
       " (0, 0),\n",
       " (0, 0)]"
      ]
     },
     "execution_count": 54,
     "metadata": {},
     "output_type": "execute_result"
    }
   ],
   "source": [
    "print(\"First 20 species labels and predictions\")\n",
    "list(zip(y_true, preds))[:10]"
   ]
  },
  {
   "cell_type": "code",
   "execution_count": 55,
   "id": "industrial-equivalent",
   "metadata": {},
   "outputs": [
    {
     "data": {
      "text/plain": [
       "0.8934313275149288"
      ]
     },
     "execution_count": 55,
     "metadata": {},
     "output_type": "execute_result"
    }
   ],
   "source": [
    "(y_true == preds).sum() / len(y_true)"
   ]
  },
  {
   "cell_type": "code",
   "execution_count": 56,
   "id": "universal-territory",
   "metadata": {},
   "outputs": [],
   "source": [
    "# TODO: update roc-it with MultiClassClassification...\n",
    "\n",
    "# clf_metrics = BinaryClassification(\n",
    "#     y_true=y_true, y_scores=y_scores)\n",
    "\n",
    "# ths = clf_metrics.recall_curve(0.95)\n",
    "\n",
    "# clf_metrics.plot_confusion_matrix(\n",
    "#     ths=0.50,\n",
    "#     normalize=None,\n",
    "#     save_path=f'{hyperparams[\"artifact_dir\"]}/cm.png')\n",
    "\n",
    "# clf_metrics.plot_pr_curve(\n",
    "#     save_path=f'{hyperparams[\"artifact_dir\"]}/pr_curve.png')\n",
    "\n",
    "# clf_metrics.plot_roc_curve(\n",
    "#     save_path=f'{hyperparams[\"artifact_dir\"]}/roc_curve.png')"
   ]
  },
  {
   "cell_type": "markdown",
   "id": "starting-billion",
   "metadata": {},
   "source": [
    "## Siamese Net\n",
    "\n",
    "To init a new `TabularSiameseDataset` object, we only need a `tabular_pandas` object from the fast.ai library."
   ]
  },
  {
   "cell_type": "code",
   "execution_count": 57,
   "id": "japanese-surfing",
   "metadata": {},
   "outputs": [],
   "source": [
    "from mobius.datasets import TabularSiameseDataset\n",
    "\n",
    "# sds = TabularSiameseDataset(tabular_pandas)\n",
    "train_ds = TabularSiameseDataset(tabular_pandas.train)\n",
    "valid_ds = TabularSiameseDataset(tabular_pandas.valid)"
   ]
  },
  {
   "cell_type": "code",
   "execution_count": 58,
   "id": "faced-stupid",
   "metadata": {},
   "outputs": [
    {
     "data": {
      "text/plain": [
       "((tensor([1, 1, 1, 1, 1, 1, 1, 1, 1, 1, 1, 1, 2, 2, 2, 2, 2, 2, 2]),\n",
       "  tensor([-0.6414,  1.9611,  2.2108, -0.0186,  2.8969,  2.9080, -0.2304, -0.0429,\n",
       "          -0.0812, -0.0662, -0.0515, -0.1985,  0.0000, -0.0480,  0.0000, -0.0515,\n",
       "          -0.0415, -0.0284,  2.0040,  2.3915,  0.4217,  0.8706, -0.0284, -0.0303,\n",
       "          -0.5492, -0.3174, -0.0415, -0.0284, -0.0312,  1.2452,  3.5626, -0.4054,\n",
       "          -0.3489, -0.0322, -1.3036, -1.5895, -0.1363, -0.1987,  0.2655, -0.5992,\n",
       "           3.0284,  0.3986,  2.7213, -0.0790,  2.3267,  2.9607,  1.6428,  1.3361,\n",
       "           1.7619, -0.5493, -0.6937, -0.4345, -0.8862, -0.8830, -0.0993, -0.2180,\n",
       "          -0.2399, -0.1691, -0.2659, -0.3159, -0.0356, -0.1572, -0.0833, -0.0944,\n",
       "          -0.1993, -0.2163, -0.1604, -0.2507, -0.2972, -0.0348, -0.1482, -0.0739,\n",
       "          -0.0356, -0.6062, -0.6610, -0.4328, -0.0353, -0.5538, -0.6048, -0.4075,\n",
       "          -0.0353, -0.5588, -0.6041, -0.4059, -0.4879, -0.5431, -0.5427, -0.1896,\n",
       "          -0.4948, -0.1774, -0.1958, -0.6677, -0.6677,  0.0000, -0.3209, -0.5530,\n",
       "          -0.2720, -0.3095, -0.7324, -0.7331, -0.0214, -0.3940, -0.5682, -0.3186,\n",
       "          -0.3738, -0.1481, -0.0415, -0.0752, -0.0468, -0.3040, -0.2235, -0.0144,\n",
       "           0.2301, -0.1899,  0.2188, -0.1531,  1.5670,  1.4726])),\n",
       " (tensor([2, 1, 1, 1, 1, 1, 1, 1, 1, 1, 1, 1, 2, 2, 2, 2, 2, 2, 2]),\n",
       "  tensor([ 1.5592e+00, -5.0992e-01, -4.5232e-01, -1.8564e-02,  8.4583e-02,\n",
       "           2.0503e-01, -2.3041e-01, -4.2904e-02, -8.1172e-02, -6.6204e-02,\n",
       "          -5.1461e-02, -1.9847e-01,  0.0000e+00, -4.7979e-02,  0.0000e+00,\n",
       "          -5.1461e-02, -4.1539e-02, -2.8364e-02,  2.0040e+00,  2.3915e+00,\n",
       "           4.2175e-01,  4.7836e-01, -2.8364e-02, -3.0324e-02, -5.4922e-01,\n",
       "          -3.1740e-01, -4.1539e-02, -2.8364e-02,  4.0747e-01,  1.2274e-01,\n",
       "          -2.8070e-01,  2.4669e+00, -3.4890e-01, -3.2165e-02, -5.2996e-02,\n",
       "          -2.9156e-01, -1.3628e-01, -4.7694e-01, -4.9388e-01,  1.0233e-01,\n",
       "           8.7344e-01,  3.9863e-01,  2.7213e+00, -7.8993e-02,  4.2623e-02,\n",
       "           1.8965e-01,  4.6261e-01,  7.7121e-01,  5.1233e-01, -3.7953e-03,\n",
       "           8.9173e-02,  5.3571e-02,  1.2902e+00,  1.2425e+00, -9.9284e-02,\n",
       "           4.5875e+00,  4.1679e+00, -1.6907e-01, -2.6589e-01, -3.1587e-01,\n",
       "          -3.5564e-02, -1.5720e-01, -8.3295e-02, -9.4360e-02,  2.0389e+00,\n",
       "          -2.1630e-01, -1.6040e-01, -2.5075e-01, -2.9723e-01, -3.4791e-02,\n",
       "          -1.4817e-01, -7.3915e-02, -3.5564e-02,  1.6497e+00,  1.5128e+00,\n",
       "           2.3103e+00, -3.5251e-02,  5.7910e-01,  1.6761e+00,  2.2259e+00,\n",
       "          -3.5338e-02,  7.6055e-01,  1.5358e+00,  2.6429e+00,  2.0032e+00,\n",
       "          -5.4307e-01, -5.4271e-01, -1.8957e-01, -4.9478e-01, -1.7736e-01,\n",
       "          -1.9577e-01,  1.4209e+00,  1.6040e+00,  0.0000e+00, -3.2090e-01,\n",
       "           1.9401e+00, -2.7195e-01, -3.0951e-01,  1.6252e+00,  1.5578e+00,\n",
       "          -2.1394e-02, -3.9402e-01,  1.8481e+00,  2.9627e+00,  1.5263e+00,\n",
       "          -1.4814e-01, -4.1539e-02, -7.5225e-02, -4.6762e-02, -3.0402e-01,\n",
       "          -2.2348e-01, -1.4379e-02,  2.3005e-01, -1.8986e-01,  2.1878e-01,\n",
       "          -1.5313e-01,  9.4803e-01,  9.8505e-01])),\n",
       " tensor(1.))"
      ]
     },
     "execution_count": 58,
     "metadata": {},
     "output_type": "execute_result"
    }
   ],
   "source": [
    "train_ds.__getitem__(10)"
   ]
  },
  {
   "cell_type": "code",
   "execution_count": 59,
   "id": "relative-miracle",
   "metadata": {},
   "outputs": [],
   "source": [
    "dls = DataLoaders.from_dsets(train_ds, valid_ds, bs=32, device='cpu', num_workers=0)"
   ]
  },
  {
   "cell_type": "markdown",
   "id": "clean-deposit",
   "metadata": {},
   "source": [
    "Siamese net encoder is the body of the Tabular net we just trained."
   ]
  },
  {
   "cell_type": "code",
   "execution_count": 60,
   "id": "major-black",
   "metadata": {},
   "outputs": [],
   "source": [
    "import copy\n",
    "\n",
    "encoder = copy.copy(learn)\n",
    "encoder.model.layers = learn.model.layers[:-1]\n",
    "encoder_model = encoder.model"
   ]
  },
  {
   "cell_type": "markdown",
   "id": "broke-norwegian",
   "metadata": {},
   "source": [
    "We create a new head that doubles the input shape to the last layer of the trained Tabular net, since the loss function will now compare 2 penguins. The size of the output shape is set by...???"
   ]
  },
  {
   "cell_type": "code",
   "execution_count": 61,
   "id": "mineral-drain",
   "metadata": {},
   "outputs": [],
   "source": [
    "from fastai.layers import LinBnDrop\n",
    "\n",
    "head = LinBnDrop(n_in=layers[-1]*2,\n",
    "    n_out=16,  # size of output space\n",
    "    bn=True,\n",
    "    act=None)"
   ]
  },
  {
   "cell_type": "code",
   "execution_count": 62,
   "id": "mighty-recorder",
   "metadata": {},
   "outputs": [],
   "source": [
    "# TODO: add custom fast.ai callback\n",
    "import time\n",
    "import torch\n",
    "import pandas as pd\n",
    "from fastai.callback.core import Callback\n",
    "import seaborn as sns\n",
    "from sklearn.manifold import TSNE\n",
    "import matplotlib.pyplot as plt\n",
    "import numpy as np\n",
    "\n",
    "# TODO: save every TSNE model as pkl - interactive 3-d w/ tooltip to show point information (id, features, etc.)\n",
    "class TSNECallback(Callback):\n",
    "    def after_validate(self):\n",
    "        plt.clf()\n",
    "        t = int(time.time())\n",
    "        train_encoded = list()\n",
    "        for i in range(len(self.dls.valid_ds.tabular_pandas)):\n",
    "            p, _, _ = self.dls.valid_ds.get_items(i, 0)\n",
    "\n",
    "            # rehsape into mini-batch size 1\n",
    "            p = p[0].reshape(1, -1), p[1].reshape(1, -1)\n",
    "\n",
    "            # encode the household into output embedding space\n",
    "            p_encode = siamese_learner.model.encode(p)\n",
    "            train_encoded.append(p_encode)\n",
    "            \n",
    "        ids = self.dls.valid.get_idxs()\n",
    "        y_train_labels = self.dls.valid.tabular_pandas[\"label\"]\n",
    "        train_encoded_df = pd.DataFrame(torch.stack(train_encoded).squeeze())\n",
    "        # write encoded space to csv\n",
    "        train_encoded_df.to_csv(f\"tsne_{t}_{self.epoch}.csv\")\n",
    "        \n",
    "        # limit the permutation of hyper-params of t-SNE\n",
    "        tsne = TSNE(n_components=2, metric=\"euclidean\", n_iter=500)\n",
    "        encoded_train_tsne = tsne.fit_transform(train_encoded_df.values)\n",
    "        np.save(f\"tsne_{t}_{self.epoch}.npy\", encoded_train_tsne)\n",
    "        \n",
    "        # TODO: add title...\n",
    "        sns.scatterplot(x=encoded_train_tsne[:,0],\n",
    "                        y=encoded_train_tsne[:,1],\n",
    "                        hue=y_train_labels, \n",
    "#                         legend='full', \n",
    "                        palette=\"tab10\").figure.savefig(f\"snn_{t}_epoch_{self.epoch}.png\")\n",
    "        \n",
    "        \n",
    "# TODO: run knn on embedding space to show learned embedding is informative!!!"
   ]
  },
  {
   "cell_type": "code",
   "execution_count": 63,
   "id": "identical-indonesia",
   "metadata": {},
   "outputs": [],
   "source": [
    "from mobius.models import TabularSiameseModel\n",
    "\n",
    "model = TabularSiameseModel(encoder_model, head)"
   ]
  },
  {
   "cell_type": "code",
   "execution_count": 64,
   "id": "naughty-sector",
   "metadata": {},
   "outputs": [],
   "source": [
    "# TODO: run grid search over margin... how do we find and start with intelligent margins?\n",
    "# ... instead of relying on brute force searching?\n",
    "\n",
    "# def fit_siamese_learner(margin=0.10)"
   ]
  },
  {
   "cell_type": "code",
   "execution_count": 65,
   "id": "arbitrary-speaker",
   "metadata": {},
   "outputs": [],
   "source": [
    "# TODO: reverse the pre-trained operation to learn a SNN and load the pre-trained weights into TabularLearner"
   ]
  },
  {
   "cell_type": "code",
   "execution_count": 66,
   "id": "animated-afternoon",
   "metadata": {},
   "outputs": [],
   "source": [
    "from fastai.torch_basics import params\n",
    "from mobius.losses import ContrastiveLoss\n",
    "\n",
    "def siamese_splitter(model):\n",
    "    return [params(model.encoder), params(model.head)]\n",
    "\n",
    "def contrastive_loss_func(out, targ):\n",
    "    return ContrastiveLoss(margin=1.0)(out, targ.long())"
   ]
  },
  {
   "cell_type": "code",
   "execution_count": 67,
   "id": "continued-paraguay",
   "metadata": {},
   "outputs": [],
   "source": [
    "from fastai.learner import Learner\n",
    "\n",
    "siamese_learner = Learner(dls,\n",
    "    model,\n",
    "    model_dir=\".\",\n",
    "    loss_func=contrastive_loss_func,\n",
    "    splitter=siamese_splitter,\n",
    "    cbs=[TSNECallback])"
   ]
  },
  {
   "cell_type": "code",
   "execution_count": 68,
   "id": "large-longer",
   "metadata": {},
   "outputs": [],
   "source": [
    "# # %debug\n",
    "# siamese_learner.unfreeze()\n",
    "# siamese_learner.fit_one_cycle(n_epoch=20)"
   ]
  },
  {
   "cell_type": "code",
   "execution_count": 69,
   "id": "double-removal",
   "metadata": {},
   "outputs": [],
   "source": [
    "y_labels = siamese_learner.dls.valid.tabular_pandas[\"label\"]\n",
    "y_labels.to_csv(\"y_labels.csv\")"
   ]
  },
  {
   "cell_type": "code",
   "execution_count": 70,
   "id": "educational-czech",
   "metadata": {},
   "outputs": [
    {
     "data": {
      "text/html": [
       "<table border=\"1\" class=\"dataframe\">\n",
       "  <thead>\n",
       "    <tr style=\"text-align: left;\">\n",
       "      <th>epoch</th>\n",
       "      <th>train_loss</th>\n",
       "      <th>valid_loss</th>\n",
       "      <th>time</th>\n",
       "    </tr>\n",
       "  </thead>\n",
       "  <tbody>\n",
       "    <tr>\n",
       "      <td>0</td>\n",
       "      <td>29.685274</td>\n",
       "      <td>19.522541</td>\n",
       "      <td>18:23</td>\n",
       "    </tr>\n",
       "  </tbody>\n",
       "</table>"
      ],
      "text/plain": [
       "<IPython.core.display.HTML object>"
      ]
     },
     "metadata": {},
     "output_type": "display_data"
    },
    {
     "ename": "IndexError",
     "evalue": "index 1 is out of bounds for dimension 0 with size 1",
     "output_type": "error",
     "traceback": [
      "\u001b[0;31m---------------------------------------------------------------------------\u001b[0m",
      "\u001b[0;31mIndexError\u001b[0m                                Traceback (most recent call last)",
      "\u001b[0;32m<ipython-input-70-c6f6e34162d8>\u001b[0m in \u001b[0;36m<module>\u001b[0;34m\u001b[0m\n\u001b[1;32m      2\u001b[0m \u001b[0;34m\u001b[0m\u001b[0m\n\u001b[1;32m      3\u001b[0m \u001b[0;31m# lr_min, _ = siamese_learner.lr_find()\u001b[0m\u001b[0;34m\u001b[0m\u001b[0;34m\u001b[0m\u001b[0;34m\u001b[0m\u001b[0m\n\u001b[0;32m----> 4\u001b[0;31m \u001b[0msiamese_learner\u001b[0m\u001b[0;34m.\u001b[0m\u001b[0mfit\u001b[0m\u001b[0;34m(\u001b[0m\u001b[0mn_epoch\u001b[0m\u001b[0;34m=\u001b[0m\u001b[0;36m10\u001b[0m\u001b[0;34m,\u001b[0m \u001b[0mlr\u001b[0m\u001b[0;34m=\u001b[0m\u001b[0;36m1e-4\u001b[0m\u001b[0;34m)\u001b[0m\u001b[0;34m\u001b[0m\u001b[0;34m\u001b[0m\u001b[0m\n\u001b[0m",
      "\u001b[0;32m~/mobius/.venv/lib/python3.8/site-packages/fastai/learner.py\u001b[0m in \u001b[0;36mfit\u001b[0;34m(self, n_epoch, lr, wd, cbs, reset_opt)\u001b[0m\n\u001b[1;32m    203\u001b[0m             \u001b[0mself\u001b[0m\u001b[0;34m.\u001b[0m\u001b[0mopt\u001b[0m\u001b[0;34m.\u001b[0m\u001b[0mset_hypers\u001b[0m\u001b[0;34m(\u001b[0m\u001b[0mlr\u001b[0m\u001b[0;34m=\u001b[0m\u001b[0mself\u001b[0m\u001b[0;34m.\u001b[0m\u001b[0mlr\u001b[0m \u001b[0;32mif\u001b[0m \u001b[0mlr\u001b[0m \u001b[0;32mis\u001b[0m \u001b[0;32mNone\u001b[0m \u001b[0;32melse\u001b[0m \u001b[0mlr\u001b[0m\u001b[0;34m)\u001b[0m\u001b[0;34m\u001b[0m\u001b[0;34m\u001b[0m\u001b[0m\n\u001b[1;32m    204\u001b[0m             \u001b[0mself\u001b[0m\u001b[0;34m.\u001b[0m\u001b[0mn_epoch\u001b[0m \u001b[0;34m=\u001b[0m \u001b[0mn_epoch\u001b[0m\u001b[0;34m\u001b[0m\u001b[0;34m\u001b[0m\u001b[0m\n\u001b[0;32m--> 205\u001b[0;31m             \u001b[0mself\u001b[0m\u001b[0;34m.\u001b[0m\u001b[0m_with_events\u001b[0m\u001b[0;34m(\u001b[0m\u001b[0mself\u001b[0m\u001b[0;34m.\u001b[0m\u001b[0m_do_fit\u001b[0m\u001b[0;34m,\u001b[0m \u001b[0;34m'fit'\u001b[0m\u001b[0;34m,\u001b[0m \u001b[0mCancelFitException\u001b[0m\u001b[0;34m,\u001b[0m \u001b[0mself\u001b[0m\u001b[0;34m.\u001b[0m\u001b[0m_end_cleanup\u001b[0m\u001b[0;34m)\u001b[0m\u001b[0;34m\u001b[0m\u001b[0;34m\u001b[0m\u001b[0m\n\u001b[0m\u001b[1;32m    206\u001b[0m \u001b[0;34m\u001b[0m\u001b[0m\n\u001b[1;32m    207\u001b[0m     \u001b[0;32mdef\u001b[0m \u001b[0m_end_cleanup\u001b[0m\u001b[0;34m(\u001b[0m\u001b[0mself\u001b[0m\u001b[0;34m)\u001b[0m\u001b[0;34m:\u001b[0m \u001b[0mself\u001b[0m\u001b[0;34m.\u001b[0m\u001b[0mdl\u001b[0m\u001b[0;34m,\u001b[0m\u001b[0mself\u001b[0m\u001b[0;34m.\u001b[0m\u001b[0mxb\u001b[0m\u001b[0;34m,\u001b[0m\u001b[0mself\u001b[0m\u001b[0;34m.\u001b[0m\u001b[0myb\u001b[0m\u001b[0;34m,\u001b[0m\u001b[0mself\u001b[0m\u001b[0;34m.\u001b[0m\u001b[0mpred\u001b[0m\u001b[0;34m,\u001b[0m\u001b[0mself\u001b[0m\u001b[0;34m.\u001b[0m\u001b[0mloss\u001b[0m \u001b[0;34m=\u001b[0m \u001b[0;32mNone\u001b[0m\u001b[0;34m,\u001b[0m\u001b[0;34m(\u001b[0m\u001b[0;32mNone\u001b[0m\u001b[0;34m,\u001b[0m\u001b[0;34m)\u001b[0m\u001b[0;34m,\u001b[0m\u001b[0;34m(\u001b[0m\u001b[0;32mNone\u001b[0m\u001b[0;34m,\u001b[0m\u001b[0;34m)\u001b[0m\u001b[0;34m,\u001b[0m\u001b[0;32mNone\u001b[0m\u001b[0;34m,\u001b[0m\u001b[0;32mNone\u001b[0m\u001b[0;34m\u001b[0m\u001b[0;34m\u001b[0m\u001b[0m\n",
      "\u001b[0;32m~/mobius/.venv/lib/python3.8/site-packages/fastai/learner.py\u001b[0m in \u001b[0;36m_with_events\u001b[0;34m(self, f, event_type, ex, final)\u001b[0m\n\u001b[1;32m    152\u001b[0m \u001b[0;34m\u001b[0m\u001b[0m\n\u001b[1;32m    153\u001b[0m     \u001b[0;32mdef\u001b[0m \u001b[0m_with_events\u001b[0m\u001b[0;34m(\u001b[0m\u001b[0mself\u001b[0m\u001b[0;34m,\u001b[0m \u001b[0mf\u001b[0m\u001b[0;34m,\u001b[0m \u001b[0mevent_type\u001b[0m\u001b[0;34m,\u001b[0m \u001b[0mex\u001b[0m\u001b[0;34m,\u001b[0m \u001b[0mfinal\u001b[0m\u001b[0;34m=\u001b[0m\u001b[0mnoop\u001b[0m\u001b[0;34m)\u001b[0m\u001b[0;34m:\u001b[0m\u001b[0;34m\u001b[0m\u001b[0;34m\u001b[0m\u001b[0m\n\u001b[0;32m--> 154\u001b[0;31m         \u001b[0;32mtry\u001b[0m\u001b[0;34m:\u001b[0m       \u001b[0mself\u001b[0m\u001b[0;34m(\u001b[0m\u001b[0;34mf'before_{event_type}'\u001b[0m\u001b[0;34m)\u001b[0m       \u001b[0;34m;\u001b[0m\u001b[0mf\u001b[0m\u001b[0;34m(\u001b[0m\u001b[0;34m)\u001b[0m\u001b[0;34m\u001b[0m\u001b[0;34m\u001b[0m\u001b[0m\n\u001b[0m\u001b[1;32m    155\u001b[0m         \u001b[0;32mexcept\u001b[0m \u001b[0mex\u001b[0m\u001b[0;34m:\u001b[0m \u001b[0mself\u001b[0m\u001b[0;34m(\u001b[0m\u001b[0;34mf'after_cancel_{event_type}'\u001b[0m\u001b[0;34m)\u001b[0m\u001b[0;34m\u001b[0m\u001b[0;34m\u001b[0m\u001b[0m\n\u001b[1;32m    156\u001b[0m         \u001b[0;32mfinally\u001b[0m\u001b[0;34m:\u001b[0m   \u001b[0mself\u001b[0m\u001b[0;34m(\u001b[0m\u001b[0;34mf'after_{event_type}'\u001b[0m\u001b[0;34m)\u001b[0m        \u001b[0;34m;\u001b[0m\u001b[0mfinal\u001b[0m\u001b[0;34m(\u001b[0m\u001b[0;34m)\u001b[0m\u001b[0;34m\u001b[0m\u001b[0;34m\u001b[0m\u001b[0m\n",
      "\u001b[0;32m~/mobius/.venv/lib/python3.8/site-packages/fastai/learner.py\u001b[0m in \u001b[0;36m_do_fit\u001b[0;34m(self)\u001b[0m\n\u001b[1;32m    194\u001b[0m         \u001b[0;32mfor\u001b[0m \u001b[0mepoch\u001b[0m \u001b[0;32min\u001b[0m \u001b[0mrange\u001b[0m\u001b[0;34m(\u001b[0m\u001b[0mself\u001b[0m\u001b[0;34m.\u001b[0m\u001b[0mn_epoch\u001b[0m\u001b[0;34m)\u001b[0m\u001b[0;34m:\u001b[0m\u001b[0;34m\u001b[0m\u001b[0;34m\u001b[0m\u001b[0m\n\u001b[1;32m    195\u001b[0m             \u001b[0mself\u001b[0m\u001b[0;34m.\u001b[0m\u001b[0mepoch\u001b[0m\u001b[0;34m=\u001b[0m\u001b[0mepoch\u001b[0m\u001b[0;34m\u001b[0m\u001b[0;34m\u001b[0m\u001b[0m\n\u001b[0;32m--> 196\u001b[0;31m             \u001b[0mself\u001b[0m\u001b[0;34m.\u001b[0m\u001b[0m_with_events\u001b[0m\u001b[0;34m(\u001b[0m\u001b[0mself\u001b[0m\u001b[0;34m.\u001b[0m\u001b[0m_do_epoch\u001b[0m\u001b[0;34m,\u001b[0m \u001b[0;34m'epoch'\u001b[0m\u001b[0;34m,\u001b[0m \u001b[0mCancelEpochException\u001b[0m\u001b[0;34m)\u001b[0m\u001b[0;34m\u001b[0m\u001b[0;34m\u001b[0m\u001b[0m\n\u001b[0m\u001b[1;32m    197\u001b[0m \u001b[0;34m\u001b[0m\u001b[0m\n\u001b[1;32m    198\u001b[0m     \u001b[0;32mdef\u001b[0m \u001b[0mfit\u001b[0m\u001b[0;34m(\u001b[0m\u001b[0mself\u001b[0m\u001b[0;34m,\u001b[0m \u001b[0mn_epoch\u001b[0m\u001b[0;34m,\u001b[0m \u001b[0mlr\u001b[0m\u001b[0;34m=\u001b[0m\u001b[0;32mNone\u001b[0m\u001b[0;34m,\u001b[0m \u001b[0mwd\u001b[0m\u001b[0;34m=\u001b[0m\u001b[0;32mNone\u001b[0m\u001b[0;34m,\u001b[0m \u001b[0mcbs\u001b[0m\u001b[0;34m=\u001b[0m\u001b[0;32mNone\u001b[0m\u001b[0;34m,\u001b[0m \u001b[0mreset_opt\u001b[0m\u001b[0;34m=\u001b[0m\u001b[0;32mFalse\u001b[0m\u001b[0;34m)\u001b[0m\u001b[0;34m:\u001b[0m\u001b[0;34m\u001b[0m\u001b[0;34m\u001b[0m\u001b[0m\n",
      "\u001b[0;32m~/mobius/.venv/lib/python3.8/site-packages/fastai/learner.py\u001b[0m in \u001b[0;36m_with_events\u001b[0;34m(self, f, event_type, ex, final)\u001b[0m\n\u001b[1;32m    152\u001b[0m \u001b[0;34m\u001b[0m\u001b[0m\n\u001b[1;32m    153\u001b[0m     \u001b[0;32mdef\u001b[0m \u001b[0m_with_events\u001b[0m\u001b[0;34m(\u001b[0m\u001b[0mself\u001b[0m\u001b[0;34m,\u001b[0m \u001b[0mf\u001b[0m\u001b[0;34m,\u001b[0m \u001b[0mevent_type\u001b[0m\u001b[0;34m,\u001b[0m \u001b[0mex\u001b[0m\u001b[0;34m,\u001b[0m \u001b[0mfinal\u001b[0m\u001b[0;34m=\u001b[0m\u001b[0mnoop\u001b[0m\u001b[0;34m)\u001b[0m\u001b[0;34m:\u001b[0m\u001b[0;34m\u001b[0m\u001b[0;34m\u001b[0m\u001b[0m\n\u001b[0;32m--> 154\u001b[0;31m         \u001b[0;32mtry\u001b[0m\u001b[0;34m:\u001b[0m       \u001b[0mself\u001b[0m\u001b[0;34m(\u001b[0m\u001b[0;34mf'before_{event_type}'\u001b[0m\u001b[0;34m)\u001b[0m       \u001b[0;34m;\u001b[0m\u001b[0mf\u001b[0m\u001b[0;34m(\u001b[0m\u001b[0;34m)\u001b[0m\u001b[0;34m\u001b[0m\u001b[0;34m\u001b[0m\u001b[0m\n\u001b[0m\u001b[1;32m    155\u001b[0m         \u001b[0;32mexcept\u001b[0m \u001b[0mex\u001b[0m\u001b[0;34m:\u001b[0m \u001b[0mself\u001b[0m\u001b[0;34m(\u001b[0m\u001b[0;34mf'after_cancel_{event_type}'\u001b[0m\u001b[0;34m)\u001b[0m\u001b[0;34m\u001b[0m\u001b[0;34m\u001b[0m\u001b[0m\n\u001b[1;32m    156\u001b[0m         \u001b[0;32mfinally\u001b[0m\u001b[0;34m:\u001b[0m   \u001b[0mself\u001b[0m\u001b[0;34m(\u001b[0m\u001b[0;34mf'after_{event_type}'\u001b[0m\u001b[0;34m)\u001b[0m        \u001b[0;34m;\u001b[0m\u001b[0mfinal\u001b[0m\u001b[0;34m(\u001b[0m\u001b[0;34m)\u001b[0m\u001b[0;34m\u001b[0m\u001b[0;34m\u001b[0m\u001b[0m\n",
      "\u001b[0;32m~/mobius/.venv/lib/python3.8/site-packages/fastai/learner.py\u001b[0m in \u001b[0;36m_do_epoch\u001b[0;34m(self)\u001b[0m\n\u001b[1;32m    189\u001b[0m     \u001b[0;32mdef\u001b[0m \u001b[0m_do_epoch\u001b[0m\u001b[0;34m(\u001b[0m\u001b[0mself\u001b[0m\u001b[0;34m)\u001b[0m\u001b[0;34m:\u001b[0m\u001b[0;34m\u001b[0m\u001b[0;34m\u001b[0m\u001b[0m\n\u001b[1;32m    190\u001b[0m         \u001b[0mself\u001b[0m\u001b[0;34m.\u001b[0m\u001b[0m_do_epoch_train\u001b[0m\u001b[0;34m(\u001b[0m\u001b[0;34m)\u001b[0m\u001b[0;34m\u001b[0m\u001b[0;34m\u001b[0m\u001b[0m\n\u001b[0;32m--> 191\u001b[0;31m         \u001b[0mself\u001b[0m\u001b[0;34m.\u001b[0m\u001b[0m_do_epoch_validate\u001b[0m\u001b[0;34m(\u001b[0m\u001b[0;34m)\u001b[0m\u001b[0;34m\u001b[0m\u001b[0;34m\u001b[0m\u001b[0m\n\u001b[0m\u001b[1;32m    192\u001b[0m \u001b[0;34m\u001b[0m\u001b[0m\n\u001b[1;32m    193\u001b[0m     \u001b[0;32mdef\u001b[0m \u001b[0m_do_fit\u001b[0m\u001b[0;34m(\u001b[0m\u001b[0mself\u001b[0m\u001b[0;34m)\u001b[0m\u001b[0;34m:\u001b[0m\u001b[0;34m\u001b[0m\u001b[0;34m\u001b[0m\u001b[0m\n",
      "\u001b[0;32m~/mobius/.venv/lib/python3.8/site-packages/fastai/learner.py\u001b[0m in \u001b[0;36m_do_epoch_validate\u001b[0;34m(self, ds_idx, dl)\u001b[0m\n\u001b[1;32m    185\u001b[0m         \u001b[0;32mif\u001b[0m \u001b[0mdl\u001b[0m \u001b[0;32mis\u001b[0m \u001b[0;32mNone\u001b[0m\u001b[0;34m:\u001b[0m \u001b[0mdl\u001b[0m \u001b[0;34m=\u001b[0m \u001b[0mself\u001b[0m\u001b[0;34m.\u001b[0m\u001b[0mdls\u001b[0m\u001b[0;34m[\u001b[0m\u001b[0mds_idx\u001b[0m\u001b[0;34m]\u001b[0m\u001b[0;34m\u001b[0m\u001b[0;34m\u001b[0m\u001b[0m\n\u001b[1;32m    186\u001b[0m         \u001b[0mself\u001b[0m\u001b[0;34m.\u001b[0m\u001b[0mdl\u001b[0m \u001b[0;34m=\u001b[0m \u001b[0mdl\u001b[0m\u001b[0;34m\u001b[0m\u001b[0;34m\u001b[0m\u001b[0m\n\u001b[0;32m--> 187\u001b[0;31m         \u001b[0;32mwith\u001b[0m \u001b[0mtorch\u001b[0m\u001b[0;34m.\u001b[0m\u001b[0mno_grad\u001b[0m\u001b[0;34m(\u001b[0m\u001b[0;34m)\u001b[0m\u001b[0;34m:\u001b[0m \u001b[0mself\u001b[0m\u001b[0;34m.\u001b[0m\u001b[0m_with_events\u001b[0m\u001b[0;34m(\u001b[0m\u001b[0mself\u001b[0m\u001b[0;34m.\u001b[0m\u001b[0mall_batches\u001b[0m\u001b[0;34m,\u001b[0m \u001b[0;34m'validate'\u001b[0m\u001b[0;34m,\u001b[0m \u001b[0mCancelValidException\u001b[0m\u001b[0;34m)\u001b[0m\u001b[0;34m\u001b[0m\u001b[0;34m\u001b[0m\u001b[0m\n\u001b[0m\u001b[1;32m    188\u001b[0m \u001b[0;34m\u001b[0m\u001b[0m\n\u001b[1;32m    189\u001b[0m     \u001b[0;32mdef\u001b[0m \u001b[0m_do_epoch\u001b[0m\u001b[0;34m(\u001b[0m\u001b[0mself\u001b[0m\u001b[0;34m)\u001b[0m\u001b[0;34m:\u001b[0m\u001b[0;34m\u001b[0m\u001b[0;34m\u001b[0m\u001b[0m\n",
      "\u001b[0;32m~/mobius/.venv/lib/python3.8/site-packages/fastai/learner.py\u001b[0m in \u001b[0;36m_with_events\u001b[0;34m(self, f, event_type, ex, final)\u001b[0m\n\u001b[1;32m    152\u001b[0m \u001b[0;34m\u001b[0m\u001b[0m\n\u001b[1;32m    153\u001b[0m     \u001b[0;32mdef\u001b[0m \u001b[0m_with_events\u001b[0m\u001b[0;34m(\u001b[0m\u001b[0mself\u001b[0m\u001b[0;34m,\u001b[0m \u001b[0mf\u001b[0m\u001b[0;34m,\u001b[0m \u001b[0mevent_type\u001b[0m\u001b[0;34m,\u001b[0m \u001b[0mex\u001b[0m\u001b[0;34m,\u001b[0m \u001b[0mfinal\u001b[0m\u001b[0;34m=\u001b[0m\u001b[0mnoop\u001b[0m\u001b[0;34m)\u001b[0m\u001b[0;34m:\u001b[0m\u001b[0;34m\u001b[0m\u001b[0;34m\u001b[0m\u001b[0m\n\u001b[0;32m--> 154\u001b[0;31m         \u001b[0;32mtry\u001b[0m\u001b[0;34m:\u001b[0m       \u001b[0mself\u001b[0m\u001b[0;34m(\u001b[0m\u001b[0;34mf'before_{event_type}'\u001b[0m\u001b[0;34m)\u001b[0m       \u001b[0;34m;\u001b[0m\u001b[0mf\u001b[0m\u001b[0;34m(\u001b[0m\u001b[0;34m)\u001b[0m\u001b[0;34m\u001b[0m\u001b[0;34m\u001b[0m\u001b[0m\n\u001b[0m\u001b[1;32m    155\u001b[0m         \u001b[0;32mexcept\u001b[0m \u001b[0mex\u001b[0m\u001b[0;34m:\u001b[0m \u001b[0mself\u001b[0m\u001b[0;34m(\u001b[0m\u001b[0;34mf'after_cancel_{event_type}'\u001b[0m\u001b[0;34m)\u001b[0m\u001b[0;34m\u001b[0m\u001b[0;34m\u001b[0m\u001b[0m\n\u001b[1;32m    156\u001b[0m         \u001b[0;32mfinally\u001b[0m\u001b[0;34m:\u001b[0m   \u001b[0mself\u001b[0m\u001b[0;34m(\u001b[0m\u001b[0;34mf'after_{event_type}'\u001b[0m\u001b[0;34m)\u001b[0m        \u001b[0;34m;\u001b[0m\u001b[0mfinal\u001b[0m\u001b[0;34m(\u001b[0m\u001b[0;34m)\u001b[0m\u001b[0;34m\u001b[0m\u001b[0;34m\u001b[0m\u001b[0m\n",
      "\u001b[0;32m~/mobius/.venv/lib/python3.8/site-packages/fastai/learner.py\u001b[0m in \u001b[0;36mall_batches\u001b[0;34m(self)\u001b[0m\n\u001b[1;32m    158\u001b[0m     \u001b[0;32mdef\u001b[0m \u001b[0mall_batches\u001b[0m\u001b[0;34m(\u001b[0m\u001b[0mself\u001b[0m\u001b[0;34m)\u001b[0m\u001b[0;34m:\u001b[0m\u001b[0;34m\u001b[0m\u001b[0;34m\u001b[0m\u001b[0m\n\u001b[1;32m    159\u001b[0m         \u001b[0mself\u001b[0m\u001b[0;34m.\u001b[0m\u001b[0mn_iter\u001b[0m \u001b[0;34m=\u001b[0m \u001b[0mlen\u001b[0m\u001b[0;34m(\u001b[0m\u001b[0mself\u001b[0m\u001b[0;34m.\u001b[0m\u001b[0mdl\u001b[0m\u001b[0;34m)\u001b[0m\u001b[0;34m\u001b[0m\u001b[0;34m\u001b[0m\u001b[0m\n\u001b[0;32m--> 160\u001b[0;31m         \u001b[0;32mfor\u001b[0m \u001b[0mo\u001b[0m \u001b[0;32min\u001b[0m \u001b[0menumerate\u001b[0m\u001b[0;34m(\u001b[0m\u001b[0mself\u001b[0m\u001b[0;34m.\u001b[0m\u001b[0mdl\u001b[0m\u001b[0;34m)\u001b[0m\u001b[0;34m:\u001b[0m \u001b[0mself\u001b[0m\u001b[0;34m.\u001b[0m\u001b[0mone_batch\u001b[0m\u001b[0;34m(\u001b[0m\u001b[0;34m*\u001b[0m\u001b[0mo\u001b[0m\u001b[0;34m)\u001b[0m\u001b[0;34m\u001b[0m\u001b[0;34m\u001b[0m\u001b[0m\n\u001b[0m\u001b[1;32m    161\u001b[0m \u001b[0;34m\u001b[0m\u001b[0m\n\u001b[1;32m    162\u001b[0m     \u001b[0;32mdef\u001b[0m \u001b[0m_do_one_batch\u001b[0m\u001b[0;34m(\u001b[0m\u001b[0mself\u001b[0m\u001b[0;34m)\u001b[0m\u001b[0;34m:\u001b[0m\u001b[0;34m\u001b[0m\u001b[0;34m\u001b[0m\u001b[0m\n",
      "\u001b[0;32m~/mobius/.venv/lib/python3.8/site-packages/fastai/learner.py\u001b[0m in \u001b[0;36mone_batch\u001b[0;34m(self, i, b)\u001b[0m\n\u001b[1;32m    176\u001b[0m         \u001b[0mself\u001b[0m\u001b[0;34m.\u001b[0m\u001b[0miter\u001b[0m \u001b[0;34m=\u001b[0m \u001b[0mi\u001b[0m\u001b[0;34m\u001b[0m\u001b[0;34m\u001b[0m\u001b[0m\n\u001b[1;32m    177\u001b[0m         \u001b[0mself\u001b[0m\u001b[0;34m.\u001b[0m\u001b[0m_split\u001b[0m\u001b[0;34m(\u001b[0m\u001b[0mb\u001b[0m\u001b[0;34m)\u001b[0m\u001b[0;34m\u001b[0m\u001b[0;34m\u001b[0m\u001b[0m\n\u001b[0;32m--> 178\u001b[0;31m         \u001b[0mself\u001b[0m\u001b[0;34m.\u001b[0m\u001b[0m_with_events\u001b[0m\u001b[0;34m(\u001b[0m\u001b[0mself\u001b[0m\u001b[0;34m.\u001b[0m\u001b[0m_do_one_batch\u001b[0m\u001b[0;34m,\u001b[0m \u001b[0;34m'batch'\u001b[0m\u001b[0;34m,\u001b[0m \u001b[0mCancelBatchException\u001b[0m\u001b[0;34m)\u001b[0m\u001b[0;34m\u001b[0m\u001b[0;34m\u001b[0m\u001b[0m\n\u001b[0m\u001b[1;32m    179\u001b[0m \u001b[0;34m\u001b[0m\u001b[0m\n\u001b[1;32m    180\u001b[0m     \u001b[0;32mdef\u001b[0m \u001b[0m_do_epoch_train\u001b[0m\u001b[0;34m(\u001b[0m\u001b[0mself\u001b[0m\u001b[0;34m)\u001b[0m\u001b[0;34m:\u001b[0m\u001b[0;34m\u001b[0m\u001b[0;34m\u001b[0m\u001b[0m\n",
      "\u001b[0;32m~/mobius/.venv/lib/python3.8/site-packages/fastai/learner.py\u001b[0m in \u001b[0;36m_with_events\u001b[0;34m(self, f, event_type, ex, final)\u001b[0m\n\u001b[1;32m    152\u001b[0m \u001b[0;34m\u001b[0m\u001b[0m\n\u001b[1;32m    153\u001b[0m     \u001b[0;32mdef\u001b[0m \u001b[0m_with_events\u001b[0m\u001b[0;34m(\u001b[0m\u001b[0mself\u001b[0m\u001b[0;34m,\u001b[0m \u001b[0mf\u001b[0m\u001b[0;34m,\u001b[0m \u001b[0mevent_type\u001b[0m\u001b[0;34m,\u001b[0m \u001b[0mex\u001b[0m\u001b[0;34m,\u001b[0m \u001b[0mfinal\u001b[0m\u001b[0;34m=\u001b[0m\u001b[0mnoop\u001b[0m\u001b[0;34m)\u001b[0m\u001b[0;34m:\u001b[0m\u001b[0;34m\u001b[0m\u001b[0;34m\u001b[0m\u001b[0m\n\u001b[0;32m--> 154\u001b[0;31m         \u001b[0;32mtry\u001b[0m\u001b[0;34m:\u001b[0m       \u001b[0mself\u001b[0m\u001b[0;34m(\u001b[0m\u001b[0;34mf'before_{event_type}'\u001b[0m\u001b[0;34m)\u001b[0m       \u001b[0;34m;\u001b[0m\u001b[0mf\u001b[0m\u001b[0;34m(\u001b[0m\u001b[0;34m)\u001b[0m\u001b[0;34m\u001b[0m\u001b[0;34m\u001b[0m\u001b[0m\n\u001b[0m\u001b[1;32m    155\u001b[0m         \u001b[0;32mexcept\u001b[0m \u001b[0mex\u001b[0m\u001b[0;34m:\u001b[0m \u001b[0mself\u001b[0m\u001b[0;34m(\u001b[0m\u001b[0;34mf'after_cancel_{event_type}'\u001b[0m\u001b[0;34m)\u001b[0m\u001b[0;34m\u001b[0m\u001b[0;34m\u001b[0m\u001b[0m\n\u001b[1;32m    156\u001b[0m         \u001b[0;32mfinally\u001b[0m\u001b[0;34m:\u001b[0m   \u001b[0mself\u001b[0m\u001b[0;34m(\u001b[0m\u001b[0;34mf'after_{event_type}'\u001b[0m\u001b[0;34m)\u001b[0m        \u001b[0;34m;\u001b[0m\u001b[0mfinal\u001b[0m\u001b[0;34m(\u001b[0m\u001b[0;34m)\u001b[0m\u001b[0;34m\u001b[0m\u001b[0;34m\u001b[0m\u001b[0m\n",
      "\u001b[0;32m~/mobius/.venv/lib/python3.8/site-packages/fastai/learner.py\u001b[0m in \u001b[0;36m_do_one_batch\u001b[0;34m(self)\u001b[0m\n\u001b[1;32m    163\u001b[0m         \u001b[0mself\u001b[0m\u001b[0;34m.\u001b[0m\u001b[0mpred\u001b[0m \u001b[0;34m=\u001b[0m \u001b[0mself\u001b[0m\u001b[0;34m.\u001b[0m\u001b[0mmodel\u001b[0m\u001b[0;34m(\u001b[0m\u001b[0;34m*\u001b[0m\u001b[0mself\u001b[0m\u001b[0;34m.\u001b[0m\u001b[0mxb\u001b[0m\u001b[0;34m)\u001b[0m\u001b[0;34m\u001b[0m\u001b[0;34m\u001b[0m\u001b[0m\n\u001b[1;32m    164\u001b[0m         \u001b[0mself\u001b[0m\u001b[0;34m(\u001b[0m\u001b[0;34m'after_pred'\u001b[0m\u001b[0;34m)\u001b[0m\u001b[0;34m\u001b[0m\u001b[0;34m\u001b[0m\u001b[0m\n\u001b[0;32m--> 165\u001b[0;31m         \u001b[0;32mif\u001b[0m \u001b[0mlen\u001b[0m\u001b[0;34m(\u001b[0m\u001b[0mself\u001b[0m\u001b[0;34m.\u001b[0m\u001b[0myb\u001b[0m\u001b[0;34m)\u001b[0m\u001b[0;34m:\u001b[0m \u001b[0mself\u001b[0m\u001b[0;34m.\u001b[0m\u001b[0mloss\u001b[0m \u001b[0;34m=\u001b[0m \u001b[0mself\u001b[0m\u001b[0;34m.\u001b[0m\u001b[0mloss_func\u001b[0m\u001b[0;34m(\u001b[0m\u001b[0mself\u001b[0m\u001b[0;34m.\u001b[0m\u001b[0mpred\u001b[0m\u001b[0;34m,\u001b[0m \u001b[0;34m*\u001b[0m\u001b[0mself\u001b[0m\u001b[0;34m.\u001b[0m\u001b[0myb\u001b[0m\u001b[0;34m)\u001b[0m\u001b[0;34m\u001b[0m\u001b[0;34m\u001b[0m\u001b[0m\n\u001b[0m\u001b[1;32m    166\u001b[0m         \u001b[0mself\u001b[0m\u001b[0;34m(\u001b[0m\u001b[0;34m'after_loss'\u001b[0m\u001b[0;34m)\u001b[0m\u001b[0;34m\u001b[0m\u001b[0;34m\u001b[0m\u001b[0m\n\u001b[1;32m    167\u001b[0m         \u001b[0;32mif\u001b[0m \u001b[0;32mnot\u001b[0m \u001b[0mself\u001b[0m\u001b[0;34m.\u001b[0m\u001b[0mtraining\u001b[0m \u001b[0;32mor\u001b[0m \u001b[0;32mnot\u001b[0m \u001b[0mlen\u001b[0m\u001b[0;34m(\u001b[0m\u001b[0mself\u001b[0m\u001b[0;34m.\u001b[0m\u001b[0myb\u001b[0m\u001b[0;34m)\u001b[0m\u001b[0;34m:\u001b[0m \u001b[0;32mreturn\u001b[0m\u001b[0;34m\u001b[0m\u001b[0;34m\u001b[0m\u001b[0m\n",
      "\u001b[0;32m<ipython-input-66-67f931b22fde>\u001b[0m in \u001b[0;36mcontrastive_loss_func\u001b[0;34m(out, targ)\u001b[0m\n\u001b[1;32m      6\u001b[0m \u001b[0;34m\u001b[0m\u001b[0m\n\u001b[1;32m      7\u001b[0m \u001b[0;32mdef\u001b[0m \u001b[0mcontrastive_loss_func\u001b[0m\u001b[0;34m(\u001b[0m\u001b[0mout\u001b[0m\u001b[0;34m,\u001b[0m \u001b[0mtarg\u001b[0m\u001b[0;34m)\u001b[0m\u001b[0;34m:\u001b[0m\u001b[0;34m\u001b[0m\u001b[0;34m\u001b[0m\u001b[0m\n\u001b[0;32m----> 8\u001b[0;31m     \u001b[0;32mreturn\u001b[0m \u001b[0mContrastiveLoss\u001b[0m\u001b[0;34m(\u001b[0m\u001b[0mmargin\u001b[0m\u001b[0;34m=\u001b[0m\u001b[0;36m1.0\u001b[0m\u001b[0;34m)\u001b[0m\u001b[0;34m(\u001b[0m\u001b[0mout\u001b[0m\u001b[0;34m,\u001b[0m \u001b[0mtarg\u001b[0m\u001b[0;34m.\u001b[0m\u001b[0mlong\u001b[0m\u001b[0;34m(\u001b[0m\u001b[0;34m)\u001b[0m\u001b[0;34m)\u001b[0m\u001b[0;34m\u001b[0m\u001b[0;34m\u001b[0m\u001b[0m\n\u001b[0m",
      "\u001b[0;32m~/mobius/.venv/lib/python3.8/site-packages/torch/nn/modules/module.py\u001b[0m in \u001b[0;36m_call_impl\u001b[0;34m(self, *input, **kwargs)\u001b[0m\n\u001b[1;32m    887\u001b[0m             \u001b[0mresult\u001b[0m \u001b[0;34m=\u001b[0m \u001b[0mself\u001b[0m\u001b[0;34m.\u001b[0m\u001b[0m_slow_forward\u001b[0m\u001b[0;34m(\u001b[0m\u001b[0;34m*\u001b[0m\u001b[0minput\u001b[0m\u001b[0;34m,\u001b[0m \u001b[0;34m**\u001b[0m\u001b[0mkwargs\u001b[0m\u001b[0;34m)\u001b[0m\u001b[0;34m\u001b[0m\u001b[0;34m\u001b[0m\u001b[0m\n\u001b[1;32m    888\u001b[0m         \u001b[0;32melse\u001b[0m\u001b[0;34m:\u001b[0m\u001b[0;34m\u001b[0m\u001b[0;34m\u001b[0m\u001b[0m\n\u001b[0;32m--> 889\u001b[0;31m             \u001b[0mresult\u001b[0m \u001b[0;34m=\u001b[0m \u001b[0mself\u001b[0m\u001b[0;34m.\u001b[0m\u001b[0mforward\u001b[0m\u001b[0;34m(\u001b[0m\u001b[0;34m*\u001b[0m\u001b[0minput\u001b[0m\u001b[0;34m,\u001b[0m \u001b[0;34m**\u001b[0m\u001b[0mkwargs\u001b[0m\u001b[0;34m)\u001b[0m\u001b[0;34m\u001b[0m\u001b[0;34m\u001b[0m\u001b[0m\n\u001b[0m\u001b[1;32m    890\u001b[0m         for hook in itertools.chain(\n\u001b[1;32m    891\u001b[0m                 \u001b[0m_global_forward_hooks\u001b[0m\u001b[0;34m.\u001b[0m\u001b[0mvalues\u001b[0m\u001b[0;34m(\u001b[0m\u001b[0;34m)\u001b[0m\u001b[0;34m,\u001b[0m\u001b[0;34m\u001b[0m\u001b[0;34m\u001b[0m\u001b[0m\n",
      "\u001b[0;32m~/mobius/mobius/losses.py\u001b[0m in \u001b[0;36mforward\u001b[0;34m(self, ops, size_average)\u001b[0m\n\u001b[1;32m     17\u001b[0m \u001b[0;34m\u001b[0m\u001b[0m\n\u001b[1;32m     18\u001b[0m     \u001b[0;32mdef\u001b[0m \u001b[0mforward\u001b[0m\u001b[0;34m(\u001b[0m\u001b[0mself\u001b[0m\u001b[0;34m,\u001b[0m \u001b[0mops\u001b[0m\u001b[0;34m,\u001b[0m \u001b[0msize_average\u001b[0m\u001b[0;34m=\u001b[0m\u001b[0;32mTrue\u001b[0m\u001b[0;34m)\u001b[0m\u001b[0;34m:\u001b[0m\u001b[0;34m\u001b[0m\u001b[0;34m\u001b[0m\u001b[0m\n\u001b[0;32m---> 19\u001b[0;31m         \u001b[0mp1\u001b[0m\u001b[0;34m,\u001b[0m \u001b[0mp2\u001b[0m\u001b[0;34m,\u001b[0m \u001b[0mlabel\u001b[0m \u001b[0;34m=\u001b[0m \u001b[0mops\u001b[0m\u001b[0;34m[\u001b[0m\u001b[0;36m0\u001b[0m\u001b[0;34m]\u001b[0m\u001b[0;34m,\u001b[0m \u001b[0mops\u001b[0m\u001b[0;34m[\u001b[0m\u001b[0;36m1\u001b[0m\u001b[0;34m]\u001b[0m\u001b[0;34m,\u001b[0m \u001b[0mops\u001b[0m\u001b[0;34m[\u001b[0m\u001b[0;36m2\u001b[0m\u001b[0;34m]\u001b[0m\u001b[0;34m\u001b[0m\u001b[0;34m\u001b[0m\u001b[0m\n\u001b[0m\u001b[1;32m     20\u001b[0m \u001b[0;34m\u001b[0m\u001b[0m\n\u001b[1;32m     21\u001b[0m         \u001b[0;31m# distance between points\u001b[0m\u001b[0;34m\u001b[0m\u001b[0;34m\u001b[0m\u001b[0;34m\u001b[0m\u001b[0m\n",
      "\u001b[0;31mIndexError\u001b[0m: index 1 is out of bounds for dimension 0 with size 1"
     ]
    },
    {
     "data": {
      "image/png": "[encoded data removed]",
      "text/plain": [
       "<Figure size 432x288 with 1 Axes>"
      ]
     },
     "metadata": {
      "needs_background": "light"
     },
     "output_type": "display_data"
    }
   ],
   "source": [
    "# siamese_learner.unfreeze()\n",
    "\n",
    "# lr_min, _ = siamese_learner.lr_find()\n",
    "siamese_learner.fit(n_epoch=10, lr=1e-4)"
   ]
  },
  {
   "cell_type": "code",
   "execution_count": null,
   "id": "retired-provincial",
   "metadata": {},
   "outputs": [],
   "source": [
    "# siamese_learner.unfreeze()\n",
    "\n",
    "# lr_min, _ = siamese_learner.lr_find()\n",
    "# siamese_learner.fit(n_epoch=3, lr=lr_min)"
   ]
  },
  {
   "cell_type": "code",
   "execution_count": null,
   "id": "statutory-technique",
   "metadata": {
    "jupyter": {
     "source_hidden": true
    },
    "tags": []
   },
   "outputs": [],
   "source": [
    "# original_points = list()\n",
    "# for i in range(len(valid_ds)):\n",
    "#     p, _, _ = valid_ds.get_items(i=i, j=0)\n",
    "#     original_points.append(pd.Series(np.concatenate([p[0].numpy(), p[1].numpy()])))"
   ]
  },
  {
   "cell_type": "code",
   "execution_count": null,
   "id": "dominican-constitutional",
   "metadata": {},
   "outputs": [],
   "source": [
    "t0 = pd.DataFrame(original_points)\n",
    "# t0 = pd.concat([y_labels.reset_index(drop=True), t0], ignore_index=False, axis=1)\n",
    "t0.head()"
   ]
  },
  {
   "cell_type": "code",
   "execution_count": null,
   "id": "frozen-transcription",
   "metadata": {},
   "outputs": [],
   "source": [
    "t4 = pd.read_csv(\"tsne_1618741679_4.csv\").drop(\"Unnamed: 0\", axis=1)\n",
    "# t4 = pd.concat([y_labels.reset_index(drop=True), t4], ignore_index=False, axis=1)\n",
    "t4.head()"
   ]
  },
  {
   "cell_type": "code",
   "execution_count": null,
   "id": "urban-electron",
   "metadata": {},
   "outputs": [],
   "source": [
    "from sklearn.model_selection import train_test_split\n",
    "\n",
    "#split dataset into train and test data\n",
    "X_train, X_test, y_train, y_test = train_test_split(t0, y_labels, test_size=0.2, random_state=42, stratify=y_labels)"
   ]
  },
  {
   "cell_type": "code",
   "execution_count": null,
   "id": "helpful-overview",
   "metadata": {},
   "outputs": [],
   "source": [
    "from sklearn.neighbors import KNeighborsClassifier\n",
    "\n",
    "# Create KNN classifier\n",
    "knn = KNeighborsClassifier(n_neighbors = 4)\n",
    "\n",
    "# Fit the classifier to the data\n",
    "knn.fit(X_train, y_train)"
   ]
  },
  {
   "cell_type": "code",
   "execution_count": null,
   "id": "consistent-isaac",
   "metadata": {},
   "outputs": [],
   "source": [
    "#show first 5 model predictions on the test data\n",
    "knn.predict(X_test)[0:5]"
   ]
  },
  {
   "cell_type": "code",
   "execution_count": null,
   "id": "earned-hammer",
   "metadata": {},
   "outputs": [],
   "source": [
    "#check accuracy of our model on the test data\n",
    "knn.score(X_test, y_test)"
   ]
  },
  {
   "cell_type": "code",
   "execution_count": null,
   "id": "behind-genre",
   "metadata": {},
   "outputs": [],
   "source": [
    "from sklearn.metrics import confusion_matrix\n",
    "from sklearn.metrics import precision_recall_fscore_support\n",
    "\n",
    "pr, re, fs, _ = precision_recall_fscore_support(y_test, knn.predict(X_test))\n",
    "print(confusion_matrix(y_test, knn.predict(X_test)))\n",
    "f\"precision: {pr[1]}, recall: {re[1]}, fscore: {fs[1]}\""
   ]
  },
  {
   "cell_type": "code",
   "execution_count": null,
   "id": "minor-porcelain",
   "metadata": {},
   "outputs": [],
   "source": []
  },
  {
   "cell_type": "code",
   "execution_count": null,
   "id": "political-acrobat",
   "metadata": {},
   "outputs": [],
   "source": [
    "from sklearn.model_selection import cross_val_score\n",
    "import numpy as np\n",
    "\n",
    "#create a new KNN model\n",
    "knn_cv = KNeighborsClassifier(n_neighbors=3)\n",
    "\n",
    "#train model with cv of 5 \n",
    "cv_scores = cross_val_score(knn_cv, X_train, y_train, cv=5)\n",
    "\n",
    "#print each cv score (accuracy) and average them\n",
    "print(cv_scores)\n",
    "print('cv_scores mean:{}'.format(np.mean(cv_scores)))"
   ]
  },
  {
   "cell_type": "code",
   "execution_count": null,
   "id": "loose-starter",
   "metadata": {},
   "outputs": [],
   "source": [
    "from sklearn.model_selection import GridSearchCV\n",
    "\n",
    "#create new a knn model\n",
    "knn2 = KNeighborsClassifier()\n",
    "\n",
    "#create a dictionary of all values we want to test for n_neighbors\n",
    "param_grid = {'n_neighbors': np.arange(1, 25)}\n",
    "\n",
    "#use gridsearch to test all values for n_neighbors\n",
    "knn_gscv = GridSearchCV(knn2, param_grid, cv=5)\n",
    "\n",
    "#fit model to data\n",
    "knn_gscv.fit(X_train, y_train)"
   ]
  },
  {
   "cell_type": "code",
   "execution_count": null,
   "id": "floppy-remainder",
   "metadata": {},
   "outputs": [],
   "source": [
    "#check top performing n_neighbors value\n",
    "knn_gscv.best_params_"
   ]
  },
  {
   "cell_type": "code",
   "execution_count": null,
   "id": "innovative-offset",
   "metadata": {},
   "outputs": [],
   "source": [
    "#check mean score for the top performing value of n_neighbors\n",
    "knn_gscv.best_score_"
   ]
  },
  {
   "cell_type": "code",
   "execution_count": null,
   "id": "aging-bryan",
   "metadata": {},
   "outputs": [],
   "source": [
    "np.load(\"tsne_1618681529_0.npy\")"
   ]
  },
  {
   "cell_type": "code",
   "execution_count": null,
   "id": "biblical-sperm",
   "metadata": {},
   "outputs": [],
   "source": []
  }
 ],
 "metadata": {
  "kernelspec": {
   "display_name": "mobius (venv)",
   "language": "python",
   "name": "mobius"
  },
  "language_info": {
   "codemirror_mode": {
    "name": "ipython",
    "version": 3
   },
   "file_extension": ".py",
   "mimetype": "text/x-python",
   "name": "python",
   "nbconvert_exporter": "python",
   "pygments_lexer": "ipython3",
   "version": "3.8.5"
  }
 },
 "nbformat": 4,
 "nbformat_minor": 5
}
