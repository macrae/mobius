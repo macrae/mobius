{
 "cells": [
  {
   "cell_type": "markdown",
   "id": "stainless-climate",
   "metadata": {},
   "source": [
    "## Siamese Neural Networks \n",
    "### for Supervised Clustering of High Dimensional Spaces"
   ]
  },
  {
   "cell_type": "code",
   "execution_count": 1,
   "id": "driven-fault",
   "metadata": {},
   "outputs": [
    {
     "name": "stdout",
     "output_type": "stream",
     "text": [
      "Python 3.8.5\n",
      "/Users/seanmacrae/mobius/.venv/bin/python\n"
     ]
    }
   ],
   "source": [
    "!python -V\n",
    "!which python"
   ]
  },
  {
   "cell_type": "code",
   "execution_count": 2,
   "id": "graphic-cargo",
   "metadata": {},
   "outputs": [
    {
     "name": "stderr",
     "output_type": "stream",
     "text": [
      "/Users/seanmacrae/mobius/.venv/lib/python3.8/site-packages/google/auth/_default.py:70: UserWarning: Your application has authenticated using end user credentials from Google Cloud SDK without a quota project. You might receive a \"quota exceeded\" or \"API not enabled\" error. We recommend you rerun `gcloud auth application-default login` and make sure a quota project is added. Or you can use service accounts instead. For more information about service accounts, see https://cloud.google.com/docs/authentication/\n",
      "  warnings.warn(_CLOUD_SDK_CREDENTIALS_WARNING)\n",
      "/Users/seanmacrae/mobius/.venv/lib/python3.8/site-packages/google/auth/_default.py:70: UserWarning: Your application has authenticated using end user credentials from Google Cloud SDK without a quota project. You might receive a \"quota exceeded\" or \"API not enabled\" error. We recommend you rerun `gcloud auth application-default login` and make sure a quota project is added. Or you can use service accounts instead. For more information about service accounts, see https://cloud.google.com/docs/authentication/\n",
      "  warnings.warn(_CLOUD_SDK_CREDENTIALS_WARNING)\n",
      "/Users/seanmacrae/mobius/.venv/lib/python3.8/site-packages/google/auth/_default.py:70: UserWarning: Your application has authenticated using end user credentials from Google Cloud SDK without a quota project. You might receive a \"quota exceeded\" or \"API not enabled\" error. We recommend you rerun `gcloud auth application-default login` and make sure a quota project is added. Or you can use service accounts instead. For more information about service accounts, see https://cloud.google.com/docs/authentication/\n",
      "  warnings.warn(_CLOUD_SDK_CREDENTIALS_WARNING)\n"
     ]
    }
   ],
   "source": [
    "import pandas as pd\n",
    "\n",
    "from loaderbot.big_query import query_table_and_cache\n",
    "from google.cloud import bigquery\n",
    "\n",
    "sql = \"\"\"WITH\n",
    "        investors AS (\n",
    "        SELECT\n",
    "            ID AS investorId,\n",
    "            Level AS investorLevel,\n",
    "            accredited_income AS accreditedIncome,\n",
    "            accredited_net_worth AS accreditedNetWorth,\n",
    "            accredited_entity AS accreditedEntity,\n",
    "            accredited_license AS accreditedLicense,\n",
    "            CASE WHEN status = \"NULL\" THEN NULL ELSE status END AS status\n",
    "        FROM\n",
    "        `portal_sync.account_753_dataset_0_file_1141349_Windfall_Data_2021_04_19_csv`\n",
    "        ),\n",
    "\n",
    "        investments AS (\n",
    "        SELECT\n",
    "            Investor_ID AS investorId,\n",
    "            SUM(COALESCE(CAST(Amount AS float64), 0)) AS sumAmount,\n",
    "            MIN(PARSE_TIMESTAMP(\"%m/%d/%y %H:%M\", Investment_Date)) AS minInvestmentDate,\n",
    "            MAX(PARSE_TIMESTAMP(\"%m/%d/%y %H:%M\", Investment_Date)) AS maxInvestmentDate,\n",
    "            COUNT(DISTINCT(PARSE_TIMESTAMP(\"%m/%d/%y %H:%M\", Investment_Date))) AS countInvestmentDate,\n",
    "            SUM(CAST(Closed AS int64)) AS closed\n",
    "        FROM\n",
    "        `portal_sync.account_753_dataset_0_file_1140988_Investments_by_Investor_2021_04_19_csv`\n",
    "        GROUP BY 1\n",
    "        ),\n",
    "\n",
    "        matches AS (\n",
    "            SELECT DISTINCT\n",
    "                account_id,\n",
    "                windfall_id ,\n",
    "                candidate_id,\n",
    "                confidence\n",
    "            FROM `portal.match`\n",
    "            WHERE account_id = 753 \n",
    "            ),\n",
    "\n",
    "        leads AS (\n",
    "            SELECT DISTINCT\n",
    "            id AS investorId,\n",
    "            m.windfall_id AS windfall_id,\n",
    "            PARSE_TIMESTAMP(\"%Y-%m-%d %H:%M:%S\", l.created_at) AS createdAt,\n",
    "            FROM\n",
    "            `portal_sync.account_753_dataset_0_file_1251551_mv_windfall_data_2021_05_12_csv` l\n",
    "            LEFT JOIN matches m ON l.id = m.candidate_id\n",
    "        ),\n",
    "\n",
    "      training_data AS (\n",
    "      SELECT\n",
    "      CASE\n",
    "        WHEN (j.sumAmount >= 100000.0 AND investorLevel = \"Accredited\") THEN \"ideal\"\n",
    "        WHEN (a.logNetWorth < 6.0 AND (j.sumAmount = 0.0 OR j.sumAmount IS NULL) AND l.createdAt < PARSE_TIMESTAMP(\"%Y-%m-%d\", \"2020-11-01\")) THEN \"non-ideal\"\n",
    "        ELSE \"other\" END AS label,\n",
    "      j.sumAmount AS amount,\n",
    "      i.investorLevel,\n",
    "      * EXCEPT(account_id),\n",
    "      FROM leads l\n",
    "      LEFT JOIN investors i ON l.investorId = i.investorId\n",
    "      LEFT JOIN investments j ON l.investorId = j.investorId\n",
    "      LEFT JOIN matches m ON l.investorId = m.candidate_id\n",
    "      LEFT JOIN `tranquil-garage-139216.people.audience_latest` a ON a.id = m.windfall_id\n",
    "      LEFT JOIN people.audience_dbusa_features dbusa using(id)\n",
    "      WHERE m.candidate_id IS NOT NULL)\n",
    "\n",
    "    SELECT * FROM training_data\n",
    "    WHERE label != \"other\"\n",
    "    \"\"\"\n",
    "\n",
    "df = query_table_and_cache(sql=sql)"
   ]
  },
  {
   "cell_type": "code",
   "execution_count": 3,
   "id": "unavailable-breast",
   "metadata": {},
   "outputs": [],
   "source": [
    "# import seaborn as sns\n",
    "\n",
    "# sns.pairplot(los, hue='Stay')"
   ]
  },
  {
   "cell_type": "code",
   "execution_count": 4,
   "id": "prerequisite-therapist",
   "metadata": {},
   "outputs": [
    {
     "data": {
      "text/plain": [
       "(10186, 149)"
      ]
     },
     "execution_count": 4,
     "metadata": {},
     "output_type": "execute_result"
    }
   ],
   "source": [
    "# from sklearn.model_selection import train_test_split\n",
    "\n",
    "# los_sample, _ = train_test_split(\n",
    "#     df,\n",
    "#     test_size=0.98,\n",
    "#     stratify=los[\"Stay\"])\n",
    "\n",
    "df.shape"
   ]
  },
  {
   "cell_type": "markdown",
   "id": "beautiful-envelope",
   "metadata": {},
   "source": [
    "## Tabular Learner\n",
    "\n",
    "Before we train the Tabular Siamese Learner we will train baseline Tabular Learner for species classification... (why do we do this, exactly? can we just instantiate a Tabular Siamese Learner without a baseline Tabular Learner ???)\n",
    "\n",
    "Ah yes, to init a new `TabularSiameseModel` we need to provide an `encoder` and `head` and the Tabular Learner will act as the `encoder` we init the `TabularSiameseModel` with."
   ]
  },
  {
   "cell_type": "code",
   "execution_count": 5,
   "id": "knowing-cheese",
   "metadata": {},
   "outputs": [],
   "source": [
    "from sklearn.model_selection import train_test_split\n",
    "\n",
    "# los_train, los_val = train_test_split(\n",
    "#     los,\n",
    "#     test_size=0.10,\n",
    "#     stratify=los[\"Stay\"])\n",
    "\n",
    "df_train, df_val = train_test_split(\n",
    "    df,\n",
    "    test_size=0.10,\n",
    "    stratify=df[\"label\"])\n",
    "\n",
    "df.shape, df.shape\n",
    "\n",
    "exclude_vars = [\"label\", \"id\", \"investorId\", \"createdAt\", \"investorId_1\", \"investorId_2\",\n",
    "               \"investorLevel\", \"investorLevel_1\", \"status\", \"windfall_id\", \"windfall_id_1\",\n",
    "                \"candidate_id\", \"minInvestmentDate\", \"maxInvestmentDate\", \"confidence\", \n",
    "                \"closed\", \"countInvestmentDate\", \"amount\", \"sumAmount\"]"
   ]
  },
  {
   "cell_type": "code",
   "execution_count": 6,
   "id": "fancy-selection",
   "metadata": {},
   "outputs": [],
   "source": [
    "from fastai.tabular.all import CategoryBlock\n",
    "                                \n",
    "# y_names = [\"species\"]\n",
    "y_names = [\"label\"]\n",
    "y_block = CategoryBlock()"
   ]
  },
  {
   "cell_type": "code",
   "execution_count": 7,
   "id": "enormous-certificate",
   "metadata": {},
   "outputs": [
    {
     "data": {
      "text/plain": [
       "{}"
      ]
     },
     "execution_count": 7,
     "metadata": {},
     "output_type": "execute_result"
    }
   ],
   "source": [
    "from mobius.utils import emb_sz_rule\n",
    "\n",
    "cat_names = [x for x in df.select_dtypes(exclude=['int', 'float']).columns if x != y_names]\n",
    "cat_names = [x for x in cat_names if x not in exclude_vars]\n",
    "\n",
    "# calc embedding sizes for each categorical feature\n",
    "emb_szs = {k: emb_sz_rule(len(df[k].unique())) for k in cat_names}\n",
    "emb_szs"
   ]
  },
  {
   "cell_type": "code",
   "execution_count": 8,
   "id": "vital-columbia",
   "metadata": {},
   "outputs": [
    {
     "data": {
      "text/plain": [
       "['accreditedIncome',\n",
       " 'accreditedNetWorth',\n",
       " 'accreditedEntity',\n",
       " 'accreditedLicense',\n",
       " 'logNetWorth',\n",
       " 'logAccreditedNetWorth',\n",
       " 'recentPurchaseDate',\n",
       " 'recentDivorceDate',\n",
       " 'recentDeathDate',\n",
       " 'isBoatOwner',\n",
       " 'isPlaneOwner',\n",
       " 'recentPhilanthropicGiftDate',\n",
       " 'recentFoundationAssociationDate',\n",
       " 'isFoundationOfficer',\n",
       " 'recentFoundationTrusteeDate',\n",
       " 'hasFoundationAssociation',\n",
       " 'hasCharityBoardMember',\n",
       " 'hasCharityOfficer',\n",
       " 'isMultiPropertyOwner',\n",
       " 'isRentalPropertyOwner',\n",
       " 'isHouseholdDebt',\n",
       " 'logTotalHouseholdDebt',\n",
       " 'recentSecTransactionAcquired',\n",
       " 'recentSecTransactionDisposed',\n",
       " 'recentPoliticalContributionDate',\n",
       " 'isSmallBusinessOwner',\n",
       " 'isCharityBoardMember',\n",
       " 'isCharityOfficer',\n",
       " 'primaryPropertyLoanToValue',\n",
       " 'logPrimaryPropertyAvm',\n",
       " 'hasTrust',\n",
       " 'politicalDemocrat',\n",
       " 'politicalRepublican',\n",
       " 'politicalIndependent',\n",
       " 'femaleCount',\n",
       " 'maleCount',\n",
       " 'minHouseholdAge',\n",
       " 'avgHouseholdAge',\n",
       " 'maxHouseholdAge',\n",
       " 'metroNameRank',\n",
       " 'propertyCount',\n",
       " 'isSFROwner',\n",
       " 'isCondoOwner',\n",
       " 'isRuralResidenceOwner',\n",
       " 'logMaxPropertyAvm',\n",
       " 'logSumPropertyAvm',\n",
       " 'maxPropertySqft',\n",
       " 'maxBedrooms',\n",
       " 'primaryPropertySqft',\n",
       " 'primaryPropertyYearsOwned',\n",
       " 'minPropertyYearsOwned',\n",
       " 'maxPropertyYearsOwned',\n",
       " 'logMaxDonationAmount',\n",
       " 'logSumDonationAmount',\n",
       " 'isArtsCause',\n",
       " 'isEducationCause',\n",
       " 'isEnvironmentalCause',\n",
       " 'isAnimalCause',\n",
       " 'isHealthCause',\n",
       " 'isHumanServicesCause',\n",
       " 'isInternationalCause',\n",
       " 'isSocialBenefitCause',\n",
       " 'isReligiousCause',\n",
       " 'logsumArtsCause',\n",
       " 'logsumEducationCause',\n",
       " 'logsumEnvironmentalCause',\n",
       " 'logsumAnimalCause',\n",
       " 'logsumHealthCause',\n",
       " 'logsumHumanServicesCause',\n",
       " 'logsumInternationalCause',\n",
       " 'logsumSocialBenefitCause',\n",
       " 'logsumReligiousCause',\n",
       " 'is990Donation',\n",
       " 'isCoopDonation',\n",
       " 'isFECContribution',\n",
       " 'isStateContribution',\n",
       " 'logsum990Donation',\n",
       " 'logsumCOOPDonation',\n",
       " 'logsumFECDonation',\n",
       " 'logsumStateContribution',\n",
       " 'logmax990Donation',\n",
       " 'logmaxCOOPDonation',\n",
       " 'logmaxFECDonation',\n",
       " 'logmaxStateContribution',\n",
       " 'countNumCharities',\n",
       " 'logMaxDonationAmount_1year',\n",
       " 'logSumDonationAmount_1year',\n",
       " 'logsumCOOPDonation_1year',\n",
       " 'logsumFECDonation_1year',\n",
       " 'logsumStateContribution_1year',\n",
       " 'countNumCharities_1year',\n",
       " 'logMaxDonationAmount_3year',\n",
       " 'logSumDonationAmount_3year',\n",
       " 'logsum990Donation_3year',\n",
       " 'logsumCOOPDonation_3year',\n",
       " 'logsumFECDonation_3year',\n",
       " 'logsumStateContribution_3year',\n",
       " 'countNumCharities_3year',\n",
       " 'logMaxDonationAmount_5year',\n",
       " 'logSumDonationAmount_5year',\n",
       " 'logsum990Donation_5year',\n",
       " 'logsumCOOPDonation_5year',\n",
       " 'logsumFECDonation_5year',\n",
       " 'logsumStateContribution_5year',\n",
       " 'countNumCharities_5year',\n",
       " 'lux_athletic',\n",
       " 'lux_flight',\n",
       " 'lux_goods',\n",
       " 'lux_travel',\n",
       " 'num_vehicles',\n",
       " 'num_luxury_vehicles',\n",
       " 'num_ultra_luxury_vehicles',\n",
       " 'num_cars',\n",
       " 'num_trucks',\n",
       " 'num_suvs',\n",
       " 'num_vans',\n",
       " 'metroRank',\n",
       " 'stateRank',\n",
       " 'premiumCC',\n",
       " 'collegeGrad',\n",
       " 'realEstateInvestor',\n",
       " 'personalInvestor',\n",
       " 'athlethic',\n",
       " 'careerOriented',\n",
       " 'anyCC',\n",
       " 'parenting',\n",
       " 'photography',\n",
       " 'food',\n",
       " 'collector',\n",
       " 'travel']"
      ]
     },
     "execution_count": 8,
     "metadata": {},
     "output_type": "execute_result"
    }
   ],
   "source": [
    "import numpy as np\n",
    "\n",
    "cont_names = [x for x in df.select_dtypes([np.number]).columns if x != y_names]\n",
    "cont_names = [x for x in cont_names if x not in exclude_vars]\n",
    "cont_names"
   ]
  },
  {
   "cell_type": "code",
   "execution_count": 9,
   "id": "beautiful-island",
   "metadata": {},
   "outputs": [],
   "source": [
    "from fastai.tabular.all import (Categorify, CategoryBlock, FillMissing,\n",
    "                                Normalize, TabDataLoader, TabularPandas,\n",
    "                                tabular_config, tabular_learner)\n",
    "\n",
    "procs = [FillMissing, Categorify, Normalize]"
   ]
  },
  {
   "cell_type": "code",
   "execution_count": 10,
   "id": "alien-strike",
   "metadata": {},
   "outputs": [],
   "source": [
    "from fastai.data.core import range_of\n",
    "from fastai.tabular.all import RandomSplitter\n",
    "\n",
    "# train/test split\n",
    "splits = RandomSplitter(valid_pct=0.10)(range_of(df))"
   ]
  },
  {
   "cell_type": "code",
   "execution_count": 11,
   "id": "governmental-activity",
   "metadata": {},
   "outputs": [],
   "source": [
    "tabular_pandas = TabularPandas(\n",
    "        df,\n",
    "        procs=procs,\n",
    "        cat_names=cat_names,\n",
    "        cont_names=cont_names,\n",
    "        y_names=y_names,\n",
    "        y_block=y_block,\n",
    "        splits=splits,\n",
    "        device=\"cpu\")"
   ]
  },
  {
   "cell_type": "code",
   "execution_count": 12,
   "id": "miniature-winning",
   "metadata": {},
   "outputs": [],
   "source": [
    "trn_dl = TabDataLoader(\n",
    "    tabular_pandas.train,\n",
    "    bs=128,\n",
    "    shuffle=True,\n",
    "    drop_last=True,\n",
    "    num_workers=4)\n",
    "\n",
    "val_dl = TabDataLoader(\n",
    "    tabular_pandas.valid,\n",
    "    bs=128,\n",
    "    num_workers=4)"
   ]
  },
  {
   "cell_type": "code",
   "execution_count": 13,
   "id": "strategic-paint",
   "metadata": {},
   "outputs": [
    {
     "name": "stdout",
     "output_type": "stream",
     "text": [
      "Sample batch:\n"
     ]
    }
   ],
   "source": [
    "from fastai.data.core import DataLoaders\n",
    "\n",
    "dls = DataLoaders(trn_dl, val_dl)\n",
    "\n",
    "print(\"Sample batch:\")\n",
    "# dls.one_batch()"
   ]
  },
  {
   "cell_type": "code",
   "execution_count": 14,
   "id": "weighted-retirement",
   "metadata": {},
   "outputs": [],
   "source": [
    "from fastai.metrics import F1Score, Precision, Recall, accuracy\n",
    "\n",
    "# load the tabular_pandas data through the tabular_learner\n",
    "layers = [2048, 1024, 512]\n",
    "\n",
    "# tabular learner configuration\n",
    "config = tabular_config(ps=[0.05, 0.05, 0.05], embed_p=0.03)\n",
    "\n",
    "learn = tabular_learner(\n",
    "    dls,\n",
    "    layers=layers,\n",
    "    emb_szs=emb_szs,\n",
    "    config=config,\n",
    "    metrics=[accuracy,\n",
    "             Precision(average='macro'),\n",
    "             Recall(average='macro'),\n",
    "             F1Score(average='macro')])"
   ]
  },
  {
   "cell_type": "code",
   "execution_count": 15,
   "id": "potential-character",
   "metadata": {},
   "outputs": [
    {
     "data": {
      "text/html": [
       "<table border=\"1\" class=\"dataframe\">\n",
       "  <thead>\n",
       "    <tr style=\"text-align: left;\">\n",
       "      <th>epoch</th>\n",
       "      <th>train_loss</th>\n",
       "      <th>valid_loss</th>\n",
       "      <th>accuracy</th>\n",
       "      <th>precision_score</th>\n",
       "      <th>recall_score</th>\n",
       "      <th>f1_score</th>\n",
       "      <th>time</th>\n",
       "    </tr>\n",
       "  </thead>\n",
       "  <tbody>\n",
       "    <tr>\n",
       "      <td>0</td>\n",
       "      <td>0.145414</td>\n",
       "      <td>0.799018</td>\n",
       "      <td>0.970530</td>\n",
       "      <td>0.906810</td>\n",
       "      <td>0.801435</td>\n",
       "      <td>0.845185</td>\n",
       "      <td>00:10</td>\n",
       "    </tr>\n",
       "  </tbody>\n",
       "</table>"
      ],
      "text/plain": [
       "<IPython.core.display.HTML object>"
      ]
     },
     "metadata": {},
     "output_type": "display_data"
    }
   ],
   "source": [
    "learn.fit_one_cycle(n_epoch=1)"
   ]
  },
  {
   "cell_type": "code",
   "execution_count": 16,
   "id": "fiscal-chester",
   "metadata": {},
   "outputs": [],
   "source": [
    "# learn.export(\"tabular_learn.pkl\")"
   ]
  },
  {
   "cell_type": "code",
   "execution_count": 17,
   "id": "tired-command",
   "metadata": {},
   "outputs": [
    {
     "name": "stdout",
     "output_type": "stream",
     "text": [
      "Before temperature - NLL: 0.799, ECE: 0.019\n",
      "Optimal temperature: 1701.985\n",
      "After temperature - NLL: 0.692, ECE: 0.472\n"
     ]
    }
   ],
   "source": [
    "from mobius.calibration import ModelWithTemperature\n",
    "\n",
    "scaled_model = ModelWithTemperature(learn.model)\n",
    "scaled_model.set_temperature(val_dl)\n",
    "learn.model = scaled_model.model"
   ]
  },
  {
   "cell_type": "code",
   "execution_count": 18,
   "id": "tired-bristol",
   "metadata": {},
   "outputs": [
    {
     "data": {
      "text/html": [],
      "text/plain": [
       "<IPython.core.display.HTML object>"
      ]
     },
     "metadata": {},
     "output_type": "display_data"
    }
   ],
   "source": [
    "# true species labels\n",
    "y_true=learn.dls.valid.items[\"label\"]\n",
    "\n",
    "# model scores and species predictions\n",
    "y_scores, *_ = learn.get_preds(dl=val_dl)\n",
    "preds = np.argmax(y_scores, 1).numpy()"
   ]
  },
  {
   "cell_type": "code",
   "execution_count": 19,
   "id": "indirect-lottery",
   "metadata": {},
   "outputs": [
    {
     "name": "stdout",
     "output_type": "stream",
     "text": [
      "First 20 investor labels and predictions\n"
     ]
    },
    {
     "data": {
      "text/plain": [
       "[(0, 1),\n",
       " (1, 1),\n",
       " (1, 1),\n",
       " (1, 1),\n",
       " (1, 1),\n",
       " (1, 1),\n",
       " (1, 1),\n",
       " (1, 1),\n",
       " (1, 1),\n",
       " (0, 1)]"
      ]
     },
     "execution_count": 19,
     "metadata": {},
     "output_type": "execute_result"
    }
   ],
   "source": [
    "print(\"First 20 investor labels and predictions\")\n",
    "list(zip(y_true, preds))[:10]"
   ]
  },
  {
   "cell_type": "code",
   "execution_count": 20,
   "id": "motivated-services",
   "metadata": {},
   "outputs": [
    {
     "data": {
      "text/plain": [
       "0.9705304518664047"
      ]
     },
     "execution_count": 20,
     "metadata": {},
     "output_type": "execute_result"
    }
   ],
   "source": [
    "(y_true == preds).sum() / len(y_true)"
   ]
  },
  {
   "cell_type": "markdown",
   "id": "prescription-thickness",
   "metadata": {},
   "source": [
    "## Siamese Net\n",
    "\n",
    "To init a new `TabularSiameseDataset` object, we only need a `tabular_pandas` object from the fast.ai library."
   ]
  },
  {
   "cell_type": "code",
   "execution_count": 21,
   "id": "piano-square",
   "metadata": {},
   "outputs": [],
   "source": [
    "from mobius.datasets import write_jsonl\n",
    "\n",
    "# write SNN training data to `data/`\n",
    "write_jsonl(tabular_pandas.train.to.items[0].items, \"data/train_data.jsonl\")\n",
    "write_jsonl(tabular_pandas.valid.to.items[0].items, \"data/valid_data.jsonl\")\n",
    "\n",
    "# write SNN training labels to `data/`\n",
    "tabular_pandas.train.y.to_csv(\"data/train_labels.csv\", index=True)\n",
    "tabular_pandas.valid.y.to_csv(\"data/valid_labels.csv\", index=True)"
   ]
  },
  {
   "cell_type": "code",
   "execution_count": 22,
   "id": "answering-affiliate",
   "metadata": {},
   "outputs": [],
   "source": [
    "from mobius.datasets import TabularSiameseDataset\n",
    "\n",
    "train_ds = TabularSiameseDataset(\n",
    "    csv_file=\"data/train_labels.csv\", \n",
    "    jsonl_file=\"data/train_data.jsonl\",\n",
    "    tabular_learner=learn)\n",
    "    \n",
    "valid_ds = TabularSiameseDataset(\n",
    "    csv_file=\"data/valid_labels.csv\", \n",
    "    jsonl_file=\"data/valid_data.jsonl\",\n",
    "    tabular_learner=learn)"
   ]
  },
  {
   "cell_type": "code",
   "execution_count": 23,
   "id": "cardiac-market",
   "metadata": {},
   "outputs": [
    {
     "data": {
      "text/plain": [
       "(9168,\n",
       " ((tensor([1, 1, 1, 1, 1, 1, 1, 1, 1, 1, 1, 1, 1, 1, 1, 1, 1, 1, 1, 1, 1]),\n",
       "   tensor([-0.5091, -0.3817,  2.9674,  0.0000,  0.1806, -0.0421, -0.2056, -0.0418,\n",
       "           -0.0852, -0.0610, -0.0502, -0.2079,  0.0000, -0.0431,  0.0000, -0.0444,\n",
       "           -0.0362, -0.0234, -0.4137, -0.3311,  0.4361,  0.2865, -0.0209, -0.0234,\n",
       "           -0.5103, -0.3215, -0.0362, -0.0234, -0.6262,  0.1281, -0.2232, -0.3984,\n",
       "           -0.3234, -0.0362,  1.1611, -0.3175, -0.8882, -0.3995,  0.3868, -0.5936,\n",
       "           -0.1487,  0.4127, -0.3273, -0.0845,  0.0611, -0.0091,  0.0402,  0.8051,\n",
       "            0.0451,  0.9266,  0.9810,  0.8736,  0.1433, -0.0464, -0.1092, -0.2019,\n",
       "           -0.2389, -0.1593, -0.2653, -0.3071, -0.0313, -0.1272, -0.1082, -0.1049,\n",
       "           -0.1845, -0.2146, -0.1503, -0.2516, -0.2899, -0.0308, -0.1184, -0.0973,\n",
       "           -0.0181, -0.5995,  1.6058, -0.4079, -0.0178, -0.5470,  0.3546, -0.3822,\n",
       "           -0.0179, -0.5525,  0.6106, -0.3792, -0.4867, -0.5140, -0.5134, -0.1991,\n",
       "           -0.4603, -0.1531, -0.2041, -0.6475, -0.6465,  0.0000, -0.3217, -0.5276,\n",
       "           -0.2500, -0.3153, -0.7118, -0.7114, -0.0104, -0.3920, -0.5400, -0.2938,\n",
       "           -0.3760, -0.1272, -0.0234, -0.0654, -0.0256, -0.3080, -0.2098, -0.0148,\n",
       "           -2.2245, -0.2018, -2.1887,  5.9129,  1.1507,  1.2574, -0.4828,  1.4683,\n",
       "           -0.2477,  1.5393,  2.2144, -0.3730,  0.9138,  0.0000,  0.0000,  0.0000,\n",
       "           -0.4738,  1.4107])),\n",
       "  (tensor([1, 1, 1, 1, 1, 1, 1, 1, 1, 1, 1, 1, 1, 1, 1, 1, 1, 1, 1, 1, 1]),\n",
       "   tensor([ 1.9643,  2.6197, -0.3370,  0.0000,  0.7723,  0.8549, -0.2056, -0.0418,\n",
       "           -0.0852, -0.0610, -0.0502, -0.2079,  0.0000, -0.0431,  0.0000, -0.0444,\n",
       "           -0.0362, -0.0234, -0.4137, -0.3311,  0.4361,  0.6272, -0.0209, -0.0234,\n",
       "           -0.5103, -0.3215, -0.0362, -0.0234,  0.5314,  0.6412, -0.2232,  2.5099,\n",
       "           -0.3234, -0.0362, -0.0830, -0.3175, -0.1208, -0.6788, -0.9838, -0.7524,\n",
       "           -0.1487,  0.4127, -0.3273, -0.0845,  1.2143,  1.0361,  0.3428,  0.8051,\n",
       "            0.3493,  1.1210,  1.1756,  1.0650,  0.7865,  0.9692, -0.1092, -0.2019,\n",
       "           -0.2389, -0.1593, -0.2653, -0.3071, -0.0313, -0.1272, -0.1082, -0.1049,\n",
       "           -0.1845, -0.2146, -0.1503, -0.2516, -0.2899, -0.0308, -0.1184, -0.0973,\n",
       "           -0.0181, -0.5995,  1.6058, -0.4079, -0.0178, -0.5470,  1.5971, -0.3822,\n",
       "           -0.0179, -0.5525,  1.4373, -0.3792, -0.4867, -0.5140, -0.5134, -0.1991,\n",
       "           -0.4603, -0.1531, -0.2041,  1.2701,  1.3350,  0.0000, -0.3217,  1.6853,\n",
       "           -0.2500, -0.3153,  1.0904,  1.1617, -0.0104, -0.3920,  1.6130, -0.2938,\n",
       "           -0.3760, -0.1272, -0.0234, -0.0654, -0.0256, -0.3080, -0.2098, -0.0148,\n",
       "            0.2223, -0.2018,  0.2301, -0.1528,  0.0348,  0.2007, -0.4828, -0.6811,\n",
       "           -0.2477, -0.6497, -0.4516, -0.3730,  0.9138,  0.0000,  0.0000,  0.0000,\n",
       "            2.1104, -0.7088])),\n",
       "  tensor(0.)))"
      ]
     },
     "execution_count": 23,
     "metadata": {},
     "output_type": "execute_result"
    }
   ],
   "source": [
    "train_ds.__len__(), train_ds.__getitem__(1)"
   ]
  },
  {
   "cell_type": "code",
   "execution_count": 24,
   "id": "boring-conclusion",
   "metadata": {},
   "outputs": [
    {
     "data": {
      "text/plain": [
       "(1018,\n",
       " ((tensor([1, 1, 1, 1, 1, 1, 1, 1, 1, 1, 1, 1, 1, 1, 1, 1, 1, 1, 1, 1, 1]),\n",
       "   tensor([-5.0909e-01, -3.8172e-01, -3.3700e-01,  0.0000e+00, -4.1761e-01,\n",
       "           -1.8419e-01, -2.0565e-01, -4.1812e-02, -8.5154e-02, -6.1011e-02,\n",
       "           -5.0150e-02,  4.8090e+00,  0.0000e+00, -4.3101e-02,  0.0000e+00,\n",
       "           -4.4353e-02, -3.6202e-02, -2.3360e-02, -4.1374e-01, -3.3115e-01,\n",
       "            4.3610e-01,  4.9051e-01, -2.0892e-02, -2.3360e-02, -5.1027e-01,\n",
       "           -3.2153e-01, -3.6202e-02, -2.3360e-02,  9.3476e-01,  5.7179e-02,\n",
       "           -2.2318e-01, -3.9843e-01, -3.2339e-01, -3.6202e-02, -1.3272e+00,\n",
       "           -3.1745e-01, -8.1843e-01, -1.5166e+00, -1.7018e+00, -4.3478e-01,\n",
       "           -1.4868e-01,  4.1265e-01, -3.2728e-01, -8.4501e-02, -9.8262e-02,\n",
       "           -1.5360e-01,  1.3618e-02,  8.0506e-01,  1.8334e-02, -1.1789e+00,\n",
       "           -1.1267e+00, -1.1990e+00,  1.4546e+00,  1.0122e+00, -1.0918e-01,\n",
       "           -2.0188e-01, -2.3890e-01, -1.5934e-01, -2.6534e-01, -3.0707e-01,\n",
       "            3.1901e+01, -1.2721e-01, -1.0815e-01, -1.0489e-01, -1.8450e-01,\n",
       "           -2.1465e-01, -1.5031e-01, -2.5155e-01, -2.8994e-01,  2.5997e+01,\n",
       "           -1.1836e-01, -9.7294e-02, -1.8092e-02,  1.6680e+00, -6.2276e-01,\n",
       "           -4.0794e-01, -1.7801e-02,  1.8644e+00, -5.7101e-01, -3.8219e-01,\n",
       "           -1.7897e-02,  2.2871e+00, -5.7217e-01, -3.7923e-01,  8.0597e-01,\n",
       "            2.6437e+00,  2.0527e+00,  5.7721e+00, -4.6034e-01, -1.5310e-01,\n",
       "            4.2940e+00,  2.0590e+00,  1.5229e+00,  0.0000e+00,  3.4284e+00,\n",
       "           -5.2759e-01, -2.5004e-01,  2.2752e+00,  1.8318e+00,  1.3392e+00,\n",
       "           -1.0444e-02,  2.7381e+00, -5.4003e-01, -2.9376e-01,  1.6153e+00,\n",
       "           -1.2721e-01, -2.3360e-02, -6.5361e-02, -2.5590e-02, -3.0798e-01,\n",
       "           -2.0977e-01, -1.4771e-02,  2.2232e-01, -2.0179e-01,  2.3006e-01,\n",
       "           -1.5283e-01,  3.8690e-01,  2.8285e-01,  2.0713e+00, -6.8105e-01,\n",
       "           -2.4770e-01, -6.4966e-01, -4.5160e-01, -3.7305e-01,  9.1382e-01,\n",
       "            0.0000e+00,  0.0000e+00,  0.0000e+00,  2.1104e+00, -7.0884e-01])),\n",
       "  (tensor([1, 1, 1, 1, 1, 1, 1, 1, 1, 1, 1, 1, 1, 1, 1, 1, 1, 1, 1, 1, 1]),\n",
       "   tensor([-0.5091,  2.6197, -0.3370,  0.0000, -0.4464, -0.2526, -0.2056, -0.0418,\n",
       "           -0.0852, -0.0610, -0.0502, -0.2079,  0.0000, -0.0431,  0.0000, -0.0444,\n",
       "           -0.0362, -0.0234, -0.4137, -0.3311,  0.4361,  0.4521, -0.0209, -0.0234,\n",
       "            1.9597, -0.3215, -0.0362, -0.0234,  0.7720, -0.0193, -0.2232, -0.3984,\n",
       "            3.0923, -0.0362, -0.0830, -0.3175,  1.9721,  1.6753,  0.9090,  1.5765,\n",
       "           -1.9784, -2.4233, -0.3273, -0.0845,  0.0673,  0.0654, -0.0614,  0.2547,\n",
       "           -0.0607, -0.2596, -0.2719, -0.2381,  0.7865,  0.5334, -0.1092, -0.2019,\n",
       "           -0.2389, -0.1593, -0.2653, -0.3071, -0.0313, -0.1272, -0.1082, -0.1049,\n",
       "           -0.1845, -0.2146, -0.1503, -0.2516, -0.2899, -0.0308, -0.1184, -0.0973,\n",
       "           -0.0181, -0.5995,  1.6058, -0.4079, -0.0178, -0.5470,  1.0748, -0.3822,\n",
       "           -0.0179, -0.5525,  1.4373, -0.3792, -0.4867,  1.7233,  1.3894, -0.1991,\n",
       "            1.5818, -0.1531, -0.2041,  1.2701,  0.9622,  0.0000, -0.3217,  1.2689,\n",
       "           -0.2500, -0.3153,  1.0904,  0.8092, -0.0104, -0.3920,  1.2079, -0.2938,\n",
       "           -0.3760, -0.1272, -0.0234, -0.0654, -0.0256, -0.3080, -0.2098, -0.0148,\n",
       "            0.2223, -0.2018,  0.2301, -0.1528, -1.0131, -1.4202, -0.4828, -0.6811,\n",
       "           -0.2477, -0.6497,  2.2144, -0.3730,  0.9138,  0.0000,  0.0000,  0.0000,\n",
       "            2.1104,  1.4107])),\n",
       "  tensor(0.)))"
      ]
     },
     "execution_count": 24,
     "metadata": {},
     "output_type": "execute_result"
    }
   ],
   "source": [
    "valid_ds.__len__(), valid_ds.__getitem__(0)"
   ]
  },
  {
   "cell_type": "code",
   "execution_count": 25,
   "id": "flush-leonard",
   "metadata": {},
   "outputs": [],
   "source": [
    "dls = DataLoaders.from_dsets(train_ds, valid_ds, bs=16, device='cpu', num_workers=2)"
   ]
  },
  {
   "cell_type": "markdown",
   "id": "advisory-promise",
   "metadata": {},
   "source": [
    "Siamese net encoder is the body of the Tabular net we just trained."
   ]
  },
  {
   "cell_type": "code",
   "execution_count": 26,
   "id": "israeli-compromise",
   "metadata": {},
   "outputs": [
    {
     "data": {
      "text/plain": [
       "2"
      ]
     },
     "execution_count": 26,
     "metadata": {},
     "output_type": "execute_result"
    }
   ],
   "source": [
    "dls.dataset.c"
   ]
  },
  {
   "cell_type": "code",
   "execution_count": 27,
   "id": "lesser-implement",
   "metadata": {},
   "outputs": [],
   "source": [
    "import copy\n",
    "\n",
    "encoder = copy.copy(learn)\n",
    "encoder.model.layers = learn.model.layers[:-1]\n",
    "encoder_model = encoder.model"
   ]
  },
  {
   "cell_type": "code",
   "execution_count": 28,
   "id": "sacred-offense",
   "metadata": {},
   "outputs": [],
   "source": [
    "from fastai.layers import LinBnDrop\n",
    "\n",
    "head = LinBnDrop(n_in=layers[-1]*2,\n",
    "    n_out=64,  # size of output space\n",
    "    bn=True,\n",
    "    act=None)"
   ]
  },
  {
   "cell_type": "code",
   "execution_count": 29,
   "id": "liquid-chain",
   "metadata": {},
   "outputs": [],
   "source": [
    "import time\n",
    "import torch\n",
    "import numpy as np\n",
    "import pandas as pd\n",
    "import seaborn as sns\n",
    "import matplotlib.pyplot as plt\n",
    "from sklearn.manifold import TSNE\n",
    "from fastai.callback.core import Callback\n",
    "\n",
    "import re, seaborn as sns, numpy as np, pandas as pd, random\n",
    "from pylab import *\n",
    "from matplotlib.pyplot import plot, show, draw, figure, cm\n",
    "import matplotlib.pyplot as plt\n",
    "from mpl_toolkits.mplot3d import Axes3D\n",
    "\n",
    "\n",
    "# TODO: save every TSNE model as pkl - interactive 3-d w/ tooltip to show point information (id, features, etc.)\n",
    "class TSNECallback(Callback):\n",
    "    def after_validate(self):\n",
    "        plt.clf()\n",
    "        t = int(time.time())\n",
    "        train_encoded = list()\n",
    "        for i in range(len(siamese_learner.dls.valid.dataset.labels)):\n",
    "            p, _, _ = siamese_learner.dls.valid_ds.__getitem__(i)\n",
    "\n",
    "            # rehsape into mini-batch size 1\n",
    "            p = p[0].reshape(1, -1), p[1].reshape(1, -1)\n",
    "\n",
    "            # encode the household into output embedding space\n",
    "            p_encode = siamese_learner.model.encode(p)\n",
    "            train_encoded.append(p_encode)\n",
    "            \n",
    "        ids = self.dls.valid.get_idxs()\n",
    "        y_train_labels = self.dls.valid.dataset.labels[\"label\"]\n",
    "        train_encoded_df = pd.DataFrame(torch.stack(train_encoded).squeeze())\n",
    "\n",
    "        # write encoded space to csv\n",
    "        train_encoded_df.to_csv(f\"tsne_{t}_{self.epoch}.csv\")\n",
    "        \n",
    "        # limit the permutation of hyper-params of t-SNE\n",
    "        tsne = TSNE(n_components=3, metric=\"euclidean\", n_iter=500)\n",
    "        encoded_train_tsne = tsne.fit_transform(train_encoded_df.values)\n",
    "#         np.save(f\"tsne_{t}_{self.epoch}.npy\", encoded_train_tsne)\n",
    "        \n",
    "        xs = encoded_train_tsne[:, 0]\n",
    "        ys = encoded_train_tsne[:, 1]\n",
    "        zs = encoded_train_tsne[:, 2]\n",
    "        \n",
    "        fig = plt.figure(figsize=(6,6))\n",
    "        ax = Axes3D(fig) # Method 1\n",
    "        ax.scatter(xs, ys, zs, c=y_train_labels, marker='o')\n",
    "        ax.set_xlabel('X')\n",
    "        ax.set_ylabel('Y')\n",
    "        ax.set_zlabel('Z')\n",
    "        plt.savefig(f\"snn_{t}_epoch_{self.epoch}.png\")\n",
    "        \n",
    "#         # TODO: add title...\n",
    "#         sns.scatterplot(x=encoded_train_tsne[:,0],\n",
    "#                         y=encoded_train_tsne[:,1],\n",
    "#                         hue=y_train_labels, \n",
    "#                         legend=False, \n",
    "#                         palette=\"tab10\").figure.savefig(f\"snn_{t}_epoch_{self.epoch}.png\")\n",
    "        \n",
    "        \n",
    "# TODO: run knn on embedding space to show learned embedding is informative!!!"
   ]
  },
  {
   "cell_type": "code",
   "execution_count": 30,
   "id": "shaped-custom",
   "metadata": {},
   "outputs": [],
   "source": [
    "from mobius.models import TabularSiameseModel\n",
    "\n",
    "model = TabularSiameseModel(encoder_model, head)"
   ]
  },
  {
   "cell_type": "code",
   "execution_count": 31,
   "id": "directed-obligation",
   "metadata": {},
   "outputs": [],
   "source": [
    "from fastai.torch_basics import params\n",
    "from mobius.losses import ContrastiveLoss\n",
    "\n",
    "def siamese_splitter(model):\n",
    "    return [params(model.encoder), params(model.head)]\n",
    "\n",
    "def contrastive_loss_func(out, targ):\n",
    "    return ContrastiveLoss(margin=0.20)(out, targ.long())"
   ]
  },
  {
   "cell_type": "code",
   "execution_count": 32,
   "id": "thick-strap",
   "metadata": {},
   "outputs": [],
   "source": [
    "from fastai.learner import Learner\n",
    "\n",
    "siamese_learner = Learner(dls,\n",
    "    model,\n",
    "    model_dir=\".\",\n",
    "    loss_func=contrastive_loss_func,\n",
    "    splitter=siamese_splitter,\n",
    "    cbs=[TSNECallback])"
   ]
  },
  {
   "cell_type": "code",
   "execution_count": 33,
   "id": "toxic-quebec",
   "metadata": {},
   "outputs": [],
   "source": [
    "# y_labels = siamese_learner.dls.valid.dataset.labels[\"Stay\"]\n",
    "# y_labels.to_csv(\"y_labels.csv\")"
   ]
  },
  {
   "cell_type": "code",
   "execution_count": 34,
   "id": "settled-geology",
   "metadata": {},
   "outputs": [],
   "source": [
    "# %debug\n",
    "# siamese_learner.summary()"
   ]
  },
  {
   "cell_type": "code",
   "execution_count": 35,
   "id": "representative-engineering",
   "metadata": {},
   "outputs": [],
   "source": [
    "# siamese_learner.freeze()\n",
    "# siamese_learner.fit(n_epoch=3, lr=10e-4)"
   ]
  },
  {
   "cell_type": "code",
   "execution_count": 36,
   "id": "seeing-hindu",
   "metadata": {
    "tags": []
   },
   "outputs": [
    {
     "data": {
      "text/html": [
       "<table border=\"1\" class=\"dataframe\">\n",
       "  <thead>\n",
       "    <tr style=\"text-align: left;\">\n",
       "      <th>epoch</th>\n",
       "      <th>train_loss</th>\n",
       "      <th>valid_loss</th>\n",
       "      <th>time</th>\n",
       "    </tr>\n",
       "  </thead>\n",
       "  <tbody>\n",
       "    <tr>\n",
       "      <td>0</td>\n",
       "      <td>-369412128.000000</td>\n",
       "      <td>-115374792704.000000</td>\n",
       "      <td>12:50</td>\n",
       "    </tr>\n",
       "    <tr>\n",
       "      <td>1</td>\n",
       "      <td>-6212211712.000000</td>\n",
       "      <td>02:32</td>\n",
       "    </tr>\n",
       "  </tbody>\n",
       "</table>"
      ],
      "text/plain": [
       "<IPython.core.display.HTML object>"
      ]
     },
     "metadata": {},
     "output_type": "display_data"
    },
    {
     "name": "stderr",
     "output_type": "stream",
     "text": [
      "ERROR:root:Internal Python error in the inspect module.\n",
      "Below is the traceback from this internal error.\n",
      "\n"
     ]
    },
    {
     "name": "stdout",
     "output_type": "stream",
     "text": [
      "Traceback (most recent call last):\n",
      "  File \"/Users/seanmacrae/mobius/.venv/lib/python3.8/site-packages/IPython/core/interactiveshell.py\", line 3437, in run_code\n",
      "    exec(code_obj, self.user_global_ns, self.user_ns)\n",
      "  File \"<ipython-input-36-6a2216b867a1>\", line 2, in <module>\n",
      "    siamese_learner.fit(n_epoch=3, lr=10e-4)\n",
      "  File \"/Users/seanmacrae/mobius/.venv/lib/python3.8/site-packages/fastai/learner.py\", line 205, in fit\n",
      "    self._with_events(self._do_fit, 'fit', CancelFitException, self._end_cleanup)\n",
      "  File \"/Users/seanmacrae/mobius/.venv/lib/python3.8/site-packages/fastai/learner.py\", line 154, in _with_events\n",
      "    try:       self(f'before_{event_type}')       ;f()\n",
      "  File \"/Users/seanmacrae/mobius/.venv/lib/python3.8/site-packages/fastai/learner.py\", line 196, in _do_fit\n",
      "    self._with_events(self._do_epoch, 'epoch', CancelEpochException)\n",
      "  File \"/Users/seanmacrae/mobius/.venv/lib/python3.8/site-packages/fastai/learner.py\", line 154, in _with_events\n",
      "    try:       self(f'before_{event_type}')       ;f()\n",
      "  File \"/Users/seanmacrae/mobius/.venv/lib/python3.8/site-packages/fastai/learner.py\", line 190, in _do_epoch\n",
      "    self._do_epoch_train()\n",
      "  File \"/Users/seanmacrae/mobius/.venv/lib/python3.8/site-packages/fastai/learner.py\", line 182, in _do_epoch_train\n",
      "    self._with_events(self.all_batches, 'train', CancelTrainException)\n",
      "  File \"/Users/seanmacrae/mobius/.venv/lib/python3.8/site-packages/fastai/learner.py\", line 154, in _with_events\n",
      "    try:       self(f'before_{event_type}')       ;f()\n",
      "  File \"/Users/seanmacrae/mobius/.venv/lib/python3.8/site-packages/fastai/learner.py\", line 160, in all_batches\n",
      "    for o in enumerate(self.dl): self.one_batch(*o)\n",
      "  File \"/Users/seanmacrae/mobius/.venv/lib/python3.8/site-packages/fastai/data/load.py\", line 101, in __iter__\n",
      "    for b in _loaders[self.fake_l.num_workers==0](self.fake_l):\n",
      "  File \"/Users/seanmacrae/mobius/.venv/lib/python3.8/site-packages/torch/utils/data/dataloader.py\", line 517, in __next__\n",
      "    data = self._next_data()\n",
      "  File \"/Users/seanmacrae/mobius/.venv/lib/python3.8/site-packages/torch/utils/data/dataloader.py\", line 1182, in _next_data\n",
      "    idx, data = self._get_data()\n",
      "  File \"/Users/seanmacrae/mobius/.venv/lib/python3.8/site-packages/torch/utils/data/dataloader.py\", line 1148, in _get_data\n",
      "    success, data = self._try_get_data()\n",
      "  File \"/Users/seanmacrae/mobius/.venv/lib/python3.8/site-packages/torch/utils/data/dataloader.py\", line 986, in _try_get_data\n",
      "    data = self._data_queue.get(timeout=timeout)\n",
      "  File \"/usr/local/anaconda3/envs/py38/lib/python3.8/multiprocessing/queues.py\", line 107, in get\n",
      "    if not self._poll(timeout):\n",
      "  File \"/usr/local/anaconda3/envs/py38/lib/python3.8/multiprocessing/connection.py\", line 257, in poll\n",
      "    return self._poll(timeout)\n",
      "  File \"/usr/local/anaconda3/envs/py38/lib/python3.8/multiprocessing/connection.py\", line 424, in _poll\n",
      "    r = wait([self], timeout)\n",
      "  File \"/usr/local/anaconda3/envs/py38/lib/python3.8/multiprocessing/connection.py\", line 931, in wait\n",
      "    ready = selector.select(timeout)\n",
      "  File \"/usr/local/anaconda3/envs/py38/lib/python3.8/selectors.py\", line 415, in select\n",
      "    fd_event_list = self._selector.poll(timeout)\n",
      "KeyboardInterrupt\n",
      "\n",
      "During handling of the above exception, another exception occurred:\n",
      "\n",
      "Traceback (most recent call last):\n",
      "  File \"/Users/seanmacrae/mobius/.venv/lib/python3.8/site-packages/IPython/core/interactiveshell.py\", line 2061, in showtraceback\n",
      "    stb = value._render_traceback_()\n",
      "AttributeError: 'KeyboardInterrupt' object has no attribute '_render_traceback_'\n",
      "\n",
      "During handling of the above exception, another exception occurred:\n",
      "\n",
      "Traceback (most recent call last):\n",
      "  File \"/Users/seanmacrae/mobius/.venv/lib/python3.8/site-packages/IPython/core/ultratb.py\", line 1101, in get_records\n",
      "    return _fixed_getinnerframes(etb, number_of_lines_of_context, tb_offset)\n",
      "  File \"/Users/seanmacrae/mobius/.venv/lib/python3.8/site-packages/IPython/core/ultratb.py\", line 248, in wrapped\n",
      "    return f(*args, **kwargs)\n",
      "  File \"/Users/seanmacrae/mobius/.venv/lib/python3.8/site-packages/IPython/core/ultratb.py\", line 281, in _fixed_getinnerframes\n",
      "    records = fix_frame_records_filenames(inspect.getinnerframes(etb, context))\n",
      "  File \"/usr/local/anaconda3/envs/py38/lib/python3.8/inspect.py\", line 1503, in getinnerframes\n",
      "    frameinfo = (tb.tb_frame,) + getframeinfo(tb, context)\n",
      "  File \"/usr/local/anaconda3/envs/py38/lib/python3.8/inspect.py\", line 1461, in getframeinfo\n",
      "    filename = getsourcefile(frame) or getfile(frame)\n",
      "  File \"/usr/local/anaconda3/envs/py38/lib/python3.8/inspect.py\", line 708, in getsourcefile\n",
      "    if getattr(getmodule(object, filename), '__loader__', None) is not None:\n",
      "  File \"/usr/local/anaconda3/envs/py38/lib/python3.8/inspect.py\", line 744, in getmodule\n",
      "    for modname, module in sys.modules.copy().items():\n",
      "KeyboardInterrupt\n"
     ]
    },
    {
     "ename": "TypeError",
     "evalue": "object of type 'NoneType' has no len()",
     "output_type": "error",
     "traceback": [
      "\u001b[0;31m---------------------------------------------------------------------------\u001b[0m",
      "\u001b[0;31mKeyboardInterrupt\u001b[0m                         Traceback (most recent call last)",
      "    \u001b[0;31m[... skipping hidden 1 frame]\u001b[0m\n",
      "\u001b[0;32m<ipython-input-36-6a2216b867a1>\u001b[0m in \u001b[0;36m<module>\u001b[0;34m\u001b[0m\n\u001b[1;32m      1\u001b[0m \u001b[0msiamese_learner\u001b[0m\u001b[0;34m.\u001b[0m\u001b[0munfreeze\u001b[0m\u001b[0;34m(\u001b[0m\u001b[0;34m)\u001b[0m\u001b[0;34m\u001b[0m\u001b[0;34m\u001b[0m\u001b[0m\n\u001b[0;32m----> 2\u001b[0;31m \u001b[0msiamese_learner\u001b[0m\u001b[0;34m.\u001b[0m\u001b[0mfit\u001b[0m\u001b[0;34m(\u001b[0m\u001b[0mn_epoch\u001b[0m\u001b[0;34m=\u001b[0m\u001b[0;36m3\u001b[0m\u001b[0;34m,\u001b[0m \u001b[0mlr\u001b[0m\u001b[0;34m=\u001b[0m\u001b[0;36m10e-4\u001b[0m\u001b[0;34m)\u001b[0m\u001b[0;34m\u001b[0m\u001b[0;34m\u001b[0m\u001b[0m\n\u001b[0m",
      "\u001b[0;32m~/mobius/.venv/lib/python3.8/site-packages/fastai/learner.py\u001b[0m in \u001b[0;36mfit\u001b[0;34m(self, n_epoch, lr, wd, cbs, reset_opt)\u001b[0m\n\u001b[1;32m    204\u001b[0m             \u001b[0mself\u001b[0m\u001b[0;34m.\u001b[0m\u001b[0mn_epoch\u001b[0m \u001b[0;34m=\u001b[0m \u001b[0mn_epoch\u001b[0m\u001b[0;34m\u001b[0m\u001b[0;34m\u001b[0m\u001b[0m\n\u001b[0;32m--> 205\u001b[0;31m             \u001b[0mself\u001b[0m\u001b[0;34m.\u001b[0m\u001b[0m_with_events\u001b[0m\u001b[0;34m(\u001b[0m\u001b[0mself\u001b[0m\u001b[0;34m.\u001b[0m\u001b[0m_do_fit\u001b[0m\u001b[0;34m,\u001b[0m \u001b[0;34m'fit'\u001b[0m\u001b[0;34m,\u001b[0m \u001b[0mCancelFitException\u001b[0m\u001b[0;34m,\u001b[0m \u001b[0mself\u001b[0m\u001b[0;34m.\u001b[0m\u001b[0m_end_cleanup\u001b[0m\u001b[0;34m)\u001b[0m\u001b[0;34m\u001b[0m\u001b[0;34m\u001b[0m\u001b[0m\n\u001b[0m\u001b[1;32m    206\u001b[0m \u001b[0;34m\u001b[0m\u001b[0m\n",
      "\u001b[0;32m~/mobius/.venv/lib/python3.8/site-packages/fastai/learner.py\u001b[0m in \u001b[0;36m_with_events\u001b[0;34m(self, f, event_type, ex, final)\u001b[0m\n\u001b[1;32m    153\u001b[0m     \u001b[0;32mdef\u001b[0m \u001b[0m_with_events\u001b[0m\u001b[0;34m(\u001b[0m\u001b[0mself\u001b[0m\u001b[0;34m,\u001b[0m \u001b[0mf\u001b[0m\u001b[0;34m,\u001b[0m \u001b[0mevent_type\u001b[0m\u001b[0;34m,\u001b[0m \u001b[0mex\u001b[0m\u001b[0;34m,\u001b[0m \u001b[0mfinal\u001b[0m\u001b[0;34m=\u001b[0m\u001b[0mnoop\u001b[0m\u001b[0;34m)\u001b[0m\u001b[0;34m:\u001b[0m\u001b[0;34m\u001b[0m\u001b[0;34m\u001b[0m\u001b[0m\n\u001b[0;32m--> 154\u001b[0;31m         \u001b[0;32mtry\u001b[0m\u001b[0;34m:\u001b[0m       \u001b[0mself\u001b[0m\u001b[0;34m(\u001b[0m\u001b[0;34mf'before_{event_type}'\u001b[0m\u001b[0;34m)\u001b[0m       \u001b[0;34m;\u001b[0m\u001b[0mf\u001b[0m\u001b[0;34m(\u001b[0m\u001b[0;34m)\u001b[0m\u001b[0;34m\u001b[0m\u001b[0;34m\u001b[0m\u001b[0m\n\u001b[0m\u001b[1;32m    155\u001b[0m         \u001b[0;32mexcept\u001b[0m \u001b[0mex\u001b[0m\u001b[0;34m:\u001b[0m \u001b[0mself\u001b[0m\u001b[0;34m(\u001b[0m\u001b[0;34mf'after_cancel_{event_type}'\u001b[0m\u001b[0;34m)\u001b[0m\u001b[0;34m\u001b[0m\u001b[0;34m\u001b[0m\u001b[0m\n",
      "\u001b[0;32m~/mobius/.venv/lib/python3.8/site-packages/fastai/learner.py\u001b[0m in \u001b[0;36m_do_fit\u001b[0;34m(self)\u001b[0m\n\u001b[1;32m    195\u001b[0m             \u001b[0mself\u001b[0m\u001b[0;34m.\u001b[0m\u001b[0mepoch\u001b[0m\u001b[0;34m=\u001b[0m\u001b[0mepoch\u001b[0m\u001b[0;34m\u001b[0m\u001b[0;34m\u001b[0m\u001b[0m\n\u001b[0;32m--> 196\u001b[0;31m             \u001b[0mself\u001b[0m\u001b[0;34m.\u001b[0m\u001b[0m_with_events\u001b[0m\u001b[0;34m(\u001b[0m\u001b[0mself\u001b[0m\u001b[0;34m.\u001b[0m\u001b[0m_do_epoch\u001b[0m\u001b[0;34m,\u001b[0m \u001b[0;34m'epoch'\u001b[0m\u001b[0;34m,\u001b[0m \u001b[0mCancelEpochException\u001b[0m\u001b[0;34m)\u001b[0m\u001b[0;34m\u001b[0m\u001b[0;34m\u001b[0m\u001b[0m\n\u001b[0m\u001b[1;32m    197\u001b[0m \u001b[0;34m\u001b[0m\u001b[0m\n",
      "\u001b[0;32m~/mobius/.venv/lib/python3.8/site-packages/fastai/learner.py\u001b[0m in \u001b[0;36m_with_events\u001b[0;34m(self, f, event_type, ex, final)\u001b[0m\n\u001b[1;32m    153\u001b[0m     \u001b[0;32mdef\u001b[0m \u001b[0m_with_events\u001b[0m\u001b[0;34m(\u001b[0m\u001b[0mself\u001b[0m\u001b[0;34m,\u001b[0m \u001b[0mf\u001b[0m\u001b[0;34m,\u001b[0m \u001b[0mevent_type\u001b[0m\u001b[0;34m,\u001b[0m \u001b[0mex\u001b[0m\u001b[0;34m,\u001b[0m \u001b[0mfinal\u001b[0m\u001b[0;34m=\u001b[0m\u001b[0mnoop\u001b[0m\u001b[0;34m)\u001b[0m\u001b[0;34m:\u001b[0m\u001b[0;34m\u001b[0m\u001b[0;34m\u001b[0m\u001b[0m\n\u001b[0;32m--> 154\u001b[0;31m         \u001b[0;32mtry\u001b[0m\u001b[0;34m:\u001b[0m       \u001b[0mself\u001b[0m\u001b[0;34m(\u001b[0m\u001b[0;34mf'before_{event_type}'\u001b[0m\u001b[0;34m)\u001b[0m       \u001b[0;34m;\u001b[0m\u001b[0mf\u001b[0m\u001b[0;34m(\u001b[0m\u001b[0;34m)\u001b[0m\u001b[0;34m\u001b[0m\u001b[0;34m\u001b[0m\u001b[0m\n\u001b[0m\u001b[1;32m    155\u001b[0m         \u001b[0;32mexcept\u001b[0m \u001b[0mex\u001b[0m\u001b[0;34m:\u001b[0m \u001b[0mself\u001b[0m\u001b[0;34m(\u001b[0m\u001b[0;34mf'after_cancel_{event_type}'\u001b[0m\u001b[0;34m)\u001b[0m\u001b[0;34m\u001b[0m\u001b[0;34m\u001b[0m\u001b[0m\n",
      "\u001b[0;32m~/mobius/.venv/lib/python3.8/site-packages/fastai/learner.py\u001b[0m in \u001b[0;36m_do_epoch\u001b[0;34m(self)\u001b[0m\n\u001b[1;32m    189\u001b[0m     \u001b[0;32mdef\u001b[0m \u001b[0m_do_epoch\u001b[0m\u001b[0;34m(\u001b[0m\u001b[0mself\u001b[0m\u001b[0;34m)\u001b[0m\u001b[0;34m:\u001b[0m\u001b[0;34m\u001b[0m\u001b[0;34m\u001b[0m\u001b[0m\n\u001b[0;32m--> 190\u001b[0;31m         \u001b[0mself\u001b[0m\u001b[0;34m.\u001b[0m\u001b[0m_do_epoch_train\u001b[0m\u001b[0;34m(\u001b[0m\u001b[0;34m)\u001b[0m\u001b[0;34m\u001b[0m\u001b[0;34m\u001b[0m\u001b[0m\n\u001b[0m\u001b[1;32m    191\u001b[0m         \u001b[0mself\u001b[0m\u001b[0;34m.\u001b[0m\u001b[0m_do_epoch_validate\u001b[0m\u001b[0;34m(\u001b[0m\u001b[0;34m)\u001b[0m\u001b[0;34m\u001b[0m\u001b[0;34m\u001b[0m\u001b[0m\n",
      "\u001b[0;32m~/mobius/.venv/lib/python3.8/site-packages/fastai/learner.py\u001b[0m in \u001b[0;36m_do_epoch_train\u001b[0;34m(self)\u001b[0m\n\u001b[1;32m    181\u001b[0m         \u001b[0mself\u001b[0m\u001b[0;34m.\u001b[0m\u001b[0mdl\u001b[0m \u001b[0;34m=\u001b[0m \u001b[0mself\u001b[0m\u001b[0;34m.\u001b[0m\u001b[0mdls\u001b[0m\u001b[0;34m.\u001b[0m\u001b[0mtrain\u001b[0m\u001b[0;34m\u001b[0m\u001b[0;34m\u001b[0m\u001b[0m\n\u001b[0;32m--> 182\u001b[0;31m         \u001b[0mself\u001b[0m\u001b[0;34m.\u001b[0m\u001b[0m_with_events\u001b[0m\u001b[0;34m(\u001b[0m\u001b[0mself\u001b[0m\u001b[0;34m.\u001b[0m\u001b[0mall_batches\u001b[0m\u001b[0;34m,\u001b[0m \u001b[0;34m'train'\u001b[0m\u001b[0;34m,\u001b[0m \u001b[0mCancelTrainException\u001b[0m\u001b[0;34m)\u001b[0m\u001b[0;34m\u001b[0m\u001b[0;34m\u001b[0m\u001b[0m\n\u001b[0m\u001b[1;32m    183\u001b[0m \u001b[0;34m\u001b[0m\u001b[0m\n",
      "\u001b[0;32m~/mobius/.venv/lib/python3.8/site-packages/fastai/learner.py\u001b[0m in \u001b[0;36m_with_events\u001b[0;34m(self, f, event_type, ex, final)\u001b[0m\n\u001b[1;32m    153\u001b[0m     \u001b[0;32mdef\u001b[0m \u001b[0m_with_events\u001b[0m\u001b[0;34m(\u001b[0m\u001b[0mself\u001b[0m\u001b[0;34m,\u001b[0m \u001b[0mf\u001b[0m\u001b[0;34m,\u001b[0m \u001b[0mevent_type\u001b[0m\u001b[0;34m,\u001b[0m \u001b[0mex\u001b[0m\u001b[0;34m,\u001b[0m \u001b[0mfinal\u001b[0m\u001b[0;34m=\u001b[0m\u001b[0mnoop\u001b[0m\u001b[0;34m)\u001b[0m\u001b[0;34m:\u001b[0m\u001b[0;34m\u001b[0m\u001b[0;34m\u001b[0m\u001b[0m\n\u001b[0;32m--> 154\u001b[0;31m         \u001b[0;32mtry\u001b[0m\u001b[0;34m:\u001b[0m       \u001b[0mself\u001b[0m\u001b[0;34m(\u001b[0m\u001b[0;34mf'before_{event_type}'\u001b[0m\u001b[0;34m)\u001b[0m       \u001b[0;34m;\u001b[0m\u001b[0mf\u001b[0m\u001b[0;34m(\u001b[0m\u001b[0;34m)\u001b[0m\u001b[0;34m\u001b[0m\u001b[0;34m\u001b[0m\u001b[0m\n\u001b[0m\u001b[1;32m    155\u001b[0m         \u001b[0;32mexcept\u001b[0m \u001b[0mex\u001b[0m\u001b[0;34m:\u001b[0m \u001b[0mself\u001b[0m\u001b[0;34m(\u001b[0m\u001b[0;34mf'after_cancel_{event_type}'\u001b[0m\u001b[0;34m)\u001b[0m\u001b[0;34m\u001b[0m\u001b[0;34m\u001b[0m\u001b[0m\n",
      "\u001b[0;32m~/mobius/.venv/lib/python3.8/site-packages/fastai/learner.py\u001b[0m in \u001b[0;36mall_batches\u001b[0;34m(self)\u001b[0m\n\u001b[1;32m    159\u001b[0m         \u001b[0mself\u001b[0m\u001b[0;34m.\u001b[0m\u001b[0mn_iter\u001b[0m \u001b[0;34m=\u001b[0m \u001b[0mlen\u001b[0m\u001b[0;34m(\u001b[0m\u001b[0mself\u001b[0m\u001b[0;34m.\u001b[0m\u001b[0mdl\u001b[0m\u001b[0;34m)\u001b[0m\u001b[0;34m\u001b[0m\u001b[0;34m\u001b[0m\u001b[0m\n\u001b[0;32m--> 160\u001b[0;31m         \u001b[0;32mfor\u001b[0m \u001b[0mo\u001b[0m \u001b[0;32min\u001b[0m \u001b[0menumerate\u001b[0m\u001b[0;34m(\u001b[0m\u001b[0mself\u001b[0m\u001b[0;34m.\u001b[0m\u001b[0mdl\u001b[0m\u001b[0;34m)\u001b[0m\u001b[0;34m:\u001b[0m \u001b[0mself\u001b[0m\u001b[0;34m.\u001b[0m\u001b[0mone_batch\u001b[0m\u001b[0;34m(\u001b[0m\u001b[0;34m*\u001b[0m\u001b[0mo\u001b[0m\u001b[0;34m)\u001b[0m\u001b[0;34m\u001b[0m\u001b[0;34m\u001b[0m\u001b[0m\n\u001b[0m\u001b[1;32m    161\u001b[0m \u001b[0;34m\u001b[0m\u001b[0m\n",
      "\u001b[0;32m~/mobius/.venv/lib/python3.8/site-packages/fastai/data/load.py\u001b[0m in \u001b[0;36m__iter__\u001b[0;34m(self)\u001b[0m\n\u001b[1;32m    100\u001b[0m         \u001b[0mself\u001b[0m\u001b[0;34m.\u001b[0m\u001b[0m__idxs\u001b[0m\u001b[0;34m=\u001b[0m\u001b[0mself\u001b[0m\u001b[0;34m.\u001b[0m\u001b[0mget_idxs\u001b[0m\u001b[0;34m(\u001b[0m\u001b[0;34m)\u001b[0m \u001b[0;31m# called in context of main process (not workers/subprocesses)\u001b[0m\u001b[0;34m\u001b[0m\u001b[0;34m\u001b[0m\u001b[0m\n\u001b[0;32m--> 101\u001b[0;31m         \u001b[0;32mfor\u001b[0m \u001b[0mb\u001b[0m \u001b[0;32min\u001b[0m \u001b[0m_loaders\u001b[0m\u001b[0;34m[\u001b[0m\u001b[0mself\u001b[0m\u001b[0;34m.\u001b[0m\u001b[0mfake_l\u001b[0m\u001b[0;34m.\u001b[0m\u001b[0mnum_workers\u001b[0m\u001b[0;34m==\u001b[0m\u001b[0;36m0\u001b[0m\u001b[0;34m]\u001b[0m\u001b[0;34m(\u001b[0m\u001b[0mself\u001b[0m\u001b[0;34m.\u001b[0m\u001b[0mfake_l\u001b[0m\u001b[0;34m)\u001b[0m\u001b[0;34m:\u001b[0m\u001b[0;34m\u001b[0m\u001b[0;34m\u001b[0m\u001b[0m\n\u001b[0m\u001b[1;32m    102\u001b[0m             \u001b[0;32mif\u001b[0m \u001b[0mself\u001b[0m\u001b[0;34m.\u001b[0m\u001b[0mdevice\u001b[0m \u001b[0;32mis\u001b[0m \u001b[0;32mnot\u001b[0m \u001b[0;32mNone\u001b[0m\u001b[0;34m:\u001b[0m \u001b[0mb\u001b[0m \u001b[0;34m=\u001b[0m \u001b[0mto_device\u001b[0m\u001b[0;34m(\u001b[0m\u001b[0mb\u001b[0m\u001b[0;34m,\u001b[0m \u001b[0mself\u001b[0m\u001b[0;34m.\u001b[0m\u001b[0mdevice\u001b[0m\u001b[0;34m)\u001b[0m\u001b[0;34m\u001b[0m\u001b[0;34m\u001b[0m\u001b[0m\n",
      "\u001b[0;32m~/mobius/.venv/lib/python3.8/site-packages/torch/utils/data/dataloader.py\u001b[0m in \u001b[0;36m__next__\u001b[0;34m(self)\u001b[0m\n\u001b[1;32m    516\u001b[0m                 \u001b[0mself\u001b[0m\u001b[0;34m.\u001b[0m\u001b[0m_reset\u001b[0m\u001b[0;34m(\u001b[0m\u001b[0;34m)\u001b[0m\u001b[0;34m\u001b[0m\u001b[0;34m\u001b[0m\u001b[0m\n\u001b[0;32m--> 517\u001b[0;31m             \u001b[0mdata\u001b[0m \u001b[0;34m=\u001b[0m \u001b[0mself\u001b[0m\u001b[0;34m.\u001b[0m\u001b[0m_next_data\u001b[0m\u001b[0;34m(\u001b[0m\u001b[0;34m)\u001b[0m\u001b[0;34m\u001b[0m\u001b[0;34m\u001b[0m\u001b[0m\n\u001b[0m\u001b[1;32m    518\u001b[0m             \u001b[0mself\u001b[0m\u001b[0;34m.\u001b[0m\u001b[0m_num_yielded\u001b[0m \u001b[0;34m+=\u001b[0m \u001b[0;36m1\u001b[0m\u001b[0;34m\u001b[0m\u001b[0;34m\u001b[0m\u001b[0m\n",
      "\u001b[0;32m~/mobius/.venv/lib/python3.8/site-packages/torch/utils/data/dataloader.py\u001b[0m in \u001b[0;36m_next_data\u001b[0;34m(self)\u001b[0m\n\u001b[1;32m   1181\u001b[0m             \u001b[0;32massert\u001b[0m \u001b[0;32mnot\u001b[0m \u001b[0mself\u001b[0m\u001b[0;34m.\u001b[0m\u001b[0m_shutdown\u001b[0m \u001b[0;32mand\u001b[0m \u001b[0mself\u001b[0m\u001b[0;34m.\u001b[0m\u001b[0m_tasks_outstanding\u001b[0m \u001b[0;34m>\u001b[0m \u001b[0;36m0\u001b[0m\u001b[0;34m\u001b[0m\u001b[0;34m\u001b[0m\u001b[0m\n\u001b[0;32m-> 1182\u001b[0;31m             \u001b[0midx\u001b[0m\u001b[0;34m,\u001b[0m \u001b[0mdata\u001b[0m \u001b[0;34m=\u001b[0m \u001b[0mself\u001b[0m\u001b[0;34m.\u001b[0m\u001b[0m_get_data\u001b[0m\u001b[0;34m(\u001b[0m\u001b[0;34m)\u001b[0m\u001b[0;34m\u001b[0m\u001b[0;34m\u001b[0m\u001b[0m\n\u001b[0m\u001b[1;32m   1183\u001b[0m             \u001b[0mself\u001b[0m\u001b[0;34m.\u001b[0m\u001b[0m_tasks_outstanding\u001b[0m \u001b[0;34m-=\u001b[0m \u001b[0;36m1\u001b[0m\u001b[0;34m\u001b[0m\u001b[0;34m\u001b[0m\u001b[0m\n",
      "\u001b[0;32m~/mobius/.venv/lib/python3.8/site-packages/torch/utils/data/dataloader.py\u001b[0m in \u001b[0;36m_get_data\u001b[0;34m(self)\u001b[0m\n\u001b[1;32m   1147\u001b[0m             \u001b[0;32mwhile\u001b[0m \u001b[0;32mTrue\u001b[0m\u001b[0;34m:\u001b[0m\u001b[0;34m\u001b[0m\u001b[0;34m\u001b[0m\u001b[0m\n\u001b[0;32m-> 1148\u001b[0;31m                 \u001b[0msuccess\u001b[0m\u001b[0;34m,\u001b[0m \u001b[0mdata\u001b[0m \u001b[0;34m=\u001b[0m \u001b[0mself\u001b[0m\u001b[0;34m.\u001b[0m\u001b[0m_try_get_data\u001b[0m\u001b[0;34m(\u001b[0m\u001b[0;34m)\u001b[0m\u001b[0;34m\u001b[0m\u001b[0;34m\u001b[0m\u001b[0m\n\u001b[0m\u001b[1;32m   1149\u001b[0m                 \u001b[0;32mif\u001b[0m \u001b[0msuccess\u001b[0m\u001b[0;34m:\u001b[0m\u001b[0;34m\u001b[0m\u001b[0;34m\u001b[0m\u001b[0m\n",
      "\u001b[0;32m~/mobius/.venv/lib/python3.8/site-packages/torch/utils/data/dataloader.py\u001b[0m in \u001b[0;36m_try_get_data\u001b[0;34m(self, timeout)\u001b[0m\n\u001b[1;32m    985\u001b[0m         \u001b[0;32mtry\u001b[0m\u001b[0;34m:\u001b[0m\u001b[0;34m\u001b[0m\u001b[0;34m\u001b[0m\u001b[0m\n\u001b[0;32m--> 986\u001b[0;31m             \u001b[0mdata\u001b[0m \u001b[0;34m=\u001b[0m \u001b[0mself\u001b[0m\u001b[0;34m.\u001b[0m\u001b[0m_data_queue\u001b[0m\u001b[0;34m.\u001b[0m\u001b[0mget\u001b[0m\u001b[0;34m(\u001b[0m\u001b[0mtimeout\u001b[0m\u001b[0;34m=\u001b[0m\u001b[0mtimeout\u001b[0m\u001b[0;34m)\u001b[0m\u001b[0;34m\u001b[0m\u001b[0;34m\u001b[0m\u001b[0m\n\u001b[0m\u001b[1;32m    987\u001b[0m             \u001b[0;32mreturn\u001b[0m \u001b[0;34m(\u001b[0m\u001b[0;32mTrue\u001b[0m\u001b[0;34m,\u001b[0m \u001b[0mdata\u001b[0m\u001b[0;34m)\u001b[0m\u001b[0;34m\u001b[0m\u001b[0;34m\u001b[0m\u001b[0m\n",
      "\u001b[0;32m/usr/local/anaconda3/envs/py38/lib/python3.8/multiprocessing/queues.py\u001b[0m in \u001b[0;36mget\u001b[0;34m(self, block, timeout)\u001b[0m\n\u001b[1;32m    106\u001b[0m                     \u001b[0mtimeout\u001b[0m \u001b[0;34m=\u001b[0m \u001b[0mdeadline\u001b[0m \u001b[0;34m-\u001b[0m \u001b[0mtime\u001b[0m\u001b[0;34m.\u001b[0m\u001b[0mmonotonic\u001b[0m\u001b[0;34m(\u001b[0m\u001b[0;34m)\u001b[0m\u001b[0;34m\u001b[0m\u001b[0;34m\u001b[0m\u001b[0m\n\u001b[0;32m--> 107\u001b[0;31m                     \u001b[0;32mif\u001b[0m \u001b[0;32mnot\u001b[0m \u001b[0mself\u001b[0m\u001b[0;34m.\u001b[0m\u001b[0m_poll\u001b[0m\u001b[0;34m(\u001b[0m\u001b[0mtimeout\u001b[0m\u001b[0;34m)\u001b[0m\u001b[0;34m:\u001b[0m\u001b[0;34m\u001b[0m\u001b[0;34m\u001b[0m\u001b[0m\n\u001b[0m\u001b[1;32m    108\u001b[0m                         \u001b[0;32mraise\u001b[0m \u001b[0mEmpty\u001b[0m\u001b[0;34m\u001b[0m\u001b[0;34m\u001b[0m\u001b[0m\n",
      "\u001b[0;32m/usr/local/anaconda3/envs/py38/lib/python3.8/multiprocessing/connection.py\u001b[0m in \u001b[0;36mpoll\u001b[0;34m(self, timeout)\u001b[0m\n\u001b[1;32m    256\u001b[0m         \u001b[0mself\u001b[0m\u001b[0;34m.\u001b[0m\u001b[0m_check_readable\u001b[0m\u001b[0;34m(\u001b[0m\u001b[0;34m)\u001b[0m\u001b[0;34m\u001b[0m\u001b[0;34m\u001b[0m\u001b[0m\n\u001b[0;32m--> 257\u001b[0;31m         \u001b[0;32mreturn\u001b[0m \u001b[0mself\u001b[0m\u001b[0;34m.\u001b[0m\u001b[0m_poll\u001b[0m\u001b[0;34m(\u001b[0m\u001b[0mtimeout\u001b[0m\u001b[0;34m)\u001b[0m\u001b[0;34m\u001b[0m\u001b[0;34m\u001b[0m\u001b[0m\n\u001b[0m\u001b[1;32m    258\u001b[0m \u001b[0;34m\u001b[0m\u001b[0m\n",
      "\u001b[0;32m/usr/local/anaconda3/envs/py38/lib/python3.8/multiprocessing/connection.py\u001b[0m in \u001b[0;36m_poll\u001b[0;34m(self, timeout)\u001b[0m\n\u001b[1;32m    423\u001b[0m     \u001b[0;32mdef\u001b[0m \u001b[0m_poll\u001b[0m\u001b[0;34m(\u001b[0m\u001b[0mself\u001b[0m\u001b[0;34m,\u001b[0m \u001b[0mtimeout\u001b[0m\u001b[0;34m)\u001b[0m\u001b[0;34m:\u001b[0m\u001b[0;34m\u001b[0m\u001b[0;34m\u001b[0m\u001b[0m\n\u001b[0;32m--> 424\u001b[0;31m         \u001b[0mr\u001b[0m \u001b[0;34m=\u001b[0m \u001b[0mwait\u001b[0m\u001b[0;34m(\u001b[0m\u001b[0;34m[\u001b[0m\u001b[0mself\u001b[0m\u001b[0;34m]\u001b[0m\u001b[0;34m,\u001b[0m \u001b[0mtimeout\u001b[0m\u001b[0;34m)\u001b[0m\u001b[0;34m\u001b[0m\u001b[0;34m\u001b[0m\u001b[0m\n\u001b[0m\u001b[1;32m    425\u001b[0m         \u001b[0;32mreturn\u001b[0m \u001b[0mbool\u001b[0m\u001b[0;34m(\u001b[0m\u001b[0mr\u001b[0m\u001b[0;34m)\u001b[0m\u001b[0;34m\u001b[0m\u001b[0;34m\u001b[0m\u001b[0m\n",
      "\u001b[0;32m/usr/local/anaconda3/envs/py38/lib/python3.8/multiprocessing/connection.py\u001b[0m in \u001b[0;36mwait\u001b[0;34m(object_list, timeout)\u001b[0m\n\u001b[1;32m    930\u001b[0m             \u001b[0;32mwhile\u001b[0m \u001b[0;32mTrue\u001b[0m\u001b[0;34m:\u001b[0m\u001b[0;34m\u001b[0m\u001b[0;34m\u001b[0m\u001b[0m\n\u001b[0;32m--> 931\u001b[0;31m                 \u001b[0mready\u001b[0m \u001b[0;34m=\u001b[0m \u001b[0mselector\u001b[0m\u001b[0;34m.\u001b[0m\u001b[0mselect\u001b[0m\u001b[0;34m(\u001b[0m\u001b[0mtimeout\u001b[0m\u001b[0;34m)\u001b[0m\u001b[0;34m\u001b[0m\u001b[0;34m\u001b[0m\u001b[0m\n\u001b[0m\u001b[1;32m    932\u001b[0m                 \u001b[0;32mif\u001b[0m \u001b[0mready\u001b[0m\u001b[0;34m:\u001b[0m\u001b[0;34m\u001b[0m\u001b[0;34m\u001b[0m\u001b[0m\n",
      "\u001b[0;32m/usr/local/anaconda3/envs/py38/lib/python3.8/selectors.py\u001b[0m in \u001b[0;36mselect\u001b[0;34m(self, timeout)\u001b[0m\n\u001b[1;32m    414\u001b[0m         \u001b[0;32mtry\u001b[0m\u001b[0;34m:\u001b[0m\u001b[0;34m\u001b[0m\u001b[0;34m\u001b[0m\u001b[0m\n\u001b[0;32m--> 415\u001b[0;31m             \u001b[0mfd_event_list\u001b[0m \u001b[0;34m=\u001b[0m \u001b[0mself\u001b[0m\u001b[0;34m.\u001b[0m\u001b[0m_selector\u001b[0m\u001b[0;34m.\u001b[0m\u001b[0mpoll\u001b[0m\u001b[0;34m(\u001b[0m\u001b[0mtimeout\u001b[0m\u001b[0;34m)\u001b[0m\u001b[0;34m\u001b[0m\u001b[0;34m\u001b[0m\u001b[0m\n\u001b[0m\u001b[1;32m    416\u001b[0m         \u001b[0;32mexcept\u001b[0m \u001b[0mInterruptedError\u001b[0m\u001b[0;34m:\u001b[0m\u001b[0;34m\u001b[0m\u001b[0;34m\u001b[0m\u001b[0m\n",
      "\u001b[0;31mKeyboardInterrupt\u001b[0m: ",
      "\nDuring handling of the above exception, another exception occurred:\n",
      "\u001b[0;31mAttributeError\u001b[0m                            Traceback (most recent call last)",
      "\u001b[0;32m~/mobius/.venv/lib/python3.8/site-packages/IPython/core/interactiveshell.py\u001b[0m in \u001b[0;36mshowtraceback\u001b[0;34m(self, exc_tuple, filename, tb_offset, exception_only, running_compiled_code)\u001b[0m\n\u001b[1;32m   2060\u001b[0m                         \u001b[0;31m# in the engines. This should return a list of strings.\u001b[0m\u001b[0;34m\u001b[0m\u001b[0;34m\u001b[0m\u001b[0;34m\u001b[0m\u001b[0m\n\u001b[0;32m-> 2061\u001b[0;31m                         \u001b[0mstb\u001b[0m \u001b[0;34m=\u001b[0m \u001b[0mvalue\u001b[0m\u001b[0;34m.\u001b[0m\u001b[0m_render_traceback_\u001b[0m\u001b[0;34m(\u001b[0m\u001b[0;34m)\u001b[0m\u001b[0;34m\u001b[0m\u001b[0;34m\u001b[0m\u001b[0m\n\u001b[0m\u001b[1;32m   2062\u001b[0m                     \u001b[0;32mexcept\u001b[0m \u001b[0mException\u001b[0m\u001b[0;34m:\u001b[0m\u001b[0;34m\u001b[0m\u001b[0;34m\u001b[0m\u001b[0m\n",
      "\u001b[0;31mAttributeError\u001b[0m: 'KeyboardInterrupt' object has no attribute '_render_traceback_'",
      "\nDuring handling of the above exception, another exception occurred:\n",
      "\u001b[0;31mTypeError\u001b[0m                                 Traceback (most recent call last)",
      "    \u001b[0;31m[... skipping hidden 1 frame]\u001b[0m\n",
      "\u001b[0;32m~/mobius/.venv/lib/python3.8/site-packages/IPython/core/interactiveshell.py\u001b[0m in \u001b[0;36mshowtraceback\u001b[0;34m(self, exc_tuple, filename, tb_offset, exception_only, running_compiled_code)\u001b[0m\n\u001b[1;32m   2061\u001b[0m                         \u001b[0mstb\u001b[0m \u001b[0;34m=\u001b[0m \u001b[0mvalue\u001b[0m\u001b[0;34m.\u001b[0m\u001b[0m_render_traceback_\u001b[0m\u001b[0;34m(\u001b[0m\u001b[0;34m)\u001b[0m\u001b[0;34m\u001b[0m\u001b[0;34m\u001b[0m\u001b[0m\n\u001b[1;32m   2062\u001b[0m                     \u001b[0;32mexcept\u001b[0m \u001b[0mException\u001b[0m\u001b[0;34m:\u001b[0m\u001b[0;34m\u001b[0m\u001b[0;34m\u001b[0m\u001b[0m\n\u001b[0;32m-> 2063\u001b[0;31m                         stb = self.InteractiveTB.structured_traceback(etype,\n\u001b[0m\u001b[1;32m   2064\u001b[0m                                             value, tb, tb_offset=tb_offset)\n\u001b[1;32m   2065\u001b[0m \u001b[0;34m\u001b[0m\u001b[0m\n",
      "\u001b[0;32m~/mobius/.venv/lib/python3.8/site-packages/IPython/core/ultratb.py\u001b[0m in \u001b[0;36mstructured_traceback\u001b[0;34m(self, etype, value, tb, tb_offset, number_of_lines_of_context)\u001b[0m\n\u001b[1;32m   1365\u001b[0m         \u001b[0;32melse\u001b[0m\u001b[0;34m:\u001b[0m\u001b[0;34m\u001b[0m\u001b[0;34m\u001b[0m\u001b[0m\n\u001b[1;32m   1366\u001b[0m             \u001b[0mself\u001b[0m\u001b[0;34m.\u001b[0m\u001b[0mtb\u001b[0m \u001b[0;34m=\u001b[0m \u001b[0mtb\u001b[0m\u001b[0;34m\u001b[0m\u001b[0;34m\u001b[0m\u001b[0m\n\u001b[0;32m-> 1367\u001b[0;31m         return FormattedTB.structured_traceback(\n\u001b[0m\u001b[1;32m   1368\u001b[0m             self, etype, value, tb, tb_offset, number_of_lines_of_context)\n\u001b[1;32m   1369\u001b[0m \u001b[0;34m\u001b[0m\u001b[0m\n",
      "\u001b[0;32m~/mobius/.venv/lib/python3.8/site-packages/IPython/core/ultratb.py\u001b[0m in \u001b[0;36mstructured_traceback\u001b[0;34m(self, etype, value, tb, tb_offset, number_of_lines_of_context)\u001b[0m\n\u001b[1;32m   1265\u001b[0m         \u001b[0;32mif\u001b[0m \u001b[0mmode\u001b[0m \u001b[0;32min\u001b[0m \u001b[0mself\u001b[0m\u001b[0;34m.\u001b[0m\u001b[0mverbose_modes\u001b[0m\u001b[0;34m:\u001b[0m\u001b[0;34m\u001b[0m\u001b[0;34m\u001b[0m\u001b[0m\n\u001b[1;32m   1266\u001b[0m             \u001b[0;31m# Verbose modes need a full traceback\u001b[0m\u001b[0;34m\u001b[0m\u001b[0;34m\u001b[0m\u001b[0;34m\u001b[0m\u001b[0m\n\u001b[0;32m-> 1267\u001b[0;31m             return VerboseTB.structured_traceback(\n\u001b[0m\u001b[1;32m   1268\u001b[0m                 \u001b[0mself\u001b[0m\u001b[0;34m,\u001b[0m \u001b[0metype\u001b[0m\u001b[0;34m,\u001b[0m \u001b[0mvalue\u001b[0m\u001b[0;34m,\u001b[0m \u001b[0mtb\u001b[0m\u001b[0;34m,\u001b[0m \u001b[0mtb_offset\u001b[0m\u001b[0;34m,\u001b[0m \u001b[0mnumber_of_lines_of_context\u001b[0m\u001b[0;34m\u001b[0m\u001b[0;34m\u001b[0m\u001b[0m\n\u001b[1;32m   1269\u001b[0m             )\n",
      "\u001b[0;32m~/mobius/.venv/lib/python3.8/site-packages/IPython/core/ultratb.py\u001b[0m in \u001b[0;36mstructured_traceback\u001b[0;34m(self, etype, evalue, etb, tb_offset, number_of_lines_of_context)\u001b[0m\n\u001b[1;32m   1122\u001b[0m         \u001b[0;34m\"\"\"Return a nice text document describing the traceback.\"\"\"\u001b[0m\u001b[0;34m\u001b[0m\u001b[0;34m\u001b[0m\u001b[0m\n\u001b[1;32m   1123\u001b[0m \u001b[0;34m\u001b[0m\u001b[0m\n\u001b[0;32m-> 1124\u001b[0;31m         formatted_exception = self.format_exception_as_a_whole(etype, evalue, etb, number_of_lines_of_context,\n\u001b[0m\u001b[1;32m   1125\u001b[0m                                                                tb_offset)\n\u001b[1;32m   1126\u001b[0m \u001b[0;34m\u001b[0m\u001b[0m\n",
      "\u001b[0;32m~/mobius/.venv/lib/python3.8/site-packages/IPython/core/ultratb.py\u001b[0m in \u001b[0;36mformat_exception_as_a_whole\u001b[0;34m(self, etype, evalue, etb, number_of_lines_of_context, tb_offset)\u001b[0m\n\u001b[1;32m   1080\u001b[0m \u001b[0;34m\u001b[0m\u001b[0m\n\u001b[1;32m   1081\u001b[0m \u001b[0;34m\u001b[0m\u001b[0m\n\u001b[0;32m-> 1082\u001b[0;31m         \u001b[0mlast_unique\u001b[0m\u001b[0;34m,\u001b[0m \u001b[0mrecursion_repeat\u001b[0m \u001b[0;34m=\u001b[0m \u001b[0mfind_recursion\u001b[0m\u001b[0;34m(\u001b[0m\u001b[0morig_etype\u001b[0m\u001b[0;34m,\u001b[0m \u001b[0mevalue\u001b[0m\u001b[0;34m,\u001b[0m \u001b[0mrecords\u001b[0m\u001b[0;34m)\u001b[0m\u001b[0;34m\u001b[0m\u001b[0;34m\u001b[0m\u001b[0m\n\u001b[0m\u001b[1;32m   1083\u001b[0m \u001b[0;34m\u001b[0m\u001b[0m\n\u001b[1;32m   1084\u001b[0m         \u001b[0mframes\u001b[0m \u001b[0;34m=\u001b[0m \u001b[0mself\u001b[0m\u001b[0;34m.\u001b[0m\u001b[0mformat_records\u001b[0m\u001b[0;34m(\u001b[0m\u001b[0mrecords\u001b[0m\u001b[0;34m,\u001b[0m \u001b[0mlast_unique\u001b[0m\u001b[0;34m,\u001b[0m \u001b[0mrecursion_repeat\u001b[0m\u001b[0;34m)\u001b[0m\u001b[0;34m\u001b[0m\u001b[0;34m\u001b[0m\u001b[0m\n",
      "\u001b[0;32m~/mobius/.venv/lib/python3.8/site-packages/IPython/core/ultratb.py\u001b[0m in \u001b[0;36mfind_recursion\u001b[0;34m(etype, value, records)\u001b[0m\n\u001b[1;32m    380\u001b[0m     \u001b[0;31m# first frame (from in to out) that looks different.\u001b[0m\u001b[0;34m\u001b[0m\u001b[0;34m\u001b[0m\u001b[0;34m\u001b[0m\u001b[0m\n\u001b[1;32m    381\u001b[0m     \u001b[0;32mif\u001b[0m \u001b[0;32mnot\u001b[0m \u001b[0mis_recursion_error\u001b[0m\u001b[0;34m(\u001b[0m\u001b[0metype\u001b[0m\u001b[0;34m,\u001b[0m \u001b[0mvalue\u001b[0m\u001b[0;34m,\u001b[0m \u001b[0mrecords\u001b[0m\u001b[0;34m)\u001b[0m\u001b[0;34m:\u001b[0m\u001b[0;34m\u001b[0m\u001b[0;34m\u001b[0m\u001b[0m\n\u001b[0;32m--> 382\u001b[0;31m         \u001b[0;32mreturn\u001b[0m \u001b[0mlen\u001b[0m\u001b[0;34m(\u001b[0m\u001b[0mrecords\u001b[0m\u001b[0;34m)\u001b[0m\u001b[0;34m,\u001b[0m \u001b[0;36m0\u001b[0m\u001b[0;34m\u001b[0m\u001b[0;34m\u001b[0m\u001b[0m\n\u001b[0m\u001b[1;32m    383\u001b[0m \u001b[0;34m\u001b[0m\u001b[0m\n\u001b[1;32m    384\u001b[0m     \u001b[0;31m# Select filename, lineno, func_name to track frames with\u001b[0m\u001b[0;34m\u001b[0m\u001b[0;34m\u001b[0m\u001b[0;34m\u001b[0m\u001b[0m\n",
      "\u001b[0;31mTypeError\u001b[0m: object of type 'NoneType' has no len()"
     ]
    },
    {
     "data": {
      "text/plain": [
       "<Figure size 432x288 with 0 Axes>"
      ]
     },
     "metadata": {},
     "output_type": "display_data"
    },
    {
     "data": {
      "image/png": "[encoded data removed]",
      "text/plain": [
       "<Figure size 432x432 with 1 Axes>"
      ]
     },
     "metadata": {
      "needs_background": "light"
     },
     "output_type": "display_data"
    }
   ],
   "source": [
    "siamese_learner.unfreeze()\n",
    "siamese_learner.fit(n_epoch=3, lr=10e-4)"
   ]
  },
  {
   "cell_type": "code",
   "execution_count": null,
   "id": "gross-affiliation",
   "metadata": {},
   "outputs": [],
   "source": [
    "tsne = np.load(\"tsne_1625777058_0.npy\")"
   ]
  },
  {
   "cell_type": "code",
   "execution_count": null,
   "id": "empirical-stationery",
   "metadata": {},
   "outputs": [],
   "source": [
    "xs = tsne[:, 0]\n",
    "ys = tsne[:, 1]\n",
    "zs = tsne[:, 2]"
   ]
  },
  {
   "cell_type": "code",
   "execution_count": null,
   "id": "verified-version",
   "metadata": {},
   "outputs": [],
   "source": [
    "import re, seaborn as sns, numpy as np, pandas as pd, random\n",
    "from pylab import *\n",
    "from matplotlib.pyplot import plot, show, draw, figure, cm\n",
    "import matplotlib.pyplot as plt\n",
    "from mpl_toolkits.mplot3d import Axes3D\n",
    "\n",
    "fig = plt.figure(figsize=(6,6))\n",
    "ax = Axes3D(fig) # Method 1\n",
    "ax.scatter(xs, ys, zs, marker='o')\n",
    "ax.set_xlabel('X')\n",
    "ax.set_ylabel('Y')\n",
    "ax.set_zlabel('Z')\n",
    "\n",
    "plt.savefig(\"blar\")\n",
    "\n",
    "# # rotate the axes and update\n",
    "# for angle in range(0, 360):\n",
    "#     ax.view_init(30, angle)\n",
    "#     plt.draw()\n",
    "#     plt.pause(.001)\n",
    "#     plt.show()"
   ]
  },
  {
   "cell_type": "code",
   "execution_count": null,
   "id": "typical-import",
   "metadata": {},
   "outputs": [],
   "source": [
    "# TODO: inspect margin, using log space grid search - .01, .1, .5, .75, 1., 10., 50. - hypothesis is that the margin is too low and space is collapsging\n",
    "# TODO: inspect the LR manually - smaller learning rates - maybe fix learning rate across grid search; maybe use lr_min / 2 ?"
   ]
  },
  {
   "cell_type": "code",
   "execution_count": null,
   "id": "proper-deviation",
   "metadata": {},
   "outputs": [],
   "source": [
    "siamese_learner.save(\"snn_margin_20\")"
   ]
  }
 ],
 "metadata": {
  "kernelspec": {
   "display_name": "mobius (venv)",
   "language": "python",
   "name": "mobius"
  },
  "language_info": {
   "codemirror_mode": {
    "name": "ipython",
    "version": 3
   },
   "file_extension": ".py",
   "mimetype": "text/x-python",
   "name": "python",
   "nbconvert_exporter": "python",
   "pygments_lexer": "ipython3",
   "version": "3.8.5"
  }
 },
 "nbformat": 4,
 "nbformat_minor": 5
}
