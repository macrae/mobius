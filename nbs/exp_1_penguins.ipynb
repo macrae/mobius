{
 "cells": [
  {
   "cell_type": "markdown",
   "id": "confidential-dominant",
   "metadata": {},
   "source": [
    "## Siamese Neural Networks \n",
    "### for Supervised Clustering of High Dimensional Spaces"
   ]
  },
  {
   "cell_type": "code",
   "execution_count": 1,
   "id": "steady-input",
   "metadata": {},
   "outputs": [
    {
     "name": "stdout",
     "output_type": "stream",
     "text": [
      "Python 3.8.5\n",
      "/Users/seanmacrae/mobius/.venv/bin/python\n"
     ]
    }
   ],
   "source": [
    "!python -V\n",
    "!which python"
   ]
  },
  {
   "cell_type": "markdown",
   "id": "51237fd3-9f70-4599-b63f-6e9681790a80",
   "metadata": {},
   "source": [
    "Load one of the simplest datasets possible; penguins!"
   ]
  },
  {
   "cell_type": "code",
   "execution_count": 2,
   "id": "asian-mystery",
   "metadata": {},
   "outputs": [
    {
     "name": "stdout",
     "output_type": "stream",
     "text": [
      "(344, 8)\n"
     ]
    },
    {
     "data": {
      "text/html": [
       "<div>\n",
       "<style scoped>\n",
       "    .dataframe tbody tr th:only-of-type {\n",
       "        vertical-align: middle;\n",
       "    }\n",
       "\n",
       "    .dataframe tbody tr th {\n",
       "        vertical-align: top;\n",
       "    }\n",
       "\n",
       "    .dataframe thead th {\n",
       "        text-align: right;\n",
       "    }\n",
       "</style>\n",
       "<table border=\"1\" class=\"dataframe\">\n",
       "  <thead>\n",
       "    <tr style=\"text-align: right;\">\n",
       "      <th></th>\n",
       "      <th>island</th>\n",
       "      <th>bill_length_mm</th>\n",
       "      <th>bill_depth_mm</th>\n",
       "      <th>flipper_length_mm</th>\n",
       "      <th>body_mass_g</th>\n",
       "      <th>sex</th>\n",
       "      <th>year</th>\n",
       "      <th>label</th>\n",
       "    </tr>\n",
       "  </thead>\n",
       "  <tbody>\n",
       "    <tr>\n",
       "      <th>0</th>\n",
       "      <td>Torgersen</td>\n",
       "      <td>39.1</td>\n",
       "      <td>18.7</td>\n",
       "      <td>181.0</td>\n",
       "      <td>3750.0</td>\n",
       "      <td>male</td>\n",
       "      <td>2007</td>\n",
       "      <td>Adelie</td>\n",
       "    </tr>\n",
       "    <tr>\n",
       "      <th>1</th>\n",
       "      <td>Torgersen</td>\n",
       "      <td>39.5</td>\n",
       "      <td>17.4</td>\n",
       "      <td>186.0</td>\n",
       "      <td>3800.0</td>\n",
       "      <td>female</td>\n",
       "      <td>2007</td>\n",
       "      <td>Adelie</td>\n",
       "    </tr>\n",
       "    <tr>\n",
       "      <th>2</th>\n",
       "      <td>Torgersen</td>\n",
       "      <td>40.3</td>\n",
       "      <td>18.0</td>\n",
       "      <td>195.0</td>\n",
       "      <td>3250.0</td>\n",
       "      <td>female</td>\n",
       "      <td>2007</td>\n",
       "      <td>Adelie</td>\n",
       "    </tr>\n",
       "    <tr>\n",
       "      <th>3</th>\n",
       "      <td>Torgersen</td>\n",
       "      <td>NaN</td>\n",
       "      <td>NaN</td>\n",
       "      <td>NaN</td>\n",
       "      <td>NaN</td>\n",
       "      <td>NaN</td>\n",
       "      <td>2007</td>\n",
       "      <td>Adelie</td>\n",
       "    </tr>\n",
       "    <tr>\n",
       "      <th>4</th>\n",
       "      <td>Torgersen</td>\n",
       "      <td>36.7</td>\n",
       "      <td>19.3</td>\n",
       "      <td>193.0</td>\n",
       "      <td>3450.0</td>\n",
       "      <td>female</td>\n",
       "      <td>2007</td>\n",
       "      <td>Adelie</td>\n",
       "    </tr>\n",
       "  </tbody>\n",
       "</table>\n",
       "</div>"
      ],
      "text/plain": [
       "      island  bill_length_mm  bill_depth_mm  flipper_length_mm  body_mass_g  \\\n",
       "0  Torgersen            39.1           18.7              181.0       3750.0   \n",
       "1  Torgersen            39.5           17.4              186.0       3800.0   \n",
       "2  Torgersen            40.3           18.0              195.0       3250.0   \n",
       "3  Torgersen             NaN            NaN                NaN          NaN   \n",
       "4  Torgersen            36.7           19.3              193.0       3450.0   \n",
       "\n",
       "      sex  year   label  \n",
       "0    male  2007  Adelie  \n",
       "1  female  2007  Adelie  \n",
       "2  female  2007  Adelie  \n",
       "3     NaN  2007  Adelie  \n",
       "4  female  2007  Adelie  "
      ]
     },
     "execution_count": 2,
     "metadata": {},
     "output_type": "execute_result"
    }
   ],
   "source": [
    "import pandas as pd\n",
    "from palmerpenguins import load_penguins\n",
    "\n",
    "df = load_penguins()\n",
    "df[\"label\"] = df[\"species\"]\n",
    "df.drop(\"species\", axis=1, inplace=True)\n",
    "\n",
    "print(df.shape)\n",
    "df.head()"
   ]
  },
  {
   "cell_type": "code",
   "execution_count": 5,
   "id": "150bc0d6-2c60-48c3-9d7b-b80f05ee56a5",
   "metadata": {},
   "outputs": [
    {
     "data": {
      "text/plain": [
       "Adelie       152\n",
       "Gentoo       124\n",
       "Chinstrap     68\n",
       "Name: label, dtype: int64"
      ]
     },
     "execution_count": 5,
     "metadata": {},
     "output_type": "execute_result"
    }
   ],
   "source": [
    "df[\"label\"].value_counts()"
   ]
  },
  {
   "cell_type": "markdown",
   "id": "84d092fe-da8e-41c3-b34a-e863bce77b78",
   "metadata": {},
   "source": [
    "The penguins dataset has 344 observations across 8 features. The label of interest is the `species` of penguin, called `label`."
   ]
  },
  {
   "cell_type": "markdown",
   "id": "modified-requirement",
   "metadata": {},
   "source": [
    "## Tabular Learner\n",
    "\n",
    "The Tabular Siamese Network uses the fastai `TabularModel` model definition to start with. I first instantiate a new `TabularModel` but I don't fit it. Once the model is fully defined, I removed the head (linear `BinaryCrossEntropy` output) and repurpose the body as the Siamese encoder. By using the `ContrastiveLoss` function defined in `mobius` with the `TabularModel` body, I create a metric learner that discriminates between classes by learning an embedding space that maps similar classes to similar regions in the learned space."
   ]
  },
  {
   "cell_type": "markdown",
   "id": "d125e5fc-f42d-4f55-86fd-e2192f545242",
   "metadata": {},
   "source": [
    "### Create Dataloaders\n",
    "\n",
    "Defining a fastai `TabularModel` requires a `DataLoader`, which I create below."
   ]
  },
  {
   "cell_type": "code",
   "execution_count": 6,
   "id": "blessed-mediterranean",
   "metadata": {},
   "outputs": [],
   "source": [
    "from fastai.tabular.all import CategoryBlock\n",
    "                                \n",
    "y_names = [\"label\"]\n",
    "y_block = CategoryBlock()"
   ]
  },
  {
   "cell_type": "code",
   "execution_count": 7,
   "id": "demonstrated-carolina",
   "metadata": {},
   "outputs": [],
   "source": [
    "exclude_vars = [\"label\"]"
   ]
  },
  {
   "cell_type": "code",
   "execution_count": 8,
   "id": "vital-recommendation",
   "metadata": {},
   "outputs": [
    {
     "data": {
      "text/plain": [
       "{'island': 3, 'sex': 3}"
      ]
     },
     "execution_count": 8,
     "metadata": {},
     "output_type": "execute_result"
    }
   ],
   "source": [
    "from mobius.utils import emb_sz_rule\n",
    "\n",
    "cat_names = [x for x in df.select_dtypes(exclude=['int', 'float']).columns if x != y_names]\n",
    "cat_names = [x for x in cat_names if x not in exclude_vars]\n",
    "\n",
    "# calc embedding sizes for each categorical feature\n",
    "emb_szs = {k: emb_sz_rule(len(df[k].unique())) for k in cat_names}\n",
    "emb_szs"
   ]
  },
  {
   "cell_type": "code",
   "execution_count": 9,
   "id": "editorial-treasury",
   "metadata": {},
   "outputs": [
    {
     "data": {
      "text/plain": [
       "['bill_length_mm', 'bill_depth_mm', 'flipper_length_mm', 'body_mass_g', 'year']"
      ]
     },
     "execution_count": 9,
     "metadata": {},
     "output_type": "execute_result"
    }
   ],
   "source": [
    "import numpy as np\n",
    "\n",
    "cont_names = [x for x in df.select_dtypes([np.number]).columns if x != y_names]\n",
    "cont_names = [x for x in cont_names if x not in exclude_vars]\n",
    "cont_names"
   ]
  },
  {
   "cell_type": "markdown",
   "id": "f88a8c6b-2366-447d-9199-3dc237585ecd",
   "metadata": {},
   "source": [
    "Define pre-processing steps of the data loaders."
   ]
  },
  {
   "cell_type": "code",
   "execution_count": 10,
   "id": "prescription-retailer",
   "metadata": {},
   "outputs": [],
   "source": [
    "from fastai.data.core import range_of\n",
    "from fastai.tabular.all import RandomSplitter\n",
    "from fastai.tabular.all import (Categorify, CategoryBlock, FillMissing, FillStrategy,\n",
    "                                Normalize, TabDataLoader, TabularPandas,\n",
    "                                tabular_config, tabular_learner)\n",
    "\n",
    "# pre-processing\n",
    "procs = [FillMissing, Categorify, Normalize]\n",
    "\n",
    "# train/test split\n",
    "splits = RandomSplitter(valid_pct=0.10)(range_of(df))"
   ]
  },
  {
   "cell_type": "code",
   "execution_count": 11,
   "id": "plain-allowance",
   "metadata": {},
   "outputs": [],
   "source": [
    "tabular_pandas = TabularPandas(\n",
    "        df,\n",
    "        procs=procs,\n",
    "        cat_names=cat_names,\n",
    "        cont_names=cont_names,\n",
    "        y_names=y_names,\n",
    "        y_block=y_block,\n",
    "        splits=splits,\n",
    "        device=\"cpu\")"
   ]
  },
  {
   "cell_type": "code",
   "execution_count": 12,
   "id": "certified-truth",
   "metadata": {},
   "outputs": [],
   "source": [
    "trn_dl = TabDataLoader(\n",
    "    tabular_pandas.train,\n",
    "    bs=8,\n",
    "    shuffle=True,\n",
    "    drop_last=True,\n",
    "    num_workers=1)\n",
    "\n",
    "val_dl = TabDataLoader(\n",
    "    tabular_pandas.valid,\n",
    "    bs=8,\n",
    "    num_workers=1)"
   ]
  },
  {
   "cell_type": "markdown",
   "id": "d2928973-8f56-4b0b-a52f-cd10cf582662",
   "metadata": {},
   "source": [
    "Let's take a look at a batch of penguins!"
   ]
  },
  {
   "cell_type": "code",
   "execution_count": 13,
   "id": "brazilian-mills",
   "metadata": {},
   "outputs": [
    {
     "name": "stdout",
     "output_type": "stream",
     "text": [
      "Sample batch:\n"
     ]
    },
    {
     "data": {
      "text/plain": [
       "(tensor([[3, 2, 1, 1, 1, 1],\n",
       "         [1, 0, 2, 2, 2, 2],\n",
       "         [1, 2, 1, 1, 1, 1],\n",
       "         [1, 1, 1, 1, 1, 1],\n",
       "         [3, 2, 1, 1, 1, 1],\n",
       "         [2, 1, 1, 1, 1, 1],\n",
       "         [2, 1, 1, 1, 1, 1],\n",
       "         [1, 2, 1, 1, 1, 1]]),\n",
       " tensor([[-1.7222,  1.9682, -0.1988,  0.2744, -1.2746],\n",
       "         [ 0.1622,  0.1512, -0.2703, -0.2293,  1.1872],\n",
       "         [ 1.3332, -1.5143,  1.2326,  1.4079,  1.1872],\n",
       "         [ 0.6379, -1.1105,  1.2326,  0.9671,  1.1872],\n",
       "         [-0.5330,  0.7064, -0.8429, -1.0794,  1.1872],\n",
       "         [ 0.2171, -0.3030, -0.6997, -1.1739,  1.1872],\n",
       "         [-1.3014,  0.7064, -0.8429, -0.8590, -0.0437],\n",
       "         [-0.5330,  0.9588, -0.9145, -0.1034, -0.0437]]),\n",
       " tensor([[0],\n",
       "         [2],\n",
       "         [2],\n",
       "         [2],\n",
       "         [0],\n",
       "         [1],\n",
       "         [0],\n",
       "         [0]], dtype=torch.int8))"
      ]
     },
     "execution_count": 13,
     "metadata": {},
     "output_type": "execute_result"
    }
   ],
   "source": [
    "from fastai.data.core import DataLoaders\n",
    "\n",
    "dls = DataLoaders(trn_dl, val_dl)\n",
    "\n",
    "print(\"Sample batch:\")\n",
    "dls.one_batch()"
   ]
  },
  {
   "cell_type": "markdown",
   "id": "73135bbf-d9a6-48cc-9e8e-245cfbc75ef6",
   "metadata": {},
   "source": [
    "The input is a 3-tuple containing a tensor of categorical features, continuous features, and label."
   ]
  },
  {
   "cell_type": "code",
   "execution_count": 14,
   "id": "sealed-grain",
   "metadata": {},
   "outputs": [],
   "source": [
    "from fastai.metrics import F1Score, Precision, Recall, accuracy\n",
    "\n",
    "# load the tabular_pandas data through the tabular_learner\n",
    "layers = [128, 32]\n",
    "\n",
    "# tabular learner configuration\n",
    "config = tabular_config(ps=[0.03, 0.03], embed_p=0.0)\n",
    "\n",
    "learn = tabular_learner(\n",
    "    dls,\n",
    "    layers=layers,\n",
    "    emb_szs=emb_szs,\n",
    "    config=config,\n",
    "    train_bn=False,\n",
    "    metrics=[accuracy,\n",
    "             Precision(average='macro'),\n",
    "             Recall(average='macro'),\n",
    "             F1Score(average='macro')])"
   ]
  },
  {
   "cell_type": "code",
   "execution_count": 15,
   "id": "classical-genome",
   "metadata": {},
   "outputs": [],
   "source": [
    "# learn.fit_one_cycle(n_epoch=3)"
   ]
  },
  {
   "cell_type": "code",
   "execution_count": 16,
   "id": "hydraulic-opera",
   "metadata": {},
   "outputs": [],
   "source": [
    "# learn.export(\"tabular_learn.pkl\")"
   ]
  },
  {
   "cell_type": "code",
   "execution_count": 17,
   "id": "virtual-ukraine",
   "metadata": {},
   "outputs": [],
   "source": [
    "# from mobius.calibration import ModelWithTemperature\n",
    "\n",
    "# scaled_model = ModelWithTemperature(learn.model)\n",
    "# scaled_model.set_temperature(val_dl)\n",
    "# learn.model = scaled_model.model"
   ]
  },
  {
   "cell_type": "code",
   "execution_count": 18,
   "id": "indoor-maintenance",
   "metadata": {},
   "outputs": [],
   "source": [
    "# # true species labels\n",
    "# y_true=learn.dls.valid.items[\"label\"]\n",
    "\n",
    "# # model scores and species predictions\n",
    "# y_scores, *_ = learn.get_preds(dl=val_dl)\n",
    "# preds = np.argmax(y_scores, 1).numpy()"
   ]
  },
  {
   "cell_type": "code",
   "execution_count": 19,
   "id": "surprised-clinton",
   "metadata": {},
   "outputs": [],
   "source": [
    "# print(\"First 20 investor labels and predictions\")\n",
    "# list(zip(y_true, preds))[:10]"
   ]
  },
  {
   "cell_type": "code",
   "execution_count": 20,
   "id": "developed-cowboy",
   "metadata": {},
   "outputs": [],
   "source": [
    "# (y_true == preds).sum() / len(y_true)"
   ]
  },
  {
   "cell_type": "markdown",
   "id": "caroline-tamil",
   "metadata": {},
   "source": [
    "## Siamese Net (a`la DrLIM)\n",
    "\n",
    "To init a new `TabularSiameseDataset` object, we only need a `tabular_pandas` object from the fast.ai library."
   ]
  },
  {
   "cell_type": "code",
   "execution_count": 21,
   "id": "dimensional-programming",
   "metadata": {},
   "outputs": [],
   "source": [
    "from mobius.datasets import write_jsonl\n",
    "\n",
    "# write SNN training data to `data/`\n",
    "write_jsonl(tabular_pandas.train.to.items[0].items, \"data/train_data.jsonl\")\n",
    "write_jsonl(tabular_pandas.valid.to.items[0].items, \"data/valid_data.jsonl\")\n",
    "\n",
    "# write SNN training labels to `data/`\n",
    "tabular_pandas.train.y.to_csv(\"data/train_labels.csv\", index=True)\n",
    "tabular_pandas.valid.y.to_csv(\"data/valid_labels.csv\", index=True)"
   ]
  },
  {
   "cell_type": "code",
   "execution_count": 22,
   "id": "unique-element",
   "metadata": {},
   "outputs": [],
   "source": [
    "from mobius.datasets import TabularSiameseDataset\n",
    "\n",
    "train_ds = TabularSiameseDataset(\n",
    "    csv_file=\"data/train_labels.csv\", \n",
    "    jsonl_file=\"data/train_data.jsonl\",\n",
    "    tabular_learner=learn)\n",
    "    \n",
    "valid_ds = TabularSiameseDataset(\n",
    "    csv_file=\"data/valid_labels.csv\", \n",
    "    jsonl_file=\"data/valid_data.jsonl\",\n",
    "    tabular_learner=learn)"
   ]
  },
  {
   "cell_type": "code",
   "execution_count": 23,
   "id": "healthy-microphone",
   "metadata": {},
   "outputs": [
    {
     "data": {
      "text/plain": [
       "(310,\n",
       " (((tensor([1, 2, 1, 1, 1, 1]),\n",
       "    tensor([-0.4415,  0.4036, -0.6282, -0.2923, -0.0437])),\n",
       "   (tensor([1, 2, 1, 1, 1, 1]),\n",
       "    tensor([-0.4964,  1.9682, -0.4135,  0.2744, -0.0437]))),\n",
       "  tensor(0.)))"
      ]
     },
     "execution_count": 23,
     "metadata": {},
     "output_type": "execute_result"
    }
   ],
   "source": [
    "train_ds.__len__(), train_ds.__getitem__(1)"
   ]
  },
  {
   "cell_type": "code",
   "execution_count": 24,
   "id": "unexpected-detection",
   "metadata": {},
   "outputs": [
    {
     "data": {
      "text/plain": [
       "(34,\n",
       " (((tensor([1, 1, 1, 1, 1, 1]),\n",
       "    tensor([-1.6490,  0.3531, -0.7713, -0.9220, -0.0437])),\n",
       "   (tensor([1, 1, 1, 1, 1, 1]),\n",
       "    tensor([-1.6490,  0.3531, -0.7713, -0.9220, -0.0437]))),\n",
       "  tensor(0.)))"
      ]
     },
     "execution_count": 24,
     "metadata": {},
     "output_type": "execute_result"
    }
   ],
   "source": [
    "valid_ds.__len__(), valid_ds.__getitem__(0)"
   ]
  },
  {
   "cell_type": "code",
   "execution_count": 25,
   "id": "patent-breach",
   "metadata": {},
   "outputs": [],
   "source": [
    "dls = DataLoaders.from_dsets(train_ds, \n",
    "                             valid_ds, \n",
    "                             bs=2, \n",
    "                             device='cpu', \n",
    "                             num_workers=2,\n",
    "                             drop_last=True)"
   ]
  },
  {
   "cell_type": "markdown",
   "id": "infinite-dylan",
   "metadata": {},
   "source": [
    "Siamese net encoder is the body of the Tabular net we just trained."
   ]
  },
  {
   "cell_type": "code",
   "execution_count": 26,
   "id": "tender-lemon",
   "metadata": {},
   "outputs": [
    {
     "data": {
      "text/plain": [
       "3"
      ]
     },
     "execution_count": 26,
     "metadata": {},
     "output_type": "execute_result"
    }
   ],
   "source": [
    "dls.dataset.c"
   ]
  },
  {
   "cell_type": "code",
   "execution_count": 27,
   "id": "transparent-floor",
   "metadata": {},
   "outputs": [],
   "source": [
    "import copy\n",
    "\n",
    "encoder = copy.copy(learn)\n",
    "encoder.model.layers = learn.model.layers[:-1]\n",
    "encoder_model = encoder.model"
   ]
  },
  {
   "cell_type": "code",
   "execution_count": 28,
   "id": "cloudy-drain",
   "metadata": {},
   "outputs": [],
   "source": [
    "from mobius.models import TabularSiameseModel\n",
    "\n",
    "model = TabularSiameseModel(encoder_model)"
   ]
  },
  {
   "cell_type": "code",
   "execution_count": 29,
   "id": "handy-father",
   "metadata": {},
   "outputs": [],
   "source": [
    "from fastai.torch_basics import params\n",
    "from mobius.losses import ContrastiveLoss\n",
    "\n",
    "def contrastive_loss_func(out, targ):\n",
    "    return ContrastiveLoss(margin=2.0)(out, targ.long())"
   ]
  },
  {
   "cell_type": "code",
   "execution_count": 30,
   "id": "incoming-thesaurus",
   "metadata": {},
   "outputs": [],
   "source": [
    "from fastai.learner import Learner\n",
    "from mobius.callbacks import TSNECallback\n",
    "from fastai.callback.tracker import SaveModelCallback\n",
    "from fastai.callback.training import ShortEpochCallback\n",
    "\n",
    "# TODO: add callback for best validation\n",
    "siamese_learner = Learner(dls,\n",
    "    model,\n",
    "    model_dir=\".\",\n",
    "    loss_func=contrastive_loss_func,\n",
    "    cbs=[TSNECallback])"
   ]
  },
  {
   "cell_type": "code",
   "execution_count": 31,
   "id": "changed-demonstration",
   "metadata": {},
   "outputs": [
    {
     "data": {
      "text/html": [],
      "text/plain": [
       "<IPython.core.display.HTML object>"
      ]
     },
     "metadata": {},
     "output_type": "display_data"
    },
    {
     "data": {
      "text/plain": [
       "TabularSiameseModel (Input shape: ['[\"[\\'2 x 6\\', \\'2 x 5\\']\", \"[\\'2 x 6\\', \\'2 x 5\\']\"]'])\n",
       "============================================================================\n",
       "Layer (type)         Output Shape         Param #    Trainable \n",
       "============================================================================\n",
       "                     2 x 3               \n",
       "Embedding                                 12         True      \n",
       "Embedding                                 9          True      \n",
       "Embedding                                 9          True      \n",
       "Embedding                                 9          True      \n",
       "Embedding                                 9          True      \n",
       "Embedding                                 9          True      \n",
       "Dropout                                                        \n",
       "BatchNorm1d                               10         True      \n",
       "BatchNorm1d                               46         True      \n",
       "Dropout                                                        \n",
       "____________________________________________________________________________\n",
       "                     2 x 128             \n",
       "Linear                                    2944       True      \n",
       "ReLU                                                           \n",
       "BatchNorm1d                               256        True      \n",
       "Dropout                                                        \n",
       "____________________________________________________________________________\n",
       "                     2 x 32              \n",
       "Linear                                    4096       True      \n",
       "ReLU                                                           \n",
       "____________________________________________________________________________\n",
       "\n",
       "Total params: 7,409\n",
       "Total trainable params: 7,409\n",
       "Total non-trainable params: 0\n",
       "\n",
       "Optimizer used: <function Adam at 0x7f99691d6670>\n",
       "Loss function: <function contrastive_loss_func at 0x7f99a8d0af70>\n",
       "\n",
       "Callbacks:\n",
       "  - TrainEvalCallback\n",
       "  - Recorder\n",
       "  - ProgressCallback\n",
       "  - TSNECallback"
      ]
     },
     "execution_count": 31,
     "metadata": {},
     "output_type": "execute_result"
    }
   ],
   "source": [
    "siamese_learner.summary()"
   ]
  },
  {
   "cell_type": "code",
   "execution_count": 33,
   "id": "11401b4f-b92b-41a6-848a-7a100d2b30d0",
   "metadata": {},
   "outputs": [
    {
     "data": {
      "text/html": [],
      "text/plain": [
       "<IPython.core.display.HTML object>"
      ]
     },
     "metadata": {},
     "output_type": "display_data"
    },
    {
     "data": {
      "text/plain": [
       "SuggestedLRs(lr_min=7.585775847473997e-08, lr_steep=1.0964781722577754e-06)"
      ]
     },
     "execution_count": 33,
     "metadata": {},
     "output_type": "execute_result"
    }
   ],
   "source": [
    "siamese_learner.lr_find()"
   ]
  },
  {
   "cell_type": "code",
   "execution_count": 35,
   "id": "hundred-clarity",
   "metadata": {},
   "outputs": [
    {
     "data": {
      "text/html": [
       "<table border=\"1\" class=\"dataframe\">\n",
       "  <thead>\n",
       "    <tr style=\"text-align: left;\">\n",
       "      <th>epoch</th>\n",
       "      <th>train_loss</th>\n",
       "      <th>valid_loss</th>\n",
       "      <th>time</th>\n",
       "    </tr>\n",
       "  </thead>\n",
       "  <tbody>\n",
       "    <tr>\n",
       "      <td>0</td>\n",
       "      <td>3.740033</td>\n",
       "      <td>2.504922</td>\n",
       "      <td>00:24</td>\n",
       "    </tr>\n",
       "    <tr>\n",
       "      <td>1</td>\n",
       "      <td>3.104853</td>\n",
       "      <td>1.775285</td>\n",
       "      <td>00:23</td>\n",
       "    </tr>\n",
       "    <tr>\n",
       "      <td>2</td>\n",
       "      <td>2.906327</td>\n",
       "      <td>1.921575</td>\n",
       "      <td>00:23</td>\n",
       "    </tr>\n",
       "  </tbody>\n",
       "</table>"
      ],
      "text/plain": [
       "<IPython.core.display.HTML object>"
      ]
     },
     "metadata": {},
     "output_type": "display_data"
    }
   ],
   "source": [
    "siamese_learner.fit(n_epoch=3, lr=6.309573450380412e-07)"
   ]
  },
  {
   "cell_type": "markdown",
   "id": "3e3172ae-476d-4bc6-807b-64345e75f055",
   "metadata": {},
   "source": [
    "## Siamese Net (w/ Binary CrossEntropy)"
   ]
  },
  {
   "cell_type": "code",
   "execution_count": 31,
   "id": "9cddc71e-5baa-4b2c-9bdc-a329cc90262d",
   "metadata": {},
   "outputs": [],
   "source": [
    "from fastai.layers import LinBnDrop\n",
    "\n",
    "head = LinBnDrop(n_in=layers[-1]*2,\n",
    "    n_out=16,  # size of output space\n",
    "    bn=True,\n",
    "    act=None)"
   ]
  },
  {
   "cell_type": "code",
   "execution_count": 32,
   "id": "97ea7bf2-56b1-4a80-8a87-33b3880f4e3d",
   "metadata": {},
   "outputs": [],
   "source": [
    "from mobius.models import TabularSiameseModelBinaryCrossEntropy\n",
    "\n",
    "model = TabularSiameseModelBinaryCrossEntropy(encoder_model, head)"
   ]
  },
  {
   "cell_type": "code",
   "execution_count": 33,
   "id": "db9202f5-6e4a-4727-b30d-11c05752b4f8",
   "metadata": {},
   "outputs": [],
   "source": [
    "from fastai.losses import CrossEntropyLossFlat\n",
    "\n",
    "def loss_func(out, targ):\n",
    "    return CrossEntropyLossFlat()(out, targ.long())"
   ]
  },
  {
   "cell_type": "code",
   "execution_count": 34,
   "id": "c666f176-a4d1-42ec-8fc1-3cecdb9e3418",
   "metadata": {},
   "outputs": [],
   "source": [
    "from fastai.learner import Learner\n",
    "\n",
    "siamese_learner = Learner(dls,\n",
    "    model,\n",
    "    model_dir=\".\",\n",
    "    loss_func=loss_func)"
   ]
  },
  {
   "cell_type": "code",
   "execution_count": 35,
   "id": "ca05f188-89fe-4d6f-a8c3-03710cbb124c",
   "metadata": {},
   "outputs": [
    {
     "data": {
      "text/html": [],
      "text/plain": [
       "<IPython.core.display.HTML object>"
      ]
     },
     "metadata": {},
     "output_type": "display_data"
    },
    {
     "data": {
      "text/plain": [
       "(0.02089296132326126, 0.43651583790779114)"
      ]
     },
     "execution_count": 35,
     "metadata": {},
     "output_type": "execute_result"
    }
   ],
   "source": [
    "lr_min, lr_steep = siamese_learner.lr_find()\n",
    "lr_min, lr_steep"
   ]
  },
  {
   "cell_type": "code",
   "execution_count": 36,
   "id": "2258618c-31b9-492c-a15c-d08b80c76cec",
   "metadata": {},
   "outputs": [
    {
     "data": {
      "text/html": [
       "<table border=\"1\" class=\"dataframe\">\n",
       "  <thead>\n",
       "    <tr style=\"text-align: left;\">\n",
       "      <th>epoch</th>\n",
       "      <th>train_loss</th>\n",
       "      <th>valid_loss</th>\n",
       "      <th>time</th>\n",
       "    </tr>\n",
       "  </thead>\n",
       "  <tbody>\n",
       "    <tr>\n",
       "      <td>0</td>\n",
       "      <td>0.976632</td>\n",
       "      <td>6.699764</td>\n",
       "      <td>00:04</td>\n",
       "    </tr>\n",
       "    <tr>\n",
       "      <td>1</td>\n",
       "      <td>0.862619</td>\n",
       "      <td>0.769325</td>\n",
       "      <td>00:04</td>\n",
       "    </tr>\n",
       "    <tr>\n",
       "      <td>2</td>\n",
       "      <td>0.826566</td>\n",
       "      <td>0.826116</td>\n",
       "      <td>00:04</td>\n",
       "    </tr>\n",
       "  </tbody>\n",
       "</table>"
      ],
      "text/plain": [
       "<IPython.core.display.HTML object>"
      ]
     },
     "metadata": {},
     "output_type": "display_data"
    }
   ],
   "source": [
    "siamese_learner.fit(n_epoch=3, lr=lr_min)"
   ]
  },
  {
   "cell_type": "code",
   "execution_count": 37,
   "id": "d2829b72-cc98-492d-beb1-f5537db28bea",
   "metadata": {},
   "outputs": [
    {
     "data": {
      "text/html": [],
      "text/plain": [
       "<IPython.core.display.HTML object>"
      ]
     },
     "metadata": {},
     "output_type": "display_data"
    },
    {
     "data": {
      "text/plain": [
       "(6.309573450380412e-08, 0.3019951581954956)"
      ]
     },
     "execution_count": 37,
     "metadata": {},
     "output_type": "execute_result"
    }
   ],
   "source": [
    "lr_min, lr_steep = siamese_learner.lr_find()\n",
    "lr_min, lr_steep"
   ]
  },
  {
   "cell_type": "code",
   "execution_count": 38,
   "id": "434e4504-3955-4ba2-b8c9-8b41ac17d877",
   "metadata": {},
   "outputs": [
    {
     "data": {
      "text/html": [
       "<table border=\"1\" class=\"dataframe\">\n",
       "  <thead>\n",
       "    <tr style=\"text-align: left;\">\n",
       "      <th>epoch</th>\n",
       "      <th>train_loss</th>\n",
       "      <th>valid_loss</th>\n",
       "      <th>time</th>\n",
       "    </tr>\n",
       "  </thead>\n",
       "  <tbody>\n",
       "    <tr>\n",
       "      <td>0</td>\n",
       "      <td>0.708342</td>\n",
       "      <td>0.658743</td>\n",
       "      <td>00:04</td>\n",
       "    </tr>\n",
       "    <tr>\n",
       "      <td>1</td>\n",
       "      <td>0.706507</td>\n",
       "      <td>0.787999</td>\n",
       "      <td>00:04</td>\n",
       "    </tr>\n",
       "    <tr>\n",
       "      <td>2</td>\n",
       "      <td>0.729647</td>\n",
       "      <td>0.769968</td>\n",
       "      <td>00:04</td>\n",
       "    </tr>\n",
       "    <tr>\n",
       "      <td>3</td>\n",
       "      <td>0.728697</td>\n",
       "      <td>0.777857</td>\n",
       "      <td>00:04</td>\n",
       "    </tr>\n",
       "    <tr>\n",
       "      <td>4</td>\n",
       "      <td>0.751755</td>\n",
       "      <td>0.742473</td>\n",
       "      <td>00:04</td>\n",
       "    </tr>\n",
       "    <tr>\n",
       "      <td>5</td>\n",
       "      <td>0.710310</td>\n",
       "      <td>0.701429</td>\n",
       "      <td>00:04</td>\n",
       "    </tr>\n",
       "    <tr>\n",
       "      <td>6</td>\n",
       "      <td>0.733236</td>\n",
       "      <td>0.660383</td>\n",
       "      <td>00:04</td>\n",
       "    </tr>\n",
       "    <tr>\n",
       "      <td>7</td>\n",
       "      <td>0.717950</td>\n",
       "      <td>0.701322</td>\n",
       "      <td>00:04</td>\n",
       "    </tr>\n",
       "    <tr>\n",
       "      <td>8</td>\n",
       "      <td>0.718412</td>\n",
       "      <td>0.723150</td>\n",
       "      <td>00:04</td>\n",
       "    </tr>\n",
       "    <tr>\n",
       "      <td>9</td>\n",
       "      <td>0.732776</td>\n",
       "      <td>0.746940</td>\n",
       "      <td>00:04</td>\n",
       "    </tr>\n",
       "    <tr>\n",
       "      <td>10</td>\n",
       "      <td>0.723576</td>\n",
       "      <td>0.741327</td>\n",
       "      <td>00:04</td>\n",
       "    </tr>\n",
       "    <tr>\n",
       "      <td>11</td>\n",
       "      <td>0.731384</td>\n",
       "      <td>0.730459</td>\n",
       "      <td>00:04</td>\n",
       "    </tr>\n",
       "    <tr>\n",
       "      <td>12</td>\n",
       "      <td>0.727811</td>\n",
       "      <td>0.767764</td>\n",
       "      <td>00:05</td>\n",
       "    </tr>\n",
       "    <tr>\n",
       "      <td>13</td>\n",
       "      <td>0.706204</td>\n",
       "      <td>0.710925</td>\n",
       "      <td>00:04</td>\n",
       "    </tr>\n",
       "    <tr>\n",
       "      <td>14</td>\n",
       "      <td>0.719331</td>\n",
       "      <td>0.813308</td>\n",
       "      <td>00:04</td>\n",
       "    </tr>\n",
       "    <tr>\n",
       "      <td>15</td>\n",
       "      <td>0.726779</td>\n",
       "      <td>0.701385</td>\n",
       "      <td>00:04</td>\n",
       "    </tr>\n",
       "    <tr>\n",
       "      <td>16</td>\n",
       "      <td>0.722454</td>\n",
       "      <td>0.703314</td>\n",
       "      <td>00:04</td>\n",
       "    </tr>\n",
       "    <tr>\n",
       "      <td>17</td>\n",
       "      <td>0.738874</td>\n",
       "      <td>0.768892</td>\n",
       "      <td>00:04</td>\n",
       "    </tr>\n",
       "    <tr>\n",
       "      <td>18</td>\n",
       "      <td>0.735973</td>\n",
       "      <td>0.687375</td>\n",
       "      <td>00:04</td>\n",
       "    </tr>\n",
       "    <tr>\n",
       "      <td>19</td>\n",
       "      <td>0.699195</td>\n",
       "      <td>0.666032</td>\n",
       "      <td>00:04</td>\n",
       "    </tr>\n",
       "  </tbody>\n",
       "</table>"
      ],
      "text/plain": [
       "<IPython.core.display.HTML object>"
      ]
     },
     "metadata": {},
     "output_type": "display_data"
    }
   ],
   "source": [
    "siamese_learner.fit(n_epoch=10, lr=lr_min)"
   ]
  },
  {
   "cell_type": "code",
   "execution_count": 40,
   "id": "f677df8c-386e-4099-8cd5-ede9d4a2528d",
   "metadata": {},
   "outputs": [
    {
     "data": {
      "text/plain": [
       "(((tensor([2, 2, 1, 1, 1, 1]),\n",
       "   tensor([ 1.3481,  0.5106, -0.2549, -0.5495, -1.2341])),\n",
       "  (tensor([1, 2, 1, 1, 1, 1]),\n",
       "   tensor([ 0.7678, -1.0729,  0.6168,  1.6649,  1.1796]))),\n",
       " tensor(1.))"
      ]
     },
     "execution_count": 40,
     "metadata": {},
     "output_type": "execute_result"
    }
   ],
   "source": [
    "valid_ds.__getitem__(0)"
   ]
  },
  {
   "cell_type": "code",
   "execution_count": 108,
   "id": "86a60d20-6bbc-4d23-8e26-e2324cbe97d6",
   "metadata": {},
   "outputs": [],
   "source": [
    "pair, _ = valid_ds.__getitem__(0)\n",
    "\n",
    "p1, p2 =[(t[0].unsqueeze(0), t[1].unsqueeze(0)) for t in pair]\n",
    "p1, p2"
   ]
  },
  {
   "cell_type": "code",
   "execution_count": 109,
   "id": "364b1ed2-8786-4c44-9eac-fe2e1f764e96",
   "metadata": {},
   "outputs": [
    {
     "data": {
      "text/plain": [
       "((tensor([[2, 2, 1, 1, 1, 1]]),\n",
       "  tensor([[ 1.3481,  0.5106, -0.2549, -0.5495, -1.2341]])),\n",
       " (tensor([[1, 1, 1, 1, 1, 1]]),\n",
       "  tensor([[ 0.6590, -1.1239,  1.2705,  0.9689,  1.1796]])))"
      ]
     },
     "execution_count": 109,
     "metadata": {},
     "output_type": "execute_result"
    }
   ],
   "source": []
  },
  {
   "cell_type": "code",
   "execution_count": 36,
   "id": "b718d6ca-c458-4042-82b0-89ea6de3784c",
   "metadata": {},
   "outputs": [],
   "source": [
    "# siamese_learner.predict((p1, p2))"
   ]
  },
  {
   "cell_type": "code",
   "execution_count": null,
   "id": "6359eb17-bcbe-4106-984b-01fe795d7952",
   "metadata": {},
   "outputs": [],
   "source": []
  }
 ],
 "metadata": {
  "kernelspec": {
   "display_name": "mobius (venv)",
   "language": "python",
   "name": "mobius"
  },
  "language_info": {
   "codemirror_mode": {
    "name": "ipython",
    "version": 3
   },
   "file_extension": ".py",
   "mimetype": "text/x-python",
   "name": "python",
   "nbconvert_exporter": "python",
   "pygments_lexer": "ipython3",
   "version": "3.8.5"
  }
 },
 "nbformat": 4,
 "nbformat_minor": 5
}
