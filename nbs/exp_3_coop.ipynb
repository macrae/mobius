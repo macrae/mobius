{
 "cells": [
  {
   "cell_type": "markdown",
   "id": "addressed-reality",
   "metadata": {},
   "source": [
    "## Siamese Neural Networks \n",
    "### for Supervised Clustering of High Dimensional Spaces"
   ]
  },
  {
   "cell_type": "code",
   "execution_count": 1,
   "id": "downtown-fifteen",
   "metadata": {},
   "outputs": [
    {
     "name": "stdout",
     "output_type": "stream",
     "text": [
      "Python 3.6.10\n",
      "/Users/seanmacrae/mobius/.venv/bin/python\n"
     ]
    }
   ],
   "source": [
    "!python -V\n",
    "!which python"
   ]
  },
  {
   "cell_type": "code",
   "execution_count": 2,
   "id": "meaningful-awareness",
   "metadata": {},
   "outputs": [],
   "source": [
    "sql = \"\"\"\n",
    "SELECT\n",
    "  audience.*,\n",
    "  latest.address,\n",
    "  latest.city,\n",
    "  latest.state,\n",
    "  latest.zipcode,\n",
    "  latest.county,\n",
    "  latest.metroName,\n",
    "  latest.longitude,\n",
    "  latest.latitude,\n",
    "  realEstateInvestor,\n",
    "  personalInvestor\n",
    "FROM `tranquil-garage-139216.people.audience_dbusa_features` dbusa\n",
    "LEFT JOIN `tranquil-garage-139216.people.audience_20201012` audience ON audience.id = dbusa.id\n",
    "LEFT JOIN `tranquil-garage-139216.people.latest` latest ON latest.id = audience.id\n",
    "WHERE logsumHealthCause > 0 AND logAccreditedNetWorth > 6\n",
    "\"\"\""
   ]
  },
  {
   "cell_type": "code",
   "execution_count": 3,
   "id": "planned-quest",
   "metadata": {},
   "outputs": [],
   "source": [
    "# !pip install loaderbot"
   ]
  },
  {
   "cell_type": "code",
   "execution_count": 4,
   "id": "vanilla-flavor",
   "metadata": {},
   "outputs": [],
   "source": [
    "cats = ['recentPurchaseDate',\n",
    "            'recentDivorceDate',\n",
    "            'recentDeathDate',\n",
    "            'isBoatOwner',\n",
    "            'isPlaneOwner',\n",
    "            'recentPhilanthropicGiftDate',\n",
    "            'recentFoundationAssociationDate',\n",
    "            'isFoundationOfficer',\n",
    "            'recentFoundationTrusteeDate',\n",
    "            'hasFoundationAssociation',\n",
    "            'hasCharityBoardMember',\n",
    "            'hasCharityOfficer',\n",
    "            'isMultiPropertyOwner',\n",
    "            'isRentalPropertyOwner',\n",
    "            'isHouseholdDebt',\n",
    "            'recentPoliticalContributionDate',\n",
    "            'isSmallBusinessOwner',\n",
    "            'isCharityBoardMember',\n",
    "            'isCharityOfficer',\n",
    "            'hasTrust',\n",
    "            'politicalDemocrat',\n",
    "            'politicalRepublican',\n",
    "            'politicalIndependent',\n",
    "            'isSFROwner',\n",
    "            'isCondoOwner',\n",
    "            'isRuralResidenceOwner',\n",
    "            'isArtsCause',\n",
    "            'isEducationCause',\n",
    "            'isEnvironmentalCause',\n",
    "            'isAnimalCause',\n",
    "            'isHealthCause',\n",
    "            'isHumanServicesCause',\n",
    "            'isInternationalCause',\n",
    "            'isSocialBenefitCause',\n",
    "            'isReligiousCause',\n",
    "            'is990Donation',\n",
    "            'isCoopDonation',\n",
    "            'isFECContribution',\n",
    "            'isStateContribution',\n",
    "            'lux_athletic',\n",
    "            'lux_flight',\n",
    "            'lux_goods',\n",
    "            'lux_travel',\n",
    "            'zipcode',\n",
    "            'realEstateInvestor',\n",
    "            'personalInvestor']\n",
    "\n",
    "dtype = {k: str for k in cats}"
   ]
  },
  {
   "cell_type": "code",
   "execution_count": 5,
   "id": "consistent-madagascar",
   "metadata": {},
   "outputs": [
    {
     "name": "stderr",
     "output_type": "stream",
     "text": [
      "/Users/seanmacrae/mobius/.venv/lib/python3.6/site-packages/google/auth/_default.py:69: UserWarning: Your application has authenticated using end user credentials from Google Cloud SDK without a quota project. You might receive a \"quota exceeded\" or \"API not enabled\" error. We recommend you rerun `gcloud auth application-default login` and make sure a quota project is added. Or you can use service accounts instead. For more information about service accounts, see https://cloud.google.com/docs/authentication/\n",
      "  warnings.warn(_CLOUD_SDK_CREDENTIALS_WARNING)\n"
     ]
    }
   ],
   "source": [
    "import loaderbot.big_query as bq\n",
    "from google.cloud import bigquery, storage\n",
    "\n",
    "bigquery_client = bigquery.Client(project=\"tranquil-garage-139216\")\n",
    "storage_client = storage.Client(project=\"tranquil-garage-139216\")\n",
    "\n",
    "raw_data = bq.query_table_and_cache(\n",
    "            sql=sql,\n",
    "            df_dtype=dtype,\n",
    "            bigquery_client=bigquery_client,\n",
    "            storage_client=storage_client,\n",
    "    )"
   ]
  },
  {
   "cell_type": "code",
   "execution_count": 6,
   "id": "received-intelligence",
   "metadata": {},
   "outputs": [
    {
     "data": {
      "text/plain": [
       "(584245, 125)"
      ]
     },
     "execution_count": 6,
     "metadata": {},
     "output_type": "execute_result"
    }
   ],
   "source": [
    "raw_data.shape"
   ]
  },
  {
   "cell_type": "code",
   "execution_count": 7,
   "id": "vocal-camera",
   "metadata": {},
   "outputs": [
    {
     "data": {
      "text/html": [
       "<div>\n",
       "<style scoped>\n",
       "    .dataframe tbody tr th:only-of-type {\n",
       "        vertical-align: middle;\n",
       "    }\n",
       "\n",
       "    .dataframe tbody tr th {\n",
       "        vertical-align: top;\n",
       "    }\n",
       "\n",
       "    .dataframe thead th {\n",
       "        text-align: right;\n",
       "    }\n",
       "</style>\n",
       "<table border=\"1\" class=\"dataframe\">\n",
       "  <thead>\n",
       "    <tr style=\"text-align: right;\">\n",
       "      <th></th>\n",
       "      <th>id</th>\n",
       "      <th>logNetWorth</th>\n",
       "      <th>logAccreditedNetWorth</th>\n",
       "      <th>recentPurchaseDate</th>\n",
       "      <th>recentDivorceDate</th>\n",
       "      <th>recentDeathDate</th>\n",
       "      <th>isBoatOwner</th>\n",
       "      <th>isPlaneOwner</th>\n",
       "      <th>recentPhilanthropicGiftDate</th>\n",
       "      <th>recentFoundationAssociationDate</th>\n",
       "      <th>...</th>\n",
       "      <th>address</th>\n",
       "      <th>city</th>\n",
       "      <th>state</th>\n",
       "      <th>zipcode</th>\n",
       "      <th>county</th>\n",
       "      <th>metroName</th>\n",
       "      <th>longitude</th>\n",
       "      <th>latitude</th>\n",
       "      <th>realEstateInvestor</th>\n",
       "      <th>personalInvestor</th>\n",
       "    </tr>\n",
       "  </thead>\n",
       "  <tbody>\n",
       "    <tr>\n",
       "      <th>0</th>\n",
       "      <td>17dfe362f2a52fad7fc30688f883ed3c</td>\n",
       "      <td>6.317667</td>\n",
       "      <td>6.035153</td>\n",
       "      <td>0</td>\n",
       "      <td>0</td>\n",
       "      <td>0</td>\n",
       "      <td>0</td>\n",
       "      <td>0</td>\n",
       "      <td>0</td>\n",
       "      <td>0</td>\n",
       "      <td>...</td>\n",
       "      <td>11 WESTRIDGE DR</td>\n",
       "      <td>LAKE OSWEGO</td>\n",
       "      <td>OR</td>\n",
       "      <td>97034</td>\n",
       "      <td>Clackamas</td>\n",
       "      <td>PORTLAND-VANCOUVER-BEAVERTON, OR-WA</td>\n",
       "      <td>-122.714792</td>\n",
       "      <td>45.393171</td>\n",
       "      <td>0</td>\n",
       "      <td>1</td>\n",
       "    </tr>\n",
       "    <tr>\n",
       "      <th>1</th>\n",
       "      <td>f155fadc922eef19d0d3933fe1a53162</td>\n",
       "      <td>6.390421</td>\n",
       "      <td>6.249058</td>\n",
       "      <td>0</td>\n",
       "      <td>0</td>\n",
       "      <td>0</td>\n",
       "      <td>0</td>\n",
       "      <td>0</td>\n",
       "      <td>0</td>\n",
       "      <td>0</td>\n",
       "      <td>...</td>\n",
       "      <td>116 AUGUSTA DR</td>\n",
       "      <td>BROUSSARD</td>\n",
       "      <td>LA</td>\n",
       "      <td>70518</td>\n",
       "      <td>Lafayette</td>\n",
       "      <td>LAFAYETTE, LA</td>\n",
       "      <td>-91.946955</td>\n",
       "      <td>30.085969</td>\n",
       "      <td>1</td>\n",
       "      <td>1</td>\n",
       "    </tr>\n",
       "    <tr>\n",
       "      <th>2</th>\n",
       "      <td>6eb731db91258c929427e86bc5277ab7</td>\n",
       "      <td>6.490808</td>\n",
       "      <td>6.450590</td>\n",
       "      <td>1</td>\n",
       "      <td>0</td>\n",
       "      <td>0</td>\n",
       "      <td>0</td>\n",
       "      <td>0</td>\n",
       "      <td>0</td>\n",
       "      <td>0</td>\n",
       "      <td>...</td>\n",
       "      <td>13400 JUNEAU BLVD</td>\n",
       "      <td>ELM GROVE</td>\n",
       "      <td>WI</td>\n",
       "      <td>53122</td>\n",
       "      <td>Waukesha</td>\n",
       "      <td>MILWAUKEE-WAUKESHA-WEST ALLIS, WI</td>\n",
       "      <td>-88.079144</td>\n",
       "      <td>43.045960</td>\n",
       "      <td>0</td>\n",
       "      <td>1</td>\n",
       "    </tr>\n",
       "    <tr>\n",
       "      <th>3</th>\n",
       "      <td>dedaab4d0d5c038715a1020260eeca79</td>\n",
       "      <td>6.455325</td>\n",
       "      <td>6.275680</td>\n",
       "      <td>0</td>\n",
       "      <td>0</td>\n",
       "      <td>0</td>\n",
       "      <td>0</td>\n",
       "      <td>0</td>\n",
       "      <td>0</td>\n",
       "      <td>0</td>\n",
       "      <td>...</td>\n",
       "      <td>278 FINCH LN</td>\n",
       "      <td>SAUNDERSTOWN</td>\n",
       "      <td>RI</td>\n",
       "      <td>02874</td>\n",
       "      <td>Washington</td>\n",
       "      <td>PROVIDENCE-NEW BEDFORD-FALL RIVER, RI-MA</td>\n",
       "      <td>-71.476905</td>\n",
       "      <td>41.529689</td>\n",
       "      <td>0</td>\n",
       "      <td>0</td>\n",
       "    </tr>\n",
       "    <tr>\n",
       "      <th>4</th>\n",
       "      <td>afca333d749f7bcc869b3c9c11916733</td>\n",
       "      <td>6.661214</td>\n",
       "      <td>6.555541</td>\n",
       "      <td>0</td>\n",
       "      <td>0</td>\n",
       "      <td>0</td>\n",
       "      <td>0</td>\n",
       "      <td>0</td>\n",
       "      <td>0</td>\n",
       "      <td>0</td>\n",
       "      <td>...</td>\n",
       "      <td>1571 HICKS AVE</td>\n",
       "      <td>SAN JOSE</td>\n",
       "      <td>CA</td>\n",
       "      <td>95125</td>\n",
       "      <td>Santa Clara</td>\n",
       "      <td>SAN JOSE-SUNNYVALE-SANTA CLARA, CA</td>\n",
       "      <td>-121.905612</td>\n",
       "      <td>37.296508</td>\n",
       "      <td>0</td>\n",
       "      <td>1</td>\n",
       "    </tr>\n",
       "  </tbody>\n",
       "</table>\n",
       "<p>5 rows × 125 columns</p>\n",
       "</div>"
      ],
      "text/plain": [
       "                                 id  logNetWorth  logAccreditedNetWorth  \\\n",
       "0  17dfe362f2a52fad7fc30688f883ed3c     6.317667               6.035153   \n",
       "1  f155fadc922eef19d0d3933fe1a53162     6.390421               6.249058   \n",
       "2  6eb731db91258c929427e86bc5277ab7     6.490808               6.450590   \n",
       "3  dedaab4d0d5c038715a1020260eeca79     6.455325               6.275680   \n",
       "4  afca333d749f7bcc869b3c9c11916733     6.661214               6.555541   \n",
       "\n",
       "  recentPurchaseDate recentDivorceDate recentDeathDate isBoatOwner  \\\n",
       "0                  0                 0               0           0   \n",
       "1                  0                 0               0           0   \n",
       "2                  1                 0               0           0   \n",
       "3                  0                 0               0           0   \n",
       "4                  0                 0               0           0   \n",
       "\n",
       "  isPlaneOwner recentPhilanthropicGiftDate recentFoundationAssociationDate  \\\n",
       "0            0                           0                               0   \n",
       "1            0                           0                               0   \n",
       "2            0                           0                               0   \n",
       "3            0                           0                               0   \n",
       "4            0                           0                               0   \n",
       "\n",
       "   ...            address          city state zipcode       county  \\\n",
       "0  ...    11 WESTRIDGE DR   LAKE OSWEGO    OR   97034    Clackamas   \n",
       "1  ...     116 AUGUSTA DR     BROUSSARD    LA   70518    Lafayette   \n",
       "2  ...  13400 JUNEAU BLVD     ELM GROVE    WI   53122     Waukesha   \n",
       "3  ...       278 FINCH LN  SAUNDERSTOWN    RI   02874   Washington   \n",
       "4  ...     1571 HICKS AVE      SAN JOSE    CA   95125  Santa Clara   \n",
       "\n",
       "                                  metroName   longitude   latitude  \\\n",
       "0       PORTLAND-VANCOUVER-BEAVERTON, OR-WA -122.714792  45.393171   \n",
       "1                             LAFAYETTE, LA  -91.946955  30.085969   \n",
       "2         MILWAUKEE-WAUKESHA-WEST ALLIS, WI  -88.079144  43.045960   \n",
       "3  PROVIDENCE-NEW BEDFORD-FALL RIVER, RI-MA  -71.476905  41.529689   \n",
       "4        SAN JOSE-SUNNYVALE-SANTA CLARA, CA -121.905612  37.296508   \n",
       "\n",
       "   realEstateInvestor  personalInvestor  \n",
       "0                   0                 1  \n",
       "1                   1                 1  \n",
       "2                   0                 1  \n",
       "3                   0                 0  \n",
       "4                   0                 1  \n",
       "\n",
       "[5 rows x 125 columns]"
      ]
     },
     "execution_count": 7,
     "metadata": {},
     "output_type": "execute_result"
    }
   ],
   "source": [
    "raw_data.head()"
   ]
  },
  {
   "cell_type": "code",
   "execution_count": 9,
   "id": "growing-municipality",
   "metadata": {},
   "outputs": [],
   "source": [
    "import numpy as np\n",
    "\n",
    "def make_label(donation_amount):\n",
    "    if donation_amount <= np.log10(1_000):\n",
    "        return \"low\"\n",
    "    elif (donation_amount > np.log10(1_000)) & (donation_amount <= np.log10(25_000)):\n",
    "        return \"mid\"\n",
    "    elif (donation_amount > np.log10(25_000)) & (donation_amount <= np.log10(80_000)):\n",
    "        return \"high\"\n",
    "    elif donation_amount > np.log10(80_000):\n",
    "        return \"windfall\"\n",
    "    \n",
    "# engineer a donor label\n",
    "raw_data[\"label\"] = raw_data[\"logsumHealthCause\"].apply(lambda x: make_label(x))\n",
    "\n",
    "# shuffle the data\n",
    "raw_data = raw_data.sample(frac=1, random_state=42)"
   ]
  },
  {
   "cell_type": "code",
   "execution_count": 10,
   "id": "frequent-karma",
   "metadata": {},
   "outputs": [],
   "source": [
    "from sklearn.model_selection import train_test_split\n",
    "\n",
    "df, _ = train_test_split(\n",
    "    raw_data,\n",
    "    test_size=0.97,\n",
    "    stratify=raw_data[\"label\"])"
   ]
  },
  {
   "cell_type": "code",
   "execution_count": 11,
   "id": "military-hopkins",
   "metadata": {},
   "outputs": [
    {
     "data": {
      "text/plain": [
       "(17527, 126)"
      ]
     },
     "execution_count": 11,
     "metadata": {},
     "output_type": "execute_result"
    }
   ],
   "source": [
    "df.shape"
   ]
  },
  {
   "cell_type": "code",
   "execution_count": 12,
   "id": "private-silicon",
   "metadata": {},
   "outputs": [
    {
     "data": {
      "text/plain": [
       "low         0.908085\n",
       "mid         0.080790\n",
       "high        0.005648\n",
       "windfall    0.005477\n",
       "Name: label, dtype: float64"
      ]
     },
     "execution_count": 12,
     "metadata": {},
     "output_type": "execute_result"
    }
   ],
   "source": [
    "df[\"label\"].value_counts() / len(df)"
   ]
  },
  {
   "cell_type": "markdown",
   "id": "julian-fleece",
   "metadata": {},
   "source": [
    "## Tabular Learner\n",
    "\n",
    "Before we train the Tabular Siamese Learner we will train baseline Tabular Learner for species classification... (why do we do this, exactly? can we just instantiate a Tabular Siamese Learner without a baseline Tabular Learner ???)\n",
    "\n",
    "Ah yes, to init a new `TabularSiameseModel` we need to provide an `encoder` and `head` and the Tabular Learner will act as the `encoder` we init the `TabularSiameseModel` with."
   ]
  },
  {
   "cell_type": "code",
   "execution_count": 13,
   "id": "changed-lawrence",
   "metadata": {},
   "outputs": [
    {
     "data": {
      "text/html": [
       "<div>\n",
       "<style scoped>\n",
       "    .dataframe tbody tr th:only-of-type {\n",
       "        vertical-align: middle;\n",
       "    }\n",
       "\n",
       "    .dataframe tbody tr th {\n",
       "        vertical-align: top;\n",
       "    }\n",
       "\n",
       "    .dataframe thead th {\n",
       "        text-align: right;\n",
       "    }\n",
       "</style>\n",
       "<table border=\"1\" class=\"dataframe\">\n",
       "  <thead>\n",
       "    <tr style=\"text-align: right;\">\n",
       "      <th></th>\n",
       "      <th>id</th>\n",
       "      <th>logNetWorth</th>\n",
       "      <th>logAccreditedNetWorth</th>\n",
       "      <th>recentPurchaseDate</th>\n",
       "      <th>recentDivorceDate</th>\n",
       "      <th>recentDeathDate</th>\n",
       "      <th>isBoatOwner</th>\n",
       "      <th>isPlaneOwner</th>\n",
       "      <th>recentPhilanthropicGiftDate</th>\n",
       "      <th>recentFoundationAssociationDate</th>\n",
       "      <th>...</th>\n",
       "      <th>city</th>\n",
       "      <th>state</th>\n",
       "      <th>zipcode</th>\n",
       "      <th>county</th>\n",
       "      <th>metroName</th>\n",
       "      <th>longitude</th>\n",
       "      <th>latitude</th>\n",
       "      <th>realEstateInvestor</th>\n",
       "      <th>personalInvestor</th>\n",
       "      <th>label</th>\n",
       "    </tr>\n",
       "  </thead>\n",
       "  <tbody>\n",
       "    <tr>\n",
       "      <th>405469</th>\n",
       "      <td>f45b815922ec73c9b87ba28e9fcd9f5c</td>\n",
       "      <td>6.296957</td>\n",
       "      <td>6.161656</td>\n",
       "      <td>0</td>\n",
       "      <td>0</td>\n",
       "      <td>0</td>\n",
       "      <td>0</td>\n",
       "      <td>0</td>\n",
       "      <td>0</td>\n",
       "      <td>0</td>\n",
       "      <td>...</td>\n",
       "      <td>LIVINGSTON</td>\n",
       "      <td>NJ</td>\n",
       "      <td>07039</td>\n",
       "      <td>Essex</td>\n",
       "      <td>NEW YORK-NORTHERN NEW JERSEY-LONG ISLAND, NY-N...</td>\n",
       "      <td>-74.327846</td>\n",
       "      <td>40.813701</td>\n",
       "      <td>0</td>\n",
       "      <td>1</td>\n",
       "      <td>low</td>\n",
       "    </tr>\n",
       "    <tr>\n",
       "      <th>292804</th>\n",
       "      <td>cb25f31a9b4369b1e94f7665b9378a66</td>\n",
       "      <td>7.320433</td>\n",
       "      <td>7.276668</td>\n",
       "      <td>0</td>\n",
       "      <td>0</td>\n",
       "      <td>0</td>\n",
       "      <td>0</td>\n",
       "      <td>0</td>\n",
       "      <td>1</td>\n",
       "      <td>0</td>\n",
       "      <td>...</td>\n",
       "      <td>RYE</td>\n",
       "      <td>NY</td>\n",
       "      <td>10580</td>\n",
       "      <td>Westchester</td>\n",
       "      <td>NEW YORK-NORTHERN NEW JERSEY-LONG ISLAND, NY-N...</td>\n",
       "      <td>-73.688666</td>\n",
       "      <td>40.957544</td>\n",
       "      <td>1</td>\n",
       "      <td>1</td>\n",
       "      <td>low</td>\n",
       "    </tr>\n",
       "    <tr>\n",
       "      <th>556053</th>\n",
       "      <td>ec352844044c07c66403d0137522816e</td>\n",
       "      <td>7.042574</td>\n",
       "      <td>7.005944</td>\n",
       "      <td>0</td>\n",
       "      <td>0</td>\n",
       "      <td>0</td>\n",
       "      <td>0</td>\n",
       "      <td>0</td>\n",
       "      <td>0</td>\n",
       "      <td>0</td>\n",
       "      <td>...</td>\n",
       "      <td>CYPRESS</td>\n",
       "      <td>CA</td>\n",
       "      <td>90630</td>\n",
       "      <td>Orange</td>\n",
       "      <td>LOS ANGELES-LONG BEACH-SANTA ANA, CA</td>\n",
       "      <td>-118.058113</td>\n",
       "      <td>33.826129</td>\n",
       "      <td>0</td>\n",
       "      <td>0</td>\n",
       "      <td>low</td>\n",
       "    </tr>\n",
       "    <tr>\n",
       "      <th>187067</th>\n",
       "      <td>aa2539ae7141557826f7ab2bd7c23be5</td>\n",
       "      <td>6.435676</td>\n",
       "      <td>6.388808</td>\n",
       "      <td>0</td>\n",
       "      <td>0</td>\n",
       "      <td>0</td>\n",
       "      <td>0</td>\n",
       "      <td>0</td>\n",
       "      <td>0</td>\n",
       "      <td>0</td>\n",
       "      <td>...</td>\n",
       "      <td>NORTHVILLE</td>\n",
       "      <td>MI</td>\n",
       "      <td>48168</td>\n",
       "      <td>Wayne</td>\n",
       "      <td>DETROIT-WARREN-LIVONIA, MI</td>\n",
       "      <td>-83.467590</td>\n",
       "      <td>42.418316</td>\n",
       "      <td>0</td>\n",
       "      <td>0</td>\n",
       "      <td>low</td>\n",
       "    </tr>\n",
       "    <tr>\n",
       "      <th>206044</th>\n",
       "      <td>bc423866f9c3ebdfc063335ca938a6ce</td>\n",
       "      <td>6.219164</td>\n",
       "      <td>6.049368</td>\n",
       "      <td>0</td>\n",
       "      <td>0</td>\n",
       "      <td>0</td>\n",
       "      <td>0</td>\n",
       "      <td>0</td>\n",
       "      <td>0</td>\n",
       "      <td>0</td>\n",
       "      <td>...</td>\n",
       "      <td>BROOMFIELD</td>\n",
       "      <td>CO</td>\n",
       "      <td>80023</td>\n",
       "      <td>Broomfield</td>\n",
       "      <td>DENVER-AURORA-BROOMFIELD, CO</td>\n",
       "      <td>-105.039331</td>\n",
       "      <td>39.986084</td>\n",
       "      <td>0</td>\n",
       "      <td>1</td>\n",
       "      <td>low</td>\n",
       "    </tr>\n",
       "  </tbody>\n",
       "</table>\n",
       "<p>5 rows × 126 columns</p>\n",
       "</div>"
      ],
      "text/plain": [
       "                                      id  logNetWorth  logAccreditedNetWorth  \\\n",
       "405469  f45b815922ec73c9b87ba28e9fcd9f5c     6.296957               6.161656   \n",
       "292804  cb25f31a9b4369b1e94f7665b9378a66     7.320433               7.276668   \n",
       "556053  ec352844044c07c66403d0137522816e     7.042574               7.005944   \n",
       "187067  aa2539ae7141557826f7ab2bd7c23be5     6.435676               6.388808   \n",
       "206044  bc423866f9c3ebdfc063335ca938a6ce     6.219164               6.049368   \n",
       "\n",
       "       recentPurchaseDate recentDivorceDate recentDeathDate isBoatOwner  \\\n",
       "405469                  0                 0               0           0   \n",
       "292804                  0                 0               0           0   \n",
       "556053                  0                 0               0           0   \n",
       "187067                  0                 0               0           0   \n",
       "206044                  0                 0               0           0   \n",
       "\n",
       "       isPlaneOwner recentPhilanthropicGiftDate  \\\n",
       "405469            0                           0   \n",
       "292804            0                           1   \n",
       "556053            0                           0   \n",
       "187067            0                           0   \n",
       "206044            0                           0   \n",
       "\n",
       "       recentFoundationAssociationDate  ...        city state zipcode  \\\n",
       "405469                               0  ...  LIVINGSTON    NJ   07039   \n",
       "292804                               0  ...         RYE    NY   10580   \n",
       "556053                               0  ...     CYPRESS    CA   90630   \n",
       "187067                               0  ...  NORTHVILLE    MI   48168   \n",
       "206044                               0  ...  BROOMFIELD    CO   80023   \n",
       "\n",
       "             county                                          metroName  \\\n",
       "405469        Essex  NEW YORK-NORTHERN NEW JERSEY-LONG ISLAND, NY-N...   \n",
       "292804  Westchester  NEW YORK-NORTHERN NEW JERSEY-LONG ISLAND, NY-N...   \n",
       "556053       Orange               LOS ANGELES-LONG BEACH-SANTA ANA, CA   \n",
       "187067        Wayne                         DETROIT-WARREN-LIVONIA, MI   \n",
       "206044   Broomfield                       DENVER-AURORA-BROOMFIELD, CO   \n",
       "\n",
       "         longitude   latitude realEstateInvestor  personalInvestor  label  \n",
       "405469  -74.327846  40.813701                  0                 1    low  \n",
       "292804  -73.688666  40.957544                  1                 1    low  \n",
       "556053 -118.058113  33.826129                  0                 0    low  \n",
       "187067  -83.467590  42.418316                  0                 0    low  \n",
       "206044 -105.039331  39.986084                  0                 1    low  \n",
       "\n",
       "[5 rows x 126 columns]"
      ]
     },
     "execution_count": 13,
     "metadata": {},
     "output_type": "execute_result"
    }
   ],
   "source": [
    "df.head()"
   ]
  },
  {
   "cell_type": "code",
   "execution_count": 14,
   "id": "specified-aggregate",
   "metadata": {},
   "outputs": [],
   "source": [
    "from sklearn.model_selection import train_test_split\n",
    "\n",
    "df_train, df_test = train_test_split(\n",
    "    df,\n",
    "    test_size=0.10,\n",
    "    stratify=df[\"label\"])\n",
    "\n",
    "df = df_train.copy()\n",
    "\n",
    "exclude_vars = [\"id\", \n",
    "                \"longitude\", \n",
    "                \"latitude\", \n",
    "                \"label\",\n",
    "                \"address\",\n",
    "                'logMaxDonationAmount',\n",
    "                'logSumDonationAmount',\n",
    "                'isHealthCause',\n",
    "                'isCoopDonation',\n",
    "                'logsumHealthCause',\n",
    "                'logMaxDonationAmount_1year',\n",
    "                'logSumDonationAmount_1year',\n",
    "                'logsumCOOPDonation_1year',\n",
    "                'logMaxDonationAmount_3year',\n",
    "                'logSumDonationAmount_3year',\n",
    "                'logsumCOOPDonation_3year',\n",
    "                'logMaxDonationAmount_5year',\n",
    "                'logSumDonationAmount_5year',\n",
    "                'logsumCOOPDonation_5year']"
   ]
  },
  {
   "cell_type": "code",
   "execution_count": 15,
   "id": "yellow-nancy",
   "metadata": {},
   "outputs": [],
   "source": [
    "from fastai.tabular.all import CategoryBlock\n",
    "                                \n",
    "y_names = [\"label\"]\n",
    "y_block = CategoryBlock()"
   ]
  },
  {
   "cell_type": "code",
   "execution_count": 16,
   "id": "demanding-reminder",
   "metadata": {},
   "outputs": [
    {
     "data": {
      "text/plain": [
       "{'recentPurchaseDate': 2,\n",
       " 'recentDivorceDate': 2,\n",
       " 'recentDeathDate': 2,\n",
       " 'isBoatOwner': 2,\n",
       " 'isPlaneOwner': 2,\n",
       " 'recentPhilanthropicGiftDate': 2,\n",
       " 'recentFoundationAssociationDate': 2,\n",
       " 'isFoundationOfficer': 2,\n",
       " 'recentFoundationTrusteeDate': 2,\n",
       " 'hasFoundationAssociation': 2,\n",
       " 'hasCharityBoardMember': 2,\n",
       " 'hasCharityOfficer': 2,\n",
       " 'isMultiPropertyOwner': 2,\n",
       " 'isRentalPropertyOwner': 2,\n",
       " 'isHouseholdDebt': 2,\n",
       " 'recentPoliticalContributionDate': 2,\n",
       " 'isSmallBusinessOwner': 2,\n",
       " 'isCharityBoardMember': 2,\n",
       " 'isCharityOfficer': 2,\n",
       " 'hasTrust': 2,\n",
       " 'politicalDemocrat': 2,\n",
       " 'politicalRepublican': 2,\n",
       " 'politicalIndependent': 2,\n",
       " 'isSFROwner': 2,\n",
       " 'isCondoOwner': 2,\n",
       " 'isRuralResidenceOwner': 2,\n",
       " 'isArtsCause': 2,\n",
       " 'isEducationCause': 2,\n",
       " 'isEnvironmentalCause': 2,\n",
       " 'isAnimalCause': 2,\n",
       " 'isHumanServicesCause': 2,\n",
       " 'isInternationalCause': 2,\n",
       " 'isSocialBenefitCause': 2,\n",
       " 'isReligiousCause': 2,\n",
       " 'is990Donation': 2,\n",
       " 'isFECContribution': 2,\n",
       " 'isStateContribution': 2,\n",
       " 'lux_athletic': 2,\n",
       " 'lux_flight': 2,\n",
       " 'lux_goods': 2,\n",
       " 'lux_travel': 2,\n",
       " 'city': 139,\n",
       " 'state': 14,\n",
       " 'zipcode': 183,\n",
       " 'county': 61,\n",
       " 'metroName': 49,\n",
       " 'realEstateInvestor': 2,\n",
       " 'personalInvestor': 2}"
      ]
     },
     "execution_count": 16,
     "metadata": {},
     "output_type": "execute_result"
    }
   ],
   "source": [
    "from mobius.utils import emb_sz_rule\n",
    "\n",
    "cat_names = [x for x in df.select_dtypes(exclude=['int', 'float']).columns if x != y_names]\n",
    "cat_names = [x for x in cat_names if x not in exclude_vars]\n",
    "\n",
    "# calc embedding sizes for each categorical feature\n",
    "emb_szs = {k: emb_sz_rule(len(df[k].unique())) for k in cat_names}\n",
    "emb_szs"
   ]
  },
  {
   "cell_type": "code",
   "execution_count": 17,
   "id": "competent-break",
   "metadata": {},
   "outputs": [
    {
     "data": {
      "text/plain": [
       "['logNetWorth',\n",
       " 'logAccreditedNetWorth',\n",
       " 'logTotalHouseholdDebt',\n",
       " 'recentSecTransactionAcquired',\n",
       " 'recentSecTransactionDisposed',\n",
       " 'primaryPropertyLoanToValue',\n",
       " 'logPrimaryPropertyAvm',\n",
       " 'femaleCount',\n",
       " 'maleCount',\n",
       " 'minHouseholdAge',\n",
       " 'avgHouseholdAge',\n",
       " 'maxHouseholdAge',\n",
       " 'metroNameRank',\n",
       " 'propertyCount',\n",
       " 'logMaxPropertyAvm',\n",
       " 'logSumPropertyAvm',\n",
       " 'maxPropertySqft',\n",
       " 'maxBedrooms',\n",
       " 'primaryPropertySqft',\n",
       " 'primaryPropertyYearsOwned',\n",
       " 'minPropertyYearsOwned',\n",
       " 'maxPropertyYearsOwned',\n",
       " 'logsumArtsCause',\n",
       " 'logsumEducationCause',\n",
       " 'logsumEnvironmentalCause',\n",
       " 'logsumAnimalCause',\n",
       " 'logsumHumanServicesCause',\n",
       " 'logsumInternationalCause',\n",
       " 'logsumSocialBenefitCause',\n",
       " 'logsumReligiousCause',\n",
       " 'logsum990Donation',\n",
       " 'logsumCOOPDonation',\n",
       " 'logsumFECDonation',\n",
       " 'logsumStateContribution',\n",
       " 'logmax990Donation',\n",
       " 'logmaxCOOPDonation',\n",
       " 'logmaxFECDonation',\n",
       " 'logmaxStateContribution',\n",
       " 'countNumCharities',\n",
       " 'logsumFECDonation_1year',\n",
       " 'logsumStateContribution_1year',\n",
       " 'countNumCharities_1year',\n",
       " 'logsum990Donation_3year',\n",
       " 'logsumFECDonation_3year',\n",
       " 'logsumStateContribution_3year',\n",
       " 'countNumCharities_3year',\n",
       " 'logsum990Donation_5year',\n",
       " 'logsumFECDonation_5year',\n",
       " 'logsumStateContribution_5year',\n",
       " 'countNumCharities_5year',\n",
       " 'num_vehicles',\n",
       " 'num_luxury_vehicles',\n",
       " 'num_ultra_luxury_vehicles',\n",
       " 'num_cars',\n",
       " 'num_trucks',\n",
       " 'num_suvs',\n",
       " 'num_vans',\n",
       " 'metroRank',\n",
       " 'stateRank']"
      ]
     },
     "execution_count": 17,
     "metadata": {},
     "output_type": "execute_result"
    }
   ],
   "source": [
    "import numpy as np\n",
    "\n",
    "cont_names = [x for x in df.select_dtypes([np.number]).columns if x != y_names]\n",
    "cont_names = [x for x in cont_names if x not in exclude_vars]\n",
    "cont_names"
   ]
  },
  {
   "cell_type": "code",
   "execution_count": 18,
   "id": "german-shoulder",
   "metadata": {},
   "outputs": [
    {
     "data": {
      "text/plain": [
       "<seaborn.axisgrid.PairGrid at 0x7f92ca0492b0>"
      ]
     },
     "execution_count": 18,
     "metadata": {},
     "output_type": "execute_result"
    },
    {
     "data": {
      "image/png": "[encoded data removed]",
      "text/plain": [
       "<Figure size 615.25x540 with 12 Axes>"
      ]
     },
     "metadata": {
      "needs_background": "light"
     },
     "output_type": "display_data"
    }
   ],
   "source": [
    "import seaborn as sns\n",
    "\n",
    "sns.pairplot(df[[\"logNetWorth\", \"maleCount\", \"logSumPropertyAvm\", \"label\"]].sample(frac=0.05), hue='label')"
   ]
  },
  {
   "cell_type": "code",
   "execution_count": 19,
   "id": "irish-seller",
   "metadata": {},
   "outputs": [],
   "source": [
    "from fastai.tabular.all import (Categorify, CategoryBlock, FillMissing,\n",
    "                                Normalize, TabDataLoader, TabularPandas,\n",
    "                                tabular_config, tabular_learner)\n",
    "\n",
    "procs = [FillMissing, Categorify, Normalize]"
   ]
  },
  {
   "cell_type": "code",
   "execution_count": 20,
   "id": "early-retrieval",
   "metadata": {},
   "outputs": [],
   "source": [
    "from fastai.data.core import range_of\n",
    "from fastai.tabular.all import RandomSplitter, TrainTestSplitter\n",
    "\n",
    "# # train/test split\n",
    "# splits = RandomSplitter(valid_pct=0.20)(range_of(df))\n",
    "\n",
    "splits = TrainTestSplitter(test_size=0.20, \n",
    "                           train_size=0.80, \n",
    "                           random_state=None, \n",
    "                           stratify=df[\"label\"].values, \n",
    "                           shuffle=True)(range_of(df))"
   ]
  },
  {
   "cell_type": "code",
   "execution_count": 21,
   "id": "visible-montana",
   "metadata": {},
   "outputs": [],
   "source": [
    "tabular_pandas = TabularPandas(\n",
    "        df,\n",
    "        procs=procs,\n",
    "        cat_names=cat_names,\n",
    "        cont_names=cont_names,\n",
    "        y_names=y_names,\n",
    "        y_block=y_block,\n",
    "        splits=splits,\n",
    "        device=\"cpu\")"
   ]
  },
  {
   "cell_type": "code",
   "execution_count": 22,
   "id": "indie-motel",
   "metadata": {},
   "outputs": [],
   "source": [
    "# from mobius.samplers import ImbalancedDatasetSampler\n",
    "\n",
    "trn_dl = TabDataLoader(\n",
    "    tabular_pandas.train,\n",
    "    bs=128,\n",
    "    shuffle=True,\n",
    "    drop_last=True,)\n",
    "\n",
    "val_dl = TabDataLoader(\n",
    "    tabular_pandas.valid,\n",
    "    bs=128,)"
   ]
  },
  {
   "cell_type": "code",
   "execution_count": 23,
   "id": "dedicated-sheep",
   "metadata": {},
   "outputs": [
    {
     "name": "stdout",
     "output_type": "stream",
     "text": [
      "Sample batch:\n"
     ]
    },
    {
     "data": {
      "text/plain": [
       "(tensor([[1, 1, 1,  ..., 1, 1, 1],\n",
       "         [1, 1, 1,  ..., 2, 2, 2],\n",
       "         [1, 1, 1,  ..., 2, 2, 2],\n",
       "         ...,\n",
       "         [1, 1, 1,  ..., 2, 2, 2],\n",
       "         [1, 1, 1,  ..., 2, 2, 2],\n",
       "         [2, 1, 1,  ..., 1, 1, 1]]),\n",
       " tensor([[-0.3734, -0.5990,  0.7319,  ..., -0.1106, -0.7962, -1.3623],\n",
       "         [-1.0431, -1.1597,  0.6394,  ..., -0.1106, -0.3701, -0.7976],\n",
       "         [-0.5684, -0.4628,  0.6007,  ..., -0.1106,  0.5349, -0.4138],\n",
       "         ...,\n",
       "         [-0.5598, -1.1214,  0.2971,  ..., -0.1106, -0.1804, -0.4054],\n",
       "         [ 0.0355,  0.0524,  0.4907,  ..., -0.1106, -0.1627,  0.5588],\n",
       "         [ 3.1894,  3.2652,  0.7179,  ..., -0.1106,  0.7661,  1.0083]]),\n",
       " tensor([[2],\n",
       "         [1],\n",
       "         [1],\n",
       "         [1],\n",
       "         [1],\n",
       "         [1],\n",
       "         [1],\n",
       "         [1],\n",
       "         [1],\n",
       "         [1],\n",
       "         [1],\n",
       "         [1],\n",
       "         [1],\n",
       "         [1],\n",
       "         [1],\n",
       "         [1],\n",
       "         [1],\n",
       "         [1],\n",
       "         [1],\n",
       "         [1],\n",
       "         [1],\n",
       "         [1],\n",
       "         [1],\n",
       "         [1],\n",
       "         [1],\n",
       "         [1],\n",
       "         [1],\n",
       "         [1],\n",
       "         [1],\n",
       "         [1],\n",
       "         [1],\n",
       "         [1],\n",
       "         [1],\n",
       "         [1],\n",
       "         [1],\n",
       "         [1],\n",
       "         [1],\n",
       "         [1],\n",
       "         [1],\n",
       "         [1],\n",
       "         [1],\n",
       "         [1],\n",
       "         [1],\n",
       "         [1],\n",
       "         [1],\n",
       "         [1],\n",
       "         [1],\n",
       "         [1],\n",
       "         [1],\n",
       "         [1],\n",
       "         [1],\n",
       "         [1],\n",
       "         [1],\n",
       "         [1],\n",
       "         [1],\n",
       "         [1],\n",
       "         [1],\n",
       "         [1],\n",
       "         [1],\n",
       "         [1],\n",
       "         [1],\n",
       "         [1],\n",
       "         [1],\n",
       "         [1],\n",
       "         [1],\n",
       "         [1],\n",
       "         [1],\n",
       "         [1],\n",
       "         [1],\n",
       "         [1],\n",
       "         [1],\n",
       "         [1],\n",
       "         [1],\n",
       "         [1],\n",
       "         [1],\n",
       "         [2],\n",
       "         [1],\n",
       "         [1],\n",
       "         [1],\n",
       "         [1],\n",
       "         [1],\n",
       "         [1],\n",
       "         [1],\n",
       "         [1],\n",
       "         [1],\n",
       "         [1],\n",
       "         [1],\n",
       "         [1],\n",
       "         [1],\n",
       "         [1],\n",
       "         [1],\n",
       "         [1],\n",
       "         [1],\n",
       "         [1],\n",
       "         [1],\n",
       "         [1],\n",
       "         [1],\n",
       "         [1],\n",
       "         [1],\n",
       "         [1],\n",
       "         [1],\n",
       "         [1],\n",
       "         [1],\n",
       "         [1],\n",
       "         [1],\n",
       "         [1],\n",
       "         [1],\n",
       "         [1],\n",
       "         [1],\n",
       "         [1],\n",
       "         [1],\n",
       "         [1],\n",
       "         [1],\n",
       "         [1],\n",
       "         [1],\n",
       "         [1],\n",
       "         [1],\n",
       "         [1],\n",
       "         [1],\n",
       "         [1],\n",
       "         [1],\n",
       "         [1],\n",
       "         [2],\n",
       "         [1],\n",
       "         [1],\n",
       "         [1],\n",
       "         [1],\n",
       "         [1]], dtype=torch.int8))"
      ]
     },
     "execution_count": 23,
     "metadata": {},
     "output_type": "execute_result"
    }
   ],
   "source": [
    "from fastai.data.core import DataLoaders\n",
    "\n",
    "dls = DataLoaders(trn_dl, val_dl)\n",
    "\n",
    "print(\"Sample batch:\")\n",
    "dls.one_batch()"
   ]
  },
  {
   "cell_type": "code",
   "execution_count": 24,
   "id": "foster-release",
   "metadata": {},
   "outputs": [],
   "source": [
    "from fastai.metrics import F1Score, Precision, Recall, accuracy\n",
    "\n",
    "# load the tabular_pandas data through the tabular_learner\n",
    "layers = [2048, 1024, 32, 2]\n",
    "\n",
    "# tabular learner configuration\n",
    "config = tabular_config(ps=[0.01, 0.01, 0.01, 0.01], embed_p=0.01)\n",
    "\n",
    "# create tabular learner\n",
    "learn = tabular_learner(\n",
    "    dls,\n",
    "    layers=layers,\n",
    "    emb_szs=emb_szs,\n",
    "    config=config,\n",
    "    metrics=[accuracy,\n",
    "             Precision(average='macro'),\n",
    "             Recall(average='macro'),\n",
    "             F1Score(average='macro')])"
   ]
  },
  {
   "cell_type": "code",
   "execution_count": 25,
   "id": "living-prayer",
   "metadata": {},
   "outputs": [
    {
     "data": {
      "text/html": [
       "<table border=\"1\" class=\"dataframe\">\n",
       "  <thead>\n",
       "    <tr style=\"text-align: left;\">\n",
       "      <th>epoch</th>\n",
       "      <th>train_loss</th>\n",
       "      <th>valid_loss</th>\n",
       "      <th>accuracy</th>\n",
       "      <th>precision_score</th>\n",
       "      <th>recall_score</th>\n",
       "      <th>f1_score</th>\n",
       "      <th>time</th>\n",
       "    </tr>\n",
       "  </thead>\n",
       "  <tbody>\n",
       "    <tr>\n",
       "      <td>0</td>\n",
       "      <td>0.806828</td>\n",
       "      <td>0.756364</td>\n",
       "      <td>0.904913</td>\n",
       "      <td>0.302991</td>\n",
       "      <td>0.261631</td>\n",
       "      <td>0.260999</td>\n",
       "      <td>00:12</td>\n",
       "    </tr>\n",
       "    <tr>\n",
       "      <td>1</td>\n",
       "      <td>0.677677</td>\n",
       "      <td>0.655627</td>\n",
       "      <td>0.895404</td>\n",
       "      <td>0.302116</td>\n",
       "      <td>0.278662</td>\n",
       "      <td>0.283925</td>\n",
       "      <td>00:12</td>\n",
       "    </tr>\n",
       "    <tr>\n",
       "      <td>2</td>\n",
       "      <td>0.506549</td>\n",
       "      <td>0.485280</td>\n",
       "      <td>0.902377</td>\n",
       "      <td>0.327243</td>\n",
       "      <td>0.304697</td>\n",
       "      <td>0.312471</td>\n",
       "      <td>00:12</td>\n",
       "    </tr>\n",
       "    <tr>\n",
       "      <td>3</td>\n",
       "      <td>0.363703</td>\n",
       "      <td>0.376437</td>\n",
       "      <td>0.886846</td>\n",
       "      <td>0.315049</td>\n",
       "      <td>0.313818</td>\n",
       "      <td>0.314320</td>\n",
       "      <td>00:12</td>\n",
       "    </tr>\n",
       "    <tr>\n",
       "      <td>4</td>\n",
       "      <td>0.277687</td>\n",
       "      <td>0.327707</td>\n",
       "      <td>0.888431</td>\n",
       "      <td>0.327265</td>\n",
       "      <td>0.332117</td>\n",
       "      <td>0.329668</td>\n",
       "      <td>00:12</td>\n",
       "    </tr>\n",
       "    <tr>\n",
       "      <td>5</td>\n",
       "      <td>0.212103</td>\n",
       "      <td>0.832479</td>\n",
       "      <td>0.903011</td>\n",
       "      <td>0.343192</td>\n",
       "      <td>0.345062</td>\n",
       "      <td>0.344113</td>\n",
       "      <td>00:13</td>\n",
       "    </tr>\n",
       "    <tr>\n",
       "      <td>6</td>\n",
       "      <td>0.178462</td>\n",
       "      <td>0.317727</td>\n",
       "      <td>0.894453</td>\n",
       "      <td>0.331204</td>\n",
       "      <td>0.332882</td>\n",
       "      <td>0.332026</td>\n",
       "      <td>00:13</td>\n",
       "    </tr>\n",
       "    <tr>\n",
       "      <td>7</td>\n",
       "      <td>0.148735</td>\n",
       "      <td>0.292780</td>\n",
       "      <td>0.902694</td>\n",
       "      <td>0.345795</td>\n",
       "      <td>0.345868</td>\n",
       "      <td>0.345791</td>\n",
       "      <td>00:13</td>\n",
       "    </tr>\n",
       "    <tr>\n",
       "      <td>8</td>\n",
       "      <td>0.129037</td>\n",
       "      <td>0.280993</td>\n",
       "      <td>0.900475</td>\n",
       "      <td>0.342915</td>\n",
       "      <td>0.341685</td>\n",
       "      <td>0.342223</td>\n",
       "      <td>00:12</td>\n",
       "    </tr>\n",
       "    <tr>\n",
       "      <td>9</td>\n",
       "      <td>0.109970</td>\n",
       "      <td>0.324098</td>\n",
       "      <td>0.907448</td>\n",
       "      <td>0.353913</td>\n",
       "      <td>0.344497</td>\n",
       "      <td>0.348674</td>\n",
       "      <td>00:12</td>\n",
       "    </tr>\n",
       "    <tr>\n",
       "      <td>10</td>\n",
       "      <td>0.100412</td>\n",
       "      <td>0.305032</td>\n",
       "      <td>0.907132</td>\n",
       "      <td>0.354278</td>\n",
       "      <td>0.353342</td>\n",
       "      <td>0.353749</td>\n",
       "      <td>00:12</td>\n",
       "    </tr>\n",
       "    <tr>\n",
       "      <td>11</td>\n",
       "      <td>0.093154</td>\n",
       "      <td>0.299706</td>\n",
       "      <td>0.908399</td>\n",
       "      <td>0.356122</td>\n",
       "      <td>0.349225</td>\n",
       "      <td>0.352343</td>\n",
       "      <td>00:12</td>\n",
       "    </tr>\n",
       "  </tbody>\n",
       "</table>"
      ],
      "text/plain": [
       "<IPython.core.display.HTML object>"
      ]
     },
     "metadata": {},
     "output_type": "display_data"
    },
    {
     "name": "stderr",
     "output_type": "stream",
     "text": [
      "/Users/seanmacrae/mobius/.venv/lib/python3.6/site-packages/sklearn/metrics/_classification.py:1245: UndefinedMetricWarning: Precision is ill-defined and being set to 0.0 in labels with no predicted samples. Use `zero_division` parameter to control this behavior.\n",
      "  _warn_prf(average, modifier, msg_start, len(result))\n",
      "/Users/seanmacrae/mobius/.venv/lib/python3.6/site-packages/sklearn/metrics/_classification.py:1245: UndefinedMetricWarning: Precision is ill-defined and being set to 0.0 in labels with no predicted samples. Use `zero_division` parameter to control this behavior.\n",
      "  _warn_prf(average, modifier, msg_start, len(result))\n",
      "/Users/seanmacrae/mobius/.venv/lib/python3.6/site-packages/sklearn/metrics/_classification.py:1245: UndefinedMetricWarning: Precision is ill-defined and being set to 0.0 in labels with no predicted samples. Use `zero_division` parameter to control this behavior.\n",
      "  _warn_prf(average, modifier, msg_start, len(result))\n",
      "/Users/seanmacrae/mobius/.venv/lib/python3.6/site-packages/sklearn/metrics/_classification.py:1245: UndefinedMetricWarning: Precision is ill-defined and being set to 0.0 in labels with no predicted samples. Use `zero_division` parameter to control this behavior.\n",
      "  _warn_prf(average, modifier, msg_start, len(result))\n",
      "/Users/seanmacrae/mobius/.venv/lib/python3.6/site-packages/sklearn/metrics/_classification.py:1245: UndefinedMetricWarning: Precision is ill-defined and being set to 0.0 in labels with no predicted samples. Use `zero_division` parameter to control this behavior.\n",
      "  _warn_prf(average, modifier, msg_start, len(result))\n",
      "/Users/seanmacrae/mobius/.venv/lib/python3.6/site-packages/sklearn/metrics/_classification.py:1245: UndefinedMetricWarning: Precision is ill-defined and being set to 0.0 in labels with no predicted samples. Use `zero_division` parameter to control this behavior.\n",
      "  _warn_prf(average, modifier, msg_start, len(result))\n",
      "/Users/seanmacrae/mobius/.venv/lib/python3.6/site-packages/sklearn/metrics/_classification.py:1245: UndefinedMetricWarning: Precision is ill-defined and being set to 0.0 in labels with no predicted samples. Use `zero_division` parameter to control this behavior.\n",
      "  _warn_prf(average, modifier, msg_start, len(result))\n",
      "/Users/seanmacrae/mobius/.venv/lib/python3.6/site-packages/sklearn/metrics/_classification.py:1245: UndefinedMetricWarning: Precision is ill-defined and being set to 0.0 in labels with no predicted samples. Use `zero_division` parameter to control this behavior.\n",
      "  _warn_prf(average, modifier, msg_start, len(result))\n",
      "/Users/seanmacrae/mobius/.venv/lib/python3.6/site-packages/sklearn/metrics/_classification.py:1245: UndefinedMetricWarning: Precision is ill-defined and being set to 0.0 in labels with no predicted samples. Use `zero_division` parameter to control this behavior.\n",
      "  _warn_prf(average, modifier, msg_start, len(result))\n",
      "/Users/seanmacrae/mobius/.venv/lib/python3.6/site-packages/sklearn/metrics/_classification.py:1245: UndefinedMetricWarning: Precision is ill-defined and being set to 0.0 in labels with no predicted samples. Use `zero_division` parameter to control this behavior.\n",
      "  _warn_prf(average, modifier, msg_start, len(result))\n",
      "/Users/seanmacrae/mobius/.venv/lib/python3.6/site-packages/sklearn/metrics/_classification.py:1245: UndefinedMetricWarning: Precision is ill-defined and being set to 0.0 in labels with no predicted samples. Use `zero_division` parameter to control this behavior.\n",
      "  _warn_prf(average, modifier, msg_start, len(result))\n",
      "/Users/seanmacrae/mobius/.venv/lib/python3.6/site-packages/sklearn/metrics/_classification.py:1245: UndefinedMetricWarning: Precision is ill-defined and being set to 0.0 in labels with no predicted samples. Use `zero_division` parameter to control this behavior.\n",
      "  _warn_prf(average, modifier, msg_start, len(result))\n"
     ]
    }
   ],
   "source": [
    "learn.fit_one_cycle(n_epoch=12)"
   ]
  },
  {
   "cell_type": "code",
   "execution_count": 26,
   "id": "split-finger",
   "metadata": {},
   "outputs": [
    {
     "data": {
      "text/html": [],
      "text/plain": [
       "<IPython.core.display.HTML object>"
      ]
     },
     "metadata": {},
     "output_type": "display_data"
    },
    {
     "data": {
      "text/html": [
       "<table border=\"1\" class=\"dataframe\">\n",
       "  <thead>\n",
       "    <tr style=\"text-align: left;\">\n",
       "      <th>epoch</th>\n",
       "      <th>train_loss</th>\n",
       "      <th>valid_loss</th>\n",
       "      <th>accuracy</th>\n",
       "      <th>precision_score</th>\n",
       "      <th>recall_score</th>\n",
       "      <th>f1_score</th>\n",
       "      <th>time</th>\n",
       "    </tr>\n",
       "  </thead>\n",
       "  <tbody>\n",
       "    <tr>\n",
       "      <td>0</td>\n",
       "      <td>0.092075</td>\n",
       "      <td>0.312546</td>\n",
       "      <td>0.908082</td>\n",
       "      <td>0.355712</td>\n",
       "      <td>0.350031</td>\n",
       "      <td>0.352615</td>\n",
       "      <td>00:12</td>\n",
       "    </tr>\n",
       "    <tr>\n",
       "      <td>1</td>\n",
       "      <td>0.092115</td>\n",
       "      <td>0.303426</td>\n",
       "      <td>0.907765</td>\n",
       "      <td>0.355315</td>\n",
       "      <td>0.350837</td>\n",
       "      <td>0.352882</td>\n",
       "      <td>00:12</td>\n",
       "    </tr>\n",
       "    <tr>\n",
       "      <td>2</td>\n",
       "      <td>0.095123</td>\n",
       "      <td>0.304687</td>\n",
       "      <td>0.906815</td>\n",
       "      <td>0.353395</td>\n",
       "      <td>0.347895</td>\n",
       "      <td>0.350393</td>\n",
       "      <td>00:12</td>\n",
       "    </tr>\n",
       "    <tr>\n",
       "      <td>3</td>\n",
       "      <td>0.093241</td>\n",
       "      <td>0.296073</td>\n",
       "      <td>0.908399</td>\n",
       "      <td>0.355780</td>\n",
       "      <td>0.346546</td>\n",
       "      <td>0.350658</td>\n",
       "      <td>00:12</td>\n",
       "    </tr>\n",
       "    <tr>\n",
       "      <td>4</td>\n",
       "      <td>0.092503</td>\n",
       "      <td>0.306621</td>\n",
       "      <td>0.907765</td>\n",
       "      <td>0.355072</td>\n",
       "      <td>0.349050</td>\n",
       "      <td>0.351783</td>\n",
       "      <td>00:12</td>\n",
       "    </tr>\n",
       "  </tbody>\n",
       "</table>"
      ],
      "text/plain": [
       "<IPython.core.display.HTML object>"
      ]
     },
     "metadata": {},
     "output_type": "display_data"
    },
    {
     "name": "stderr",
     "output_type": "stream",
     "text": [
      "/Users/seanmacrae/mobius/.venv/lib/python3.6/site-packages/sklearn/metrics/_classification.py:1245: UndefinedMetricWarning: Precision is ill-defined and being set to 0.0 in labels with no predicted samples. Use `zero_division` parameter to control this behavior.\n",
      "  _warn_prf(average, modifier, msg_start, len(result))\n",
      "/Users/seanmacrae/mobius/.venv/lib/python3.6/site-packages/sklearn/metrics/_classification.py:1245: UndefinedMetricWarning: Precision is ill-defined and being set to 0.0 in labels with no predicted samples. Use `zero_division` parameter to control this behavior.\n",
      "  _warn_prf(average, modifier, msg_start, len(result))\n",
      "/Users/seanmacrae/mobius/.venv/lib/python3.6/site-packages/sklearn/metrics/_classification.py:1245: UndefinedMetricWarning: Precision is ill-defined and being set to 0.0 in labels with no predicted samples. Use `zero_division` parameter to control this behavior.\n",
      "  _warn_prf(average, modifier, msg_start, len(result))\n",
      "/Users/seanmacrae/mobius/.venv/lib/python3.6/site-packages/sklearn/metrics/_classification.py:1245: UndefinedMetricWarning: Precision is ill-defined and being set to 0.0 in labels with no predicted samples. Use `zero_division` parameter to control this behavior.\n",
      "  _warn_prf(average, modifier, msg_start, len(result))\n",
      "/Users/seanmacrae/mobius/.venv/lib/python3.6/site-packages/sklearn/metrics/_classification.py:1245: UndefinedMetricWarning: Precision is ill-defined and being set to 0.0 in labels with no predicted samples. Use `zero_division` parameter to control this behavior.\n",
      "  _warn_prf(average, modifier, msg_start, len(result))\n"
     ]
    },
    {
     "data": {
      "image/png": "[encoded data removed]",
      "text/plain": [
       "<Figure size 432x288 with 1 Axes>"
      ]
     },
     "metadata": {
      "needs_background": "light"
     },
     "output_type": "display_data"
    }
   ],
   "source": [
    "lr_min, _ = learn.lr_find()\n",
    "learn.fit(n_epoch=5, lr=lr_min)"
   ]
  },
  {
   "cell_type": "code",
   "execution_count": 27,
   "id": "expanded-jerusalem",
   "metadata": {},
   "outputs": [],
   "source": [
    "learn.export(\"tabular_learn.pkl\")"
   ]
  },
  {
   "cell_type": "code",
   "execution_count": 28,
   "id": "certain-excitement",
   "metadata": {},
   "outputs": [
    {
     "name": "stdout",
     "output_type": "stream",
     "text": [
      "Before temperature - NLL: 0.307, ECE: 0.035\n",
      "Optimal temperature: 1.390\n",
      "After temperature - NLL: 0.276, ECE: 0.021\n"
     ]
    }
   ],
   "source": [
    "from mobius.calibration import ModelWithTemperature\n",
    "\n",
    "scaled_model = ModelWithTemperature(learn.model)\n",
    "scaled_model.set_temperature(val_dl)\n",
    "learn.model = scaled_model.model"
   ]
  },
  {
   "cell_type": "code",
   "execution_count": 29,
   "id": "senior-canberra",
   "metadata": {},
   "outputs": [
    {
     "data": {
      "text/html": [],
      "text/plain": [
       "<IPython.core.display.HTML object>"
      ]
     },
     "metadata": {},
     "output_type": "display_data"
    },
    {
     "name": "stderr",
     "output_type": "stream",
     "text": [
      "/Users/seanmacrae/mobius/.venv/lib/python3.6/site-packages/sklearn/metrics/_classification.py:1245: UndefinedMetricWarning: Precision is ill-defined and being set to 0.0 in labels with no predicted samples. Use `zero_division` parameter to control this behavior.\n",
      "  _warn_prf(average, modifier, msg_start, len(result))\n"
     ]
    }
   ],
   "source": [
    "# true species labels\n",
    "y_true=learn.dls.valid.items[\"label\"]\n",
    "\n",
    "# model scores and species predictions\n",
    "y_scores, *_ = learn.get_preds(dl=val_dl)\n",
    "preds = np.argmax(y_scores, 1).numpy()"
   ]
  },
  {
   "cell_type": "code",
   "execution_count": 30,
   "id": "subjective-convenience",
   "metadata": {},
   "outputs": [
    {
     "name": "stdout",
     "output_type": "stream",
     "text": [
      "First 20 species labels and predictions\n"
     ]
    },
    {
     "data": {
      "text/plain": [
       "[(1, 1),\n",
       " (1, 1),\n",
       " (2, 1),\n",
       " (1, 1),\n",
       " (1, 1),\n",
       " (2, 2),\n",
       " (1, 1),\n",
       " (1, 1),\n",
       " (1, 1),\n",
       " (1, 1)]"
      ]
     },
     "execution_count": 30,
     "metadata": {},
     "output_type": "execute_result"
    }
   ],
   "source": [
    "print(\"First 20 species labels and predictions\")\n",
    "list(zip(y_true, preds))[:10]"
   ]
  },
  {
   "cell_type": "code",
   "execution_count": 31,
   "id": "initial-lunch",
   "metadata": {},
   "outputs": [
    {
     "data": {
      "text/plain": [
       "0.9077654516640253"
      ]
     },
     "execution_count": 31,
     "metadata": {},
     "output_type": "execute_result"
    }
   ],
   "source": [
    "(y_true == preds).sum() / len(y_true)"
   ]
  },
  {
   "cell_type": "code",
   "execution_count": 32,
   "id": "colonial-relief",
   "metadata": {},
   "outputs": [],
   "source": [
    "# TODO: update roc-it with MultiClassClassification...\n",
    "\n",
    "# clf_metrics = BinaryClassification(\n",
    "#     y_true=y_true, y_scores=y_scores)\n",
    "\n",
    "# ths = clf_metrics.recall_curve(0.95)\n",
    "\n",
    "# clf_metrics.plot_confusion_matrix(\n",
    "#     ths=0.50,\n",
    "#     normalize=None,\n",
    "#     save_path=f'{hyperparams[\"artifact_dir\"]}/cm.png')\n",
    "\n",
    "# clf_metrics.plot_pr_curve(\n",
    "#     save_path=f'{hyperparams[\"artifact_dir\"]}/pr_curve.png')\n",
    "\n",
    "# clf_metrics.plot_roc_curve(\n",
    "#     save_path=f'{hyperparams[\"artifact_dir\"]}/roc_curve.png')"
   ]
  },
  {
   "cell_type": "markdown",
   "id": "accredited-equation",
   "metadata": {},
   "source": [
    "## Siamese Net\n",
    "\n",
    "To init a new `TabularSiameseDataset` object, we only need a `tabular_pandas` object from the fast.ai library."
   ]
  },
  {
   "cell_type": "code",
   "execution_count": 33,
   "id": "external-separation",
   "metadata": {},
   "outputs": [],
   "source": [
    "from mobius.datasets import TabularSiameseDataset\n",
    "\n",
    "# sds = TabularSiameseDataset(tabular_pandas)\n",
    "train_ds = TabularSiameseDataset(tabular_pandas.train)\n",
    "valid_ds = TabularSiameseDataset(tabular_pandas.valid)"
   ]
  },
  {
   "cell_type": "code",
   "execution_count": 34,
   "id": "moderate-provider",
   "metadata": {},
   "outputs": [
    {
     "data": {
      "text/plain": [
       "((tensor([   1,    1,    1,    1,    1,    1,    1,    1,    1,    1,    1,    1,\n",
       "             2,    2,    2,    1,    1,    1,    1,    1,    1,    1,    1,    2,\n",
       "             2,    1,    1,    1,    1,    1,    1,    1,    1,    1,    1,    1,\n",
       "             1,    1,    1,    1,    1, 1034,    5, 3936,  352,  245,    1,    1,\n",
       "             1,    1,    1,    1,    1,    1,    1,    1,    1,    1,    1,    1,\n",
       "             1,    1,    1,    1,    1,    1]),\n",
       "  tensor([ 1.1701,  1.3202,  0.6772, -0.0598, -0.0488,  0.3353,  0.1402, -0.5489,\n",
       "          -0.5302, -1.3684, -0.8597,  1.8885, -0.7169,  4.0904,  0.0478,  1.1992,\n",
       "          -0.0183, -0.0675, -0.0557,  0.2986, -1.1724,  0.7165, -0.1317, -0.3739,\n",
       "          -0.3637, -0.2024, -0.4042, -0.0871, -0.2067, -0.1311, -0.0860, -0.5462,\n",
       "          -0.7929, -0.6210, -0.0861, -0.2121, -0.7926, -0.6240, -0.6553, -0.6157,\n",
       "          -0.1909, -0.3330,  0.0000, -0.6729, -0.3992,  0.7263, -0.0694, -0.7092,\n",
       "          -0.4515,  0.2737,  1.8361,  2.5284, -0.0126,  4.5526, -0.1627, -2.4883,\n",
       "          -0.1106,  0.4472,  0.5427])),\n",
       " (tensor([   1,    1,    1,    1,    1,    1,    1,    1,    1,    1,    1,    1,\n",
       "             2,    2,    2,    2,    2,    1,    1,    2,    1,    2,    1,    2,\n",
       "             1,    1,    1,    2,    1,    1,    2,    1,    1,    1,    1,    2,\n",
       "             2,    1,    1,    1,    2, 1781,    5, 4108,  446,  245,    1,    1,\n",
       "             1,    1,    1,    1,    1,    1,    1,    1,    1,    1,    1,    2,\n",
       "             2,    2,    2,    2,    2,    2]),\n",
       "  tensor([ 3.2512,  3.2095,  0.9276, -0.0598, -0.0488, -0.3027,  1.4145, -0.5489,\n",
       "           0.6449, -0.3870,  0.1270,  0.5754, -0.7169,  0.1690,  2.3776,  2.6048,\n",
       "           0.1127,  1.0079,  0.0959, -0.1086,  0.2984,  2.1523, -0.1317,  3.7606,\n",
       "          -0.3637, -0.2024,  3.1585, -0.0871, -0.2067, -0.1311, -0.0860,  2.9838,\n",
       "           2.6352,  2.4250, -0.0861,  3.6856,  2.1252,  2.5951,  0.9528,  3.1719,\n",
       "          -0.1909, -0.3330,  0.0000,  2.9480,  3.7827,  3.3873, -0.0694,  2.8214,\n",
       "           3.3518,  2.3713, -0.2596, -0.2521, -0.0126, -0.3129, -0.1627,  0.1797,\n",
       "          -0.1106,  0.7679,  1.0104])),\n",
       " tensor(0))"
      ]
     },
     "execution_count": 34,
     "metadata": {},
     "output_type": "execute_result"
    }
   ],
   "source": [
    "train_ds.__getitem__(10)"
   ]
  },
  {
   "cell_type": "code",
   "execution_count": 35,
   "id": "southern-lottery",
   "metadata": {},
   "outputs": [],
   "source": [
    "dls = DataLoaders.from_dsets(train_ds, valid_ds, bs=32, device='cpu', num_workers=0)"
   ]
  },
  {
   "cell_type": "markdown",
   "id": "simplified-chapter",
   "metadata": {},
   "source": [
    "Siamese net encoder is the body of the Tabular net we just trained."
   ]
  },
  {
   "cell_type": "code",
   "execution_count": 36,
   "id": "advanced-currency",
   "metadata": {},
   "outputs": [],
   "source": [
    "import copy\n",
    "\n",
    "encoder = copy.copy(learn)\n",
    "encoder.model.layers = learn.model.layers[:-1]\n",
    "encoder_model = encoder.model"
   ]
  },
  {
   "cell_type": "markdown",
   "id": "worldwide-second",
   "metadata": {},
   "source": [
    "We create a new head that doubles the input shape to the last layer of the trained Tabular net, since the loss function will now compare 2 penguins. The size of the output shape is set by...???"
   ]
  },
  {
   "cell_type": "code",
   "execution_count": 37,
   "id": "advised-closure",
   "metadata": {},
   "outputs": [],
   "source": [
    "from fastai.layers import LinBnDrop\n",
    "\n",
    "head = LinBnDrop(n_in=layers[-1]*2,\n",
    "    n_out=8,  # size of output space\n",
    "    bn=True,\n",
    "    act=None)"
   ]
  },
  {
   "cell_type": "code",
   "execution_count": 38,
   "id": "announced-server",
   "metadata": {},
   "outputs": [],
   "source": [
    "from mobius.models import TabularSiameseModel\n",
    "\n",
    "model = TabularSiameseModel(encoder_model, head)"
   ]
  },
  {
   "cell_type": "code",
   "execution_count": 39,
   "id": "comparable-criminal",
   "metadata": {},
   "outputs": [],
   "source": [
    "from fastai.torch_basics import params\n",
    "from mobius.losses import ContrastiveLoss\n",
    "\n",
    "def siamese_splitter(model):\n",
    "    return [params(model.encoder), params(model.head)]\n",
    "\n",
    "def contrastive_loss_func(out, targ):\n",
    "    return ContrastiveLoss(margin=0.10)(out, targ.long())"
   ]
  },
  {
   "cell_type": "code",
   "execution_count": 40,
   "id": "after-thinking",
   "metadata": {},
   "outputs": [],
   "source": [
    "from fastai.learner import Learner\n",
    "\n",
    "siamese_learner = Learner(dls,\n",
    "    model,\n",
    "    model_dir=\".\",\n",
    "    loss_func=contrastive_loss_func,\n",
    "    splitter=siamese_splitter)"
   ]
  },
  {
   "cell_type": "code",
   "execution_count": 41,
   "id": "ethical-darkness",
   "metadata": {},
   "outputs": [
    {
     "data": {
      "text/html": [
       "<table border=\"1\" class=\"dataframe\">\n",
       "  <thead>\n",
       "    <tr style=\"text-align: left;\">\n",
       "      <th>epoch</th>\n",
       "      <th>train_loss</th>\n",
       "      <th>valid_loss</th>\n",
       "      <th>time</th>\n",
       "    </tr>\n",
       "  </thead>\n",
       "  <tbody>\n",
       "    <tr>\n",
       "      <td>0</td>\n",
       "      <td>3.386249</td>\n",
       "      <td>4.287244</td>\n",
       "      <td>23:50</td>\n",
       "    </tr>\n",
       "    <tr>\n",
       "      <td>1</td>\n",
       "      <td>0.976246</td>\n",
       "      <td>1.322839</td>\n",
       "      <td>23:22</td>\n",
       "    </tr>\n",
       "    <tr>\n",
       "      <td>2</td>\n",
       "      <td>0.240301</td>\n",
       "      <td>0.251905</td>\n",
       "      <td>23:15</td>\n",
       "    </tr>\n",
       "    <tr>\n",
       "      <td>3</td>\n",
       "      <td>0.096841</td>\n",
       "      <td>0.121199</td>\n",
       "      <td>23:42</td>\n",
       "    </tr>\n",
       "    <tr>\n",
       "      <td>4</td>\n",
       "      <td>0.116847</td>\n",
       "      <td>0.178102</td>\n",
       "      <td>24:47</td>\n",
       "    </tr>\n",
       "  </tbody>\n",
       "</table>"
      ],
      "text/plain": [
       "<IPython.core.display.HTML object>"
      ]
     },
     "metadata": {},
     "output_type": "display_data"
    }
   ],
   "source": [
    "# %debug\n",
    "siamese_learner.freeze()\n",
    "siamese_learner.fit_one_cycle(n_epoch=5)"
   ]
  },
  {
   "cell_type": "code",
   "execution_count": 43,
   "id": "prostate-vision",
   "metadata": {},
   "outputs": [],
   "source": [
    "# siamese_learner.unfreeze()\n",
    "# lr_min, _ = siamese_learner.lr_find()\n",
    "# siamese_learner.fit(n_epoch=5, lr=lr_min)"
   ]
  },
  {
   "cell_type": "code",
   "execution_count": 46,
   "id": "dynamic-accident",
   "metadata": {},
   "outputs": [],
   "source": [
    "# siamese_learner.save(\"snn_margin_20\")"
   ]
  },
  {
   "cell_type": "code",
   "execution_count": 47,
   "id": "growing-basement",
   "metadata": {},
   "outputs": [
    {
     "name": "stderr",
     "output_type": "stream",
     "text": [
      "  0%|          | 0/12619 [00:00<?, ?it/s]\n"
     ]
    },
    {
     "ename": "ValueError",
     "evalue": "Expected more than 1 value per channel when training, got input size torch.Size([1, 59])",
     "output_type": "error",
     "traceback": [
      "\u001b[0;31m---------------------------------------------------------------------------\u001b[0m",
      "\u001b[0;31mValueError\u001b[0m                                Traceback (most recent call last)",
      "\u001b[0;32m<ipython-input-47-2ea61bf6bde2>\u001b[0m in \u001b[0;36m<module>\u001b[0;34m\u001b[0m\n\u001b[1;32m     10\u001b[0m \u001b[0;34m\u001b[0m\u001b[0m\n\u001b[1;32m     11\u001b[0m     \u001b[0;31m# encode the household into output embedding space\u001b[0m\u001b[0;34m\u001b[0m\u001b[0;34m\u001b[0m\u001b[0;34m\u001b[0m\u001b[0m\n\u001b[0;32m---> 12\u001b[0;31m     \u001b[0mp_encode\u001b[0m \u001b[0;34m=\u001b[0m \u001b[0msiamese_learner\u001b[0m\u001b[0;34m.\u001b[0m\u001b[0mmodel\u001b[0m\u001b[0;34m.\u001b[0m\u001b[0mencode\u001b[0m\u001b[0;34m(\u001b[0m\u001b[0mp\u001b[0m\u001b[0;34m)\u001b[0m\u001b[0;34m\u001b[0m\u001b[0;34m\u001b[0m\u001b[0m\n\u001b[0m\u001b[1;32m     13\u001b[0m     \u001b[0mtrain_encoded\u001b[0m\u001b[0;34m.\u001b[0m\u001b[0mappend\u001b[0m\u001b[0;34m(\u001b[0m\u001b[0mp_encode\u001b[0m\u001b[0;34m)\u001b[0m\u001b[0;34m\u001b[0m\u001b[0;34m\u001b[0m\u001b[0m\n\u001b[1;32m     14\u001b[0m \u001b[0;34m\u001b[0m\u001b[0m\n",
      "\u001b[0;32m~/mobius/mobius/models.py\u001b[0m in \u001b[0;36mencode\u001b[0;34m(self, x)\u001b[0m\n\u001b[1;32m     15\u001b[0m \u001b[0;34m\u001b[0m\u001b[0m\n\u001b[1;32m     16\u001b[0m     \u001b[0;32mdef\u001b[0m \u001b[0mencode\u001b[0m\u001b[0;34m(\u001b[0m\u001b[0mself\u001b[0m\u001b[0;34m,\u001b[0m \u001b[0mx\u001b[0m\u001b[0;34m)\u001b[0m\u001b[0;34m:\u001b[0m\u001b[0;34m\u001b[0m\u001b[0;34m\u001b[0m\u001b[0m\n\u001b[0;32m---> 17\u001b[0;31m         \u001b[0;32mreturn\u001b[0m \u001b[0mself\u001b[0m\u001b[0;34m.\u001b[0m\u001b[0mencoder\u001b[0m\u001b[0;34m(\u001b[0m\u001b[0;34m*\u001b[0m\u001b[0mx\u001b[0m\u001b[0;34m)\u001b[0m\u001b[0;34m\u001b[0m\u001b[0;34m\u001b[0m\u001b[0m\n\u001b[0m",
      "\u001b[0;32m~/mobius/.venv/lib/python3.6/site-packages/torch/nn/modules/module.py\u001b[0m in \u001b[0;36m_call_impl\u001b[0;34m(self, *input, **kwargs)\u001b[0m\n\u001b[1;32m    725\u001b[0m             \u001b[0mresult\u001b[0m \u001b[0;34m=\u001b[0m \u001b[0mself\u001b[0m\u001b[0;34m.\u001b[0m\u001b[0m_slow_forward\u001b[0m\u001b[0;34m(\u001b[0m\u001b[0;34m*\u001b[0m\u001b[0minput\u001b[0m\u001b[0;34m,\u001b[0m \u001b[0;34m**\u001b[0m\u001b[0mkwargs\u001b[0m\u001b[0;34m)\u001b[0m\u001b[0;34m\u001b[0m\u001b[0;34m\u001b[0m\u001b[0m\n\u001b[1;32m    726\u001b[0m         \u001b[0;32melse\u001b[0m\u001b[0;34m:\u001b[0m\u001b[0;34m\u001b[0m\u001b[0;34m\u001b[0m\u001b[0m\n\u001b[0;32m--> 727\u001b[0;31m             \u001b[0mresult\u001b[0m \u001b[0;34m=\u001b[0m \u001b[0mself\u001b[0m\u001b[0;34m.\u001b[0m\u001b[0mforward\u001b[0m\u001b[0;34m(\u001b[0m\u001b[0;34m*\u001b[0m\u001b[0minput\u001b[0m\u001b[0;34m,\u001b[0m \u001b[0;34m**\u001b[0m\u001b[0mkwargs\u001b[0m\u001b[0;34m)\u001b[0m\u001b[0;34m\u001b[0m\u001b[0;34m\u001b[0m\u001b[0m\n\u001b[0m\u001b[1;32m    728\u001b[0m         for hook in itertools.chain(\n\u001b[1;32m    729\u001b[0m                 \u001b[0m_global_forward_hooks\u001b[0m\u001b[0;34m.\u001b[0m\u001b[0mvalues\u001b[0m\u001b[0;34m(\u001b[0m\u001b[0;34m)\u001b[0m\u001b[0;34m,\u001b[0m\u001b[0;34m\u001b[0m\u001b[0;34m\u001b[0m\u001b[0m\n",
      "\u001b[0;32m~/mobius/.venv/lib/python3.6/site-packages/fastai/tabular/model.py\u001b[0m in \u001b[0;36mforward\u001b[0;34m(self, x_cat, x_cont)\u001b[0m\n\u001b[1;32m     50\u001b[0m             \u001b[0mx\u001b[0m \u001b[0;34m=\u001b[0m \u001b[0mself\u001b[0m\u001b[0;34m.\u001b[0m\u001b[0memb_drop\u001b[0m\u001b[0;34m(\u001b[0m\u001b[0mx\u001b[0m\u001b[0;34m)\u001b[0m\u001b[0;34m\u001b[0m\u001b[0;34m\u001b[0m\u001b[0m\n\u001b[1;32m     51\u001b[0m         \u001b[0;32mif\u001b[0m \u001b[0mself\u001b[0m\u001b[0;34m.\u001b[0m\u001b[0mn_cont\u001b[0m \u001b[0;34m!=\u001b[0m \u001b[0;36m0\u001b[0m\u001b[0;34m:\u001b[0m\u001b[0;34m\u001b[0m\u001b[0;34m\u001b[0m\u001b[0m\n\u001b[0;32m---> 52\u001b[0;31m             \u001b[0;32mif\u001b[0m \u001b[0mself\u001b[0m\u001b[0;34m.\u001b[0m\u001b[0mbn_cont\u001b[0m \u001b[0;32mis\u001b[0m \u001b[0;32mnot\u001b[0m \u001b[0;32mNone\u001b[0m\u001b[0;34m:\u001b[0m \u001b[0mx_cont\u001b[0m \u001b[0;34m=\u001b[0m \u001b[0mself\u001b[0m\u001b[0;34m.\u001b[0m\u001b[0mbn_cont\u001b[0m\u001b[0;34m(\u001b[0m\u001b[0mx_cont\u001b[0m\u001b[0;34m)\u001b[0m\u001b[0;34m\u001b[0m\u001b[0;34m\u001b[0m\u001b[0m\n\u001b[0m\u001b[1;32m     53\u001b[0m             \u001b[0mx\u001b[0m \u001b[0;34m=\u001b[0m \u001b[0mtorch\u001b[0m\u001b[0;34m.\u001b[0m\u001b[0mcat\u001b[0m\u001b[0;34m(\u001b[0m\u001b[0;34m[\u001b[0m\u001b[0mx\u001b[0m\u001b[0;34m,\u001b[0m \u001b[0mx_cont\u001b[0m\u001b[0;34m]\u001b[0m\u001b[0;34m,\u001b[0m \u001b[0;36m1\u001b[0m\u001b[0;34m)\u001b[0m \u001b[0;32mif\u001b[0m \u001b[0mself\u001b[0m\u001b[0;34m.\u001b[0m\u001b[0mn_emb\u001b[0m \u001b[0;34m!=\u001b[0m \u001b[0;36m0\u001b[0m \u001b[0;32melse\u001b[0m \u001b[0mx_cont\u001b[0m\u001b[0;34m\u001b[0m\u001b[0;34m\u001b[0m\u001b[0m\n\u001b[1;32m     54\u001b[0m         \u001b[0;32mreturn\u001b[0m \u001b[0mself\u001b[0m\u001b[0;34m.\u001b[0m\u001b[0mlayers\u001b[0m\u001b[0;34m(\u001b[0m\u001b[0mx\u001b[0m\u001b[0;34m)\u001b[0m\u001b[0;34m\u001b[0m\u001b[0;34m\u001b[0m\u001b[0m\n",
      "\u001b[0;32m~/mobius/.venv/lib/python3.6/site-packages/torch/nn/modules/module.py\u001b[0m in \u001b[0;36m_call_impl\u001b[0;34m(self, *input, **kwargs)\u001b[0m\n\u001b[1;32m    725\u001b[0m             \u001b[0mresult\u001b[0m \u001b[0;34m=\u001b[0m \u001b[0mself\u001b[0m\u001b[0;34m.\u001b[0m\u001b[0m_slow_forward\u001b[0m\u001b[0;34m(\u001b[0m\u001b[0;34m*\u001b[0m\u001b[0minput\u001b[0m\u001b[0;34m,\u001b[0m \u001b[0;34m**\u001b[0m\u001b[0mkwargs\u001b[0m\u001b[0;34m)\u001b[0m\u001b[0;34m\u001b[0m\u001b[0;34m\u001b[0m\u001b[0m\n\u001b[1;32m    726\u001b[0m         \u001b[0;32melse\u001b[0m\u001b[0;34m:\u001b[0m\u001b[0;34m\u001b[0m\u001b[0;34m\u001b[0m\u001b[0m\n\u001b[0;32m--> 727\u001b[0;31m             \u001b[0mresult\u001b[0m \u001b[0;34m=\u001b[0m \u001b[0mself\u001b[0m\u001b[0;34m.\u001b[0m\u001b[0mforward\u001b[0m\u001b[0;34m(\u001b[0m\u001b[0;34m*\u001b[0m\u001b[0minput\u001b[0m\u001b[0;34m,\u001b[0m \u001b[0;34m**\u001b[0m\u001b[0mkwargs\u001b[0m\u001b[0;34m)\u001b[0m\u001b[0;34m\u001b[0m\u001b[0;34m\u001b[0m\u001b[0m\n\u001b[0m\u001b[1;32m    728\u001b[0m         for hook in itertools.chain(\n\u001b[1;32m    729\u001b[0m                 \u001b[0m_global_forward_hooks\u001b[0m\u001b[0;34m.\u001b[0m\u001b[0mvalues\u001b[0m\u001b[0;34m(\u001b[0m\u001b[0;34m)\u001b[0m\u001b[0;34m,\u001b[0m\u001b[0;34m\u001b[0m\u001b[0;34m\u001b[0m\u001b[0m\n",
      "\u001b[0;32m~/mobius/.venv/lib/python3.6/site-packages/torch/nn/modules/batchnorm.py\u001b[0m in \u001b[0;36mforward\u001b[0;34m(self, input)\u001b[0m\n\u001b[1;32m    134\u001b[0m             \u001b[0mself\u001b[0m\u001b[0;34m.\u001b[0m\u001b[0mrunning_mean\u001b[0m \u001b[0;32mif\u001b[0m \u001b[0;32mnot\u001b[0m \u001b[0mself\u001b[0m\u001b[0;34m.\u001b[0m\u001b[0mtraining\u001b[0m \u001b[0;32mor\u001b[0m \u001b[0mself\u001b[0m\u001b[0;34m.\u001b[0m\u001b[0mtrack_running_stats\u001b[0m \u001b[0;32melse\u001b[0m \u001b[0;32mNone\u001b[0m\u001b[0;34m,\u001b[0m\u001b[0;34m\u001b[0m\u001b[0;34m\u001b[0m\u001b[0m\n\u001b[1;32m    135\u001b[0m             \u001b[0mself\u001b[0m\u001b[0;34m.\u001b[0m\u001b[0mrunning_var\u001b[0m \u001b[0;32mif\u001b[0m \u001b[0;32mnot\u001b[0m \u001b[0mself\u001b[0m\u001b[0;34m.\u001b[0m\u001b[0mtraining\u001b[0m \u001b[0;32mor\u001b[0m \u001b[0mself\u001b[0m\u001b[0;34m.\u001b[0m\u001b[0mtrack_running_stats\u001b[0m \u001b[0;32melse\u001b[0m \u001b[0;32mNone\u001b[0m\u001b[0;34m,\u001b[0m\u001b[0;34m\u001b[0m\u001b[0;34m\u001b[0m\u001b[0m\n\u001b[0;32m--> 136\u001b[0;31m             self.weight, self.bias, bn_training, exponential_average_factor, self.eps)\n\u001b[0m\u001b[1;32m    137\u001b[0m \u001b[0;34m\u001b[0m\u001b[0m\n\u001b[1;32m    138\u001b[0m \u001b[0;34m\u001b[0m\u001b[0m\n",
      "\u001b[0;32m~/mobius/.venv/lib/python3.6/site-packages/torch/nn/functional.py\u001b[0m in \u001b[0;36mbatch_norm\u001b[0;34m(input, running_mean, running_var, weight, bias, training, momentum, eps)\u001b[0m\n\u001b[1;32m   2052\u001b[0m                 bias=bias, training=training, momentum=momentum, eps=eps)\n\u001b[1;32m   2053\u001b[0m     \u001b[0;32mif\u001b[0m \u001b[0mtraining\u001b[0m\u001b[0;34m:\u001b[0m\u001b[0;34m\u001b[0m\u001b[0;34m\u001b[0m\u001b[0m\n\u001b[0;32m-> 2054\u001b[0;31m         \u001b[0m_verify_batch_size\u001b[0m\u001b[0;34m(\u001b[0m\u001b[0minput\u001b[0m\u001b[0;34m.\u001b[0m\u001b[0msize\u001b[0m\u001b[0;34m(\u001b[0m\u001b[0;34m)\u001b[0m\u001b[0;34m)\u001b[0m\u001b[0;34m\u001b[0m\u001b[0;34m\u001b[0m\u001b[0m\n\u001b[0m\u001b[1;32m   2055\u001b[0m \u001b[0;34m\u001b[0m\u001b[0m\n\u001b[1;32m   2056\u001b[0m     return torch.batch_norm(\n",
      "\u001b[0;32m~/mobius/.venv/lib/python3.6/site-packages/torch/nn/functional.py\u001b[0m in \u001b[0;36m_verify_batch_size\u001b[0;34m(size)\u001b[0m\n\u001b[1;32m   2035\u001b[0m         \u001b[0msize_prods\u001b[0m \u001b[0;34m*=\u001b[0m \u001b[0msize\u001b[0m\u001b[0;34m[\u001b[0m\u001b[0mi\u001b[0m \u001b[0;34m+\u001b[0m \u001b[0;36m2\u001b[0m\u001b[0;34m]\u001b[0m\u001b[0;34m\u001b[0m\u001b[0;34m\u001b[0m\u001b[0m\n\u001b[1;32m   2036\u001b[0m     \u001b[0;32mif\u001b[0m \u001b[0msize_prods\u001b[0m \u001b[0;34m==\u001b[0m \u001b[0;36m1\u001b[0m\u001b[0;34m:\u001b[0m\u001b[0;34m\u001b[0m\u001b[0;34m\u001b[0m\u001b[0m\n\u001b[0;32m-> 2037\u001b[0;31m         \u001b[0;32mraise\u001b[0m \u001b[0mValueError\u001b[0m\u001b[0;34m(\u001b[0m\u001b[0;34m'Expected more than 1 value per channel when training, got input size {}'\u001b[0m\u001b[0;34m.\u001b[0m\u001b[0mformat\u001b[0m\u001b[0;34m(\u001b[0m\u001b[0msize\u001b[0m\u001b[0;34m)\u001b[0m\u001b[0;34m)\u001b[0m\u001b[0;34m\u001b[0m\u001b[0;34m\u001b[0m\u001b[0m\n\u001b[0m\u001b[1;32m   2038\u001b[0m \u001b[0;34m\u001b[0m\u001b[0m\n\u001b[1;32m   2039\u001b[0m \u001b[0;34m\u001b[0m\u001b[0m\n",
      "\u001b[0;31mValueError\u001b[0m: Expected more than 1 value per channel when training, got input size torch.Size([1, 59])"
     ]
    }
   ],
   "source": [
    "\n",
    "from tqdm import tqdm\n",
    "\n",
    "train_encoded = list()\n",
    "for i in tqdm(range(len(dls.train_ds.tabular_pandas))):\n",
    "    # get ith point from the training set\n",
    "    p, _, _ = dls.train_ds.get_items(i, 0)\n",
    "\n",
    "    # rehsape into mini-batch size 1\n",
    "    p = p[0].reshape(1, -1), p[1].reshape(1, -1)\n",
    "\n",
    "    # encode the household into output embedding space\n",
    "    p_encode = siamese_learner.model.encode(p)\n",
    "    train_encoded.append(p_encode)\n",
    "    \n",
    "ids = dls.train.get_idxs()\n",
    "y_train_labels = dls.train.tabular_pandas[\"label\"]"
   ]
  },
  {
   "cell_type": "code",
   "execution_count": null,
   "id": "incorporate-rendering",
   "metadata": {},
   "outputs": [],
   "source": [
    "import torch\n",
    "import pandas as pd\n",
    "\n",
    "train_encoded_df = pd.DataFrame(torch.stack(train_encoded).squeeze())"
   ]
  },
  {
   "cell_type": "code",
   "execution_count": null,
   "id": "ecological-portable",
   "metadata": {},
   "outputs": [],
   "source": [
    "train_encoded_df"
   ]
  },
  {
   "cell_type": "code",
   "execution_count": null,
   "id": "hydraulic-jungle",
   "metadata": {},
   "outputs": [],
   "source": [
    "# train_encoded_df[0].values"
   ]
  },
  {
   "cell_type": "code",
   "execution_count": null,
   "id": "persistent-lesbian",
   "metadata": {},
   "outputs": [],
   "source": [
    "!pip install seaborn"
   ]
  },
  {
   "cell_type": "code",
   "execution_count": null,
   "id": "binding-confidentiality",
   "metadata": {},
   "outputs": [],
   "source": [
    "import seaborn as sns\n",
    "from sklearn.manifold import TSNE\n",
    "sns.set(rc={'figure.figsize':(11.7,8.27)})\n",
    "\n",
    "sns.scatterplot(x=train_encoded_df[0].values,\n",
    "                y=train_encoded_df[1].values,\n",
    "                hue=y_train_labels, \n",
    "                legend='full', \n",
    "                palette=\"tab10\")"
   ]
  },
  {
   "cell_type": "code",
   "execution_count": null,
   "id": "joint-standard",
   "metadata": {},
   "outputs": [],
   "source": [
    "import seaborn as sns\n",
    "from sklearn.manifold import TSNE\n",
    "sns.set(rc={'figure.figsize':(11.7,8.27)})\n",
    "\n",
    "tsne = TSNE()\n",
    "encoded_train_tsne = tsne.fit_transform(train_encoded_df.values)"
   ]
  },
  {
   "cell_type": "code",
   "execution_count": null,
   "id": "temporal-scoop",
   "metadata": {},
   "outputs": [],
   "source": [
    "sns.scatterplot(x=encoded_train_tsne[:,0],\n",
    "                y=encoded_train_tsne[:,1],\n",
    "                hue=y_train_labels, \n",
    "                legend='full', \n",
    "                palette=\"tab10\")"
   ]
  },
  {
   "cell_type": "code",
   "execution_count": null,
   "id": "surprising-forum",
   "metadata": {},
   "outputs": [],
   "source": [
    "from sklearn.metrics import f1_score, make_scorer\n",
    "f1 = make_scorer(f1_score , average='macro')\n",
    "\n",
    "from sklearn.model_selection import GridSearchCV\n",
    "from sklearn.ensemble import GradientBoostingClassifier\n",
    "\n",
    "parameters = {\n",
    "    \"learning_rate\": [1e-1, 1e-2, 1e-3],\n",
    "    \"max_depth\":[3, 5, 8, 10],\n",
    "    \"n_estimators\":[50, 100]\n",
    "    }\n",
    "\n",
    "clf = GridSearchCV(GradientBoostingClassifier(), parameters, scoring=f1, cv=5, n_jobs=-1)\n",
    "clf.fit(train_encoded_df.values, y_train_labels)\n",
    "\n",
    "print(clf.score(train_encoded_df.values, y_train_labels))\n",
    "print(clf.best_params_)"
   ]
  },
  {
   "cell_type": "markdown",
   "id": "equivalent-platinum",
   "metadata": {},
   "source": [
    "## Experiment: Clustering Approach"
   ]
  },
  {
   "cell_type": "code",
   "execution_count": null,
   "id": "emerging-block",
   "metadata": {},
   "outputs": [],
   "source": [
    "# from sklearn.cluster import AgglomerativeClustering\n",
    "# import numpy as np\n",
    "\n",
    "# # TODO: grid search this...\n",
    "# clustering = AgglomerativeClustering(\n",
    "#     n_clusters=8, \n",
    "#     affinity=\"l1\", \n",
    "#     linkage=\"complete\").\\\n",
    "# fit(train_encoded_df.values)\n",
    "\n",
    "# clustering.labels_"
   ]
  },
  {
   "cell_type": "code",
   "execution_count": null,
   "id": "humanitarian-feeding",
   "metadata": {},
   "outputs": [],
   "source": [
    "# res = pd.DataFrame(zip(y_train_labels, clustering.labels_), columns=[\"true\", \"pred\"])"
   ]
  },
  {
   "cell_type": "code",
   "execution_count": null,
   "id": "billion-islam",
   "metadata": {},
   "outputs": [],
   "source": [
    "# res_counts = res.groupby([\"true\", \"pred\"]).apply(len).reset_index()\n",
    "# res_counts.columns = [\"true\", \"pred\", \"count\"]"
   ]
  },
  {
   "cell_type": "code",
   "execution_count": null,
   "id": "healthy-protection",
   "metadata": {},
   "outputs": [],
   "source": [
    "# # TODO: order the below for loops to start with largest clusters first\n",
    "# res_counts"
   ]
  },
  {
   "cell_type": "code",
   "execution_count": null,
   "id": "pleasant-scholarship",
   "metadata": {},
   "outputs": [],
   "source": [
    "# cluster2label = dict()\n",
    "# for pred in res_counts[\"pred\"].unique():\n",
    "#     thingy = res_counts[res_counts[\"pred\"] == pred].sort_values(\"count\", ascending=False)\n",
    "    \n",
    "#     for label in thingy[\"true\"].values:\n",
    "#         if label not in cluster2label.values():\n",
    "#             cluster2label.update({pred: label})\n",
    "    \n",
    "# for pred in res_counts[\"pred\"].unique():\n",
    "#     if pred not in cluster2label.keys():\n",
    "#         cluster2label.update({pred: None})"
   ]
  },
  {
   "cell_type": "code",
   "execution_count": null,
   "id": "suburban-tracy",
   "metadata": {},
   "outputs": [],
   "source": [
    "# cluster2label"
   ]
  },
  {
   "cell_type": "code",
   "execution_count": null,
   "id": "stopped-input",
   "metadata": {},
   "outputs": [],
   "source": [
    "# cluster_groups = res.groupby([\"true\", \"pred\"]).apply(len).reset_index().values\n",
    "# cluster_groups"
   ]
  },
  {
   "cell_type": "markdown",
   "id": "electric-blank",
   "metadata": {},
   "source": [
    "## Validation Set"
   ]
  },
  {
   "cell_type": "code",
   "execution_count": null,
   "id": "compact-bathroom",
   "metadata": {},
   "outputs": [],
   "source": [
    "from tqdm import tqdm\n",
    "\n",
    "valid_encoded = list()\n",
    "for i in tqdm(range(len(dls.valid_ds.tabular_pandas))):\n",
    "    # get ith point from the training set\n",
    "    p, _, _ = dls.valid_ds.get_items(i, 0)\n",
    "\n",
    "    # rehsape into mini-batch size 1\n",
    "    p = p[0].reshape(1, -1), p[1].reshape(1, -1)\n",
    "\n",
    "    # encode the household into output embedding space\n",
    "    p_encode = siamese_learner.model.encode(p)\n",
    "    valid_encoded.append(p_encode)\n",
    "    \n",
    "valid_ids = dls.valid.get_idxs()\n",
    "y_valid_labels = dls.valid.tabular_pandas[\"loan_status\"]"
   ]
  },
  {
   "cell_type": "code",
   "execution_count": null,
   "id": "worse-belfast",
   "metadata": {},
   "outputs": [],
   "source": [
    "valid_encoded_df = pd.DataFrame(torch.stack(valid_encoded).squeeze())"
   ]
  },
  {
   "cell_type": "code",
   "execution_count": null,
   "id": "rental-morris",
   "metadata": {},
   "outputs": [],
   "source": [
    "encoded_valid_tsne = tsne.fit_transform(valid_encoded_df.values)"
   ]
  },
  {
   "cell_type": "code",
   "execution_count": null,
   "id": "spare-dominican",
   "metadata": {},
   "outputs": [],
   "source": [
    "sns.scatterplot(x=encoded_valid_tsne[:,0],\n",
    "                y=encoded_valid_tsne[:,1],\n",
    "                hue=y_valid_labels, \n",
    "                legend='full', \n",
    "                palette=\"tab10\")"
   ]
  },
  {
   "cell_type": "code",
   "execution_count": null,
   "id": "typical-plastic",
   "metadata": {},
   "outputs": [],
   "source": [
    "res = pd.DataFrame(zip(clf.predict(valid_encoded_df), y_valid_labels), columns=[\"pred\", \"true\"])"
   ]
  },
  {
   "cell_type": "code",
   "execution_count": null,
   "id": "coastal-frost",
   "metadata": {},
   "outputs": [],
   "source": [
    "(res[\"pred\"] == res[\"true\"]).sum() / len(res)"
   ]
  },
  {
   "cell_type": "code",
   "execution_count": null,
   "id": "formed-light",
   "metadata": {},
   "outputs": [],
   "source": [
    "res"
   ]
  },
  {
   "cell_type": "code",
   "execution_count": null,
   "id": "social-saskatchewan",
   "metadata": {},
   "outputs": [],
   "source": [
    "from sklearn.metrics import precision_recall_fscore_support as multiclass_eval\n",
    "\n",
    "prec, recall, fbeta, _ = multiclass_eval(res[\"true\"].values, res[\"pred\"].values, average=\"macro\")\n",
    "\n",
    "f\"precision {prec}, recall {recall}, fbeta {fbeta}\""
   ]
  },
  {
   "cell_type": "code",
   "execution_count": null,
   "id": "violent-batch",
   "metadata": {},
   "outputs": [],
   "source": [
    "# import umap\n",
    "# import matplotlib.pyplot as plt\n",
    "\n",
    "# reducer = umap.UMAP()\n",
    "\n",
    "# embedding = reducer.fit_transform(valid_encoded_df.values)\n",
    "# embedding.shape\n",
    "\n",
    "# plt.scatter(\n",
    "#     embedding[:, 0],\n",
    "#     embedding[:, 1],\n",
    "#     c=[sns.color_palette()[x] for x in y_valid_labels.values])\n",
    "\n",
    "# plt.gca().set_aspect('equal', 'datalim')\n",
    "# plt.title('UMAP projection of the LC Loans', fontsize=24)"
   ]
  },
  {
   "cell_type": "code",
   "execution_count": null,
   "id": "sixth-capacity",
   "metadata": {},
   "outputs": [],
   "source": []
  },
  {
   "cell_type": "code",
   "execution_count": null,
   "id": "peaceful-julian",
   "metadata": {},
   "outputs": [],
   "source": []
  }
 ],
 "metadata": {
  "kernelspec": {
   "display_name": "mobius (venv)",
   "language": "python",
   "name": "mobius"
  },
  "language_info": {
   "codemirror_mode": {
    "name": "ipython",
    "version": 3
   },
   "file_extension": ".py",
   "mimetype": "text/x-python",
   "name": "python",
   "nbconvert_exporter": "python",
   "pygments_lexer": "ipython3",
   "version": "3.6.10"
  }
 },
 "nbformat": 4,
 "nbformat_minor": 5
}
