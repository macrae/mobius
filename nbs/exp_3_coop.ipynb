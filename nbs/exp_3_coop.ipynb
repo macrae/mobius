{
 "cells": [
  {
   "cell_type": "markdown",
   "id": "constitutional-dinner",
   "metadata": {},
   "source": [
    "## Siamese Neural Networks \n",
    "### for Supervised Clustering of High Dimensional Spaces"
   ]
  },
  {
   "cell_type": "code",
   "execution_count": 1,
   "id": "every-comparative",
   "metadata": {},
   "outputs": [
    {
     "name": "stdout",
     "output_type": "stream",
     "text": [
      "Python 3.6.10\n",
      "/Users/seanmacrae/mobius/.venv/bin/python\n"
     ]
    }
   ],
   "source": [
    "!python -V\n",
    "!which python"
   ]
  },
  {
   "cell_type": "code",
   "execution_count": 2,
   "id": "confidential-texture",
   "metadata": {},
   "outputs": [],
   "source": [
    "sql = \"\"\"\n",
    "SELECT\n",
    "  audience.*,\n",
    "  latest.address,\n",
    "  latest.city,\n",
    "  latest.state,\n",
    "  latest.zipcode,\n",
    "  latest.county,\n",
    "  latest.metroName,\n",
    "  latest.longitude,\n",
    "  latest.latitude,\n",
    "  realEstateInvestor,\n",
    "  personalInvestor\n",
    "FROM `tranquil-garage-139216.people.audience_dbusa_features` dbusa\n",
    "LEFT JOIN `tranquil-garage-139216.people.audience_20201012` audience ON audience.id = dbusa.id\n",
    "LEFT JOIN `tranquil-garage-139216.people.latest` latest ON latest.id = audience.id\n",
    "WHERE logsumHealthCause > 0 AND logAccreditedNetWorth > 6\n",
    "\"\"\""
   ]
  },
  {
   "cell_type": "code",
   "execution_count": 3,
   "id": "reduced-sacrifice",
   "metadata": {},
   "outputs": [],
   "source": [
    "# !pip install loaderbot"
   ]
  },
  {
   "cell_type": "code",
   "execution_count": 4,
   "id": "defined-arbitration",
   "metadata": {},
   "outputs": [],
   "source": [
    "cats = ['recentPurchaseDate',\n",
    "            'recentDivorceDate',\n",
    "            'recentDeathDate',\n",
    "            'isBoatOwner',\n",
    "            'isPlaneOwner',\n",
    "            'recentPhilanthropicGiftDate',\n",
    "            'recentFoundationAssociationDate',\n",
    "            'isFoundationOfficer',\n",
    "            'recentFoundationTrusteeDate',\n",
    "            'hasFoundationAssociation',\n",
    "            'hasCharityBoardMember',\n",
    "            'hasCharityOfficer',\n",
    "            'isMultiPropertyOwner',\n",
    "            'isRentalPropertyOwner',\n",
    "            'isHouseholdDebt',\n",
    "            'recentPoliticalContributionDate',\n",
    "            'isSmallBusinessOwner',\n",
    "            'isCharityBoardMember',\n",
    "            'isCharityOfficer',\n",
    "            'hasTrust',\n",
    "            'politicalDemocrat',\n",
    "            'politicalRepublican',\n",
    "            'politicalIndependent',\n",
    "            'isSFROwner',\n",
    "            'isCondoOwner',\n",
    "            'isRuralResidenceOwner',\n",
    "            'isArtsCause',\n",
    "            'isEducationCause',\n",
    "            'isEnvironmentalCause',\n",
    "            'isAnimalCause',\n",
    "            'isHealthCause',\n",
    "            'isHumanServicesCause',\n",
    "            'isInternationalCause',\n",
    "            'isSocialBenefitCause',\n",
    "            'isReligiousCause',\n",
    "            'is990Donation',\n",
    "            'isCoopDonation',\n",
    "            'isFECContribution',\n",
    "            'isStateContribution',\n",
    "            'lux_athletic',\n",
    "            'lux_flight',\n",
    "            'lux_goods',\n",
    "            'lux_travel',\n",
    "            'zipcode',\n",
    "            'realEstateInvestor',\n",
    "            'personalInvestor']\n",
    "\n",
    "dtype = {k: str for k in cats}"
   ]
  },
  {
   "cell_type": "code",
   "execution_count": 5,
   "id": "stock-flash",
   "metadata": {},
   "outputs": [
    {
     "name": "stderr",
     "output_type": "stream",
     "text": [
      "/Users/seanmacrae/mobius/.venv/lib/python3.6/site-packages/google/auth/_default.py:69: UserWarning: Your application has authenticated using end user credentials from Google Cloud SDK without a quota project. You might receive a \"quota exceeded\" or \"API not enabled\" error. We recommend you rerun `gcloud auth application-default login` and make sure a quota project is added. Or you can use service accounts instead. For more information about service accounts, see https://cloud.google.com/docs/authentication/\n",
      "  warnings.warn(_CLOUD_SDK_CREDENTIALS_WARNING)\n"
     ]
    }
   ],
   "source": [
    "import loaderbot.big_query as bq\n",
    "from google.cloud import bigquery, storage\n",
    "\n",
    "bigquery_client = bigquery.Client(project=\"tranquil-garage-139216\")\n",
    "storage_client = storage.Client(project=\"tranquil-garage-139216\")\n",
    "\n",
    "raw_data = bq.query_table_and_cache(\n",
    "            sql=sql,\n",
    "            df_dtype=dtype,\n",
    "            bigquery_client=bigquery_client,\n",
    "            storage_client=storage_client,\n",
    "    )"
   ]
  },
  {
   "cell_type": "code",
   "execution_count": 6,
   "id": "unlimited-directive",
   "metadata": {},
   "outputs": [
    {
     "data": {
      "text/plain": [
       "(584245, 125)"
      ]
     },
     "execution_count": 6,
     "metadata": {},
     "output_type": "execute_result"
    }
   ],
   "source": [
    "raw_data.shape"
   ]
  },
  {
   "cell_type": "code",
   "execution_count": 7,
   "id": "logical-synthetic",
   "metadata": {},
   "outputs": [
    {
     "data": {
      "text/html": [
       "<div>\n",
       "<style scoped>\n",
       "    .dataframe tbody tr th:only-of-type {\n",
       "        vertical-align: middle;\n",
       "    }\n",
       "\n",
       "    .dataframe tbody tr th {\n",
       "        vertical-align: top;\n",
       "    }\n",
       "\n",
       "    .dataframe thead th {\n",
       "        text-align: right;\n",
       "    }\n",
       "</style>\n",
       "<table border=\"1\" class=\"dataframe\">\n",
       "  <thead>\n",
       "    <tr style=\"text-align: right;\">\n",
       "      <th></th>\n",
       "      <th>id</th>\n",
       "      <th>logNetWorth</th>\n",
       "      <th>logAccreditedNetWorth</th>\n",
       "      <th>recentPurchaseDate</th>\n",
       "      <th>recentDivorceDate</th>\n",
       "      <th>recentDeathDate</th>\n",
       "      <th>isBoatOwner</th>\n",
       "      <th>isPlaneOwner</th>\n",
       "      <th>recentPhilanthropicGiftDate</th>\n",
       "      <th>recentFoundationAssociationDate</th>\n",
       "      <th>...</th>\n",
       "      <th>address</th>\n",
       "      <th>city</th>\n",
       "      <th>state</th>\n",
       "      <th>zipcode</th>\n",
       "      <th>county</th>\n",
       "      <th>metroName</th>\n",
       "      <th>longitude</th>\n",
       "      <th>latitude</th>\n",
       "      <th>realEstateInvestor</th>\n",
       "      <th>personalInvestor</th>\n",
       "    </tr>\n",
       "  </thead>\n",
       "  <tbody>\n",
       "    <tr>\n",
       "      <th>0</th>\n",
       "      <td>17dfe362f2a52fad7fc30688f883ed3c</td>\n",
       "      <td>6.317667</td>\n",
       "      <td>6.035153</td>\n",
       "      <td>0</td>\n",
       "      <td>0</td>\n",
       "      <td>0</td>\n",
       "      <td>0</td>\n",
       "      <td>0</td>\n",
       "      <td>0</td>\n",
       "      <td>0</td>\n",
       "      <td>...</td>\n",
       "      <td>11 WESTRIDGE DR</td>\n",
       "      <td>LAKE OSWEGO</td>\n",
       "      <td>OR</td>\n",
       "      <td>97034</td>\n",
       "      <td>Clackamas</td>\n",
       "      <td>PORTLAND-VANCOUVER-BEAVERTON, OR-WA</td>\n",
       "      <td>-122.714792</td>\n",
       "      <td>45.393171</td>\n",
       "      <td>0</td>\n",
       "      <td>1</td>\n",
       "    </tr>\n",
       "    <tr>\n",
       "      <th>1</th>\n",
       "      <td>f155fadc922eef19d0d3933fe1a53162</td>\n",
       "      <td>6.390421</td>\n",
       "      <td>6.249058</td>\n",
       "      <td>0</td>\n",
       "      <td>0</td>\n",
       "      <td>0</td>\n",
       "      <td>0</td>\n",
       "      <td>0</td>\n",
       "      <td>0</td>\n",
       "      <td>0</td>\n",
       "      <td>...</td>\n",
       "      <td>116 AUGUSTA DR</td>\n",
       "      <td>BROUSSARD</td>\n",
       "      <td>LA</td>\n",
       "      <td>70518</td>\n",
       "      <td>Lafayette</td>\n",
       "      <td>LAFAYETTE, LA</td>\n",
       "      <td>-91.946955</td>\n",
       "      <td>30.085969</td>\n",
       "      <td>1</td>\n",
       "      <td>1</td>\n",
       "    </tr>\n",
       "    <tr>\n",
       "      <th>2</th>\n",
       "      <td>6eb731db91258c929427e86bc5277ab7</td>\n",
       "      <td>6.490808</td>\n",
       "      <td>6.450590</td>\n",
       "      <td>1</td>\n",
       "      <td>0</td>\n",
       "      <td>0</td>\n",
       "      <td>0</td>\n",
       "      <td>0</td>\n",
       "      <td>0</td>\n",
       "      <td>0</td>\n",
       "      <td>...</td>\n",
       "      <td>13400 JUNEAU BLVD</td>\n",
       "      <td>ELM GROVE</td>\n",
       "      <td>WI</td>\n",
       "      <td>53122</td>\n",
       "      <td>Waukesha</td>\n",
       "      <td>MILWAUKEE-WAUKESHA-WEST ALLIS, WI</td>\n",
       "      <td>-88.079144</td>\n",
       "      <td>43.045960</td>\n",
       "      <td>0</td>\n",
       "      <td>1</td>\n",
       "    </tr>\n",
       "    <tr>\n",
       "      <th>3</th>\n",
       "      <td>dedaab4d0d5c038715a1020260eeca79</td>\n",
       "      <td>6.455325</td>\n",
       "      <td>6.275680</td>\n",
       "      <td>0</td>\n",
       "      <td>0</td>\n",
       "      <td>0</td>\n",
       "      <td>0</td>\n",
       "      <td>0</td>\n",
       "      <td>0</td>\n",
       "      <td>0</td>\n",
       "      <td>...</td>\n",
       "      <td>278 FINCH LN</td>\n",
       "      <td>SAUNDERSTOWN</td>\n",
       "      <td>RI</td>\n",
       "      <td>02874</td>\n",
       "      <td>Washington</td>\n",
       "      <td>PROVIDENCE-NEW BEDFORD-FALL RIVER, RI-MA</td>\n",
       "      <td>-71.476905</td>\n",
       "      <td>41.529689</td>\n",
       "      <td>0</td>\n",
       "      <td>0</td>\n",
       "    </tr>\n",
       "    <tr>\n",
       "      <th>4</th>\n",
       "      <td>afca333d749f7bcc869b3c9c11916733</td>\n",
       "      <td>6.661214</td>\n",
       "      <td>6.555541</td>\n",
       "      <td>0</td>\n",
       "      <td>0</td>\n",
       "      <td>0</td>\n",
       "      <td>0</td>\n",
       "      <td>0</td>\n",
       "      <td>0</td>\n",
       "      <td>0</td>\n",
       "      <td>...</td>\n",
       "      <td>1571 HICKS AVE</td>\n",
       "      <td>SAN JOSE</td>\n",
       "      <td>CA</td>\n",
       "      <td>95125</td>\n",
       "      <td>Santa Clara</td>\n",
       "      <td>SAN JOSE-SUNNYVALE-SANTA CLARA, CA</td>\n",
       "      <td>-121.905612</td>\n",
       "      <td>37.296508</td>\n",
       "      <td>0</td>\n",
       "      <td>1</td>\n",
       "    </tr>\n",
       "  </tbody>\n",
       "</table>\n",
       "<p>5 rows × 125 columns</p>\n",
       "</div>"
      ],
      "text/plain": [
       "                                 id  logNetWorth  logAccreditedNetWorth  \\\n",
       "0  17dfe362f2a52fad7fc30688f883ed3c     6.317667               6.035153   \n",
       "1  f155fadc922eef19d0d3933fe1a53162     6.390421               6.249058   \n",
       "2  6eb731db91258c929427e86bc5277ab7     6.490808               6.450590   \n",
       "3  dedaab4d0d5c038715a1020260eeca79     6.455325               6.275680   \n",
       "4  afca333d749f7bcc869b3c9c11916733     6.661214               6.555541   \n",
       "\n",
       "  recentPurchaseDate recentDivorceDate recentDeathDate isBoatOwner  \\\n",
       "0                  0                 0               0           0   \n",
       "1                  0                 0               0           0   \n",
       "2                  1                 0               0           0   \n",
       "3                  0                 0               0           0   \n",
       "4                  0                 0               0           0   \n",
       "\n",
       "  isPlaneOwner recentPhilanthropicGiftDate recentFoundationAssociationDate  \\\n",
       "0            0                           0                               0   \n",
       "1            0                           0                               0   \n",
       "2            0                           0                               0   \n",
       "3            0                           0                               0   \n",
       "4            0                           0                               0   \n",
       "\n",
       "   ...            address          city state zipcode       county  \\\n",
       "0  ...    11 WESTRIDGE DR   LAKE OSWEGO    OR   97034    Clackamas   \n",
       "1  ...     116 AUGUSTA DR     BROUSSARD    LA   70518    Lafayette   \n",
       "2  ...  13400 JUNEAU BLVD     ELM GROVE    WI   53122     Waukesha   \n",
       "3  ...       278 FINCH LN  SAUNDERSTOWN    RI   02874   Washington   \n",
       "4  ...     1571 HICKS AVE      SAN JOSE    CA   95125  Santa Clara   \n",
       "\n",
       "                                  metroName   longitude   latitude  \\\n",
       "0       PORTLAND-VANCOUVER-BEAVERTON, OR-WA -122.714792  45.393171   \n",
       "1                             LAFAYETTE, LA  -91.946955  30.085969   \n",
       "2         MILWAUKEE-WAUKESHA-WEST ALLIS, WI  -88.079144  43.045960   \n",
       "3  PROVIDENCE-NEW BEDFORD-FALL RIVER, RI-MA  -71.476905  41.529689   \n",
       "4        SAN JOSE-SUNNYVALE-SANTA CLARA, CA -121.905612  37.296508   \n",
       "\n",
       "   realEstateInvestor  personalInvestor  \n",
       "0                   0                 1  \n",
       "1                   1                 1  \n",
       "2                   0                 1  \n",
       "3                   0                 0  \n",
       "4                   0                 1  \n",
       "\n",
       "[5 rows x 125 columns]"
      ]
     },
     "execution_count": 7,
     "metadata": {},
     "output_type": "execute_result"
    }
   ],
   "source": [
    "raw_data.head()"
   ]
  },
  {
   "cell_type": "code",
   "execution_count": 8,
   "id": "martial-april",
   "metadata": {},
   "outputs": [],
   "source": [
    "import numpy as np\n",
    "\n",
    "def make_label(donation_amount):\n",
    "    if donation_amount <= np.log10(1_000):\n",
    "        return \"low\"\n",
    "    elif (donation_amount > np.log10(1_000)) & (donation_amount <= np.log10(25_000)):\n",
    "        return \"mid\"\n",
    "    elif (donation_amount > np.log10(25_000)) & (donation_amount <= np.log10(80_000)):\n",
    "        return \"high\"\n",
    "    elif donation_amount > np.log10(80_000):\n",
    "        return \"windfall\"\n",
    "    \n",
    "# engineer a donor label\n",
    "raw_data[\"label\"] = raw_data[\"logsumHealthCause\"].apply(lambda x: make_label(x))\n",
    "\n",
    "# shuffle the data\n",
    "raw_data = raw_data.sample(frac=1, random_state=42)"
   ]
  },
  {
   "cell_type": "code",
   "execution_count": 9,
   "id": "impossible-composite",
   "metadata": {},
   "outputs": [],
   "source": [
    "from sklearn.model_selection import train_test_split\n",
    "\n",
    "df, _ = train_test_split(\n",
    "    raw_data,\n",
    "    test_size=0.97,\n",
    "    stratify=raw_data[\"label\"])"
   ]
  },
  {
   "cell_type": "code",
   "execution_count": 10,
   "id": "ethical-slovak",
   "metadata": {},
   "outputs": [
    {
     "data": {
      "text/plain": [
       "(17527, 126)"
      ]
     },
     "execution_count": 10,
     "metadata": {},
     "output_type": "execute_result"
    }
   ],
   "source": [
    "df.shape"
   ]
  },
  {
   "cell_type": "code",
   "execution_count": 11,
   "id": "social-indication",
   "metadata": {},
   "outputs": [
    {
     "data": {
      "text/plain": [
       "low         0.908085\n",
       "mid         0.080790\n",
       "high        0.005648\n",
       "windfall    0.005477\n",
       "Name: label, dtype: float64"
      ]
     },
     "execution_count": 11,
     "metadata": {},
     "output_type": "execute_result"
    }
   ],
   "source": [
    "df[\"label\"].value_counts() / len(df)"
   ]
  },
  {
   "cell_type": "markdown",
   "id": "spoken-chicago",
   "metadata": {},
   "source": [
    "## Tabular Learner\n",
    "\n",
    "Before we train the Tabular Siamese Learner we will train baseline Tabular Learner for species classification... (why do we do this, exactly? can we just instantiate a Tabular Siamese Learner without a baseline Tabular Learner ???)\n",
    "\n",
    "Ah yes, to init a new `TabularSiameseModel` we need to provide an `encoder` and `head` and the Tabular Learner will act as the `encoder` we init the `TabularSiameseModel` with."
   ]
  },
  {
   "cell_type": "code",
   "execution_count": 12,
   "id": "convenient-gregory",
   "metadata": {},
   "outputs": [
    {
     "data": {
      "text/html": [
       "<div>\n",
       "<style scoped>\n",
       "    .dataframe tbody tr th:only-of-type {\n",
       "        vertical-align: middle;\n",
       "    }\n",
       "\n",
       "    .dataframe tbody tr th {\n",
       "        vertical-align: top;\n",
       "    }\n",
       "\n",
       "    .dataframe thead th {\n",
       "        text-align: right;\n",
       "    }\n",
       "</style>\n",
       "<table border=\"1\" class=\"dataframe\">\n",
       "  <thead>\n",
       "    <tr style=\"text-align: right;\">\n",
       "      <th></th>\n",
       "      <th>id</th>\n",
       "      <th>logNetWorth</th>\n",
       "      <th>logAccreditedNetWorth</th>\n",
       "      <th>recentPurchaseDate</th>\n",
       "      <th>recentDivorceDate</th>\n",
       "      <th>recentDeathDate</th>\n",
       "      <th>isBoatOwner</th>\n",
       "      <th>isPlaneOwner</th>\n",
       "      <th>recentPhilanthropicGiftDate</th>\n",
       "      <th>recentFoundationAssociationDate</th>\n",
       "      <th>...</th>\n",
       "      <th>city</th>\n",
       "      <th>state</th>\n",
       "      <th>zipcode</th>\n",
       "      <th>county</th>\n",
       "      <th>metroName</th>\n",
       "      <th>longitude</th>\n",
       "      <th>latitude</th>\n",
       "      <th>realEstateInvestor</th>\n",
       "      <th>personalInvestor</th>\n",
       "      <th>label</th>\n",
       "    </tr>\n",
       "  </thead>\n",
       "  <tbody>\n",
       "    <tr>\n",
       "      <th>548783</th>\n",
       "      <td>71a12f786b3141ff1b23cdff664c39a3</td>\n",
       "      <td>6.344622</td>\n",
       "      <td>6.235605</td>\n",
       "      <td>0</td>\n",
       "      <td>0</td>\n",
       "      <td>0</td>\n",
       "      <td>0</td>\n",
       "      <td>0</td>\n",
       "      <td>0</td>\n",
       "      <td>0</td>\n",
       "      <td>...</td>\n",
       "      <td>NORTHBROOK</td>\n",
       "      <td>IL</td>\n",
       "      <td>60062</td>\n",
       "      <td>Cook</td>\n",
       "      <td>CHICAGO-NAPERVILLE-JOLIET, IL-IN-WI</td>\n",
       "      <td>-87.859722</td>\n",
       "      <td>42.129493</td>\n",
       "      <td>0</td>\n",
       "      <td>1</td>\n",
       "      <td>low</td>\n",
       "    </tr>\n",
       "    <tr>\n",
       "      <th>123648</th>\n",
       "      <td>2272c49da2f789b969ac4589d1909d3c</td>\n",
       "      <td>6.372025</td>\n",
       "      <td>6.236263</td>\n",
       "      <td>0</td>\n",
       "      <td>0</td>\n",
       "      <td>0</td>\n",
       "      <td>0</td>\n",
       "      <td>0</td>\n",
       "      <td>1</td>\n",
       "      <td>0</td>\n",
       "      <td>...</td>\n",
       "      <td>FAIRFAX</td>\n",
       "      <td>VA</td>\n",
       "      <td>22032</td>\n",
       "      <td>Fairfax</td>\n",
       "      <td>WASHINGTON-ARLINGTON-ALEXANDRIA, DC-VA-MD-WV</td>\n",
       "      <td>-77.310502</td>\n",
       "      <td>38.823138</td>\n",
       "      <td>0</td>\n",
       "      <td>0</td>\n",
       "      <td>low</td>\n",
       "    </tr>\n",
       "    <tr>\n",
       "      <th>211779</th>\n",
       "      <td>ce4958885d4d93b58944c7d66aedc30e</td>\n",
       "      <td>6.782675</td>\n",
       "      <td>6.735207</td>\n",
       "      <td>0</td>\n",
       "      <td>0</td>\n",
       "      <td>0</td>\n",
       "      <td>0</td>\n",
       "      <td>0</td>\n",
       "      <td>0</td>\n",
       "      <td>0</td>\n",
       "      <td>...</td>\n",
       "      <td>MALIBU</td>\n",
       "      <td>CA</td>\n",
       "      <td>90265</td>\n",
       "      <td>Los Angeles</td>\n",
       "      <td>LOS ANGELES-LONG BEACH-SANTA ANA, CA</td>\n",
       "      <td>-118.869788</td>\n",
       "      <td>34.037488</td>\n",
       "      <td>0</td>\n",
       "      <td>0</td>\n",
       "      <td>low</td>\n",
       "    </tr>\n",
       "    <tr>\n",
       "      <th>426230</th>\n",
       "      <td>324af10084db05e1d3b80810bc349d92</td>\n",
       "      <td>7.130590</td>\n",
       "      <td>7.070444</td>\n",
       "      <td>0</td>\n",
       "      <td>0</td>\n",
       "      <td>0</td>\n",
       "      <td>0</td>\n",
       "      <td>0</td>\n",
       "      <td>0</td>\n",
       "      <td>0</td>\n",
       "      <td>...</td>\n",
       "      <td>BOSTON</td>\n",
       "      <td>MA</td>\n",
       "      <td>02115</td>\n",
       "      <td>Suffolk</td>\n",
       "      <td>BOSTON-CAMBRIDGE-QUINCY, MA-NH</td>\n",
       "      <td>-71.086326</td>\n",
       "      <td>42.351427</td>\n",
       "      <td>0</td>\n",
       "      <td>1</td>\n",
       "      <td>low</td>\n",
       "    </tr>\n",
       "    <tr>\n",
       "      <th>371950</th>\n",
       "      <td>1bc8a8515ea62df6d37325e0b9fd0aea</td>\n",
       "      <td>6.355048</td>\n",
       "      <td>6.075842</td>\n",
       "      <td>0</td>\n",
       "      <td>0</td>\n",
       "      <td>0</td>\n",
       "      <td>0</td>\n",
       "      <td>0</td>\n",
       "      <td>0</td>\n",
       "      <td>0</td>\n",
       "      <td>...</td>\n",
       "      <td>SCITUATE</td>\n",
       "      <td>MA</td>\n",
       "      <td>02066</td>\n",
       "      <td>Plymouth</td>\n",
       "      <td>BOSTON-CAMBRIDGE-QUINCY, MA-NH</td>\n",
       "      <td>-70.718505</td>\n",
       "      <td>42.191649</td>\n",
       "      <td>0</td>\n",
       "      <td>1</td>\n",
       "      <td>low</td>\n",
       "    </tr>\n",
       "  </tbody>\n",
       "</table>\n",
       "<p>5 rows × 126 columns</p>\n",
       "</div>"
      ],
      "text/plain": [
       "                                      id  logNetWorth  logAccreditedNetWorth  \\\n",
       "548783  71a12f786b3141ff1b23cdff664c39a3     6.344622               6.235605   \n",
       "123648  2272c49da2f789b969ac4589d1909d3c     6.372025               6.236263   \n",
       "211779  ce4958885d4d93b58944c7d66aedc30e     6.782675               6.735207   \n",
       "426230  324af10084db05e1d3b80810bc349d92     7.130590               7.070444   \n",
       "371950  1bc8a8515ea62df6d37325e0b9fd0aea     6.355048               6.075842   \n",
       "\n",
       "       recentPurchaseDate recentDivorceDate recentDeathDate isBoatOwner  \\\n",
       "548783                  0                 0               0           0   \n",
       "123648                  0                 0               0           0   \n",
       "211779                  0                 0               0           0   \n",
       "426230                  0                 0               0           0   \n",
       "371950                  0                 0               0           0   \n",
       "\n",
       "       isPlaneOwner recentPhilanthropicGiftDate  \\\n",
       "548783            0                           0   \n",
       "123648            0                           1   \n",
       "211779            0                           0   \n",
       "426230            0                           0   \n",
       "371950            0                           0   \n",
       "\n",
       "       recentFoundationAssociationDate  ...        city state zipcode  \\\n",
       "548783                               0  ...  NORTHBROOK    IL   60062   \n",
       "123648                               0  ...     FAIRFAX    VA   22032   \n",
       "211779                               0  ...      MALIBU    CA   90265   \n",
       "426230                               0  ...      BOSTON    MA   02115   \n",
       "371950                               0  ...    SCITUATE    MA   02066   \n",
       "\n",
       "             county                                     metroName   longitude  \\\n",
       "548783         Cook           CHICAGO-NAPERVILLE-JOLIET, IL-IN-WI  -87.859722   \n",
       "123648      Fairfax  WASHINGTON-ARLINGTON-ALEXANDRIA, DC-VA-MD-WV  -77.310502   \n",
       "211779  Los Angeles          LOS ANGELES-LONG BEACH-SANTA ANA, CA -118.869788   \n",
       "426230      Suffolk                BOSTON-CAMBRIDGE-QUINCY, MA-NH  -71.086326   \n",
       "371950     Plymouth                BOSTON-CAMBRIDGE-QUINCY, MA-NH  -70.718505   \n",
       "\n",
       "         latitude realEstateInvestor  personalInvestor  label  \n",
       "548783  42.129493                  0                 1    low  \n",
       "123648  38.823138                  0                 0    low  \n",
       "211779  34.037488                  0                 0    low  \n",
       "426230  42.351427                  0                 1    low  \n",
       "371950  42.191649                  0                 1    low  \n",
       "\n",
       "[5 rows x 126 columns]"
      ]
     },
     "execution_count": 12,
     "metadata": {},
     "output_type": "execute_result"
    }
   ],
   "source": [
    "df.head()"
   ]
  },
  {
   "cell_type": "code",
   "execution_count": 13,
   "id": "selected-attitude",
   "metadata": {},
   "outputs": [],
   "source": [
    "from sklearn.model_selection import train_test_split\n",
    "\n",
    "df_train, df_test = train_test_split(\n",
    "    df,\n",
    "    test_size=0.10,\n",
    "    stratify=df[\"label\"])\n",
    "\n",
    "df = df_train.copy()\n",
    "\n",
    "exclude_vars = [\"id\", \n",
    "                \"longitude\", \n",
    "                \"latitude\", \n",
    "                \"label\",\n",
    "                \"address\",\n",
    "                'logMaxDonationAmount',\n",
    "                'logSumDonationAmount',\n",
    "                'isHealthCause',\n",
    "                'isCoopDonation',\n",
    "                'logsumHealthCause',\n",
    "                'logMaxDonationAmount_1year',\n",
    "                'logSumDonationAmount_1year',\n",
    "                'logsumCOOPDonation_1year',\n",
    "                'logMaxDonationAmount_3year',\n",
    "                'logSumDonationAmount_3year',\n",
    "                'logsumCOOPDonation_3year',\n",
    "                'logMaxDonationAmount_5year',\n",
    "                'logSumDonationAmount_5year',\n",
    "                'logsumCOOPDonation_5year']"
   ]
  },
  {
   "cell_type": "code",
   "execution_count": 14,
   "id": "cosmetic-johnston",
   "metadata": {},
   "outputs": [],
   "source": [
    "from fastai.tabular.all import CategoryBlock\n",
    "                                \n",
    "y_names = [\"label\"]\n",
    "y_block = CategoryBlock()"
   ]
  },
  {
   "cell_type": "code",
   "execution_count": 15,
   "id": "fallen-lambda",
   "metadata": {},
   "outputs": [
    {
     "data": {
      "text/plain": [
       "{'recentPurchaseDate': 2,\n",
       " 'recentDivorceDate': 2,\n",
       " 'recentDeathDate': 2,\n",
       " 'isBoatOwner': 2,\n",
       " 'isPlaneOwner': 2,\n",
       " 'recentPhilanthropicGiftDate': 2,\n",
       " 'recentFoundationAssociationDate': 2,\n",
       " 'isFoundationOfficer': 2,\n",
       " 'recentFoundationTrusteeDate': 2,\n",
       " 'hasFoundationAssociation': 2,\n",
       " 'hasCharityBoardMember': 2,\n",
       " 'hasCharityOfficer': 2,\n",
       " 'isMultiPropertyOwner': 2,\n",
       " 'isRentalPropertyOwner': 2,\n",
       " 'isHouseholdDebt': 2,\n",
       " 'recentPoliticalContributionDate': 2,\n",
       " 'isSmallBusinessOwner': 2,\n",
       " 'isCharityBoardMember': 2,\n",
       " 'isCharityOfficer': 2,\n",
       " 'hasTrust': 2,\n",
       " 'politicalDemocrat': 2,\n",
       " 'politicalRepublican': 2,\n",
       " 'politicalIndependent': 2,\n",
       " 'isSFROwner': 2,\n",
       " 'isCondoOwner': 2,\n",
       " 'isRuralResidenceOwner': 2,\n",
       " 'isArtsCause': 2,\n",
       " 'isEducationCause': 2,\n",
       " 'isEnvironmentalCause': 2,\n",
       " 'isAnimalCause': 2,\n",
       " 'isHumanServicesCause': 2,\n",
       " 'isInternationalCause': 2,\n",
       " 'isSocialBenefitCause': 2,\n",
       " 'isReligiousCause': 2,\n",
       " 'is990Donation': 2,\n",
       " 'isFECContribution': 2,\n",
       " 'isStateContribution': 2,\n",
       " 'lux_athletic': 2,\n",
       " 'lux_flight': 2,\n",
       " 'lux_goods': 2,\n",
       " 'lux_travel': 2,\n",
       " 'city': 139,\n",
       " 'state': 14,\n",
       " 'zipcode': 182,\n",
       " 'county': 60,\n",
       " 'metroName': 49,\n",
       " 'realEstateInvestor': 2,\n",
       " 'personalInvestor': 2}"
      ]
     },
     "execution_count": 15,
     "metadata": {},
     "output_type": "execute_result"
    }
   ],
   "source": [
    "from mobius.utils import emb_sz_rule\n",
    "\n",
    "cat_names = [x for x in df.select_dtypes(exclude=['int', 'float']).columns if x != y_names]\n",
    "cat_names = [x for x in cat_names if x not in exclude_vars]\n",
    "\n",
    "# calc embedding sizes for each categorical feature\n",
    "emb_szs = {k: emb_sz_rule(len(df[k].unique())) for k in cat_names}\n",
    "emb_szs"
   ]
  },
  {
   "cell_type": "code",
   "execution_count": 16,
   "id": "separate-weight",
   "metadata": {},
   "outputs": [
    {
     "data": {
      "text/plain": [
       "['logNetWorth',\n",
       " 'logAccreditedNetWorth',\n",
       " 'logTotalHouseholdDebt',\n",
       " 'recentSecTransactionAcquired',\n",
       " 'recentSecTransactionDisposed',\n",
       " 'primaryPropertyLoanToValue',\n",
       " 'logPrimaryPropertyAvm',\n",
       " 'femaleCount',\n",
       " 'maleCount',\n",
       " 'minHouseholdAge',\n",
       " 'avgHouseholdAge',\n",
       " 'maxHouseholdAge',\n",
       " 'metroNameRank',\n",
       " 'propertyCount',\n",
       " 'logMaxPropertyAvm',\n",
       " 'logSumPropertyAvm',\n",
       " 'maxPropertySqft',\n",
       " 'maxBedrooms',\n",
       " 'primaryPropertySqft',\n",
       " 'primaryPropertyYearsOwned',\n",
       " 'minPropertyYearsOwned',\n",
       " 'maxPropertyYearsOwned',\n",
       " 'logsumArtsCause',\n",
       " 'logsumEducationCause',\n",
       " 'logsumEnvironmentalCause',\n",
       " 'logsumAnimalCause',\n",
       " 'logsumHumanServicesCause',\n",
       " 'logsumInternationalCause',\n",
       " 'logsumSocialBenefitCause',\n",
       " 'logsumReligiousCause',\n",
       " 'logsum990Donation',\n",
       " 'logsumCOOPDonation',\n",
       " 'logsumFECDonation',\n",
       " 'logsumStateContribution',\n",
       " 'logmax990Donation',\n",
       " 'logmaxCOOPDonation',\n",
       " 'logmaxFECDonation',\n",
       " 'logmaxStateContribution',\n",
       " 'countNumCharities',\n",
       " 'logsumFECDonation_1year',\n",
       " 'logsumStateContribution_1year',\n",
       " 'countNumCharities_1year',\n",
       " 'logsum990Donation_3year',\n",
       " 'logsumFECDonation_3year',\n",
       " 'logsumStateContribution_3year',\n",
       " 'countNumCharities_3year',\n",
       " 'logsum990Donation_5year',\n",
       " 'logsumFECDonation_5year',\n",
       " 'logsumStateContribution_5year',\n",
       " 'countNumCharities_5year',\n",
       " 'num_vehicles',\n",
       " 'num_luxury_vehicles',\n",
       " 'num_ultra_luxury_vehicles',\n",
       " 'num_cars',\n",
       " 'num_trucks',\n",
       " 'num_suvs',\n",
       " 'num_vans',\n",
       " 'metroRank',\n",
       " 'stateRank']"
      ]
     },
     "execution_count": 16,
     "metadata": {},
     "output_type": "execute_result"
    }
   ],
   "source": [
    "import numpy as np\n",
    "\n",
    "cont_names = [x for x in df.select_dtypes([np.number]).columns if x != y_names]\n",
    "cont_names = [x for x in cont_names if x not in exclude_vars]\n",
    "cont_names"
   ]
  },
  {
   "cell_type": "code",
   "execution_count": 17,
   "id": "technological-grain",
   "metadata": {},
   "outputs": [
    {
     "name": "stderr",
     "output_type": "stream",
     "text": [
      "/Users/seanmacrae/mobius/.venv/lib/python3.6/site-packages/seaborn/distributions.py:306: UserWarning: Dataset has 0 variance; skipping density estimate.\n",
      "  warnings.warn(msg, UserWarning)\n",
      "/Users/seanmacrae/mobius/.venv/lib/python3.6/site-packages/seaborn/distributions.py:306: UserWarning: Dataset has 0 variance; skipping density estimate.\n",
      "  warnings.warn(msg, UserWarning)\n"
     ]
    },
    {
     "data": {
      "text/plain": [
       "<seaborn.axisgrid.PairGrid at 0x7f9842c36240>"
      ]
     },
     "execution_count": 17,
     "metadata": {},
     "output_type": "execute_result"
    },
    {
     "data": {
      "image/png": "[encoded data removed]",
      "text/plain": [
       "<Figure size 615.25x540 with 12 Axes>"
      ]
     },
     "metadata": {
      "needs_background": "light"
     },
     "output_type": "display_data"
    }
   ],
   "source": [
    "import seaborn as sns\n",
    "\n",
    "sns.pairplot(df[[\"logNetWorth\", \"maleCount\", \"logSumPropertyAvm\", \"label\"]].sample(frac=0.05), hue='label')"
   ]
  },
  {
   "cell_type": "code",
   "execution_count": 18,
   "id": "hundred-publication",
   "metadata": {},
   "outputs": [],
   "source": [
    "from fastai.tabular.all import (Categorify, CategoryBlock, FillMissing,\n",
    "                                Normalize, TabDataLoader, TabularPandas,\n",
    "                                tabular_config, tabular_learner)\n",
    "\n",
    "procs = [FillMissing, Categorify, Normalize]"
   ]
  },
  {
   "cell_type": "code",
   "execution_count": 19,
   "id": "united-fundamentals",
   "metadata": {},
   "outputs": [],
   "source": [
    "from fastai.data.core import range_of\n",
    "from fastai.tabular.all import RandomSplitter, TrainTestSplitter\n",
    "\n",
    "# # train/test split\n",
    "# splits = RandomSplitter(valid_pct=0.20)(range_of(df))\n",
    "\n",
    "splits = TrainTestSplitter(test_size=0.20, \n",
    "                           train_size=0.80, \n",
    "                           random_state=None, \n",
    "                           stratify=df[\"label\"].values, \n",
    "                           shuffle=True)(range_of(df))"
   ]
  },
  {
   "cell_type": "code",
   "execution_count": 20,
   "id": "certain-insulin",
   "metadata": {},
   "outputs": [],
   "source": [
    "tabular_pandas = TabularPandas(\n",
    "        df,\n",
    "        procs=procs,\n",
    "        cat_names=cat_names,\n",
    "        cont_names=cont_names,\n",
    "        y_names=y_names,\n",
    "        y_block=y_block,\n",
    "        splits=splits,\n",
    "        device=\"cpu\")"
   ]
  },
  {
   "cell_type": "code",
   "execution_count": 21,
   "id": "liberal-region",
   "metadata": {},
   "outputs": [],
   "source": [
    "# from mobius.samplers import ImbalancedDatasetSampler\n",
    "\n",
    "trn_dl = TabDataLoader(\n",
    "    tabular_pandas.train,\n",
    "    bs=128,\n",
    "    shuffle=True,\n",
    "    drop_last=True,)\n",
    "\n",
    "val_dl = TabDataLoader(\n",
    "    tabular_pandas.valid,\n",
    "    bs=128,)"
   ]
  },
  {
   "cell_type": "code",
   "execution_count": 22,
   "id": "empirical-friendship",
   "metadata": {},
   "outputs": [
    {
     "name": "stdout",
     "output_type": "stream",
     "text": [
      "Sample batch:\n"
     ]
    },
    {
     "data": {
      "text/plain": [
       "(tensor([[1, 1, 1,  ..., 1, 1, 1],\n",
       "         [1, 1, 1,  ..., 2, 2, 2],\n",
       "         [2, 1, 1,  ..., 1, 1, 1],\n",
       "         ...,\n",
       "         [1, 1, 1,  ..., 2, 2, 2],\n",
       "         [1, 1, 1,  ..., 1, 1, 1],\n",
       "         [1, 1, 1,  ..., 1, 1, 1]]),\n",
       " tensor([[-0.7489, -0.6708, -1.8228,  ..., -0.1186,  0.3982,  0.1915],\n",
       "         [ 0.2100,  0.2127, -1.8228,  ..., -0.1186,  0.7242,  0.8002],\n",
       "         [-0.9175, -0.7615,  0.1725,  ..., -0.1186, -0.9313, -0.6051],\n",
       "         ...,\n",
       "         [-0.9895, -0.8883, -1.8228,  ..., -0.1186,  0.3593,  0.6427],\n",
       "         [-0.6184, -1.1151,  0.2949,  ..., -0.1186,  0.0525,  0.3059],\n",
       "         [-1.1749, -1.1786,  0.4719,  ..., -0.1186, -0.2297, -3.3091]]),\n",
       " tensor([[1],\n",
       "         [1],\n",
       "         [1],\n",
       "         [1],\n",
       "         [1],\n",
       "         [1],\n",
       "         [1],\n",
       "         [1],\n",
       "         [1],\n",
       "         [1],\n",
       "         [1],\n",
       "         [1],\n",
       "         [1],\n",
       "         [1],\n",
       "         [1],\n",
       "         [1],\n",
       "         [1],\n",
       "         [1],\n",
       "         [1],\n",
       "         [1],\n",
       "         [2],\n",
       "         [1],\n",
       "         [1],\n",
       "         [2],\n",
       "         [1],\n",
       "         [1],\n",
       "         [1],\n",
       "         [1],\n",
       "         [1],\n",
       "         [1],\n",
       "         [1],\n",
       "         [1],\n",
       "         [1],\n",
       "         [1],\n",
       "         [1],\n",
       "         [1],\n",
       "         [1],\n",
       "         [1],\n",
       "         [1],\n",
       "         [1],\n",
       "         [1],\n",
       "         [1],\n",
       "         [3],\n",
       "         [1],\n",
       "         [1],\n",
       "         [1],\n",
       "         [1],\n",
       "         [1],\n",
       "         [1],\n",
       "         [1],\n",
       "         [1],\n",
       "         [2],\n",
       "         [1],\n",
       "         [1],\n",
       "         [1],\n",
       "         [1],\n",
       "         [1],\n",
       "         [1],\n",
       "         [2],\n",
       "         [1],\n",
       "         [1],\n",
       "         [1],\n",
       "         [1],\n",
       "         [1],\n",
       "         [1],\n",
       "         [1],\n",
       "         [1],\n",
       "         [1],\n",
       "         [1],\n",
       "         [1],\n",
       "         [1],\n",
       "         [1],\n",
       "         [1],\n",
       "         [1],\n",
       "         [1],\n",
       "         [1],\n",
       "         [1],\n",
       "         [1],\n",
       "         [1],\n",
       "         [1],\n",
       "         [1],\n",
       "         [1],\n",
       "         [2],\n",
       "         [1],\n",
       "         [1],\n",
       "         [1],\n",
       "         [1],\n",
       "         [1],\n",
       "         [1],\n",
       "         [1],\n",
       "         [1],\n",
       "         [1],\n",
       "         [2],\n",
       "         [1],\n",
       "         [2],\n",
       "         [1],\n",
       "         [1],\n",
       "         [1],\n",
       "         [1],\n",
       "         [1],\n",
       "         [1],\n",
       "         [1],\n",
       "         [1],\n",
       "         [1],\n",
       "         [1],\n",
       "         [1],\n",
       "         [1],\n",
       "         [1],\n",
       "         [1],\n",
       "         [1],\n",
       "         [2],\n",
       "         [0],\n",
       "         [1],\n",
       "         [1],\n",
       "         [1],\n",
       "         [1],\n",
       "         [2],\n",
       "         [1],\n",
       "         [1],\n",
       "         [1],\n",
       "         [1],\n",
       "         [1],\n",
       "         [1],\n",
       "         [1],\n",
       "         [1],\n",
       "         [1],\n",
       "         [1],\n",
       "         [1]], dtype=torch.int8))"
      ]
     },
     "execution_count": 22,
     "metadata": {},
     "output_type": "execute_result"
    }
   ],
   "source": [
    "from fastai.data.core import DataLoaders\n",
    "\n",
    "dls = DataLoaders(trn_dl, val_dl)\n",
    "\n",
    "print(\"Sample batch:\")\n",
    "dls.one_batch()"
   ]
  },
  {
   "cell_type": "code",
   "execution_count": 23,
   "id": "manufactured-irish",
   "metadata": {},
   "outputs": [],
   "source": [
    "from fastai.metrics import F1Score, Precision, Recall, accuracy\n",
    "\n",
    "# load the tabular_pandas data through the tabular_learner\n",
    "layers = [2048, 1024, 32, 2]\n",
    "\n",
    "# tabular learner configuration\n",
    "config = tabular_config(ps=[0.01, 0.01, 0.01, 0.01], embed_p=0.01)\n",
    "\n",
    "# create tabular learner\n",
    "learn = tabular_learner(\n",
    "    dls,\n",
    "    layers=layers,\n",
    "    emb_szs=emb_szs,\n",
    "    config=config,\n",
    "    metrics=[accuracy,\n",
    "             Precision(average='macro'),\n",
    "             Recall(average='macro'),\n",
    "             F1Score(average='macro')])"
   ]
  },
  {
   "cell_type": "code",
   "execution_count": 24,
   "id": "otherwise-printer",
   "metadata": {},
   "outputs": [
    {
     "data": {
      "text/html": [
       "<table border=\"1\" class=\"dataframe\">\n",
       "  <thead>\n",
       "    <tr style=\"text-align: left;\">\n",
       "      <th>epoch</th>\n",
       "      <th>train_loss</th>\n",
       "      <th>valid_loss</th>\n",
       "      <th>accuracy</th>\n",
       "      <th>precision_score</th>\n",
       "      <th>recall_score</th>\n",
       "      <th>f1_score</th>\n",
       "      <th>time</th>\n",
       "    </tr>\n",
       "  </thead>\n",
       "  <tbody>\n",
       "    <tr>\n",
       "      <td>0</td>\n",
       "      <td>1.612821</td>\n",
       "      <td>1.521294</td>\n",
       "      <td>0.005388</td>\n",
       "      <td>0.002837</td>\n",
       "      <td>0.242647</td>\n",
       "      <td>0.005605</td>\n",
       "      <td>00:12</td>\n",
       "    </tr>\n",
       "    <tr>\n",
       "      <td>1</td>\n",
       "      <td>1.335796</td>\n",
       "      <td>1.137279</td>\n",
       "      <td>0.508399</td>\n",
       "      <td>0.246675</td>\n",
       "      <td>0.347807</td>\n",
       "      <td>0.185626</td>\n",
       "      <td>00:13</td>\n",
       "    </tr>\n",
       "    <tr>\n",
       "      <td>2</td>\n",
       "      <td>0.906886</td>\n",
       "      <td>0.744073</td>\n",
       "      <td>0.646593</td>\n",
       "      <td>0.238055</td>\n",
       "      <td>0.343630</td>\n",
       "      <td>0.207817</td>\n",
       "      <td>00:12</td>\n",
       "    </tr>\n",
       "    <tr>\n",
       "      <td>3</td>\n",
       "      <td>0.633802</td>\n",
       "      <td>0.571434</td>\n",
       "      <td>0.718859</td>\n",
       "      <td>0.240336</td>\n",
       "      <td>0.418732</td>\n",
       "      <td>0.224351</td>\n",
       "      <td>00:12</td>\n",
       "    </tr>\n",
       "    <tr>\n",
       "      <td>4</td>\n",
       "      <td>0.522711</td>\n",
       "      <td>0.543593</td>\n",
       "      <td>0.700792</td>\n",
       "      <td>0.244730</td>\n",
       "      <td>0.427560</td>\n",
       "      <td>0.222521</td>\n",
       "      <td>00:12</td>\n",
       "    </tr>\n",
       "    <tr>\n",
       "      <td>5</td>\n",
       "      <td>0.443668</td>\n",
       "      <td>0.473196</td>\n",
       "      <td>0.908716</td>\n",
       "      <td>0.477237</td>\n",
       "      <td>0.279412</td>\n",
       "      <td>0.290707</td>\n",
       "      <td>00:12</td>\n",
       "    </tr>\n",
       "    <tr>\n",
       "      <td>6</td>\n",
       "      <td>0.391121</td>\n",
       "      <td>0.413140</td>\n",
       "      <td>0.908082</td>\n",
       "      <td>0.352085</td>\n",
       "      <td>0.264619</td>\n",
       "      <td>0.264269</td>\n",
       "      <td>00:12</td>\n",
       "    </tr>\n",
       "    <tr>\n",
       "      <td>7</td>\n",
       "      <td>0.312457</td>\n",
       "      <td>0.329572</td>\n",
       "      <td>0.908082</td>\n",
       "      <td>0.227165</td>\n",
       "      <td>0.250000</td>\n",
       "      <td>0.238036</td>\n",
       "      <td>00:13</td>\n",
       "    </tr>\n",
       "    <tr>\n",
       "      <td>8</td>\n",
       "      <td>0.263149</td>\n",
       "      <td>0.305561</td>\n",
       "      <td>0.908082</td>\n",
       "      <td>0.227093</td>\n",
       "      <td>0.250000</td>\n",
       "      <td>0.237996</td>\n",
       "      <td>00:12</td>\n",
       "    </tr>\n",
       "    <tr>\n",
       "      <td>9</td>\n",
       "      <td>0.233312</td>\n",
       "      <td>0.292654</td>\n",
       "      <td>0.908082</td>\n",
       "      <td>0.227021</td>\n",
       "      <td>0.250000</td>\n",
       "      <td>0.237957</td>\n",
       "      <td>00:12</td>\n",
       "    </tr>\n",
       "    <tr>\n",
       "      <td>10</td>\n",
       "      <td>0.209274</td>\n",
       "      <td>0.284163</td>\n",
       "      <td>0.908082</td>\n",
       "      <td>0.227021</td>\n",
       "      <td>0.250000</td>\n",
       "      <td>0.237957</td>\n",
       "      <td>00:12</td>\n",
       "    </tr>\n",
       "    <tr>\n",
       "      <td>11</td>\n",
       "      <td>0.201223</td>\n",
       "      <td>0.283494</td>\n",
       "      <td>0.908082</td>\n",
       "      <td>0.227093</td>\n",
       "      <td>0.250000</td>\n",
       "      <td>0.237996</td>\n",
       "      <td>00:12</td>\n",
       "    </tr>\n",
       "  </tbody>\n",
       "</table>"
      ],
      "text/plain": [
       "<IPython.core.display.HTML object>"
      ]
     },
     "metadata": {},
     "output_type": "display_data"
    },
    {
     "name": "stderr",
     "output_type": "stream",
     "text": [
      "/Users/seanmacrae/mobius/.venv/lib/python3.6/site-packages/sklearn/metrics/_classification.py:1245: UndefinedMetricWarning: Precision is ill-defined and being set to 0.0 in labels with no predicted samples. Use `zero_division` parameter to control this behavior.\n",
      "  _warn_prf(average, modifier, msg_start, len(result))\n",
      "/Users/seanmacrae/mobius/.venv/lib/python3.6/site-packages/sklearn/metrics/_classification.py:1245: UndefinedMetricWarning: Precision is ill-defined and being set to 0.0 in labels with no predicted samples. Use `zero_division` parameter to control this behavior.\n",
      "  _warn_prf(average, modifier, msg_start, len(result))\n",
      "/Users/seanmacrae/mobius/.venv/lib/python3.6/site-packages/sklearn/metrics/_classification.py:1245: UndefinedMetricWarning: Precision is ill-defined and being set to 0.0 in labels with no predicted samples. Use `zero_division` parameter to control this behavior.\n",
      "  _warn_prf(average, modifier, msg_start, len(result))\n",
      "/Users/seanmacrae/mobius/.venv/lib/python3.6/site-packages/sklearn/metrics/_classification.py:1245: UndefinedMetricWarning: Precision is ill-defined and being set to 0.0 in labels with no predicted samples. Use `zero_division` parameter to control this behavior.\n",
      "  _warn_prf(average, modifier, msg_start, len(result))\n",
      "/Users/seanmacrae/mobius/.venv/lib/python3.6/site-packages/sklearn/metrics/_classification.py:1245: UndefinedMetricWarning: Precision is ill-defined and being set to 0.0 in labels with no predicted samples. Use `zero_division` parameter to control this behavior.\n",
      "  _warn_prf(average, modifier, msg_start, len(result))\n",
      "/Users/seanmacrae/mobius/.venv/lib/python3.6/site-packages/sklearn/metrics/_classification.py:1245: UndefinedMetricWarning: Precision is ill-defined and being set to 0.0 in labels with no predicted samples. Use `zero_division` parameter to control this behavior.\n",
      "  _warn_prf(average, modifier, msg_start, len(result))\n",
      "/Users/seanmacrae/mobius/.venv/lib/python3.6/site-packages/sklearn/metrics/_classification.py:1245: UndefinedMetricWarning: Precision is ill-defined and being set to 0.0 in labels with no predicted samples. Use `zero_division` parameter to control this behavior.\n",
      "  _warn_prf(average, modifier, msg_start, len(result))\n",
      "/Users/seanmacrae/mobius/.venv/lib/python3.6/site-packages/sklearn/metrics/_classification.py:1245: UndefinedMetricWarning: Precision is ill-defined and being set to 0.0 in labels with no predicted samples. Use `zero_division` parameter to control this behavior.\n",
      "  _warn_prf(average, modifier, msg_start, len(result))\n",
      "/Users/seanmacrae/mobius/.venv/lib/python3.6/site-packages/sklearn/metrics/_classification.py:1245: UndefinedMetricWarning: Precision is ill-defined and being set to 0.0 in labels with no predicted samples. Use `zero_division` parameter to control this behavior.\n",
      "  _warn_prf(average, modifier, msg_start, len(result))\n",
      "/Users/seanmacrae/mobius/.venv/lib/python3.6/site-packages/sklearn/metrics/_classification.py:1245: UndefinedMetricWarning: Precision is ill-defined and being set to 0.0 in labels with no predicted samples. Use `zero_division` parameter to control this behavior.\n",
      "  _warn_prf(average, modifier, msg_start, len(result))\n",
      "/Users/seanmacrae/mobius/.venv/lib/python3.6/site-packages/sklearn/metrics/_classification.py:1245: UndefinedMetricWarning: Precision is ill-defined and being set to 0.0 in labels with no predicted samples. Use `zero_division` parameter to control this behavior.\n",
      "  _warn_prf(average, modifier, msg_start, len(result))\n",
      "/Users/seanmacrae/mobius/.venv/lib/python3.6/site-packages/sklearn/metrics/_classification.py:1245: UndefinedMetricWarning: Precision is ill-defined and being set to 0.0 in labels with no predicted samples. Use `zero_division` parameter to control this behavior.\n",
      "  _warn_prf(average, modifier, msg_start, len(result))\n"
     ]
    }
   ],
   "source": [
    "learn.fit_one_cycle(n_epoch=12)"
   ]
  },
  {
   "cell_type": "code",
   "execution_count": 25,
   "id": "framed-bobby",
   "metadata": {},
   "outputs": [],
   "source": [
    "# lr_min, _ = learn.lr_find()\n",
    "# learn.fit(n_epoch=5, lr=lr_min)"
   ]
  },
  {
   "cell_type": "code",
   "execution_count": 26,
   "id": "absent-melbourne",
   "metadata": {},
   "outputs": [],
   "source": [
    "learn.export(\"tabular_learn.pkl\")"
   ]
  },
  {
   "cell_type": "code",
   "execution_count": 27,
   "id": "center-debate",
   "metadata": {},
   "outputs": [
    {
     "name": "stdout",
     "output_type": "stream",
     "text": [
      "Before temperature - NLL: 0.283, ECE: 0.027\n",
      "Optimal temperature: 0.902\n",
      "After temperature - NLL: 0.289, ECE: 0.033\n"
     ]
    }
   ],
   "source": [
    "from mobius.calibration import ModelWithTemperature\n",
    "\n",
    "scaled_model = ModelWithTemperature(learn.model)\n",
    "scaled_model.set_temperature(val_dl)\n",
    "learn.model = scaled_model.model"
   ]
  },
  {
   "cell_type": "code",
   "execution_count": 28,
   "id": "worth-confirmation",
   "metadata": {},
   "outputs": [
    {
     "data": {
      "text/html": [],
      "text/plain": [
       "<IPython.core.display.HTML object>"
      ]
     },
     "metadata": {},
     "output_type": "display_data"
    },
    {
     "name": "stderr",
     "output_type": "stream",
     "text": [
      "/Users/seanmacrae/mobius/.venv/lib/python3.6/site-packages/sklearn/metrics/_classification.py:1245: UndefinedMetricWarning: Precision is ill-defined and being set to 0.0 in labels with no predicted samples. Use `zero_division` parameter to control this behavior.\n",
      "  _warn_prf(average, modifier, msg_start, len(result))\n"
     ]
    }
   ],
   "source": [
    "# true species labels\n",
    "y_true=learn.dls.valid.items[\"label\"]\n",
    "\n",
    "# model scores and species predictions\n",
    "y_scores, *_ = learn.get_preds(dl=val_dl)\n",
    "preds = np.argmax(y_scores, 1).numpy()"
   ]
  },
  {
   "cell_type": "code",
   "execution_count": 29,
   "id": "exposed-amazon",
   "metadata": {},
   "outputs": [
    {
     "name": "stdout",
     "output_type": "stream",
     "text": [
      "First 20 species labels and predictions\n"
     ]
    },
    {
     "data": {
      "text/plain": [
       "[(1, 1),\n",
       " (2, 1),\n",
       " (1, 1),\n",
       " (1, 1),\n",
       " (1, 1),\n",
       " (1, 1),\n",
       " (1, 1),\n",
       " (1, 1),\n",
       " (2, 1),\n",
       " (1, 1)]"
      ]
     },
     "execution_count": 29,
     "metadata": {},
     "output_type": "execute_result"
    }
   ],
   "source": [
    "print(\"First 20 species labels and predictions\")\n",
    "list(zip(y_true, preds))[:10]"
   ]
  },
  {
   "cell_type": "code",
   "execution_count": 30,
   "id": "wanted-logistics",
   "metadata": {},
   "outputs": [
    {
     "data": {
      "text/plain": [
       "0.9080824088748018"
      ]
     },
     "execution_count": 30,
     "metadata": {},
     "output_type": "execute_result"
    }
   ],
   "source": [
    "(y_true == preds).sum() / len(y_true)"
   ]
  },
  {
   "cell_type": "code",
   "execution_count": 31,
   "id": "structured-receptor",
   "metadata": {},
   "outputs": [],
   "source": [
    "# TODO: update roc-it with MultiClassClassification...\n",
    "\n",
    "# clf_metrics = BinaryClassification(\n",
    "#     y_true=y_true, y_scores=y_scores)\n",
    "\n",
    "# ths = clf_metrics.recall_curve(0.95)\n",
    "\n",
    "# clf_metrics.plot_confusion_matrix(\n",
    "#     ths=0.50,\n",
    "#     normalize=None,\n",
    "#     save_path=f'{hyperparams[\"artifact_dir\"]}/cm.png')\n",
    "\n",
    "# clf_metrics.plot_pr_curve(\n",
    "#     save_path=f'{hyperparams[\"artifact_dir\"]}/pr_curve.png')\n",
    "\n",
    "# clf_metrics.plot_roc_curve(\n",
    "#     save_path=f'{hyperparams[\"artifact_dir\"]}/roc_curve.png')"
   ]
  },
  {
   "cell_type": "markdown",
   "id": "planned-detective",
   "metadata": {},
   "source": [
    "## Siamese Net\n",
    "\n",
    "To init a new `TabularSiameseDataset` object, we only need a `tabular_pandas` object from the fast.ai library."
   ]
  },
  {
   "cell_type": "code",
   "execution_count": 32,
   "id": "honest-pierce",
   "metadata": {},
   "outputs": [],
   "source": [
    "from mobius.datasets import TabularSiameseDataset\n",
    "\n",
    "# sds = TabularSiameseDataset(tabular_pandas)\n",
    "train_ds = TabularSiameseDataset(tabular_pandas.train)\n",
    "valid_ds = TabularSiameseDataset(tabular_pandas.valid)"
   ]
  },
  {
   "cell_type": "code",
   "execution_count": 33,
   "id": "responsible-stupid",
   "metadata": {},
   "outputs": [
    {
     "data": {
      "text/plain": [
       "((tensor([   2,    1,    1,    1,    1,    1,    1,    1,    1,    1,    1,    1,\n",
       "             2,    2,    2,    2,    1,    1,    1,    1,    2,    1,    1,    2,\n",
       "             1,    1,    1,    1,    1,    1,    1,    1,    1,    1,    1,    2,\n",
       "             2,    1,    1,    1,    1, 1195,   10, 1833,  177,  196,    2,    2,\n",
       "             1,    1,    1,    1,    1,    1,    1,    1,    1,    1,    1,    1,\n",
       "             1,    1,    1,    1,    1,    1]),\n",
       "  tensor([-1.4902, -1.1278,  0.5676, -0.0691, -0.0564,  2.2607, -0.7294,  1.8221,\n",
       "           0.6253, -0.8577, -0.2931,  0.3279,  0.3656,  0.7343, -1.5489, -0.6144,\n",
       "          -0.0445, -0.0988, -0.0491, -1.5118, -1.2710, -1.0384, -0.1250, -0.3926,\n",
       "          -0.3685, -0.1998, -0.4071, -0.0783, -0.2229, -0.1393, -0.0943, -0.7714,\n",
       "           0.6602,  0.0983, -0.0943, -0.7673,  0.2412,  0.2185, -0.6556,  1.1605,\n",
       "           1.9592, -0.3412,  0.0000,  0.9748,  0.6504, -0.6131, -0.0657,  0.8691,\n",
       "           0.4593, -0.7894, -0.2610, -0.2456, -0.0178,  2.0766, -0.1487, -2.4216,\n",
       "          -0.1186, -0.1335, -1.3297])),\n",
       " (tensor([   1,    1,    1,    1,    1,    1,    1,    1,    1,    1,    1,    1,\n",
       "             2,    2,    1,    2,    1,    1,    1,    1,    1,    2,    1,    2,\n",
       "             2,    1,    1,    1,    1,    1,    1,    1,    1,    1,    1,    2,\n",
       "             2,    1,    1,    1,    1, 1191,   15, 2921,  174,   76,    2,    2,\n",
       "             1,    1,    1,    1,    1,    1,    1,    1,    1,    1,    1,    2,\n",
       "             2,    2,    2,    2,    2,    2]),\n",
       "  tensor([ 2.3106e+00,  2.4302e+00, -1.8228e+00, -6.9119e-02, -5.6391e-02,\n",
       "          -9.8276e-01, -3.0158e-02, -1.7586e+00,  6.2529e-01,  1.4411e+00,\n",
       "           1.1414e+00,  3.2794e-01, -7.2800e-01,  1.2577e-01,  1.6182e+00,\n",
       "           1.4202e+00, -3.4383e-03,  3.8037e-01, -7.7819e-04,  8.9336e-02,\n",
       "          -8.9387e-02, -4.1647e-02, -1.2496e-01, -3.9258e-01, -3.6851e-01,\n",
       "          -1.9979e-01, -4.0707e-01, -7.8253e-02, -2.2290e-01, -1.3926e-01,\n",
       "          -9.4321e-02,  3.0225e+00,  1.8799e+00,  2.3130e+00, -9.4297e-02,\n",
       "           3.5321e+00,  1.9204e+00,  2.2665e+00, -6.5558e-01,  2.0337e+00,\n",
       "           6.9081e+00, -3.4123e-01,  0.0000e+00,  1.8053e+00,  3.0647e+00,\n",
       "           7.1713e-01, -6.5701e-02,  1.8439e+00,  2.5773e+00,  2.6194e-01,\n",
       "          -2.6102e-01, -2.4559e-01, -1.7807e-02, -3.1674e-01, -1.4871e-01,\n",
       "           1.8109e-01, -1.1855e-01,  7.8351e-01,  1.0242e+00])),\n",
       " tensor(0))"
      ]
     },
     "execution_count": 33,
     "metadata": {},
     "output_type": "execute_result"
    }
   ],
   "source": [
    "train_ds.__getitem__(10)"
   ]
  },
  {
   "cell_type": "code",
   "execution_count": 34,
   "id": "accepting-salon",
   "metadata": {},
   "outputs": [],
   "source": [
    "# experiment with larger batches\n",
    "dls = DataLoaders.from_dsets(train_ds, valid_ds, bs=32, device='cpu', num_workers=0)"
   ]
  },
  {
   "cell_type": "markdown",
   "id": "still-macintosh",
   "metadata": {},
   "source": [
    "Siamese net encoder is the body of the Tabular net we just trained."
   ]
  },
  {
   "cell_type": "code",
   "execution_count": 35,
   "id": "coordinate-trance",
   "metadata": {},
   "outputs": [
    {
     "data": {
      "text/plain": [
       "((tensor([[1, 1, 1,  ..., 1, 1, 1],\n",
       "          [1, 1, 1,  ..., 2, 2, 2],\n",
       "          [1, 1, 1,  ..., 2, 2, 2],\n",
       "          ...,\n",
       "          [1, 1, 1,  ..., 1, 1, 1],\n",
       "          [1, 1, 1,  ..., 2, 2, 2],\n",
       "          [1, 1, 1,  ..., 2, 2, 2]]),\n",
       "  tensor([[-0.2413, -0.2711,  0.7302,  ..., -0.1186,  0.3296,  0.5971],\n",
       "          [-1.0342, -0.9465,  0.2902,  ..., -0.1186,  0.0403, -0.4967],\n",
       "          [ 0.1300,  0.0362,  0.1265,  ..., -0.1186, -0.2386, -0.4721],\n",
       "          ...,\n",
       "          [-0.5358, -0.4389,  0.2988,  ..., -0.1186,  0.6352,  0.8511],\n",
       "          [ 1.4310,  1.5400,  0.6094,  ..., -0.1186,  0.7707,  1.0062],\n",
       "          [-1.2572, -1.0605,  0.4755,  ..., -0.1186,  0.3678,  0.5155]])),\n",
       " (tensor([[1, 1, 1,  ..., 2, 2, 2],\n",
       "          [1, 1, 1,  ..., 2, 2, 2],\n",
       "          [1, 1, 1,  ..., 1, 1, 1],\n",
       "          ...,\n",
       "          [1, 1, 1,  ..., 2, 2, 2],\n",
       "          [1, 1, 1,  ..., 2, 2, 2],\n",
       "          [1, 1, 1,  ..., 1, 1, 1]]),\n",
       "  tensor([[ 0.6025,  0.4762,  0.4341,  ..., -0.1186,  0.5617,  0.7102],\n",
       "          [ 1.2265,  1.3062,  0.4785,  ..., -0.1186,  0.4736,  0.5902],\n",
       "          [ 0.0345, -0.1679, -1.8228,  ..., -0.1186,  0.6570,  0.8389],\n",
       "          ...,\n",
       "          [ 0.4125,  0.5925, -1.8228,  ..., -0.1186,  0.2223, -0.1038],\n",
       "          [ 3.8264,  3.6052, -1.8228,  ..., -0.1186,  0.7800,  1.0243],\n",
       "          [-1.1859, -1.1820,  0.5918,  ..., -0.1186,  0.2508,  0.2614]])),\n",
       " tensor([0, 1, 1, 0, 0, 1, 0, 1, 1, 1, 1, 0, 1, 1, 0, 1, 0, 0, 0, 0, 1, 0, 1, 0,\n",
       "         1, 0, 0, 1, 0, 1, 0, 0]))"
      ]
     },
     "execution_count": 35,
     "metadata": {},
     "output_type": "execute_result"
    }
   ],
   "source": [
    "dls.one_batch()"
   ]
  },
  {
   "cell_type": "code",
   "execution_count": 36,
   "id": "verbal-kruger",
   "metadata": {},
   "outputs": [],
   "source": [
    "import copy\n",
    "\n",
    "encoder = copy.copy(learn)\n",
    "encoder.model.layers = learn.model.layers[:-1]\n",
    "encoder_model = encoder.model"
   ]
  },
  {
   "cell_type": "markdown",
   "id": "wanted-appreciation",
   "metadata": {},
   "source": [
    "We create a new head that doubles the input shape to the last layer of the trained Tabular net, since the loss function will now compare 2 penguins. The size of the output shape is set by...???"
   ]
  },
  {
   "cell_type": "code",
   "execution_count": 37,
   "id": "still-dodge",
   "metadata": {},
   "outputs": [],
   "source": [
    "from fastai.layers import LinBnDrop\n",
    "\n",
    "head = LinBnDrop(n_in=layers[-1]*2,\n",
    "    n_out=16,  # size of output space\n",
    "    bn=True,\n",
    "    act=None)"
   ]
  },
  {
   "cell_type": "code",
   "execution_count": 38,
   "id": "intellectual-bearing",
   "metadata": {},
   "outputs": [],
   "source": [
    "from mobius.models import TabularSiameseModel\n",
    "\n",
    "model = TabularSiameseModel(encoder_model, head)"
   ]
  },
  {
   "cell_type": "code",
   "execution_count": 39,
   "id": "outer-holder",
   "metadata": {},
   "outputs": [],
   "source": [
    "from fastai.torch_basics import params\n",
    "from mobius.losses import ContrastiveLoss\n",
    "\n",
    "def siamese_splitter(model):\n",
    "    return [params(model.encoder), params(model.head)]\n",
    "\n",
    "def contrastive_loss_func(out, targ):\n",
    "    return ContrastiveLoss(margin=0.66)(out, targ.long())"
   ]
  },
  {
   "cell_type": "code",
   "execution_count": 40,
   "id": "virtual-fever",
   "metadata": {},
   "outputs": [],
   "source": [
    "from fastai.learner import Learner\n",
    "\n",
    "siamese_learner = Learner(dls,\n",
    "    model,\n",
    "    model_dir=\".\",\n",
    "    loss_func=contrastive_loss_func,\n",
    "    splitter=siamese_splitter)"
   ]
  },
  {
   "cell_type": "code",
   "execution_count": 41,
   "id": "vulnerable-practice",
   "metadata": {},
   "outputs": [
    {
     "data": {
      "text/html": [
       "<table border=\"1\" class=\"dataframe\">\n",
       "  <thead>\n",
       "    <tr style=\"text-align: left;\">\n",
       "      <th>epoch</th>\n",
       "      <th>train_loss</th>\n",
       "      <th>valid_loss</th>\n",
       "      <th>time</th>\n",
       "    </tr>\n",
       "  </thead>\n",
       "  <tbody>\n",
       "    <tr>\n",
       "      <td>0</td>\n",
       "      <td>9.362355</td>\n",
       "      <td>3.130498</td>\n",
       "      <td>24:24</td>\n",
       "    </tr>\n",
       "    <tr>\n",
       "      <td>1</td>\n",
       "      <td>7.236290</td>\n",
       "      <td>1.899438</td>\n",
       "      <td>24:19</td>\n",
       "    </tr>\n",
       "    <tr>\n",
       "      <td>2</td>\n",
       "      <td>2.941417</td>\n",
       "      <td>0.649454</td>\n",
       "      <td>24:43</td>\n",
       "    </tr>\n",
       "    <tr>\n",
       "      <td>3</td>\n",
       "      <td>0.834170</td>\n",
       "      <td>0.149150</td>\n",
       "      <td>3:29:27</td>\n",
       "    </tr>\n",
       "    <tr>\n",
       "      <td>4</td>\n",
       "      <td>0.171487</td>\n",
       "      <td>0.019486</td>\n",
       "      <td>24:44</td>\n",
       "    </tr>\n",
       "    <tr>\n",
       "      <td>5</td>\n",
       "      <td>0.072723</td>\n",
       "      <td>0.006658</td>\n",
       "      <td>24:46</td>\n",
       "    </tr>\n",
       "    <tr>\n",
       "      <td>6</td>\n",
       "      <td>0.115786</td>\n",
       "      <td>0.000370</td>\n",
       "      <td>24:19</td>\n",
       "    </tr>\n",
       "    <tr>\n",
       "      <td>7</td>\n",
       "      <td>0.039890</td>\n",
       "      <td>-0.009746</td>\n",
       "      <td>24:23</td>\n",
       "    </tr>\n",
       "    <tr>\n",
       "      <td>8</td>\n",
       "      <td>-0.044158</td>\n",
       "      <td>-0.065414</td>\n",
       "      <td>24:17</td>\n",
       "    </tr>\n",
       "    <tr>\n",
       "      <td>9</td>\n",
       "      <td>-0.177993</td>\n",
       "      <td>-0.409494</td>\n",
       "      <td>24:50</td>\n",
       "    </tr>\n",
       "    <tr>\n",
       "      <td>10</td>\n",
       "      <td>-0.488461</td>\n",
       "      <td>-0.509231</td>\n",
       "      <td>25:13</td>\n",
       "    </tr>\n",
       "    <tr>\n",
       "      <td>11</td>\n",
       "      <td>-0.560161</td>\n",
       "      <td>-0.596519</td>\n",
       "      <td>24:48</td>\n",
       "    </tr>\n",
       "    <tr>\n",
       "      <td>12</td>\n",
       "      <td>-0.787135</td>\n",
       "      <td>-0.828389</td>\n",
       "      <td>25:08</td>\n",
       "    </tr>\n",
       "    <tr>\n",
       "      <td>13</td>\n",
       "      <td>0.914216</td>\n",
       "      <td>-1.150175</td>\n",
       "      <td>25:15</td>\n",
       "    </tr>\n",
       "    <tr>\n",
       "      <td>14</td>\n",
       "      <td>-1.190077</td>\n",
       "      <td>-1.202704</td>\n",
       "      <td>25:12</td>\n",
       "    </tr>\n",
       "    <tr>\n",
       "      <td>15</td>\n",
       "      <td>-1.332827</td>\n",
       "      <td>-1.355684</td>\n",
       "      <td>25:13</td>\n",
       "    </tr>\n",
       "    <tr>\n",
       "      <td>16</td>\n",
       "      <td>-1.380508</td>\n",
       "      <td>-1.405636</td>\n",
       "      <td>25:11</td>\n",
       "    </tr>\n",
       "    <tr>\n",
       "      <td>17</td>\n",
       "      <td>-1.067662</td>\n",
       "      <td>-1.428446</td>\n",
       "      <td>25:14</td>\n",
       "    </tr>\n",
       "    <tr>\n",
       "      <td>18</td>\n",
       "      <td>-1.218381</td>\n",
       "      <td>-1.429798</td>\n",
       "      <td>25:14</td>\n",
       "    </tr>\n",
       "    <tr>\n",
       "      <td>19</td>\n",
       "      <td>-1.435815</td>\n",
       "      <td>-1.433012</td>\n",
       "      <td>22:56</td>\n",
       "    </tr>\n",
       "  </tbody>\n",
       "</table>"
      ],
      "text/plain": [
       "<IPython.core.display.HTML object>"
      ]
     },
     "metadata": {},
     "output_type": "display_data"
    }
   ],
   "source": [
    "# %debug\n",
    "siamese_learner.freeze()\n",
    "siamese_learner.fit_one_cycle(n_epoch=20)"
   ]
  },
  {
   "cell_type": "code",
   "execution_count": 42,
   "id": "friendly-endorsement",
   "metadata": {},
   "outputs": [],
   "source": [
    "# siamese_learner.unfreeze()\n",
    "# lr_min, _ = siamese_learner.lr_find()\n",
    "# siamese_learner.fit(n_epoch=5, lr=lr_min)"
   ]
  },
  {
   "cell_type": "code",
   "execution_count": 43,
   "id": "fantastic-duration",
   "metadata": {},
   "outputs": [],
   "source": [
    "# siamese_learner.save(\"snn_margin_20\")\n",
    "# siamese_learner.export(\"snn_margin_10.pkl\")"
   ]
  },
  {
   "cell_type": "code",
   "execution_count": 44,
   "id": "suitable-accent",
   "metadata": {},
   "outputs": [],
   "source": [
    "# from fastai.learner import load_learner\n",
    "\n",
    "# snn_model = load_learner('snn_margin_20.pth', cpu=False)"
   ]
  },
  {
   "cell_type": "code",
   "execution_count": 45,
   "id": "colored-springer",
   "metadata": {},
   "outputs": [
    {
     "name": "stderr",
     "output_type": "stream",
     "text": [
      "100%|██████████| 12619/12619 [38:58<00:00,  5.40it/s]\n"
     ]
    }
   ],
   "source": [
    "# %debug\n",
    "from tqdm import tqdm\n",
    "\n",
    "train_encoded = list()\n",
    "for i in tqdm(range(len(dls.train_ds.tabular_pandas))):\n",
    "    # get ith point from the training set\n",
    "    p, _, _ = dls.train_ds.get_items(i, 0)\n",
    "\n",
    "    # rehsape into mini-batch size 1\n",
    "    p = p[0].reshape(1, -1), p[1].reshape(1, -1)\n",
    "\n",
    "    # encode the household into output embedding space\n",
    "    p_encode = siamese_learner.model.encode(p)\n",
    "    train_encoded.append(p_encode)\n",
    "    \n",
    "ids = dls.train.get_idxs()\n",
    "y_train_labels = dls.train.tabular_pandas[\"label\"]"
   ]
  },
  {
   "cell_type": "code",
   "execution_count": 46,
   "id": "capable-physics",
   "metadata": {},
   "outputs": [],
   "source": [
    "import torch\n",
    "import pandas as pd\n",
    "\n",
    "train_encoded_df = pd.DataFrame(torch.stack(train_encoded).squeeze())"
   ]
  },
  {
   "cell_type": "code",
   "execution_count": 47,
   "id": "bright-lancaster",
   "metadata": {},
   "outputs": [
    {
     "data": {
      "text/html": [
       "<div>\n",
       "<style scoped>\n",
       "    .dataframe tbody tr th:only-of-type {\n",
       "        vertical-align: middle;\n",
       "    }\n",
       "\n",
       "    .dataframe tbody tr th {\n",
       "        vertical-align: top;\n",
       "    }\n",
       "\n",
       "    .dataframe thead th {\n",
       "        text-align: right;\n",
       "    }\n",
       "</style>\n",
       "<table border=\"1\" class=\"dataframe\">\n",
       "  <thead>\n",
       "    <tr style=\"text-align: right;\">\n",
       "      <th></th>\n",
       "      <th>0</th>\n",
       "      <th>1</th>\n",
       "    </tr>\n",
       "  </thead>\n",
       "  <tbody>\n",
       "    <tr>\n",
       "      <th>0</th>\n",
       "      <td>11.170471</td>\n",
       "      <td>0.0</td>\n",
       "    </tr>\n",
       "    <tr>\n",
       "      <th>1</th>\n",
       "      <td>11.046360</td>\n",
       "      <td>0.0</td>\n",
       "    </tr>\n",
       "    <tr>\n",
       "      <th>2</th>\n",
       "      <td>11.267647</td>\n",
       "      <td>0.0</td>\n",
       "    </tr>\n",
       "    <tr>\n",
       "      <th>3</th>\n",
       "      <td>10.559312</td>\n",
       "      <td>0.0</td>\n",
       "    </tr>\n",
       "    <tr>\n",
       "      <th>4</th>\n",
       "      <td>11.240452</td>\n",
       "      <td>0.0</td>\n",
       "    </tr>\n",
       "    <tr>\n",
       "      <th>...</th>\n",
       "      <td>...</td>\n",
       "      <td>...</td>\n",
       "    </tr>\n",
       "    <tr>\n",
       "      <th>12614</th>\n",
       "      <td>11.108839</td>\n",
       "      <td>0.0</td>\n",
       "    </tr>\n",
       "    <tr>\n",
       "      <th>12615</th>\n",
       "      <td>11.230120</td>\n",
       "      <td>0.0</td>\n",
       "    </tr>\n",
       "    <tr>\n",
       "      <th>12616</th>\n",
       "      <td>11.286786</td>\n",
       "      <td>0.0</td>\n",
       "    </tr>\n",
       "    <tr>\n",
       "      <th>12617</th>\n",
       "      <td>11.023884</td>\n",
       "      <td>0.0</td>\n",
       "    </tr>\n",
       "    <tr>\n",
       "      <th>12618</th>\n",
       "      <td>10.504076</td>\n",
       "      <td>0.0</td>\n",
       "    </tr>\n",
       "  </tbody>\n",
       "</table>\n",
       "<p>12619 rows × 2 columns</p>\n",
       "</div>"
      ],
      "text/plain": [
       "               0    1\n",
       "0      11.170471  0.0\n",
       "1      11.046360  0.0\n",
       "2      11.267647  0.0\n",
       "3      10.559312  0.0\n",
       "4      11.240452  0.0\n",
       "...          ...  ...\n",
       "12614  11.108839  0.0\n",
       "12615  11.230120  0.0\n",
       "12616  11.286786  0.0\n",
       "12617  11.023884  0.0\n",
       "12618  10.504076  0.0\n",
       "\n",
       "[12619 rows x 2 columns]"
      ]
     },
     "execution_count": 47,
     "metadata": {},
     "output_type": "execute_result"
    }
   ],
   "source": [
    "train_encoded_df"
   ]
  },
  {
   "cell_type": "code",
   "execution_count": 48,
   "id": "synthetic-apparel",
   "metadata": {},
   "outputs": [],
   "source": [
    "# !pip install seaborn"
   ]
  },
  {
   "cell_type": "code",
   "execution_count": 49,
   "id": "photographic-preview",
   "metadata": {},
   "outputs": [
    {
     "data": {
      "image/png": "[encoded data removed]",
      "text/plain": [
       "<Figure size 842.4x595.44 with 1 Axes>"
      ]
     },
     "metadata": {},
     "output_type": "display_data"
    }
   ],
   "source": [
    "import seaborn as sns\n",
    "from sklearn.manifold import TSNE\n",
    "sns.set(rc={'figure.figsize':(11.7,8.27)})\n",
    "\n",
    "sns.scatterplot(x=train_encoded_df[0].values,\n",
    "                y=train_encoded_df[1].values,\n",
    "                hue=y_train_labels, \n",
    "                legend='full', \n",
    "                palette=\"tab10\").set_title('DrLIM Encoder: f(HouseHold) => (x, y)');"
   ]
  },
  {
   "cell_type": "code",
   "execution_count": 50,
   "id": "great-circular",
   "metadata": {},
   "outputs": [],
   "source": [
    "# train_encoded_df\n",
    "# dls.train_ds.tabular_pandas"
   ]
  },
  {
   "cell_type": "code",
   "execution_count": 51,
   "id": "sunset-distribution",
   "metadata": {},
   "outputs": [],
   "source": [
    "import seaborn as sns\n",
    "from sklearn.manifold import TSNE\n",
    "sns.set(rc={'figure.figsize':(11.7,8.27)})\n",
    "\n",
    "tsne = TSNE()\n",
    "encoded_train_tsne = tsne.fit_transform(train_encoded_df.values)"
   ]
  },
  {
   "cell_type": "code",
   "execution_count": 52,
   "id": "intimate-thought",
   "metadata": {},
   "outputs": [
    {
     "data": {
      "image/png": "[encoded data removed]",
      "text/plain": [
       "<Figure size 842.4x595.44 with 1 Axes>"
      ]
     },
     "metadata": {},
     "output_type": "display_data"
    }
   ],
   "source": [
    "sns.scatterplot(x=encoded_train_tsne[:,0],\n",
    "                y=encoded_train_tsne[:,1],\n",
    "                hue=y_train_labels, \n",
    "                legend='full', \n",
    "                palette=\"tab10\").set_title('Training Data Manifold');"
   ]
  },
  {
   "cell_type": "code",
   "execution_count": 53,
   "id": "casual-leone",
   "metadata": {},
   "outputs": [
    {
     "name": "stdout",
     "output_type": "stream",
     "text": [
      "0.5351595127783397\n",
      "{'learning_rate': 0.1, 'max_depth': 3, 'n_estimators': 50}\n"
     ]
    }
   ],
   "source": [
    "from sklearn.metrics import f1_score, make_scorer\n",
    "f1 = make_scorer(f1_score , average='macro')\n",
    "\n",
    "from sklearn.model_selection import GridSearchCV\n",
    "from sklearn.ensemble import GradientBoostingClassifier\n",
    "\n",
    "parameters = {\n",
    "    \"learning_rate\": [1e-1, 1e-2, 1e-3],\n",
    "    \"max_depth\":[3, 5, 8, 10],\n",
    "    \"n_estimators\":[50, 100]\n",
    "    }\n",
    "\n",
    "clf = GridSearchCV(GradientBoostingClassifier(), parameters, scoring=f1, cv=5, n_jobs=-1)\n",
    "clf.fit(train_encoded_df.values, y_train_labels)\n",
    "\n",
    "print(clf.score(train_encoded_df.values, y_train_labels))\n",
    "print(clf.best_params_)"
   ]
  },
  {
   "cell_type": "markdown",
   "id": "destroyed-showcase",
   "metadata": {},
   "source": [
    "## Experiment: Clustering Approach"
   ]
  },
  {
   "cell_type": "code",
   "execution_count": 54,
   "id": "broad-craft",
   "metadata": {},
   "outputs": [],
   "source": [
    "# from sklearn.cluster import AgglomerativeClustering\n",
    "# import numpy as np\n",
    "\n",
    "# # TODO: grid search this...\n",
    "# clustering = AgglomerativeClustering(\n",
    "#     n_clusters=8, \n",
    "#     affinity=\"l1\", \n",
    "#     linkage=\"complete\").\\\n",
    "# fit(train_encoded_df.values)\n",
    "\n",
    "# clustering.labels_"
   ]
  },
  {
   "cell_type": "code",
   "execution_count": 55,
   "id": "electronic-greene",
   "metadata": {},
   "outputs": [],
   "source": [
    "# res = pd.DataFrame(zip(y_train_labels, clustering.labels_), columns=[\"true\", \"pred\"])"
   ]
  },
  {
   "cell_type": "code",
   "execution_count": 56,
   "id": "annoying-scope",
   "metadata": {},
   "outputs": [],
   "source": [
    "# res_counts = res.groupby([\"true\", \"pred\"]).apply(len).reset_index()\n",
    "# res_counts.columns = [\"true\", \"pred\", \"count\"]"
   ]
  },
  {
   "cell_type": "code",
   "execution_count": 57,
   "id": "prerequisite-gregory",
   "metadata": {},
   "outputs": [],
   "source": [
    "# # TODO: order the below for loops to start with largest clusters first\n",
    "# res_counts"
   ]
  },
  {
   "cell_type": "code",
   "execution_count": 58,
   "id": "working-script",
   "metadata": {},
   "outputs": [],
   "source": [
    "# cluster2label = dict()\n",
    "# for pred in res_counts[\"pred\"].unique():\n",
    "#     thingy = res_counts[res_counts[\"pred\"] == pred].sort_values(\"count\", ascending=False)\n",
    "    \n",
    "#     for label in thingy[\"true\"].values:\n",
    "#         if label not in cluster2label.values():\n",
    "#             cluster2label.update({pred: label})\n",
    "    \n",
    "# for pred in res_counts[\"pred\"].unique():\n",
    "#     if pred not in cluster2label.keys():\n",
    "#         cluster2label.update({pred: None})"
   ]
  },
  {
   "cell_type": "code",
   "execution_count": 59,
   "id": "difficult-american",
   "metadata": {},
   "outputs": [],
   "source": [
    "# cluster2label"
   ]
  },
  {
   "cell_type": "code",
   "execution_count": 60,
   "id": "ecological-anger",
   "metadata": {},
   "outputs": [],
   "source": [
    "# cluster_groups = res.groupby([\"true\", \"pred\"]).apply(len).reset_index().values\n",
    "# cluster_groups"
   ]
  },
  {
   "cell_type": "markdown",
   "id": "multiple-photograph",
   "metadata": {},
   "source": [
    "## Validation Set"
   ]
  },
  {
   "cell_type": "code",
   "execution_count": 61,
   "id": "tracked-dispute",
   "metadata": {},
   "outputs": [
    {
     "name": "stderr",
     "output_type": "stream",
     "text": [
      "100%|██████████| 3155/3155 [08:06<00:00,  6.48it/s]\n"
     ]
    }
   ],
   "source": [
    "from tqdm import tqdm\n",
    "\n",
    "valid_encoded = list()\n",
    "for i in tqdm(range(len(dls.valid_ds.tabular_pandas))):\n",
    "    # get ith point from the training set\n",
    "    p, _, _ = dls.valid_ds.get_items(i, 0)\n",
    "\n",
    "    # rehsape into mini-batch size 1\n",
    "    p = p[0].reshape(1, -1), p[1].reshape(1, -1)\n",
    "\n",
    "    # encode the household into output embedding space\n",
    "    p_encode = siamese_learner.model.encode(p)\n",
    "    valid_encoded.append(p_encode)\n",
    "    \n",
    "valid_ids = dls.valid.get_idxs()\n",
    "y_valid_labels = dls.valid.tabular_pandas[\"label\"]"
   ]
  },
  {
   "cell_type": "code",
   "execution_count": 62,
   "id": "sunset-bathroom",
   "metadata": {},
   "outputs": [],
   "source": [
    "valid_encoded_df = pd.DataFrame(torch.stack(valid_encoded).squeeze())"
   ]
  },
  {
   "cell_type": "code",
   "execution_count": 63,
   "id": "forbidden-communist",
   "metadata": {},
   "outputs": [],
   "source": [
    "encoded_valid_tsne = tsne.fit_transform(valid_encoded_df.values)"
   ]
  },
  {
   "cell_type": "code",
   "execution_count": 64,
   "id": "postal-cleaners",
   "metadata": {},
   "outputs": [
    {
     "data": {
      "image/png": "[encoded data removed]",
      "text/plain": [
       "<Figure size 842.4x595.44 with 1 Axes>"
      ]
     },
     "metadata": {},
     "output_type": "display_data"
    }
   ],
   "source": [
    "sns.scatterplot(x=encoded_valid_tsne[:,0],\n",
    "                y=encoded_valid_tsne[:,1],\n",
    "                hue=y_valid_labels, \n",
    "                legend='full', \n",
    "                palette=\"tab10\").set_title('Validation Data Manifold');"
   ]
  },
  {
   "cell_type": "code",
   "execution_count": 65,
   "id": "serial-palace",
   "metadata": {},
   "outputs": [],
   "source": [
    "res = pd.DataFrame(zip(clf.predict(valid_encoded_df), y_valid_labels), columns=[\"pred\", \"true\"])"
   ]
  },
  {
   "cell_type": "code",
   "execution_count": 66,
   "id": "rocky-collins",
   "metadata": {},
   "outputs": [
    {
     "data": {
      "text/plain": [
       "0.9014263074484945"
      ]
     },
     "execution_count": 66,
     "metadata": {},
     "output_type": "execute_result"
    }
   ],
   "source": [
    "(res[\"pred\"] == res[\"true\"]).sum() / len(res)"
   ]
  },
  {
   "cell_type": "code",
   "execution_count": 67,
   "id": "another-mistake",
   "metadata": {},
   "outputs": [
    {
     "data": {
      "text/html": [
       "<div>\n",
       "<style scoped>\n",
       "    .dataframe tbody tr th:only-of-type {\n",
       "        vertical-align: middle;\n",
       "    }\n",
       "\n",
       "    .dataframe tbody tr th {\n",
       "        vertical-align: top;\n",
       "    }\n",
       "\n",
       "    .dataframe thead th {\n",
       "        text-align: right;\n",
       "    }\n",
       "</style>\n",
       "<table border=\"1\" class=\"dataframe\">\n",
       "  <thead>\n",
       "    <tr style=\"text-align: right;\">\n",
       "      <th></th>\n",
       "      <th>pred</th>\n",
       "      <th>true</th>\n",
       "    </tr>\n",
       "  </thead>\n",
       "  <tbody>\n",
       "    <tr>\n",
       "      <th>0</th>\n",
       "      <td>1</td>\n",
       "      <td>1</td>\n",
       "    </tr>\n",
       "    <tr>\n",
       "      <th>1</th>\n",
       "      <td>1</td>\n",
       "      <td>2</td>\n",
       "    </tr>\n",
       "    <tr>\n",
       "      <th>2</th>\n",
       "      <td>1</td>\n",
       "      <td>1</td>\n",
       "    </tr>\n",
       "    <tr>\n",
       "      <th>3</th>\n",
       "      <td>1</td>\n",
       "      <td>1</td>\n",
       "    </tr>\n",
       "    <tr>\n",
       "      <th>4</th>\n",
       "      <td>1</td>\n",
       "      <td>1</td>\n",
       "    </tr>\n",
       "    <tr>\n",
       "      <th>...</th>\n",
       "      <td>...</td>\n",
       "      <td>...</td>\n",
       "    </tr>\n",
       "    <tr>\n",
       "      <th>3150</th>\n",
       "      <td>1</td>\n",
       "      <td>1</td>\n",
       "    </tr>\n",
       "    <tr>\n",
       "      <th>3151</th>\n",
       "      <td>1</td>\n",
       "      <td>1</td>\n",
       "    </tr>\n",
       "    <tr>\n",
       "      <th>3152</th>\n",
       "      <td>1</td>\n",
       "      <td>1</td>\n",
       "    </tr>\n",
       "    <tr>\n",
       "      <th>3153</th>\n",
       "      <td>1</td>\n",
       "      <td>2</td>\n",
       "    </tr>\n",
       "    <tr>\n",
       "      <th>3154</th>\n",
       "      <td>1</td>\n",
       "      <td>1</td>\n",
       "    </tr>\n",
       "  </tbody>\n",
       "</table>\n",
       "<p>3155 rows × 2 columns</p>\n",
       "</div>"
      ],
      "text/plain": [
       "      pred  true\n",
       "0        1     1\n",
       "1        1     2\n",
       "2        1     1\n",
       "3        1     1\n",
       "4        1     1\n",
       "...    ...   ...\n",
       "3150     1     1\n",
       "3151     1     1\n",
       "3152     1     1\n",
       "3153     1     2\n",
       "3154     1     1\n",
       "\n",
       "[3155 rows x 2 columns]"
      ]
     },
     "execution_count": 67,
     "metadata": {},
     "output_type": "execute_result"
    }
   ],
   "source": [
    "res"
   ]
  },
  {
   "cell_type": "code",
   "execution_count": 68,
   "id": "paperback-thunder",
   "metadata": {},
   "outputs": [
    {
     "data": {
      "text/plain": [
       "'precision 0.33341746002813566, recall 0.32497690175546656, fbeta 0.3286400048920687'"
      ]
     },
     "execution_count": 68,
     "metadata": {},
     "output_type": "execute_result"
    }
   ],
   "source": [
    "from sklearn.metrics import precision_recall_fscore_support as multiclass_eval\n",
    "\n",
    "prec, recall, fbeta, _ = multiclass_eval(res[\"true\"].values, res[\"pred\"].values, average=\"macro\")\n",
    "\n",
    "f\"precision {prec}, recall {recall}, fbeta {fbeta}\""
   ]
  },
  {
   "cell_type": "code",
   "execution_count": 69,
   "id": "frozen-origin",
   "metadata": {},
   "outputs": [],
   "source": [
    "# import umap\n",
    "# import matplotlib.pyplot as plt\n",
    "\n",
    "# reducer = umap.UMAP()\n",
    "\n",
    "# embedding = reducer.fit_transform(valid_encoded_df.values)\n",
    "# embedding.shape\n",
    "\n",
    "# plt.scatter(\n",
    "#     embedding[:, 0],\n",
    "#     embedding[:, 1],\n",
    "#     c=[sns.color_palette()[x] for x in y_valid_labels.values])\n",
    "\n",
    "# plt.gca().set_aspect('equal', 'datalim')\n",
    "# plt.title('UMAP projection of the LC Loans', fontsize=24)"
   ]
  },
  {
   "cell_type": "code",
   "execution_count": null,
   "id": "southwest-minute",
   "metadata": {},
   "outputs": [],
   "source": []
  },
  {
   "cell_type": "code",
   "execution_count": null,
   "id": "fixed-fifty",
   "metadata": {},
   "outputs": [],
   "source": []
  },
  {
   "cell_type": "code",
   "execution_count": null,
   "id": "suited-underwear",
   "metadata": {},
   "outputs": [],
   "source": []
  }
 ],
 "metadata": {
  "kernelspec": {
   "display_name": "mobius (venv)",
   "language": "python",
   "name": "mobius"
  },
  "language_info": {
   "codemirror_mode": {
    "name": "ipython",
    "version": 3
   },
   "file_extension": ".py",
   "mimetype": "text/x-python",
   "name": "python",
   "nbconvert_exporter": "python",
   "pygments_lexer": "ipython3",
   "version": "3.6.10"
  }
 },
 "nbformat": 4,
 "nbformat_minor": 5
}
